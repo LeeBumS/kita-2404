{
  "nbformat": 4,
  "nbformat_minor": 0,
  "metadata": {
    "colab": {
      "provenance": []
    },
    "kernelspec": {
      "name": "python3",
      "display_name": "Python 3"
    },
    "language_info": {
      "name": "python"
    }
  },
  "cells": [
    {
      "cell_type": "markdown",
      "source": [
        "2024년 4월 24일\n",
        "----------------------------------------------------------------------------------------------------------------------------------------------------------------"
      ],
      "metadata": {
        "id": "-3KDPrw_NWAl"
      }
    },
    {
      "cell_type": "markdown",
      "source": [
        "Q. 주어진 문자열 리스트에서 유효한 Python 변수 이름만을 추출하여 반환하는 함수를 작성하세요"
      ],
      "metadata": {
        "id": "mAZmA2IvNSYy"
      }
    },
    {
      "cell_type": "code",
      "execution_count": null,
      "metadata": {
        "id": "RrW3kPfwMtix"
      },
      "outputs": [],
      "source": [
        "# 나의 풀이\n",
        "\n",
        "identifiers = [\"var1\",\"2things\",\"variable_name\",\"time!\"]\n",
        "\n",
        "search = '2'\n",
        "search1 = '!'\n",
        "\n",
        "for word in identifiers:\n",
        "    if search in word:\n",
        "        print('>> remove: ' + word)\n",
        "        identifiers.remove(word)\n",
        "    elif search1 in word:\n",
        "        print('>> remove: ' + word)\n",
        "        identifiers.remove(word)\n",
        "\n",
        "print(identifiers)"
      ]
    },
    {
      "cell_type": "code",
      "source": [
        "# 정답\n",
        "def valid_identifiers(identifier):\n",
        "    valid = []\n",
        "    for identifier in identifier:\n",
        "        if identifier.isidentifier():\n",
        "          valid.append(identifier)\n",
        "    return valid\n",
        "\n",
        "\n",
        "  # 예제 실행\n",
        "identifiers = [\"var1\",\"2things\",\"variable_name\",\"time!\"]\n",
        "print(valid_identifiers(identifiers))\n",
        "\n",
        "\n",
        "# isidentifier()는 파이썬 문자열 메소드로 문자열이 유효한 식별자인지 Check.\n",
        "# isidentifier()는 예약어인지는 따로 체크하지 않음.\n",
        "import keyword\n",
        "def valid_identifiers(identifier):\n",
        "    valid = []\n",
        "    for identifier in identifier:\n",
        "        if identifier.isidentifier() and not keyword.iskeyword(identifier):\n",
        "            valid.append(identifier)\n",
        "    return valid\n",
        "\n",
        "identifiers = [\"var1\", \"2things\", \"variable_name\", \"time!\", \"True\"]\n",
        "print(valid_identifiers(identifiers))"
      ],
      "metadata": {
        "id": "F0T3lhwpNxSS"
      },
      "execution_count": null,
      "outputs": []
    },
    {
      "cell_type": "markdown",
      "source": [
        "2024년 4월 25일\n",
        "----------------------------------------------------------------------------------------------------------------------------------------------------------------"
      ],
      "metadata": {
        "id": "90xRPhm5N7jw"
      }
    },
    {
      "cell_type": "markdown",
      "source": [
        "Task1_0425. 주어진 숫자 리스트에서 최소값과 최대값을 찾아 출력하세요.\n",
        "\n",
        "numbers = [58, 45, 69, 19, 4, 87, 29, 13, 39, 15]"
      ],
      "metadata": {
        "id": "-ee_DjdbN0Qv"
      }
    },
    {
      "cell_type": "code",
      "source": [
        "# Task1 주어진 숫자 리스트에서 최소값과 최대값을 찾아 출력하세요.\n",
        "numbers = [58, 45, 69, 19, 4, 87, 29, 13, 39, 15]\n",
        "\n",
        "numbers.sort()\n",
        "print(numbers[0])\n",
        "\n",
        "numbers.sort(reverse=True)\n",
        "print(numbers[0],'\\n')\n",
        "\n",
        "\n",
        "#--------------------------------------------------------------------------------\n",
        "\n",
        "min_value = min(numbers)\n",
        "max_value = max(numbers)\n",
        "\n",
        "print(f\"최소값: {min_value}, 최대값:  {max_value}\",\"\\n\")\n",
        "\n",
        "#--------------------------------------------------------------------------------\n",
        "\n",
        "min_value1 = numbers[0]\n",
        "max_value2 = numbers[0]\n",
        "\n",
        "for number in numbers:\n",
        "  if number < min_value1:\n",
        "    min_value1 = number\n",
        "  elif number < max_value2:\n",
        "    max_value2 = number\n",
        "\n",
        "print(f\"최소값: {min_value1}, 최대값:  {max_value2}\")"
      ],
      "metadata": {
        "id": "PCx8W3_AOBzD"
      },
      "execution_count": null,
      "outputs": []
    },
    {
      "cell_type": "markdown",
      "source": [
        "Task2_0425. 주어진 숫자 리스트의 모든 요소의 합계와 평균을 계산하고 출력하세요\n",
        "\n",
        "numbers = [58, 45, 69, 19, 4, 87, 29, 13, 39, 15]"
      ],
      "metadata": {
        "id": "A2FeMvY9OGCH"
      }
    },
    {
      "cell_type": "code",
      "source": [
        "# Task2 주어진 숫자 리스트의 모든 요소의 합계와 평균을 계산하고 출력하세요\n",
        "\n",
        "numbers = [58, 45, 69, 19, 4, 87, 29, 13, 39, 15]\n",
        "\n",
        "# 합계 계산\n",
        "result = sum(numbers)\n",
        "\n",
        "# 평균 계산\n",
        "ave = result / len(numbers)\n",
        "\n",
        "# 결과 풀력\n",
        "print(f\"합계: {result}, 평균:  {ave}\")\n"
      ],
      "metadata": {
        "id": "I4-FPIXZOIBn"
      },
      "execution_count": null,
      "outputs": []
    },
    {
      "cell_type": "code",
      "source": [
        "# 파이썬에서 평균을 구하는 내장함수 없음\n",
        "\n",
        "import statistics\n",
        "numbers = [58, 45, 69, 19, 4, 87, 29, 13, 39, 15]\n",
        "avg = statistics.mean(numbers)\n",
        "print(f\"평균: {ave}\")"
      ],
      "metadata": {
        "id": "EWnY1xpTOL1L"
      },
      "execution_count": null,
      "outputs": []
    },
    {
      "cell_type": "markdown",
      "source": [
        "Task3_0425. 주어진 리스트에서 특정 요소가 등장하는 모든 인덱스를 리스트로 만들어 출력하세요.\n",
        "\n",
        "items = ['apple', 'banana', 'cherry', 'apple', 'cherry', 'apple'] target='apple'"
      ],
      "metadata": {
        "id": "AmPYXBUhOJ8g"
      }
    },
    {
      "cell_type": "code",
      "source": [
        "# Task3 주어진 리스트에서 특정 요소가 등장하는 모든 인덱스를 리스트로 만들어 출력하세요.\n",
        "\n",
        "items = ['apple', 'banana', 'cherry', 'apple', 'cherry', 'apple']\n",
        "\n",
        "search = []\n",
        "\n",
        "for search1 in items:\n",
        "  if 'apple' in search1:\n",
        "    search.append(search1)\n",
        "\n",
        "print(search)\n"
      ],
      "metadata": {
        "id": "ITsW3BuUOVQe"
      },
      "execution_count": null,
      "outputs": []
    },
    {
      "cell_type": "code",
      "source": [
        "# 리스트 정의\n",
        "items = ['apple', 'banana', 'cherry', 'apple', 'cherry', 'apple']\n",
        "\n",
        "# 찾을 요소\n",
        "target = 'apple'\n",
        "\n",
        "# 인덱스 찾기\n",
        "indexes = [index for index, value in enumerate(items) if value == target]\n",
        "\n",
        "# 결과 출력\n",
        "print(f\"{target}'의 모든 인덱스: {indexes}\")"
      ],
      "metadata": {
        "id": "daBFLvtDOYdA"
      },
      "execution_count": null,
      "outputs": []
    },
    {
      "cell_type": "markdown",
      "source": [
        "Task4_0425. 주어진 리스트에서 연속해서 반복되는 요소만 제거하고, 결과 리스트를 반환하세요. 단, 처음 등장하는 요소는 유지해야 합니다. 예를 들어, ['a', 'a', 'b', 'c', 'c', 'c', 'd', 'e', 'e']가 입력되면, ['a', 'b', 'c', 'd', 'e']를 출력해야 합니다."
      ],
      "metadata": {
        "id": "hG-excXUOas7"
      }
    },
    {
      "cell_type": "code",
      "source": [
        "#Task4 주어진 리스트에서 연속해서 반복되는 요소만 제거하고, 결과 리스트를 반환하세요.\n",
        "#단, 처음 등장하는 요소는 유지해야 합니다. 예를 들어, ['a', 'a', 'b', 'c', 'c', 'c', 'd', 'e', 'e']가 입력되면, ['a', 'b', 'c', 'd', 'e']를 출력해야 합니다\n",
        "\n",
        "li = ['a', 'a', 'b', 'c', 'c', 'c', 'd', 'e', 'e']\n",
        "result = [li[0]]\n",
        "for i in li[1:]:\n",
        "  if i != result[-1]:\n",
        "      result.append(i)\n",
        "print(result)"
      ],
      "metadata": {
        "id": "jNsw_gnTOcoF"
      },
      "execution_count": null,
      "outputs": []
    },
    {
      "cell_type": "code",
      "source": [
        "def remove_consecutive_duplicates(items):\n",
        "   if not items:\n",
        "      return []\n",
        "  # 결과 리스트 초기화\n",
        "      result = [items[0]]\n",
        "    # 이전 요소와 비교하면서 중복 제거\n",
        "      for current in items[1:]:\n",
        "        if current != result[-1]:\n",
        "          result.append(current)\n",
        "      return result\n",
        "\n",
        "# 리스트 정의\n",
        "items = ['a', 'a', 'b', 'c', 'c', 'c', 'd', 'e', 'e']\n",
        "\n",
        "# 결과 출력\n",
        "print(remove_consecutive_duplicates(items))"
      ],
      "metadata": {
        "id": "1PcY1AR2OfWZ"
      },
      "execution_count": null,
      "outputs": []
    },
    {
      "cell_type": "markdown",
      "source": [
        "Task5_0425 주어진 정수 리스트와 회전 횟수 k에 대해 리스트를 오른쪽으로 k만큼 회전시킨 결과를 반환하세요. k가 리스트의 길이보다 클 수 있으며, 이 경우 k를 리스트 길이로 나눈 나머지만큼 실제 회전시키면 됩니다.\n",
        "\n",
        "예를 들어, [1, 2, 3, 4, 5]와 k=2가 주어지면, 결과는 [4, 5, 1, 2, 3]이 되어야 합니다."
      ],
      "metadata": {
        "id": "uXKNaxRlOjyo"
      }
    },
    {
      "cell_type": "code",
      "source": [
        "#Task5 주어진 정수 리스트와 회전 횟수 k에 대해 리스트를 오른쪽으로 k만큼 회전시킨 결과를 반환하세요.\n",
        "#k가 리스트의 길이보다 클 수 있으며, 이 경우 k를 리스트 길이로 나눈 나머지만큼 실제 회전시키면 됩니다.\n",
        "#예를 들어, [1, 2, 3, 4, 5]와 k=2가 주어지면, 결과는 [4, 5, 1, 2, 3]이 되어야 합니다\n",
        "a = [1, 2, 3, 4, 5]\n",
        "def right_rotate(test_list, n):\n",
        "  new_list = [None for _ in range(len(test_list))]\n",
        "\n",
        "  for i in range(len(test_list)):\n",
        "\n",
        "      new_list[i] = test_list[i-n]\n",
        "\n",
        "  return new_list\n",
        "\n",
        "  print(right_rotate(a,2))"
      ],
      "metadata": {
        "id": "2xfem27vOhsR"
      },
      "execution_count": null,
      "outputs": []
    },
    {
      "cell_type": "code",
      "source": [
        "# 오른쪽으로 회전\n",
        "def rotate_list(num, k):\n",
        "  if not nums:\n",
        "    return nums\n",
        "  # 회전 횟수를 리스트 길이로 나눈 나머지로 계산\n",
        "  k = k % len(nums)\n",
        "  # 리스트의 끝부분을 앞으로, 앞부분을 끝으로 옮김\n",
        "  rotated = nums[-k:] + nums[:-k]\n",
        "  return rotated\n",
        "\n",
        "# 리스트 정의\n",
        "nums = [1, 2, 3, 4, 5]\n",
        "k =2\n",
        "# 결과 출력\n",
        "print(rotate_list(nums, k))\n"
      ],
      "metadata": {
        "id": "EeYt5kzwOmlt"
      },
      "execution_count": null,
      "outputs": []
    },
    {
      "cell_type": "code",
      "source": [
        "# 왼쪽으로 회전\n",
        "def rotate_list(num, k):\n",
        "  if not nums:\n",
        "    return nums\n",
        "  # 회전 횟수를 리스트 길이로 나눈 나머지로 계산\n",
        "  k = k % len(nums)\n",
        "  # 리스트의 끝부분을 앞으로, 앞부분을 끝으로 옮김\n",
        "  rotated = nums[k:] + nums[:k]\n",
        "  return rotated\n",
        "\n",
        "# 리스트 정의\n",
        "nums = [1, 2, 3, 4, 5]\n",
        "k = 2\n",
        "\n",
        "\n",
        "# 결과 출력\n",
        "print(rotate_list(nums, k))"
      ],
      "metadata": {
        "id": "KFn0FPXhOooM"
      },
      "execution_count": null,
      "outputs": []
    },
    {
      "cell_type": "markdown",
      "source": [
        "2024년 4월 26일\n",
        "----------------------------------------------------------------------------------------------------------------------------------------------------------------"
      ],
      "metadata": {
        "id": "eHr8APHgOqn3"
      }
    },
    {
      "cell_type": "markdown",
      "source": [
        "Task_0426 주어진 리스트의 총합과 평균을 동시에 반환하는 함수를 작성하세요 numbers = [10,20,30,40,50]"
      ],
      "metadata": {
        "id": "h0RR1tI_PBTc"
      }
    },
    {
      "cell_type": "code",
      "source": [
        "def calculate_sum_and_avg(numbers):\n",
        "\n",
        "# 합계 계산\n",
        "  total = sum(numbers)\n",
        "# 평균 계산\n",
        "  avg = total / len(numbers)\n",
        "  return (total, avg) # 튜플로 총합과 평균 반환\n",
        "\n",
        "numbers = [10, 20, 30, 40, 50]\n",
        "total, avg = calculate_sum_and_avg(numbers)\n",
        "print(f\"총합: {total}, 평균: {avg}\")\n",
        "\n"
      ],
      "metadata": {
        "id": "OZxf8wZKPHuX"
      },
      "execution_count": null,
      "outputs": []
    },
    {
      "cell_type": "markdown",
      "source": [
        "Task_0426 딕셔너리 d에서 'b'의 값을 확인하면서 그 값을 삭제하세요"
      ],
      "metadata": {
        "id": "Co_9iOKuPJug"
      }
    },
    {
      "cell_type": "code",
      "source": [
        "# pop() 함수는 딕셔너리에서 삭제하라는 값을 반환한 후 삭제\n",
        "d = {'a': 1, 'b': 2, 'c': 3, 'd': 4}\n",
        "value = d.pop('b')\n",
        "print(\"삭제 값 : \",value)\n",
        "print(d)"
      ],
      "metadata": {
        "id": "jTdfzvYGPPRT"
      },
      "execution_count": null,
      "outputs": []
    },
    {
      "cell_type": "markdown",
      "source": [
        " Task_0426 다음과 같이 학생의 이름과 점수를 튜플로 묶은 리스트가 있습니다:[(\"Tom\",85),(\"Jane\",90),(\"Bob\",75)]\n",
        "\n",
        "이 리스트를 사용해 학생 이름을 키로, 점수를 값으로 하는 딕셔너리를 생성하고 출력하세요"
      ],
      "metadata": {
        "id": "RLiPuamLPTHv"
      }
    },
    {
      "cell_type": "code",
      "source": [
        "student = (\"Tom\",85),(\"Jane\",90),(\"Bob\",75)\n",
        "\n",
        "student_dict = dict(student)\n",
        "print(student_dict)"
      ],
      "metadata": {
        "id": "6FbMR9J2PdcN"
      },
      "execution_count": null,
      "outputs": []
    },
    {
      "cell_type": "markdown",
      "source": [
        " Tesk_0426 튜플의 불변생 떄문에 튜플은 딕셔너리의 키로 사용될 수 있습니다. 주어진 위치 좌표 리스트에서 각 위치가 몇 번 나타나는지 계산하는 딕셔너리를 만드세요"
      ],
      "metadata": {
        "id": "DVcXGfgWPfQZ"
      }
    },
    {
      "cell_type": "code",
      "source": [
        "# 위치 좌표의 리스트\n",
        "positions = [(1, 1), (2, 2), (1, 1), (3, 3), (2, 2)]\n",
        "\n",
        "# 각 위치의 출현 횟수를 저장할 딕셔너리\n",
        "position_count = {}\n",
        "\n",
        "for pos in positions:\n",
        "  if pos in position_count:\n",
        "      position_count[pos] += 1\n",
        "  else:\n",
        "    position_count[pos] = 1\n",
        "\n",
        "print(position_count)"
      ],
      "metadata": {
        "colab": {
          "base_uri": "https://localhost:8080/"
        },
        "id": "MhaNlyGKPilN",
        "outputId": "7961f841-c8d2-4ba2-c8bf-92402e9381d1"
      },
      "execution_count": null,
      "outputs": [
        {
          "output_type": "stream",
          "name": "stdout",
          "text": [
            "{(1, 1): 2, (2, 2): 2, (3, 3): 1}\n"
          ]
        }
      ]
    },
    {
      "cell_type": "markdown",
      "source": [
        "Task1_0426. 주어진 리스트에서 중복된 요소를 제외하고 고유한 요소의 개수를 세는 프로그램을 작성하세요.\n",
        "\n",
        "data = [1, 2, 2, 3, 4, 4, 4, 5]"
      ],
      "metadata": {
        "id": "swa2n9TYPk19"
      }
    },
    {
      "cell_type": "code",
      "source": [
        "data = [1, 2, 2, 3, 4, 4, 4, 5]\n",
        "\n",
        "result_A = list(set(data))\n",
        "\n",
        "print(len(result_A))"
      ],
      "metadata": {
        "id": "fNWmIFE1PkcW"
      },
      "execution_count": null,
      "outputs": []
    },
    {
      "cell_type": "markdown",
      "source": [
        "Task2_0426. 두 개의 리스트에서 공통으로 나타나는 요소들을 찾아 리스트로 반환하는 프로그램을 작성하세요.\n",
        "\n",
        "예시 입력: list1 = [1, 2, 3, 4, 5], list2 = [4, 5, 6, 7, 8]\n",
        "\n",
        "예시 출력: [4, 5]"
      ],
      "metadata": {
        "id": "HqoHXRvjPrHv"
      }
    },
    {
      "cell_type": "code",
      "source": [
        "list1 = [1, 2, 3, 4, 5]\n",
        "list2 = [4, 5, 6, 7, 8]\n",
        "\n",
        "set1 = set(list1)\n",
        "set2 = set(list2)\n",
        "\n",
        "print(set1 & set2)"
      ],
      "metadata": {
        "colab": {
          "base_uri": "https://localhost:8080/"
        },
        "id": "Unj_iC-GPuHa",
        "outputId": "160155ab-3ced-452c-93ec-6009d705c752"
      },
      "execution_count": null,
      "outputs": [
        {
          "output_type": "stream",
          "name": "stdout",
          "text": [
            "{4, 5}\n"
          ]
        }
      ]
    },
    {
      "cell_type": "markdown",
      "source": [
        "Task3_0426 주어진 숫자 리스트에서 특정 값보다 큰 요소가 하나라도 존재하는지 검사하고, 그 결과를 불 값으로 반환하는 함수를 작성하세요.\n",
        "\n",
        "numbers = [1, 2, 3, 10, 20]\n",
        "threshold = 15"
      ],
      "metadata": {
        "id": "Zb5evqU-Ptvn"
      }
    },
    {
      "cell_type": "code",
      "source": [
        "numbers = [1, 2, 3, 10, 20]\n",
        "threshold = 10\n",
        "\n",
        "for number in numbers:\n",
        "    if threshold < number:\n",
        "        print(bool(1))\n",
        "        break\n",
        "else:\n",
        "    print(bool(0))"
      ],
      "metadata": {
        "colab": {
          "base_uri": "https://localhost:8080/"
        },
        "id": "EB-zh_7SP1xL",
        "outputId": "70674351-9d11-449c-a66f-0a86bac3d15f"
      },
      "execution_count": null,
      "outputs": [
        {
          "output_type": "stream",
          "name": "stdout",
          "text": [
            "True\n"
          ]
        }
      ]
    },
    {
      "cell_type": "code",
      "source": [
        "numbers = [1, 2, 3, 10, 20]\n",
        "\n",
        "if any(num > 15 for num in numbers):\n",
        "  print(\"True\")\n",
        "else:\n",
        "  print(\"False\")"
      ],
      "metadata": {
        "colab": {
          "base_uri": "https://localhost:8080/"
        },
        "id": "b5hvskRgQRRl",
        "outputId": "378c567b-ed6c-4fad-a5d0-f45fe0eb44f0"
      },
      "execution_count": null,
      "outputs": [
        {
          "output_type": "stream",
          "name": "stdout",
          "text": [
            "True\n"
          ]
        }
      ]
    },
    {
      "cell_type": "code",
      "source": [
        "def check_greater_than_threshold(numbers,threshold):\n",
        "  for num in numbers:\n",
        "    if num > threshold:\n",
        "        return True\n",
        "  return False\n",
        "\n",
        "numbers = [1, 2, 3, 10, 20]\n",
        "threshold = 15\n",
        "result = check_greater_than_threshold(numbers,threshold)\n",
        "print(result)"
      ],
      "metadata": {
        "colab": {
          "base_uri": "https://localhost:8080/"
        },
        "id": "lOozLdxyQzIg",
        "outputId": "c2d3cf78-d38d-49e0-9be9-14f6b05100a9"
      },
      "execution_count": null,
      "outputs": [
        {
          "output_type": "stream",
          "name": "stdout",
          "text": [
            "True\n"
          ]
        }
      ]
    },
    {
      "cell_type": "markdown",
      "source": [
        "Task4_0426. 주어진 문자열이 특정 문자열을 포함하는지 확인하고 결과를 불 값으로 반환하는 함수를 작성하세요.\n",
        "\n",
        "text = \"hello world\"\n",
        "substring = \"world"
      ],
      "metadata": {
        "id": "XN-UmG2yP6II"
      }
    },
    {
      "cell_type": "code",
      "source": [
        "text = 'hello world'\n",
        "substring = 'world'\n",
        "\n",
        "if substring in text:\n",
        "    print(bool(1))\n",
        "else:\n",
        "    print(bool(0))"
      ],
      "metadata": {
        "colab": {
          "base_uri": "https://localhost:8080/"
        },
        "id": "8h07lcy7P8nx",
        "outputId": "aa2a6025-6750-4df9-cd0b-626e570b0cd1"
      },
      "execution_count": null,
      "outputs": [
        {
          "output_type": "stream",
          "name": "stdout",
          "text": [
            "True\n"
          ]
        }
      ]
    },
    {
      "cell_type": "code",
      "source": [
        "def contains_substring(text, substring):\n",
        "  if substring in text:\n",
        "    return True\n",
        "  else:\n",
        "    return False\n",
        "\n",
        "text = \"hello world\"\n",
        "substring = \"world\"\n",
        "result = contains_substring(text, substring)\n",
        "print(result)"
      ],
      "metadata": {
        "colab": {
          "base_uri": "https://localhost:8080/"
        },
        "id": "e8cf0jr4TRsz",
        "outputId": "3f30b6b9-39b0-432c-ba02-92a191b17ee6"
      },
      "execution_count": null,
      "outputs": [
        {
          "output_type": "stream",
          "name": "stdout",
          "text": [
            "True\n"
          ]
        }
      ]
    },
    {
      "cell_type": "markdown",
      "source": [
        "사용자 함수의 형태\n",
        "- 입력값, 출력값 모두 있는 경우\n",
        "- 입력값만 있는 경우\n",
        "- 출력값만 있는 경우\n",
        "- 입출력값이 없는 경우"
      ],
      "metadata": {
        "id": "dHS49GnkUhNP"
      }
    },
    {
      "cell_type": "markdown",
      "source": [
        "Task5_0426. 주어진 연도가 윤년인지 판별하는 함수를 작성하세요. 윤년은 다음의 조건을 만족해야 합니다:\n",
        "\n",
        "4로 나누어 떨어진다.\n",
        "100으로 나누어 떨어지지 않거나, 400으로 나누어 떨어지면 윤년이다.\n",
        "year = 2020\n",
        "\n",
        "True"
      ],
      "metadata": {
        "id": "KpG1O6q_P-mw"
      }
    },
    {
      "cell_type": "code",
      "source": [
        "year = 2020\n",
        "\n",
        "if (year % 4 == 0) and ((year % 100 != 0) or (year % 400 == 0)):\n",
        "    print(bool(1))\n",
        "else:\n",
        "    print(bool(0))"
      ],
      "metadata": {
        "id": "fXY33YBpQBF9"
      },
      "execution_count": null,
      "outputs": []
    },
    {
      "cell_type": "code",
      "source": [
        "def is_leep_year(year):\n",
        "    if year % 4 == 0 and (year % 100 != 0 or year % 400 == 0):\n",
        "      return True\n",
        "    else:\n",
        "      return False\n",
        "\n",
        "year = 2020\n",
        "result =is_leep_year(year)\n",
        "print(result)"
      ],
      "metadata": {
        "colab": {
          "base_uri": "https://localhost:8080/"
        },
        "id": "CWuFcVOTY0Qe",
        "outputId": "4d26ee46-f05b-476f-b56f-c28bd5316bf2"
      },
      "execution_count": null,
      "outputs": [
        {
          "output_type": "stream",
          "name": "stdout",
          "text": [
            "True\n"
          ]
        }
      ]
    },
    {
      "cell_type": "code",
      "source": [
        "def is_leep_year(year):\n",
        "    if (not year % 4 ) and ((year % 100) or (not year % 400)):\n",
        "      return True\n",
        "    else:\n",
        "      return False\n",
        "\n"
      ],
      "metadata": {
        "id": "RHuUY1obaW10"
      },
      "execution_count": 8,
      "outputs": []
    },
    {
      "cell_type": "markdown",
      "source": [
        "Task6_0426. Calculator 클래스를 작성하고 4칙연산을 수행하는 객체 4개를 작성하여 결과를 출력하세요"
      ],
      "metadata": {
        "id": "SZAsp9oSQp1t"
      }
    },
    {
      "cell_type": "code",
      "source": [
        "class Calculator:\n",
        "  def add(self,n1,n2):\n",
        "    return n1 + n2\n",
        "  def mul(self,n1,n2):\n",
        "    return n1 * n2\n",
        "  def subtract(self,n1,n2):\n",
        "    return n1 - n2\n",
        "  def div(self,n1,n2):\n",
        "    if n2 == 0:\n",
        "      return \"Error\"\n",
        "    else:\n",
        "      return n1 / n2\n",
        "\n",
        "# 덧셈\n",
        "take1 = Calculator()\n",
        "print(take1.add(5, 2))\n",
        "\n",
        "# 곱하기\n",
        "take2 = Calculator()\n",
        "print(take2.mul(5, 2))\n",
        "\n",
        "# 뻴셈\n",
        "take3 = Calculator()\n",
        "print(take3.subtract(5, 2))\n",
        "\n",
        "# 나눗셈\n",
        "take4 = Calculator()\n",
        "print(take4.div(10, 2))"
      ],
      "metadata": {
        "colab": {
          "base_uri": "https://localhost:8080/"
        },
        "id": "VrpGOakfQr5u",
        "outputId": "93ca22f1-eb5f-48ff-8809-b51a256bf436"
      },
      "execution_count": null,
      "outputs": [
        {
          "output_type": "stream",
          "name": "stdout",
          "text": [
            "7\n",
            "10\n",
            "3\n",
            "5.0\n"
          ]
        }
      ]
    },
    {
      "cell_type": "markdown",
      "source": [
        "Task7_0426. 다음 과제를 수행하세요.\n",
        "\n",
        "사용자로 부터 텍스트를 입력 받는다.\n",
        "문자을 단어 단위로 분리 : split()\n",
        "단어의 빈도수를 저장할 딕셔너리를 생성\n",
        "각 단어의 빈도 수를 계산(for 문 / if else문): word=word.lower()\n",
        "결과 출력\n",
        "[ 예시 ]\n",
        "\n",
        "문장을 입력하세요: I love apple. I love orange. Apple is tasty\n",
        "\n",
        "{'i': 2, 'love': 2, 'apple.': 1, 'orange.': 1, 'apple': 1, 'is': 1, 'tasty': 1}"
      ],
      "metadata": {
        "id": "VrlOzSIYQss_"
      }
    },
    {
      "cell_type": "code",
      "source": [
        "text = input(\"문장을 입력하세요: \")\n",
        "words = text.split()\n",
        "word_frequency = {}\n",
        "for word in words:\n",
        "    if word in word_frequency:\n",
        "        word_frequency[word] += 1\n",
        "    else:\n",
        "        word_frequency[word] = 1\n",
        "\n",
        "print(word_frequency)"
      ],
      "metadata": {
        "colab": {
          "base_uri": "https://localhost:8080/"
        },
        "id": "0ULyTmDTcPgC",
        "outputId": "acc21785-839c-4d3c-9a15-8d7812a437ab"
      },
      "execution_count": null,
      "outputs": [
        {
          "output_type": "stream",
          "name": "stdout",
          "text": [
            "문장을 입력하세요: I love apple. I love orange. Apple is tasty\n",
            "{'I': 2, 'love': 2, 'apple.': 1, 'orange.': 1, 'Apple': 1, 'is': 1, 'tasty': 1}\n"
          ]
        }
      ]
    },
    {
      "cell_type": "code",
      "source": [
        "# 사용자로부터 문장을 입력 받습니다\n",
        "sentence = input(\"문장을 입력하세요:\")\n",
        "# 문장을 단어 단위로 분리합니다\n",
        "word = sentence.split()\n",
        "# 단어의 빈도수를 저장할 딕셔너리를 생성합니다\n",
        "word_frequency = {}\n",
        "# 각 단어의 빈도수를 계산합니다\n",
        "for word in words:\n",
        "    # 대소문자를 구분하지 않기 위해 단어를 소문자로 변환합니다\n",
        "    word = word.lower() # upper() 대문자로 변경\n",
        "    # 딕셔너리에 단어가 이미 존재한다면 빈도수를 1 증가시키고, 존재하지 않는다면 새로운 항목으로 추가합니다\n",
        "    if word in word_frequency:\n",
        "        word_frequency[word] += 1\n",
        "    else:\n",
        "        word_frequency[word] = 1\n",
        "# 결과를 출력합니다\n",
        "print(word_frequency)\n",
        "# I love apple. I love orange. Apple is tasty"
      ],
      "metadata": {
        "colab": {
          "base_uri": "https://localhost:8080/"
        },
        "id": "AAejIKW3fyWI",
        "outputId": "17d945d2-d362-450d-d6bb-9773a62c3cfa"
      },
      "execution_count": null,
      "outputs": [
        {
          "output_type": "stream",
          "name": "stdout",
          "text": [
            "문장을 입력하세요:huhhjhj\n",
            "{'i': 2, 'love': 2, 'apple.': 1, 'orange.': 1, 'apple': 1, 'is': 1, 'tasty': 1, 'apple ': 1, ' banana ': 1, ' orange': 1}\n"
          ]
        }
      ]
    },
    {
      "cell_type": "markdown",
      "source": [
        "2024년 4월 29일\n",
        "----------------------------------------------------------------------------------------------------------------------------------------------------------------"
      ],
      "metadata": {
        "id": "oyzVb12eod31"
      }
    },
    {
      "cell_type": "markdown",
      "source": [
        "Task1_0429. input_str을 아래와 같이 단어로 분리하여 출력하세요.\n",
        "\n",
        "input_str = \"Hello, world! How are you today? I am fine. Thank you!\"\n",
        "\n",
        "['Hello', 'world', 'How', 'are', 'you', 'today', 'I', 'am', 'fine', 'Thank', 'you', '']"
      ],
      "metadata": {
        "id": "XhCWFD-nohCg"
      }
    },
    {
      "cell_type": "code",
      "source": [
        "text = input(\"단어 입력\")\n",
        "words = text.split()\n",
        "print(words)"
      ],
      "metadata": {
        "id": "u4u-cd6eosYa",
        "colab": {
          "base_uri": "https://localhost:8080/"
        },
        "outputId": "c47c087e-4ee1-4709-bb25-4c19a396a29a"
      },
      "execution_count": 10,
      "outputs": [
        {
          "output_type": "stream",
          "name": "stdout",
          "text": [
            "단어 입력Hello, world! How are you today? I am fine. Thank you!\n",
            "['Hello,', 'world!', 'How', 'are', 'you', 'today?', 'I', 'am', 'fine.', 'Thank', 'you!']\n"
          ]
        }
      ]
    },
    {
      "cell_type": "markdown",
      "source": [
        "Task2_0429. 십진수 122를 2진수, 8진수, 16진수로 변경하여 출력하세요."
      ],
      "metadata": {
        "id": "DBF5cdNl69ZO"
      }
    },
    {
      "cell_type": "code",
      "source": [
        "print(122)\n",
        "print(0b1111010)\n",
        "print(0o122)\n",
        "print(0x122)\n",
        "\n"
      ],
      "metadata": {
        "id": "FJ0eF_u-6wKI"
      },
      "execution_count": null,
      "outputs": []
    },
    {
      "cell_type": "markdown",
      "source": [
        "Task3_0429. 두 수의 곱셈 결과를 계산하고, 그 결과에 10을 더하세요."
      ],
      "metadata": {
        "id": "si18zdMy7v8y"
      }
    },
    {
      "cell_type": "code",
      "source": [],
      "metadata": {
        "id": "bWXiyDoT70bT"
      },
      "execution_count": null,
      "outputs": []
    },
    {
      "cell_type": "markdown",
      "source": [
        "Task4_0429. 주어진 리스트에서 두 번째 요소를 삭제하고, 마지막에 새로운 요소 'Python'을 추가하세요.\n",
        "\n",
        "리스트: ['Java', 'C', 'JavaScript']"
      ],
      "metadata": {
        "id": "PaxXx13N70qK"
      }
    },
    {
      "cell_type": "code",
      "source": [
        "list1 = ['Java', 'C', 'JavaScript']\n",
        "\n",
        "del list1[1]\n",
        "print(list1)\n",
        "\n",
        "list1.append('Python')\n",
        "print(list1)"
      ],
      "metadata": {
        "id": "YJAyzRy7IZNY"
      },
      "execution_count": null,
      "outputs": []
    },
    {
      "cell_type": "markdown",
      "source": [
        "Task5_0429. 주어진 문자열에서 처음 세 글자와 마지막 세 글자를 연결하여 새로운 문자열을 만드세요.\n",
        "\n",
        "문자열: 'Incredible'"
      ],
      "metadata": {
        "id": "cAFtPcHE71xh"
      }
    },
    {
      "cell_type": "code",
      "source": [
        "str1 = \"Incredible\"\n",
        "str = str1[:3]+str1[-3:]\n",
        "print(str)"
      ],
      "metadata": {
        "id": "0U0XNPcCNrGw",
        "colab": {
          "base_uri": "https://localhost:8080/"
        },
        "outputId": "300e082f-2076-4474-984b-f38aee076fd6"
      },
      "execution_count": 24,
      "outputs": [
        {
          "output_type": "stream",
          "name": "stdout",
          "text": [
            "Incble\n"
          ]
        }
      ]
    },
    {
      "cell_type": "markdown",
      "source": [
        "Task6_0429. 사용자의 이름과 이메일을 딕셔너리로 저장하고, 이름을 입력받아 해당하는 이메일을 출력하세요.\n",
        "\n",
        "사용자 정보: 이름 - 'Alice', 이메일 - 'alice@example.com'"
      ],
      "metadata": {
        "id": "0ZZfx38N75Bp"
      }
    },
    {
      "cell_type": "code",
      "source": [
        "user = {'Alice':'alice@example.com' }\n",
        "name = input('이름을 입력 ')\n",
        "if name in user.keys():\n",
        "    print(name, ' ',user[name], ' ')\n",
        "else:\n",
        "    print('해당 사람이 없습니다.')\n",
        "\n"
      ],
      "metadata": {
        "id": "OFu1Yqt376du",
        "colab": {
          "base_uri": "https://localhost:8080/"
        },
        "outputId": "b1d4eff7-3508-4e7b-e0c4-2d032ebda644"
      },
      "execution_count": 30,
      "outputs": [
        {
          "output_type": "stream",
          "name": "stdout",
          "text": [
            "이름을 입력 Alice\n",
            "Alice   alice@example.com  \n"
          ]
        }
      ]
    },
    {
      "cell_type": "markdown",
      "source": [
        "Task7_0429. 주어진 두 튜플에서 공통 요소만을 찾아 집합으로 만드세요.\n",
        "\n",
        "튜플: (1, 2, 3, 4, 5)와 (4, 5, 6, 7, 8)"
      ],
      "metadata": {
        "id": "AM09Yy5c7_Ue"
      }
    },
    {
      "cell_type": "code",
      "source": [
        "tuple1 = (1,2,3,4,5)\n",
        "tuple2 = (4,5,6,7,8)\n",
        "\n",
        "t1 = set(tuple1)\n",
        "t2 = set(tuple2)\n",
        "\n",
        "print(t1 & t2)"
      ],
      "metadata": {
        "colab": {
          "base_uri": "https://localhost:8080/"
        },
        "id": "z8Mdv7F8Os3Z",
        "outputId": "f9a321d9-15e2-4985-8ae1-d5658cbe7956"
      },
      "execution_count": 25,
      "outputs": [
        {
          "output_type": "stream",
          "name": "stdout",
          "text": [
            "{4, 5}\n"
          ]
        }
      ]
    },
    {
      "cell_type": "markdown",
      "source": [
        "Task8_Challenge_0429. 다음 요구 사항을 충족하는 프로그램을 작성하세요:\n",
        "\n",
        "- 사용자로부터 이름, 나이, 좋아하는 색상을 입력받습니다.\n",
        "- 입력받은 정보를 딕셔너리로 저장하고, 모든 사용자 정보를 리스트에 저장합니다.\n",
        "- 이름이 'John'인 사용자의 정보만 출력하세요.\n",
        "- 전체 사용자의 평균 나이를 계산하고 출력하세요.\n",
        "1. 사용자 데이터:\n",
        "- 이름: John\n",
        "- 나이: 28\n",
        "- 좋아하는 색상: Blue\n",
        "2. 사용자 데이터:\n",
        "- 이름: Alice\n",
        "- 나이: 24\n",
        "- 좋아하는 색상: Red\n",
        "3. 사용자 데이터:\n",
        "- 이름: Maria\n",
        "- 나이: 32\n",
        "- 좋아하는 색상: Green"
      ],
      "metadata": {
        "id": "w2RKtXi38CG6"
      }
    },
    {
      "cell_type": "code",
      "source": [
        "name = input(\"이름을 입력하세요 \")\n",
        "age = int(input(\"나이를 입력하세요 \"))\n",
        "color = input(\"좋아하는 색상을 입력하세요 \")\n"
      ],
      "metadata": {
        "colab": {
          "base_uri": "https://localhost:8080/"
        },
        "id": "lhIQSuOg2B_H",
        "outputId": "9373712c-98fa-44c1-99ca-c200198a500c"
      },
      "execution_count": 35,
      "outputs": [
        {
          "name": "stdout",
          "output_type": "stream",
          "text": [
            "이름을 입력하세요 ㅇㅇ\n",
            "나이를 입력하세요 12\n",
            "좋아하는 색상을 입력하세요 ㅇㅇ\n"
          ]
        }
      ]
    }
  ]
}