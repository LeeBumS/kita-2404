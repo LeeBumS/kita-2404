{
  "nbformat": 4,
  "nbformat_minor": 0,
  "metadata": {
    "colab": {
      "provenance": [],
      "collapsed_sections": [
        "-3KDPrw_NWAl",
        "90xRPhm5N7jw",
        "eHr8APHgOqn3",
        "oyzVb12eod31",
        "78jUDtbjzch-",
        "SOjEE7AY2MEx",
        "X5Pau8DNDvCs",
        "NGip5ogBaUmf",
        "537Cu-atVl2Q"
      ]
    },
    "kernelspec": {
      "name": "python3",
      "display_name": "Python 3"
    },
    "language_info": {
      "name": "python"
    }
  },
  "cells": [
    {
      "cell_type": "markdown",
      "source": [
        "2024년 4월 24일\n",
        "----------------------------------------------------------------------------------------------------------------------------------------------------------------"
      ],
      "metadata": {
        "id": "-3KDPrw_NWAl"
      }
    },
    {
      "cell_type": "markdown",
      "source": [
        "Q. 주어진 문자열 리스트에서 유효한 Python 변수 이름만을 추출하여 반환하는 함수를 작성하세요"
      ],
      "metadata": {
        "id": "mAZmA2IvNSYy"
      }
    },
    {
      "cell_type": "code",
      "execution_count": null,
      "metadata": {
        "id": "RrW3kPfwMtix"
      },
      "outputs": [],
      "source": [
        "# 나의 풀이\n",
        "\n",
        "identifiers = [\"var1\",\"2things\",\"variable_name\",\"time!\"]\n",
        "\n",
        "search = '2'\n",
        "search1 = '!'\n",
        "\n",
        "for word in identifiers:\n",
        "    if search in word:\n",
        "        print('>> remove: ' + word)\n",
        "        identifiers.remove(word)\n",
        "    elif search1 in word:\n",
        "        print('>> remove: ' + word)\n",
        "        identifiers.remove(word)\n",
        "\n",
        "print(identifiers)"
      ]
    },
    {
      "cell_type": "code",
      "source": [
        "# 정답\n",
        "def valid_identifiers(identifier):\n",
        "    valid = []\n",
        "    for identifier in identifier:\n",
        "        if identifier.isidentifier():\n",
        "          valid.append(identifier)\n",
        "    return valid\n",
        "\n",
        "\n",
        "  # 예제 실행\n",
        "identifiers = [\"var1\",\"2things\",\"variable_name\",\"time!\"]\n",
        "print(valid_identifiers(identifiers))\n",
        "\n",
        "\n",
        "# isidentifier()는 파이썬 문자열 메소드로 문자열이 유효한 식별자인지 Check.\n",
        "# isidentifier()는 예약어인지는 따로 체크하지 않음.\n",
        "import keyword\n",
        "def valid_identifiers(identifier):\n",
        "    valid = []\n",
        "    for identifier in identifier:\n",
        "        if identifier.isidentifier() and not keyword.iskeyword(identifier):\n",
        "            valid.append(identifier)\n",
        "    return valid\n",
        "\n",
        "identifiers = [\"var1\", \"2things\", \"variable_name\", \"time!\", \"True\"]\n",
        "print(valid_identifiers(identifiers))"
      ],
      "metadata": {
        "id": "F0T3lhwpNxSS"
      },
      "execution_count": null,
      "outputs": []
    },
    {
      "cell_type": "markdown",
      "source": [
        "2024년 4월 25일\n",
        "----------------------------------------------------------------------------------------------------------------------------------------------------------------"
      ],
      "metadata": {
        "id": "90xRPhm5N7jw"
      }
    },
    {
      "cell_type": "markdown",
      "source": [
        "Task1_0425. 주어진 숫자 리스트에서 최소값과 최대값을 찾아 출력하세요.\n",
        "\n",
        "numbers = [58, 45, 69, 19, 4, 87, 29, 13, 39, 15]"
      ],
      "metadata": {
        "id": "-ee_DjdbN0Qv"
      }
    },
    {
      "cell_type": "code",
      "source": [
        "# Task1 주어진 숫자 리스트에서 최소값과 최대값을 찾아 출력하세요.\n",
        "numbers = [58, 45, 69, 19, 4, 87, 29, 13, 39, 15]\n",
        "\n",
        "numbers.sort()\n",
        "print(numbers[0])\n",
        "\n",
        "numbers.sort(reverse=True)\n",
        "print(numbers[0],'\\n')\n",
        "\n",
        "\n",
        "#--------------------------------------------------------------------------------\n",
        "\n",
        "min_value = min(numbers)\n",
        "max_value = max(numbers)\n",
        "\n",
        "print(f\"최소값: {min_value}, 최대값:  {max_value}\",\"\\n\")\n",
        "\n",
        "#--------------------------------------------------------------------------------\n",
        "\n",
        "min_value1 = numbers[0]\n",
        "max_value2 = numbers[0]\n",
        "\n",
        "for number in numbers:\n",
        "  if number < min_value1:\n",
        "    min_value1 = number\n",
        "  elif number < max_value2:\n",
        "    max_value2 = number\n",
        "\n",
        "print(f\"최소값: {min_value1}, 최대값:  {max_value2}\")"
      ],
      "metadata": {
        "id": "PCx8W3_AOBzD"
      },
      "execution_count": null,
      "outputs": []
    },
    {
      "cell_type": "markdown",
      "source": [
        "Task2_0425. 주어진 숫자 리스트의 모든 요소의 합계와 평균을 계산하고 출력하세요\n",
        "\n",
        "numbers = [58, 45, 69, 19, 4, 87, 29, 13, 39, 15]"
      ],
      "metadata": {
        "id": "A2FeMvY9OGCH"
      }
    },
    {
      "cell_type": "code",
      "source": [
        "# Task2 주어진 숫자 리스트의 모든 요소의 합계와 평균을 계산하고 출력하세요\n",
        "\n",
        "numbers = [58, 45, 69, 19, 4, 87, 29, 13, 39, 15]\n",
        "\n",
        "# 합계 계산\n",
        "result = sum(numbers)\n",
        "\n",
        "# 평균 계산\n",
        "ave = result / len(numbers)\n",
        "\n",
        "# 결과 풀력\n",
        "print(f\"합계: {result}, 평균:  {ave}\")\n"
      ],
      "metadata": {
        "id": "I4-FPIXZOIBn"
      },
      "execution_count": null,
      "outputs": []
    },
    {
      "cell_type": "code",
      "source": [
        "# 파이썬에서 평균을 구하는 내장함수 없음\n",
        "\n",
        "import statistics\n",
        "numbers = [58, 45, 69, 19, 4, 87, 29, 13, 39, 15]\n",
        "avg = statistics.mean(numbers)\n",
        "print(f\"평균: {ave}\")"
      ],
      "metadata": {
        "id": "EWnY1xpTOL1L"
      },
      "execution_count": null,
      "outputs": []
    },
    {
      "cell_type": "markdown",
      "source": [
        "Task3_0425. 주어진 리스트에서 특정 요소가 등장하는 모든 인덱스를 리스트로 만들어 출력하세요.\n",
        "\n",
        "items = ['apple', 'banana', 'cherry', 'apple', 'cherry', 'apple'] target='apple'"
      ],
      "metadata": {
        "id": "AmPYXBUhOJ8g"
      }
    },
    {
      "cell_type": "code",
      "source": [
        "# Task3 주어진 리스트에서 특정 요소가 등장하는 모든 인덱스를 리스트로 만들어 출력하세요.\n",
        "\n",
        "items = ['apple', 'banana', 'cherry', 'apple', 'cherry', 'apple']\n",
        "\n",
        "search = []\n",
        "\n",
        "for search1 in items:\n",
        "  if 'apple' in search1:\n",
        "    search.append(search1)\n",
        "\n",
        "print(search)\n"
      ],
      "metadata": {
        "id": "ITsW3BuUOVQe"
      },
      "execution_count": null,
      "outputs": []
    },
    {
      "cell_type": "code",
      "source": [
        "# 리스트 정의\n",
        "items = ['apple', 'banana', 'cherry', 'apple', 'cherry', 'apple']\n",
        "\n",
        "# 찾을 요소\n",
        "target = 'apple'\n",
        "\n",
        "# 인덱스 찾기\n",
        "indexes = [index for index, value in enumerate(items) if value == target]\n",
        "\n",
        "# 결과 출력\n",
        "print(f\"{target}'의 모든 인덱스: {indexes}\")"
      ],
      "metadata": {
        "id": "daBFLvtDOYdA"
      },
      "execution_count": null,
      "outputs": []
    },
    {
      "cell_type": "markdown",
      "source": [
        "Task4_0425. 주어진 리스트에서 연속해서 반복되는 요소만 제거하고, 결과 리스트를 반환하세요. 단, 처음 등장하는 요소는 유지해야 합니다. 예를 들어, ['a', 'a', 'b', 'c', 'c', 'c', 'd', 'e', 'e']가 입력되면, ['a', 'b', 'c', 'd', 'e']를 출력해야 합니다."
      ],
      "metadata": {
        "id": "hG-excXUOas7"
      }
    },
    {
      "cell_type": "code",
      "source": [
        "#Task4 주어진 리스트에서 연속해서 반복되는 요소만 제거하고, 결과 리스트를 반환하세요.\n",
        "#단, 처음 등장하는 요소는 유지해야 합니다. 예를 들어, ['a', 'a', 'b', 'c', 'c', 'c', 'd', 'e', 'e']가 입력되면, ['a', 'b', 'c', 'd', 'e']를 출력해야 합니다\n",
        "\n",
        "li = ['a', 'a', 'b', 'c', 'c', 'c', 'd', 'e', 'e']\n",
        "result = [li[0]]\n",
        "for i in li[1:]:\n",
        "  if i != result[-1]:\n",
        "      result.append(i)\n",
        "print(result)"
      ],
      "metadata": {
        "id": "jNsw_gnTOcoF"
      },
      "execution_count": null,
      "outputs": []
    },
    {
      "cell_type": "code",
      "source": [
        "def remove_consecutive_duplicates(items):\n",
        "   if not items:\n",
        "      return []\n",
        "  # 결과 리스트 초기화\n",
        "      result = [items[0]]\n",
        "    # 이전 요소와 비교하면서 중복 제거\n",
        "      for current in items[1:]:\n",
        "        if current != result[-1]:\n",
        "          result.append(current)\n",
        "      return result\n",
        "\n",
        "# 리스트 정의\n",
        "items = ['a', 'a', 'b', 'c', 'c', 'c', 'd', 'e', 'e']\n",
        "\n",
        "# 결과 출력\n",
        "print(remove_consecutive_duplicates(items))"
      ],
      "metadata": {
        "id": "1PcY1AR2OfWZ"
      },
      "execution_count": null,
      "outputs": []
    },
    {
      "cell_type": "markdown",
      "source": [
        "Task5_0425 주어진 정수 리스트와 회전 횟수 k에 대해 리스트를 오른쪽으로 k만큼 회전시킨 결과를 반환하세요. k가 리스트의 길이보다 클 수 있으며, 이 경우 k를 리스트 길이로 나눈 나머지만큼 실제 회전시키면 됩니다.\n",
        "\n",
        "예를 들어, [1, 2, 3, 4, 5]와 k=2가 주어지면, 결과는 [4, 5, 1, 2, 3]이 되어야 합니다."
      ],
      "metadata": {
        "id": "uXKNaxRlOjyo"
      }
    },
    {
      "cell_type": "code",
      "source": [
        "#Task5 주어진 정수 리스트와 회전 횟수 k에 대해 리스트를 오른쪽으로 k만큼 회전시킨 결과를 반환하세요.\n",
        "#k가 리스트의 길이보다 클 수 있으며, 이 경우 k를 리스트 길이로 나눈 나머지만큼 실제 회전시키면 됩니다.\n",
        "#예를 들어, [1, 2, 3, 4, 5]와 k=2가 주어지면, 결과는 [4, 5, 1, 2, 3]이 되어야 합니다\n",
        "a = [1, 2, 3, 4, 5]\n",
        "def right_rotate(test_list, n):\n",
        "  new_list = [None for _ in range(len(test_list))]\n",
        "\n",
        "  for i in range(len(test_list)):\n",
        "\n",
        "      new_list[i] = test_list[i-n]\n",
        "\n",
        "  return new_list\n",
        "\n",
        "  print(right_rotate(a,2))"
      ],
      "metadata": {
        "id": "2xfem27vOhsR"
      },
      "execution_count": null,
      "outputs": []
    },
    {
      "cell_type": "code",
      "source": [
        "# 오른쪽으로 회전\n",
        "def rotate_list(num, k):\n",
        "  if not nums:\n",
        "    return nums\n",
        "  # 회전 횟수를 리스트 길이로 나눈 나머지로 계산\n",
        "  k = k % len(nums)\n",
        "  # 리스트의 끝부분을 앞으로, 앞부분을 끝으로 옮김\n",
        "  rotated = nums[-k:] + nums[:-k]\n",
        "  return rotated\n",
        "\n",
        "# 리스트 정의\n",
        "nums = [1, 2, 3, 4, 5]\n",
        "k =2\n",
        "# 결과 출력\n",
        "print(rotate_list(nums, k))\n"
      ],
      "metadata": {
        "id": "EeYt5kzwOmlt"
      },
      "execution_count": null,
      "outputs": []
    },
    {
      "cell_type": "code",
      "source": [
        "# 왼쪽으로 회전\n",
        "def rotate_list(num, k):\n",
        "  if not nums:\n",
        "    return nums\n",
        "  # 회전 횟수를 리스트 길이로 나눈 나머지로 계산\n",
        "  k = k % len(nums)\n",
        "  # 리스트의 끝부분을 앞으로, 앞부분을 끝으로 옮김\n",
        "  rotated = nums[k:] + nums[:k]\n",
        "  return rotated\n",
        "\n",
        "# 리스트 정의\n",
        "nums = [1, 2, 3, 4, 5]\n",
        "k = 2\n",
        "\n",
        "\n",
        "# 결과 출력\n",
        "print(rotate_list(nums, k))"
      ],
      "metadata": {
        "id": "KFn0FPXhOooM"
      },
      "execution_count": null,
      "outputs": []
    },
    {
      "cell_type": "markdown",
      "source": [
        "2024년 4월 26일\n",
        "----------------------------------------------------------------------------------------------------------------------------------------------------------------"
      ],
      "metadata": {
        "id": "eHr8APHgOqn3"
      }
    },
    {
      "cell_type": "markdown",
      "source": [
        "Task_0426 주어진 리스트의 총합과 평균을 동시에 반환하는 함수를 작성하세요 numbers = [10,20,30,40,50]"
      ],
      "metadata": {
        "id": "h0RR1tI_PBTc"
      }
    },
    {
      "cell_type": "code",
      "source": [
        "def calculate_sum_and_avg(numbers):\n",
        "\n",
        "# 합계 계산\n",
        "  total = sum(numbers)\n",
        "# 평균 계산\n",
        "  avg = total / len(numbers)\n",
        "  return (total, avg) # 튜플로 총합과 평균 반환\n",
        "\n",
        "numbers = [10, 20, 30, 40, 50]\n",
        "total, avg = calculate_sum_and_avg(numbers)\n",
        "print(f\"총합: {total}, 평균: {avg}\")\n",
        "\n"
      ],
      "metadata": {
        "id": "OZxf8wZKPHuX"
      },
      "execution_count": null,
      "outputs": []
    },
    {
      "cell_type": "markdown",
      "source": [
        "Task_0426 딕셔너리 d에서 'b'의 값을 확인하면서 그 값을 삭제하세요"
      ],
      "metadata": {
        "id": "Co_9iOKuPJug"
      }
    },
    {
      "cell_type": "code",
      "source": [
        "# pop() 함수는 딕셔너리에서 삭제하라는 값을 반환한 후 삭제\n",
        "d = {'a': 1, 'b': 2, 'c': 3, 'd': 4}\n",
        "value = d.pop('b')\n",
        "print(\"삭제 값 : \",value)\n",
        "print(d)"
      ],
      "metadata": {
        "id": "jTdfzvYGPPRT"
      },
      "execution_count": null,
      "outputs": []
    },
    {
      "cell_type": "markdown",
      "source": [
        " Task_0426 다음과 같이 학생의 이름과 점수를 튜플로 묶은 리스트가 있습니다:[(\"Tom\",85),(\"Jane\",90),(\"Bob\",75)]\n",
        "\n",
        "이 리스트를 사용해 학생 이름을 키로, 점수를 값으로 하는 딕셔너리를 생성하고 출력하세요"
      ],
      "metadata": {
        "id": "RLiPuamLPTHv"
      }
    },
    {
      "cell_type": "code",
      "source": [
        "student = (\"Tom\",85),(\"Jane\",90),(\"Bob\",75)\n",
        "\n",
        "student_dict = dict(student)\n",
        "print(student_dict)"
      ],
      "metadata": {
        "id": "6FbMR9J2PdcN"
      },
      "execution_count": null,
      "outputs": []
    },
    {
      "cell_type": "markdown",
      "source": [
        " Tesk_0426 튜플의 불변생 떄문에 튜플은 딕셔너리의 키로 사용될 수 있습니다. 주어진 위치 좌표 리스트에서 각 위치가 몇 번 나타나는지 계산하는 딕셔너리를 만드세요"
      ],
      "metadata": {
        "id": "DVcXGfgWPfQZ"
      }
    },
    {
      "cell_type": "code",
      "source": [
        "# 위치 좌표의 리스트\n",
        "positions = [(1, 1), (2, 2), (1, 1), (3, 3), (2, 2)]\n",
        "\n",
        "# 각 위치의 출현 횟수를 저장할 딕셔너리\n",
        "position_count = {}\n",
        "\n",
        "for pos in positions:\n",
        "  if pos in position_count:\n",
        "      position_count[pos] += 1\n",
        "  else:\n",
        "    position_count[pos] = 1\n",
        "\n",
        "print(position_count)"
      ],
      "metadata": {
        "colab": {
          "base_uri": "https://localhost:8080/"
        },
        "id": "MhaNlyGKPilN",
        "outputId": "7961f841-c8d2-4ba2-c8bf-92402e9381d1"
      },
      "execution_count": null,
      "outputs": [
        {
          "output_type": "stream",
          "name": "stdout",
          "text": [
            "{(1, 1): 2, (2, 2): 2, (3, 3): 1}\n"
          ]
        }
      ]
    },
    {
      "cell_type": "markdown",
      "source": [
        "Task1_0426. 주어진 리스트에서 중복된 요소를 제외하고 고유한 요소의 개수를 세는 프로그램을 작성하세요.\n",
        "\n",
        "data = [1, 2, 2, 3, 4, 4, 4, 5]"
      ],
      "metadata": {
        "id": "swa2n9TYPk19"
      }
    },
    {
      "cell_type": "code",
      "source": [
        "data = [1, 2, 2, 3, 4, 4, 4, 5]\n",
        "\n",
        "result_A = list(set(data))\n",
        "\n",
        "print(len(result_A))"
      ],
      "metadata": {
        "id": "fNWmIFE1PkcW"
      },
      "execution_count": null,
      "outputs": []
    },
    {
      "cell_type": "markdown",
      "source": [
        "Task2_0426. 두 개의 리스트에서 공통으로 나타나는 요소들을 찾아 리스트로 반환하는 프로그램을 작성하세요.\n",
        "\n",
        "예시 입력: list1 = [1, 2, 3, 4, 5], list2 = [4, 5, 6, 7, 8]\n",
        "\n",
        "예시 출력: [4, 5]"
      ],
      "metadata": {
        "id": "HqoHXRvjPrHv"
      }
    },
    {
      "cell_type": "code",
      "source": [
        "list1 = [1, 2, 3, 4, 5]\n",
        "list2 = [4, 5, 6, 7, 8]\n",
        "\n",
        "set1 = set(list1)\n",
        "set2 = set(list2)\n",
        "\n",
        "print(set1 & set2)"
      ],
      "metadata": {
        "colab": {
          "base_uri": "https://localhost:8080/"
        },
        "id": "Unj_iC-GPuHa",
        "outputId": "160155ab-3ced-452c-93ec-6009d705c752"
      },
      "execution_count": null,
      "outputs": [
        {
          "output_type": "stream",
          "name": "stdout",
          "text": [
            "{4, 5}\n"
          ]
        }
      ]
    },
    {
      "cell_type": "markdown",
      "source": [
        "Task3_0426 주어진 숫자 리스트에서 특정 값보다 큰 요소가 하나라도 존재하는지 검사하고, 그 결과를 불 값으로 반환하는 함수를 작성하세요.\n",
        "\n",
        "numbers = [1, 2, 3, 10, 20]\n",
        "threshold = 15"
      ],
      "metadata": {
        "id": "Zb5evqU-Ptvn"
      }
    },
    {
      "cell_type": "code",
      "source": [
        "numbers = [1, 2, 3, 10, 20]\n",
        "threshold = 10\n",
        "\n",
        "for number in numbers:\n",
        "    if threshold < number:\n",
        "        print(bool(1))\n",
        "        break\n",
        "else:\n",
        "    print(bool(0))"
      ],
      "metadata": {
        "colab": {
          "base_uri": "https://localhost:8080/"
        },
        "id": "EB-zh_7SP1xL",
        "outputId": "70674351-9d11-449c-a66f-0a86bac3d15f"
      },
      "execution_count": null,
      "outputs": [
        {
          "output_type": "stream",
          "name": "stdout",
          "text": [
            "True\n"
          ]
        }
      ]
    },
    {
      "cell_type": "code",
      "source": [
        "numbers = [1, 2, 3, 10, 20]\n",
        "\n",
        "if any(num > 15 for num in numbers):\n",
        "  print(\"True\")\n",
        "else:\n",
        "  print(\"False\")"
      ],
      "metadata": {
        "colab": {
          "base_uri": "https://localhost:8080/"
        },
        "id": "b5hvskRgQRRl",
        "outputId": "378c567b-ed6c-4fad-a5d0-f45fe0eb44f0"
      },
      "execution_count": null,
      "outputs": [
        {
          "output_type": "stream",
          "name": "stdout",
          "text": [
            "True\n"
          ]
        }
      ]
    },
    {
      "cell_type": "code",
      "source": [
        "def check_greater_than_threshold(numbers,threshold):\n",
        "  for num in numbers:\n",
        "    if num > threshold:\n",
        "        return True\n",
        "  return False\n",
        "\n",
        "numbers = [1, 2, 3, 10, 20]\n",
        "threshold = 15\n",
        "result = check_greater_than_threshold(numbers,threshold)\n",
        "print(result)"
      ],
      "metadata": {
        "colab": {
          "base_uri": "https://localhost:8080/"
        },
        "id": "lOozLdxyQzIg",
        "outputId": "c2d3cf78-d38d-49e0-9be9-14f6b05100a9"
      },
      "execution_count": null,
      "outputs": [
        {
          "output_type": "stream",
          "name": "stdout",
          "text": [
            "True\n"
          ]
        }
      ]
    },
    {
      "cell_type": "markdown",
      "source": [
        "Task4_0426. 주어진 문자열이 특정 문자열을 포함하는지 확인하고 결과를 불 값으로 반환하는 함수를 작성하세요.\n",
        "\n",
        "text = \"hello world\"\n",
        "substring = \"world"
      ],
      "metadata": {
        "id": "XN-UmG2yP6II"
      }
    },
    {
      "cell_type": "code",
      "source": [
        "text = 'hello world'\n",
        "substring = 'world'\n",
        "\n",
        "if substring in text:\n",
        "    print(bool(1))\n",
        "else:\n",
        "    print(bool(0))"
      ],
      "metadata": {
        "colab": {
          "base_uri": "https://localhost:8080/"
        },
        "id": "8h07lcy7P8nx",
        "outputId": "aa2a6025-6750-4df9-cd0b-626e570b0cd1"
      },
      "execution_count": null,
      "outputs": [
        {
          "output_type": "stream",
          "name": "stdout",
          "text": [
            "True\n"
          ]
        }
      ]
    },
    {
      "cell_type": "code",
      "source": [
        "def contains_substring(text, substring):\n",
        "  if substring in text:\n",
        "    return True\n",
        "  else:\n",
        "    return False\n",
        "\n",
        "text = \"hello world\"\n",
        "substring = \"world\"\n",
        "result = contains_substring(text, substring)\n",
        "print(result)"
      ],
      "metadata": {
        "colab": {
          "base_uri": "https://localhost:8080/"
        },
        "id": "e8cf0jr4TRsz",
        "outputId": "3f30b6b9-39b0-432c-ba02-92a191b17ee6"
      },
      "execution_count": null,
      "outputs": [
        {
          "output_type": "stream",
          "name": "stdout",
          "text": [
            "True\n"
          ]
        }
      ]
    },
    {
      "cell_type": "markdown",
      "source": [
        "사용자 함수의 형태\n",
        "- 입력값, 출력값 모두 있는 경우\n",
        "- 입력값만 있는 경우\n",
        "- 출력값만 있는 경우\n",
        "- 입출력값이 없는 경우"
      ],
      "metadata": {
        "id": "dHS49GnkUhNP"
      }
    },
    {
      "cell_type": "markdown",
      "source": [
        "Task5_0426. 주어진 연도가 윤년인지 판별하는 함수를 작성하세요. 윤년은 다음의 조건을 만족해야 합니다:\n",
        "\n",
        "4로 나누어 떨어진다.\n",
        "100으로 나누어 떨어지지 않거나, 400으로 나누어 떨어지면 윤년이다.\n",
        "year = 2020\n",
        "\n",
        "True"
      ],
      "metadata": {
        "id": "KpG1O6q_P-mw"
      }
    },
    {
      "cell_type": "code",
      "source": [
        "year = 2020\n",
        "\n",
        "if (year % 4 == 0) and ((year % 100 != 0) or (year % 400 == 0)):\n",
        "    print(bool(1))\n",
        "else:\n",
        "    print(bool(0))"
      ],
      "metadata": {
        "id": "fXY33YBpQBF9"
      },
      "execution_count": null,
      "outputs": []
    },
    {
      "cell_type": "code",
      "source": [
        "def is_leep_year(year):\n",
        "    if year % 4 == 0 and (year % 100 != 0 or year % 400 == 0):\n",
        "      return True\n",
        "    else:\n",
        "      return False\n",
        "\n",
        "year = 2020\n",
        "result =is_leep_year(year)\n",
        "print(result)"
      ],
      "metadata": {
        "colab": {
          "base_uri": "https://localhost:8080/"
        },
        "id": "CWuFcVOTY0Qe",
        "outputId": "4d26ee46-f05b-476f-b56f-c28bd5316bf2"
      },
      "execution_count": null,
      "outputs": [
        {
          "output_type": "stream",
          "name": "stdout",
          "text": [
            "True\n"
          ]
        }
      ]
    },
    {
      "cell_type": "code",
      "source": [
        "def is_leep_year(year):\n",
        "    if (not year % 4 ) and ((year % 100) or (not year % 400)):\n",
        "      return True\n",
        "    else:\n",
        "      return False\n",
        "\n"
      ],
      "metadata": {
        "id": "RHuUY1obaW10"
      },
      "execution_count": null,
      "outputs": []
    },
    {
      "cell_type": "markdown",
      "source": [
        "Task6_0426. Calculator 클래스를 작성하고 4칙연산을 수행하는 객체 4개를 작성하여 결과를 출력하세요"
      ],
      "metadata": {
        "id": "SZAsp9oSQp1t"
      }
    },
    {
      "cell_type": "code",
      "source": [
        "class Calculator:\n",
        "  def add(self,n1,n2):\n",
        "    return n1 + n2\n",
        "  def mul(self,n1,n2):\n",
        "    return n1 * n2\n",
        "  def subtract(self,n1,n2):\n",
        "    return n1 - n2\n",
        "  def div(self,n1,n2):\n",
        "    if n2 == 0:\n",
        "      return \"Error\"\n",
        "    else:\n",
        "      return n1 / n2\n",
        "\n",
        "# 덧셈\n",
        "take1 = Calculator()\n",
        "print(take1.add(5, 2))\n",
        "\n",
        "# 곱하기\n",
        "take2 = Calculator()\n",
        "print(take2.mul(5, 2))\n",
        "\n",
        "# 뻴셈\n",
        "take3 = Calculator()\n",
        "print(take3.subtract(5, 2))\n",
        "\n",
        "# 나눗셈\n",
        "take4 = Calculator()\n",
        "print(take4.div(10, 2))"
      ],
      "metadata": {
        "colab": {
          "base_uri": "https://localhost:8080/"
        },
        "id": "VrpGOakfQr5u",
        "outputId": "93ca22f1-eb5f-48ff-8809-b51a256bf436"
      },
      "execution_count": null,
      "outputs": [
        {
          "output_type": "stream",
          "name": "stdout",
          "text": [
            "7\n",
            "10\n",
            "3\n",
            "5.0\n"
          ]
        }
      ]
    },
    {
      "cell_type": "markdown",
      "source": [
        "Task7_0426. 다음 과제를 수행하세요.\n",
        "\n",
        "사용자로 부터 텍스트를 입력 받는다.\n",
        "문자을 단어 단위로 분리 : split()\n",
        "단어의 빈도수를 저장할 딕셔너리를 생성\n",
        "각 단어의 빈도 수를 계산(for 문 / if else문): word=word.lower()\n",
        "결과 출력\n",
        "[ 예시 ]\n",
        "\n",
        "문장을 입력하세요: I love apple. I love orange. Apple is tasty\n",
        "\n",
        "{'i': 2, 'love': 2, 'apple.': 1, 'orange.': 1, 'apple': 1, 'is': 1, 'tasty': 1}"
      ],
      "metadata": {
        "id": "VrlOzSIYQss_"
      }
    },
    {
      "cell_type": "code",
      "source": [
        "text = input(\"문장을 입력하세요: \")\n",
        "words = text.split()\n",
        "word_frequency = {}\n",
        "for word in words:\n",
        "    if word in word_frequency:\n",
        "        word_frequency[word] += 1\n",
        "    else:\n",
        "        word_frequency[word] = 1\n",
        "\n",
        "print(word_frequency)"
      ],
      "metadata": {
        "colab": {
          "base_uri": "https://localhost:8080/"
        },
        "id": "0ULyTmDTcPgC",
        "outputId": "acc21785-839c-4d3c-9a15-8d7812a437ab"
      },
      "execution_count": null,
      "outputs": [
        {
          "output_type": "stream",
          "name": "stdout",
          "text": [
            "문장을 입력하세요: I love apple. I love orange. Apple is tasty\n",
            "{'I': 2, 'love': 2, 'apple.': 1, 'orange.': 1, 'Apple': 1, 'is': 1, 'tasty': 1}\n"
          ]
        }
      ]
    },
    {
      "cell_type": "code",
      "source": [
        "# 사용자로부터 문장을 입력 받습니다\n",
        "sentence = input(\"문장을 입력하세요:\")\n",
        "# 문장을 단어 단위로 분리합니다\n",
        "word = sentence.split()\n",
        "# 단어의 빈도수를 저장할 딕셔너리를 생성합니다\n",
        "word_frequency = {}\n",
        "# 각 단어의 빈도수를 계산합니다\n",
        "for word in words:\n",
        "    # 대소문자를 구분하지 않기 위해 단어를 소문자로 변환합니다\n",
        "    word = word.lower() # upper() 대문자로 변경\n",
        "    # 딕셔너리에 단어가 이미 존재한다면 빈도수를 1 증가시키고, 존재하지 않는다면 새로운 항목으로 추가합니다\n",
        "    if word in word_frequency:\n",
        "        word_frequency[word] += 1\n",
        "    else:\n",
        "        word_frequency[word] = 1\n",
        "# 결과를 출력합니다\n",
        "print(word_frequency)\n",
        "# I love apple. I love orange. Apple is tasty"
      ],
      "metadata": {
        "colab": {
          "base_uri": "https://localhost:8080/"
        },
        "id": "AAejIKW3fyWI",
        "outputId": "17d945d2-d362-450d-d6bb-9773a62c3cfa"
      },
      "execution_count": null,
      "outputs": [
        {
          "output_type": "stream",
          "name": "stdout",
          "text": [
            "문장을 입력하세요:huhhjhj\n",
            "{'i': 2, 'love': 2, 'apple.': 1, 'orange.': 1, 'apple': 1, 'is': 1, 'tasty': 1, 'apple ': 1, ' banana ': 1, ' orange': 1}\n"
          ]
        }
      ]
    },
    {
      "cell_type": "markdown",
      "source": [
        "2024년 4월 29일\n",
        "----------------------------------------------------------------------------------------------------------------------------------------------------------------"
      ],
      "metadata": {
        "id": "oyzVb12eod31"
      }
    },
    {
      "cell_type": "markdown",
      "source": [
        "Task1_0429. input_str을 아래와 같이 단어로 분리하여 출력하세요.\n",
        "\n",
        "input_str = \"Hello, world! How are you today? I am fine. Thank you!\"\n",
        "\n",
        "['Hello', 'world', 'How', 'are', 'you', 'today', 'I', 'am', 'fine', 'Thank', 'you', '']"
      ],
      "metadata": {
        "id": "XhCWFD-nohCg"
      }
    },
    {
      "cell_type": "code",
      "source": [
        "text = input(\"단어 입력 \")\n",
        "words = text.split()\n",
        "print(words)"
      ],
      "metadata": {
        "id": "u4u-cd6eosYa",
        "colab": {
          "base_uri": "https://localhost:8080/"
        },
        "outputId": "c47c087e-4ee1-4709-bb25-4c19a396a29a"
      },
      "execution_count": null,
      "outputs": [
        {
          "output_type": "stream",
          "name": "stdout",
          "text": [
            "단어 입력Hello, world! How are you today? I am fine. Thank you!\n",
            "['Hello,', 'world!', 'How', 'are', 'you', 'today?', 'I', 'am', 'fine.', 'Thank', 'you!']\n"
          ]
        }
      ]
    },
    {
      "cell_type": "code",
      "source": [
        "import re\n",
        "\n",
        "input_str =  \"Hello, world! How are you today? I am fine. Thank you!\"\n",
        "# 여러 구분자(공백, 쉼표, 마침표, 느낌표)를 포함하는 정규 표현식을 사용\n",
        "tokens = re.split('[ ..?!]+',input_str)\n",
        "print(tokens)"
      ],
      "metadata": {
        "colab": {
          "base_uri": "https://localhost:8080/"
        },
        "id": "BugMMV_OX6Fk",
        "outputId": "054262de-0f82-4cc5-f36c-aa2c42325c39"
      },
      "execution_count": null,
      "outputs": [
        {
          "output_type": "stream",
          "name": "stdout",
          "text": [
            "['Hello,', 'world', 'How', 'are', 'you', 'today', 'I', 'am', 'fine', 'Thank', 'you', '']\n"
          ]
        }
      ]
    },
    {
      "cell_type": "code",
      "source": [
        "import re\n",
        "\n",
        "input_str =  \"Hello, world! How are you today? I am fine. Thank you!\"\n",
        "tokens = re.split('[ ..?!]+',input_str)\n",
        "tokens =  [token for token in tokens if token ]\n",
        "print(tokens)"
      ],
      "metadata": {
        "colab": {
          "base_uri": "https://localhost:8080/"
        },
        "id": "yI_bnpwliFtm",
        "outputId": "ef79216e-2c87-460f-c2d6-1f8ffe376a72"
      },
      "execution_count": null,
      "outputs": [
        {
          "output_type": "stream",
          "name": "stdout",
          "text": [
            "['Hello,', 'world', 'How', 'are', 'you', 'today', 'I', 'am', 'fine', 'Thank', 'you']\n"
          ]
        }
      ]
    },
    {
      "cell_type": "code",
      "source": [
        "import re\n",
        "\n",
        "input_str =  \"Hello, world! How are you today? I am fine. Thank you!\"\n",
        "tokens = re.split('[ ..?!]+',input_str)\n",
        "tokens =  list(filter(None, tokens))\n",
        "print(tokens)"
      ],
      "metadata": {
        "colab": {
          "base_uri": "https://localhost:8080/"
        },
        "id": "RAWfb5a5ht-u",
        "outputId": "0521d426-0f90-4c66-9629-d2d01d02a37f"
      },
      "execution_count": null,
      "outputs": [
        {
          "output_type": "stream",
          "name": "stdout",
          "text": [
            "['Hello,', 'world', 'How', 'are', 'you', 'today', 'I', 'am', 'fine', 'Thank', 'you']\n"
          ]
        }
      ]
    },
    {
      "cell_type": "markdown",
      "source": [
        "Task2_0429. 십진수 122를 2진수, 8진수, 16진수로 변경하여 출력하세요."
      ],
      "metadata": {
        "id": "DBF5cdNl69ZO"
      }
    },
    {
      "cell_type": "code",
      "source": [
        "print(122)\n",
        "print(0b1111010)\n",
        "print(0o122)\n",
        "print(0x122)\n",
        "\n"
      ],
      "metadata": {
        "id": "FJ0eF_u-6wKI"
      },
      "execution_count": null,
      "outputs": []
    },
    {
      "cell_type": "code",
      "source": [
        "decimal_number = 122\n",
        "binary_number = bin(decimal_number)\n",
        "print(\"2진수 : \", binary_number)\n",
        "\n",
        "ootal_number = oct(decimal_number)\n",
        "print(\"8진수 : \", ootal_number)\n",
        "\n",
        "hexadecimal_number = hex(decimal_number)\n",
        "print(\"16진수 : \", hexadecimal_number)"
      ],
      "metadata": {
        "colab": {
          "base_uri": "https://localhost:8080/"
        },
        "id": "GH86GSw5ZoEA",
        "outputId": "6a0ff07a-a1ea-4e9a-e57a-b7c91547fd5f"
      },
      "execution_count": null,
      "outputs": [
        {
          "output_type": "stream",
          "name": "stdout",
          "text": [
            "2진수 :  0b1111010\n",
            "8진수 :  0o172\n",
            "16진수 :  0x7a\n"
          ]
        }
      ]
    },
    {
      "cell_type": "markdown",
      "source": [
        "Task3_0429. 두 수의 곱셈 결과를 계산하고, 그 결과에 10을 더하세요."
      ],
      "metadata": {
        "id": "si18zdMy7v8y"
      }
    },
    {
      "cell_type": "code",
      "source": [
        "x = 10\n",
        "y = 11\n",
        "result = x * y + 10\n",
        "print(result)"
      ],
      "metadata": {
        "id": "bWXiyDoT70bT",
        "colab": {
          "base_uri": "https://localhost:8080/"
        },
        "outputId": "246f39e0-cc32-4d6c-e9b7-b8640bc379a3"
      },
      "execution_count": null,
      "outputs": [
        {
          "output_type": "stream",
          "name": "stdout",
          "text": [
            "120\n"
          ]
        }
      ]
    },
    {
      "cell_type": "markdown",
      "source": [
        "Task4_0429. 주어진 리스트에서 두 번째 요소를 삭제하고, 마지막에 새로운 요소 'Python'을 추가하세요.\n",
        "\n",
        "리스트: ['Java', 'C', 'JavaScript']"
      ],
      "metadata": {
        "id": "PaxXx13N70qK"
      }
    },
    {
      "cell_type": "code",
      "source": [
        "list1 = ['Java', 'C', 'JavaScript']\n",
        "\n",
        "del list1[1]\n",
        "print(list1)\n",
        "\n",
        "list1.append('Python')\n",
        "print(list1)"
      ],
      "metadata": {
        "id": "YJAyzRy7IZNY",
        "colab": {
          "base_uri": "https://localhost:8080/"
        },
        "outputId": "cd3066c3-e1f1-4aa6-e7b1-a25f2ece4080"
      },
      "execution_count": null,
      "outputs": [
        {
          "output_type": "stream",
          "name": "stdout",
          "text": [
            "['Java', 'JavaScript']\n",
            "['Java', 'JavaScript', 'Python']\n"
          ]
        }
      ]
    },
    {
      "cell_type": "code",
      "source": [
        "languages = ['java', 'c', 'JavaScript']\n",
        "print(languages.pop(1))\n",
        "languages.append('Python')\n",
        "print(languages)"
      ],
      "metadata": {
        "colab": {
          "base_uri": "https://localhost:8080/"
        },
        "id": "Z7PDo7XBcrdV",
        "outputId": "939108b5-391d-4d40-d2a5-3c2908e46773"
      },
      "execution_count": null,
      "outputs": [
        {
          "output_type": "stream",
          "name": "stdout",
          "text": [
            "c\n",
            "['java', 'JavaScript', 'Python']\n"
          ]
        }
      ]
    },
    {
      "cell_type": "markdown",
      "source": [
        "Task5_0429. 주어진 문자열에서 처음 세 글자와 마지막 세 글자를 연결하여 새로운 문자열을 만드세요.\n",
        "\n",
        "문자열: 'Incredible'"
      ],
      "metadata": {
        "id": "cAFtPcHE71xh"
      }
    },
    {
      "cell_type": "code",
      "source": [
        "str1 = \"Incredible\"\n",
        "str = str1[:3]+str1[-3:]\n",
        "print(str)"
      ],
      "metadata": {
        "id": "0U0XNPcCNrGw",
        "colab": {
          "base_uri": "https://localhost:8080/"
        },
        "outputId": "300e082f-2076-4474-984b-f38aee076fd6"
      },
      "execution_count": null,
      "outputs": [
        {
          "output_type": "stream",
          "name": "stdout",
          "text": [
            "Incble\n"
          ]
        }
      ]
    },
    {
      "cell_type": "markdown",
      "source": [
        "Task6_0429. 사용자의 이름과 이메일을 딕셔너리로 저장하고, 이름을 입력받아 해당하는 이메일을 출력하세요.\n",
        "\n",
        "사용자 정보: 이름 - 'Alice', 이메일 - 'alice@example.com'"
      ],
      "metadata": {
        "id": "0ZZfx38N75Bp"
      }
    },
    {
      "cell_type": "code",
      "source": [
        "user = {'Alice':'alice@example.com' }\n",
        "name = input('이름을 입력 ')\n",
        "if name in user.keys():\n",
        "    print(name, ' ',user[name], ' ')\n",
        "else:\n",
        "    print('해당 사람이 없습니다.')\n",
        "\n"
      ],
      "metadata": {
        "id": "OFu1Yqt376du",
        "colab": {
          "base_uri": "https://localhost:8080/"
        },
        "outputId": "b1d4eff7-3508-4e7b-e0c4-2d032ebda644"
      },
      "execution_count": null,
      "outputs": [
        {
          "output_type": "stream",
          "name": "stdout",
          "text": [
            "이름을 입력 Alice\n",
            "Alice   alice@example.com  \n"
          ]
        }
      ]
    },
    {
      "cell_type": "markdown",
      "source": [
        "Task7_0429. 주어진 두 튜플에서 공통 요소만을 찾아 집합으로 만드세요.\n",
        "\n",
        "튜플: (1, 2, 3, 4, 5)와 (4, 5, 6, 7, 8)"
      ],
      "metadata": {
        "id": "AM09Yy5c7_Ue"
      }
    },
    {
      "cell_type": "code",
      "source": [
        "tuple1 = (1,2,3,4,5)\n",
        "tuple2 = (4,5,6,7,8)\n",
        "\n",
        "t1 = set(tuple1)\n",
        "t2 = set(tuple2)\n",
        "\n",
        "print(t1 & t2)"
      ],
      "metadata": {
        "colab": {
          "base_uri": "https://localhost:8080/"
        },
        "id": "z8Mdv7F8Os3Z",
        "outputId": "f9a321d9-15e2-4985-8ae1-d5658cbe7956"
      },
      "execution_count": null,
      "outputs": [
        {
          "output_type": "stream",
          "name": "stdout",
          "text": [
            "{4, 5}\n"
          ]
        }
      ]
    },
    {
      "cell_type": "markdown",
      "source": [
        "Task8_Challenge_0429. 다음 요구 사항을 충족하는 프로그램을 작성하세요:\n",
        "\n",
        "- 사용자로부터 이름, 나이, 좋아하는 색상을 입력받습니다.\n",
        "- 입력받은 정보를 딕셔너리로 저장하고, 모든 사용자 정보를 리스트에 저장합니다.\n",
        "- 이름이 'John'인 사용자의 정보만 출력하세요.\n",
        "- 전체 사용자의 평균 나이를 계산하고 출력하세요.\n",
        "1. 사용자 데이터:\n",
        "- 이름: John\n",
        "- 나이: 28\n",
        "- 좋아하는 색상: Blue\n",
        "2. 사용자 데이터:\n",
        "- 이름: Alice\n",
        "- 나이: 24\n",
        "- 좋아하는 색상: Red\n",
        "3. 사용자 데이터:\n",
        "- 이름: Maria\n",
        "- 나이: 32\n",
        "- 좋아하는 색상: Green"
      ],
      "metadata": {
        "id": "w2RKtXi38CG6"
      }
    },
    {
      "cell_type": "code",
      "source": [
        "users = []\n",
        "\n",
        "for _ in range(3):\n",
        "\n",
        "  name = input(\"이름 입력 : \")\n",
        "  age = int(input(\"나이 입력 : \"))\n",
        "  color = input(\"좋아하는 색상 입력 : \")\n",
        "\n",
        "  user_info = {'name' : name, 'age' : age, 'color' : color }\n",
        "  users.append(user_info)\n",
        "\n",
        "for user in users:\n",
        "  if user[ 'name' ] == 'John':\n",
        "    print(f'John\\'s info: {user}')\n",
        "\n",
        "total_avg = sum(user['age'] for user in users)\n",
        "average_avg = total_avg / len(users)\n",
        "\n",
        "print(f'Average age of users : {average_avg: 2f}')\n",
        "\n"
      ],
      "metadata": {
        "colab": {
          "base_uri": "https://localhost:8080/"
        },
        "id": "lhIQSuOg2B_H",
        "outputId": "99e1212f-b98b-4098-c097-dc1a5e2833c4"
      },
      "execution_count": null,
      "outputs": [
        {
          "output_type": "stream",
          "name": "stdout",
          "text": [
            "이름 입력 : Jone\n",
            "나이 입력 : 28\n",
            "좋아하는 색상 입력 : Blue\n",
            "이름 입력 : Alice\n",
            "나이 입력 : 24\n",
            "좋아하는 색상 입력 : Red\n",
            "이름 입력 : Maria\n",
            "나이 입력 : 32\n",
            "좋아하는 색상 입력 : Green\n",
            "Average age of users :  28.000000\n"
          ]
        }
      ]
    },
    {
      "cell_type": "markdown",
      "source": [
        "## 2024년 4월 30일"
      ],
      "metadata": {
        "id": "78jUDtbjzch-"
      }
    },
    {
      "cell_type": "markdown",
      "source": [
        "Task1_0430. 남녀 파트너 정해주기 프로그램(zip)\n",
        "\n",
        "같은 수의 남녀 모임에서 파트너를 랜덤하게 정해주는 프로그램을 만들어 보세요\n",
        "\n",
        "male = ['철수','갑돌','로미오','이몽룡','온돌']\n",
        "\n",
        "female = ['미미','갑순','줄리엣','성춘향','평강']"
      ],
      "metadata": {
        "id": "Kqye0UtizalY"
      }
    },
    {
      "cell_type": "code",
      "source": [
        "import random\n",
        "\n",
        "male = ['철수','갑돌','로미오','이몽룡','온돌']\n",
        "female = ['미미','갑순','줄리엣','성춘향','평강']\n",
        "\n",
        "random.shuffle(male)\n",
        "random.shuffle(female)\n",
        "\n",
        "full = [male + \", \" + female for male, female in zip(male, female)]\n",
        "\n",
        "print(full)\n",
        "\n",
        "for i, full in enumerate(full):\n",
        "  print(f'커플{i+1}: {full[0], {full[1]}}')"
      ],
      "metadata": {
        "colab": {
          "base_uri": "https://localhost:8080/"
        },
        "id": "u6Dfq7UQ0KYa",
        "outputId": "df08c2b0-ab7c-4474-c92d-d058cab24297"
      },
      "execution_count": null,
      "outputs": [
        {
          "output_type": "stream",
          "name": "stdout",
          "text": [
            "['온돌, 갑순', '갑돌, 줄리엣', '철수, 평강', '로미오, 미미', '이몽룡, 성춘향']\n",
            "커플1: ('온', {'돌'})\n",
            "커플2: ('갑', {'돌'})\n",
            "커플3: ('철', {'수'})\n",
            "커플4: ('로', {'미'})\n",
            "커플5: ('이', {'몽'})\n"
          ]
        }
      ]
    },
    {
      "cell_type": "markdown",
      "source": [
        "Task2_0430. 대문자, 소문자, 숫자를 포함하는 8자리 랜덤 비밀번호를 생성하는 프로그램을 작성하세요."
      ],
      "metadata": {
        "id": "m7LU0kIKzg5E"
      }
    },
    {
      "cell_type": "code",
      "source": [
        "import random\n",
        "import string # 문자열 상수를 제공하는 모듈로, 여기서는 알파벳 문자와 숫자를 포함\n",
        "\n",
        "characters = string.ascii_letters + string.digits # 모든 소문자와 대문자 알파벳을 포함( a - z , A - Z )\n",
        "password = ''.join(random.choice(characters) for i in range(8))\n",
        "print(\"랜덤 비밀번호 : \" , password)\n"
      ],
      "metadata": {
        "id": "2UmHwbSL1SNy",
        "colab": {
          "base_uri": "https://localhost:8080/"
        },
        "outputId": "8c832ab9-b490-404b-c085-1d43c8bb5f7b"
      },
      "execution_count": null,
      "outputs": [
        {
          "output_type": "stream",
          "name": "stdout",
          "text": [
            "랜덤 비밀번호 :  M2jyHzOd\n"
          ]
        }
      ]
    },
    {
      "cell_type": "code",
      "source": [
        "# 대문자, 소문자, 숫자가 한번씩은 반드시 포함되야 하는 경우\n",
        "\n",
        "import random\n",
        "import string\n",
        "\n",
        "upper = random.choice(string.ascii_uppercase)\n",
        "lower = random.choice(string.ascii_lowercase)\n",
        "digit = random.choice(string.digits)\n",
        "\n",
        "characters = string.ascii_letters + string.digits\n",
        "rest = ''.join(random.choice(characters) for i in range(5))\n",
        "\n",
        "# 모든 요소를 하나의 문자열로 합치기\n",
        "password = upper + lower + digit + rest\n",
        "\n",
        "# 비밀번호 임의로 찾기\n",
        "print(password)\n",
        "password = ''.join(random.sample(password, len(password))) # (선택할 시퀀스, 선택할 요소)\n",
        "print(\"랜덤 비밀번호 : \" , password)"
      ],
      "metadata": {
        "colab": {
          "base_uri": "https://localhost:8080/"
        },
        "id": "vxBFlTfy0ydK",
        "outputId": "e4cd36ec-3319-4aa5-9a1e-eea200311df7"
      },
      "execution_count": null,
      "outputs": [
        {
          "output_type": "stream",
          "name": "stdout",
          "text": [
            "Fe4BQ96z\n",
            "랜덤 비밀번호 :  e9z6QB4F\n"
          ]
        }
      ]
    },
    {
      "cell_type": "markdown",
      "source": [
        "Task3_0430. 발표자 수를 랜덤하게 출력하는 프로그램을 작성하세요.(발표자 수 입력)\n",
        "\n",
        "kita = ['김성현','황강민','윤호준','류윤선','이상협','박지환','최환욱','서보선','김한결','김도현','김하준',\n",
        "        '김도원','신현진','소지승','이범석','이현석','이명신','박윤경','이도헌','김홍준']"
      ],
      "metadata": {
        "id": "1yCtS1vMziSp"
      }
    },
    {
      "cell_type": "code",
      "source": [
        "import random\n",
        "\n",
        "kita = ['김성현','황강민','윤호준','류윤선','이상협','박지환','최환욱','서보선','김한결','김도현','김하준', '김도원','신현진','소지승','이범석','이현석','이명신','박윤경','이도헌','김홍준']\n",
        "\n",
        "num = int(input(\"발표자 수  > \"))\n",
        "ans = random.sample(kita, num) # 중복 없이 요소를 선택\n",
        "print(ans)"
      ],
      "metadata": {
        "colab": {
          "base_uri": "https://localhost:8080/"
        },
        "id": "QZcH96FI2KRC",
        "outputId": "ad950a2b-5177-46c8-e368-8e42465cc32b"
      },
      "execution_count": null,
      "outputs": [
        {
          "output_type": "stream",
          "name": "stdout",
          "text": [
            "발표자 수  > 8\n",
            "['류윤선', '김홍준', '김한결', '박지환', '김하준', '이현석', '윤호준', '김성현']\n"
          ]
        }
      ]
    },
    {
      "cell_type": "markdown",
      "source": [
        "Task4_0430. 사용자로부터 숫자를 입력받아 해당 숫자의 구구단을 출력하는 프로그램을 작성하세요."
      ],
      "metadata": {
        "id": "nZqpVPJNzlj8"
      }
    },
    {
      "cell_type": "code",
      "source": [
        "num = int(input(\"숫자 입력: \"))\n",
        "\n",
        "for i in range(1, 10):\n",
        "    print(f'{num} x {i} = {num * i}')"
      ],
      "metadata": {
        "colab": {
          "base_uri": "https://localhost:8080/"
        },
        "id": "nZZ7ZH487E_0",
        "outputId": "495d1eb1-48a8-45c5-e467-940bcbaf6231"
      },
      "execution_count": null,
      "outputs": [
        {
          "output_type": "stream",
          "name": "stdout",
          "text": [
            "숫자 입력: 7\n",
            "7 x 1 = 7\n",
            "7 x 2 = 14\n",
            "7 x 3 = 21\n",
            "7 x 4 = 28\n",
            "7 x 5 = 35\n",
            "7 x 6 = 42\n",
            "7 x 7 = 49\n",
            "7 x 8 = 56\n",
            "7 x 9 = 63\n"
          ]
        }
      ]
    },
    {
      "cell_type": "code",
      "source": [
        "# 구구단 전부 출력\n",
        "\n",
        "for i in range(2, 10):\n",
        "  for j in range(1, 10):\n",
        "    print(f'{i} x {j} = {i * j}')\n",
        "  print('\\n')"
      ],
      "metadata": {
        "id": "6WT3u8Pw7Y2i"
      },
      "execution_count": null,
      "outputs": []
    },
    {
      "cell_type": "markdown",
      "source": [
        "f - string내에서 { }안에는 변수 뿐만 아니라 Python 표현식도 올 수 있음\n",
        "\n",
        "\n"
      ],
      "metadata": {
        "id": "mjr2JfP-Fhs8"
      }
    },
    {
      "cell_type": "code",
      "source": [
        "# 구구단 횡 방향 출력\n",
        "\n",
        "for i in range(2, 10): # 2단 부터 9단 까지\n",
        "  # 각 단위 이름 중간에 출력\n",
        "  print(f\"{' '*5}{i}단{' '*5}\", end=\"\\t\") # 중간에 각 단의 이름을 출력\n",
        "print()\n",
        "\n",
        "# 구분선 추가\n",
        "for i in range(2, 10):\n",
        "  print(\"=\"*12, end=\"\\t\") # 각 단마다 구분선을 출력\n",
        "print()\n",
        "\n",
        "for j in range(1, 10):\n",
        "  for i in range(2, 10):\n",
        "    print(f'{i} x {j} = {i * j}', end ='\\t')\n",
        "  print()"
      ],
      "metadata": {
        "colab": {
          "base_uri": "https://localhost:8080/"
        },
        "id": "TCNWhc3F9-GA",
        "outputId": "8916647d-9d5b-4a33-f9d5-2bf59a55ee93"
      },
      "execution_count": null,
      "outputs": [
        {
          "output_type": "stream",
          "name": "stdout",
          "text": [
            "     2단     \t     3단     \t     4단     \t     5단     \t     6단     \t     7단     \t     8단     \t     9단     \t\n",
            "============\t============\t============\t============\t============\t============\t============\t============\t\n",
            "2 x 1 = 2\t3 x 1 = 3\t4 x 1 = 4\t5 x 1 = 5\t6 x 1 = 6\t7 x 1 = 7\t8 x 1 = 8\t9 x 1 = 9\t\n",
            "2 x 2 = 4\t3 x 2 = 6\t4 x 2 = 8\t5 x 2 = 10\t6 x 2 = 12\t7 x 2 = 14\t8 x 2 = 16\t9 x 2 = 18\t\n",
            "2 x 3 = 6\t3 x 3 = 9\t4 x 3 = 12\t5 x 3 = 15\t6 x 3 = 18\t7 x 3 = 21\t8 x 3 = 24\t9 x 3 = 27\t\n",
            "2 x 4 = 8\t3 x 4 = 12\t4 x 4 = 16\t5 x 4 = 20\t6 x 4 = 24\t7 x 4 = 28\t8 x 4 = 32\t9 x 4 = 36\t\n",
            "2 x 5 = 10\t3 x 5 = 15\t4 x 5 = 20\t5 x 5 = 25\t6 x 5 = 30\t7 x 5 = 35\t8 x 5 = 40\t9 x 5 = 45\t\n",
            "2 x 6 = 12\t3 x 6 = 18\t4 x 6 = 24\t5 x 6 = 30\t6 x 6 = 36\t7 x 6 = 42\t8 x 6 = 48\t9 x 6 = 54\t\n",
            "2 x 7 = 14\t3 x 7 = 21\t4 x 7 = 28\t5 x 7 = 35\t6 x 7 = 42\t7 x 7 = 49\t8 x 7 = 56\t9 x 7 = 63\t\n",
            "2 x 8 = 16\t3 x 8 = 24\t4 x 8 = 32\t5 x 8 = 40\t6 x 8 = 48\t7 x 8 = 56\t8 x 8 = 64\t9 x 8 = 72\t\n",
            "2 x 9 = 18\t3 x 9 = 27\t4 x 9 = 36\t5 x 9 = 45\t6 x 9 = 54\t7 x 9 = 63\t8 x 9 = 72\t9 x 9 = 81\t\n"
          ]
        }
      ]
    },
    {
      "cell_type": "markdown",
      "source": [
        "Task5_0430. 사용자로부터 숫자를 입력받아 해당 숫자의 팩토리얼을 계산하세요."
      ],
      "metadata": {
        "id": "tjRJyCiZzntb"
      }
    },
    {
      "cell_type": "code",
      "source": [
        "\n",
        "num = int(input(\"팩토리얼을 계산할 숫자를 입력 : \"))\n",
        "\n",
        "factorial = 1\n",
        "\n",
        "for i in range(1, num + 1):\n",
        "  factorial *= i\n",
        "print(f\"{num}의 팩토리얼은 {factorial}입니다\")"
      ],
      "metadata": {
        "id": "iNoJsrvP8ER9",
        "colab": {
          "base_uri": "https://localhost:8080/"
        },
        "outputId": "1cc9c18b-fd32-4487-ae90-7752b73c9b17"
      },
      "execution_count": null,
      "outputs": [
        {
          "output_type": "stream",
          "name": "stdout",
          "text": [
            "팩토리얼을 계산할 숫자를 입력 : 10\n",
            "10의 팩토리얼은 3628800입니다\n"
          ]
        }
      ]
    },
    {
      "cell_type": "markdown",
      "source": [
        "Task6_0430. 0부터 20까지의 숫자 중에서 짝수와 홀수를 분리하여 두 개의 리스트에 저장하세요."
      ],
      "metadata": {
        "id": "HCSfmnRbzvpu"
      }
    },
    {
      "cell_type": "code",
      "source": [
        "num1 = []\n",
        "num2 = []\n",
        "\n",
        "for i in range(21):\n",
        "  if i % 2 == 0:\n",
        "    num1.append(i)\n",
        "  else:\n",
        "    num2.append(i)\n",
        "\n",
        "print(num1)\n",
        "print(num2)"
      ],
      "metadata": {
        "id": "GJtPG9bR8D92",
        "colab": {
          "base_uri": "https://localhost:8080/"
        },
        "outputId": "1640929c-7db2-4a53-9ac0-a7846a932601"
      },
      "execution_count": null,
      "outputs": [
        {
          "output_type": "stream",
          "name": "stdout",
          "text": [
            "[0, 2, 4, 6, 8, 10, 12, 14, 16, 18, 20]\n",
            "[1, 3, 5, 7, 9, 11, 13, 15, 17, 19]\n"
          ]
        }
      ]
    },
    {
      "cell_type": "markdown",
      "source": [
        "Task7_0430. 주어진 리스트에서 최대값을 찾아 출력하세요.\n",
        "numbers = [34, 78, 2, 45, 99, 23]"
      ],
      "metadata": {
        "id": "c62Xx8JHzxk2"
      }
    },
    {
      "cell_type": "code",
      "source": [
        " numbers = [34, 78, 2, 45, 99, 23]\n",
        "\n",
        "max = 0\n",
        "for i in numbers:\n",
        "  if i > max:\n",
        "    max = i\n",
        "print(max)"
      ],
      "metadata": {
        "colab": {
          "base_uri": "https://localhost:8080/"
        },
        "id": "v50Umn_HIgkT",
        "outputId": "d685583a-3d28-4e94-8647-f5f65aa6ff04"
      },
      "execution_count": null,
      "outputs": [
        {
          "output_type": "stream",
          "name": "stdout",
          "text": [
            "99\n"
          ]
        }
      ]
    },
    {
      "cell_type": "code",
      "source": [
        " numbers = [34, 78, 2, 45, 99, 23]\n",
        "\n",
        " max(numbers)"
      ],
      "metadata": {
        "colab": {
          "base_uri": "https://localhost:8080/"
        },
        "id": "WHP9yqOA8Dm8",
        "outputId": "ae6dc733-f7f9-456a-8f46-4aeca9b493b6"
      },
      "execution_count": null,
      "outputs": [
        {
          "output_type": "execute_result",
          "data": {
            "text/plain": [
              "99"
            ]
          },
          "metadata": {},
          "execution_count": 34
        }
      ]
    },
    {
      "cell_type": "markdown",
      "source": [
        "Task8_0430.  1부터 10 사이의 임의의 숫자를 맞추는 게임을 만드세요. 사용자가 숫자를 맞출 때까지 입력을 계속 받으며, 정답을 맞추면 게임을 종료하세요."
      ],
      "metadata": {
        "id": "PhvSebZXzzEg"
      }
    },
    {
      "cell_type": "code",
      "source": [
        "#  숫자 맞추기 게임\n",
        "import random\n",
        "\n",
        "target_number = random.randint(1, 10)\n",
        "\n",
        "while True:\n",
        "  guess = int(input(\"1부터 10 사이의 숫자를 맞춰보세요 \"))\n",
        "  if guess > target_number:\n",
        "    print(\"더 작은 숫자\")\n",
        "  elif guess < target_number:\n",
        "      print(\"더 큰 숫자\")\n",
        "  else:\n",
        "    print(\"정답\")\n",
        "    break\n"
      ],
      "metadata": {
        "id": "vMpUc_7i8Fee",
        "colab": {
          "base_uri": "https://localhost:8080/"
        },
        "outputId": "598b0263-0b12-4fda-8ac4-596dc95300f9"
      },
      "execution_count": null,
      "outputs": [
        {
          "output_type": "stream",
          "name": "stdout",
          "text": [
            "1부터 10 사이의 숫자를 맞춰보세요 6\n",
            "정답\n"
          ]
        }
      ]
    },
    {
      "cell_type": "markdown",
      "source": [
        "Task9_0430. 태어난 연도를 입력받아 띠를 출력하는 프로그램을 작성하세요."
      ],
      "metadata": {
        "id": "vTiBD1ytz0XM"
      }
    },
    {
      "cell_type": "code",
      "source": [
        "birth_year = int(input(\"태어난 연도를 입력하세요 \"))\n",
        "\n",
        "zodiacs = [\"쥐\", \"소\", \"호랑이\", \"토끼\", \"용\", \"뱀\", \"말\", \"양\", \"원숭이\", \"닭\", \"개\", \"돼지\"]\n",
        "\n",
        "zodiac_index = (birth_year - 1924) % 12\n",
        "zodiac = zodiacs[zodiac_index]\n",
        "\n",
        "print(f'{birth_year}년은 {zodiac}띠입니다')"
      ],
      "metadata": {
        "colab": {
          "base_uri": "https://localhost:8080/"
        },
        "id": "Ud1IKec7LA7o",
        "outputId": "3f64ad71-830c-4e3d-f807-88b57c3c5096"
      },
      "execution_count": null,
      "outputs": [
        {
          "output_type": "stream",
          "name": "stdout",
          "text": [
            "태어난 연도를 입력하세요 1998\n",
            "1998년은 호랑이띠입니다\n"
          ]
        }
      ]
    },
    {
      "cell_type": "code",
      "source": [
        "y = [\"원숭이\", \"닭\", \"개\", \"돼지\", \"쥐\", \"소\", \"호랑이\", \"토끼\", \"용\", \"뱀\", \"말\", \"양\"]\n",
        "\n",
        "x = int(input(\"태어난 연도 입력: \"))\n",
        "print(f'{y[x%12]} 띠입니다')\n"
      ],
      "metadata": {
        "colab": {
          "base_uri": "https://localhost:8080/"
        },
        "id": "6qFhQQqZNmIH",
        "outputId": "a5844134-835a-4034-a3c6-e9ff01fd7ee1"
      },
      "execution_count": null,
      "outputs": [
        {
          "output_type": "stream",
          "name": "stdout",
          "text": [
            "태어난 연도 입력: 1998\n",
            "호랑이 띠입니다\n"
          ]
        }
      ]
    },
    {
      "cell_type": "markdown",
      "source": [
        "Task10_0430. 아래 사항을 반영하여 커피 자판기 프로그램을 작성하세요.\n",
        "- 시나리오 : 자판기 커피 재고 5잔, 커피 1잔 가격 300원, 재고 범위내에서 300원 이상 돈을 넣으면 거스름돈과 커피를 주고 그렇지 않으면 반환하며 재고가 소진되면 안내멘트 출력\n",
        "- 각 Case별 멘트 출력은 상황에 맞게 창작\n",
        "- while, if ~ elif ~ else 제어문을 사용하여 작성"
      ],
      "metadata": {
        "id": "5JWOd4C_z2tq"
      }
    },
    {
      "cell_type": "code",
      "source": [
        "coffee = 5\n",
        "\n",
        "while True:\n",
        "  money = int(input(\"돈을 주시면 커피를 드립니다 \"))\n",
        "  if money == 300:\n",
        "    print(\"커피를 추출합니다\")\n",
        "    coffee -=1\n",
        "  elif money > 300:\n",
        "    print(\"거스름돈 %d원을 받고 커피를 추출합니다.\" %(money-300))\n",
        "    coffee -=1\n",
        "  else:\n",
        "    print(\"금액이 부족하여 %d원을 반환합니다 \"%(money))\n",
        "  if coffee == 0:\n",
        "    print(\"커피가 다 소진되었습니다 다음에 오세요 \")\n",
        "    break"
      ],
      "metadata": {
        "colab": {
          "base_uri": "https://localhost:8080/"
        },
        "id": "reofy5QgQJZY",
        "outputId": "9da3f01b-2728-4d0c-fee9-e6f5cf3ad539"
      },
      "execution_count": null,
      "outputs": [
        {
          "output_type": "stream",
          "name": "stdout",
          "text": [
            "돈을 주시면 커피를 드립니다 500\n",
            "거스름돈 200원을 받고 커피를 추출합니다.\n",
            "돈을 주시면 커피를 드립니다 200\n",
            "금액이 부족하여 200원을 반환합니다 \n",
            "돈을 주시면 커피를 드립니다 300\n",
            "커피를 추출합니다\n",
            "돈을 주시면 커피를 드립니다 3000\n",
            "거스름돈 2700원을 받고 커피를 추출합니다.\n",
            "돈을 주시면 커피를 드립니다 500\n",
            "거스름돈 200원을 받고 커피를 추출합니다.\n",
            "돈을 주시면 커피를 드립니다 400\n",
            "거스름돈 100원을 받고 커피를 추출합니다.\n",
            "커피가 다 소진되었습니다 다음에 오세요 \n"
          ]
        }
      ]
    },
    {
      "cell_type": "code",
      "source": [
        "# Q 로또 번호 6개를 6세트 출력하는 코드를 작성하세요 (중복안됨)\n",
        "import random\n",
        "\n",
        "r = list(range(1, 46))\n",
        "for i in range(6):\n",
        "  lotto = random.sample(r, 6)\n",
        "  print(lotto)\n"
      ],
      "metadata": {
        "colab": {
          "base_uri": "https://localhost:8080/"
        },
        "id": "9sC0CB0gS9Hh",
        "outputId": "6c971b8e-e9be-4f40-bdb9-5028d10bb97c"
      },
      "execution_count": null,
      "outputs": [
        {
          "output_type": "stream",
          "name": "stdout",
          "text": [
            "[19, 13, 39, 16, 15, 35]\n",
            "[30, 37, 34, 32, 31, 21]\n",
            "[2, 26, 1, 28, 42, 43]\n",
            "[45, 34, 28, 43, 44, 24]\n",
            "[20, 45, 38, 17, 22, 18]\n",
            "[45, 36, 6, 5, 2, 16]\n"
          ]
        }
      ]
    },
    {
      "cell_type": "code",
      "source": [
        "# Q n개 그룹으로 분류하는 코드를 작성하세요\n",
        "\n",
        "kita = ['김성현','황강민','윤호준','류윤선','이상협','박지환','최환욱','서보선',\n",
        "        '김한결','김도현','김하준', '김도원','신현진','소지승','이범석',\n",
        "        '이현석','이명신','박윤경','이도헌','김홍준']\n",
        "\n",
        "n = int(input(\"나눌 숫자 입력 : \"))\n",
        "\n",
        "random.shuffle(kita)\n",
        "\n",
        "groups = [kita[i::n] for i in range(n)]\n",
        "\n",
        "for idx, group in enumerate(groups):\n",
        "  print(f\"그룹 {idx + 1}: {group}\")\n"
      ],
      "metadata": {
        "colab": {
          "base_uri": "https://localhost:8080/"
        },
        "id": "sEbXSOgZTMWy",
        "outputId": "fdabad79-0148-469c-be97-a17c04227a3e"
      },
      "execution_count": null,
      "outputs": [
        {
          "output_type": "stream",
          "name": "stdout",
          "text": [
            "나눌 숫자 입력 : 5\n",
            "그룹 1: ['서보선', '김성현', '최환욱', '이현석']\n",
            "그룹 2: ['소지승', '윤호준', '김홍준', '이명신']\n",
            "그룹 3: ['김도원', '박지환', '이범석', '이도헌']\n",
            "그룹 4: ['김한결', '김하준', '신현진', '황강민']\n",
            "그룹 5: ['류윤선', '김도현', '박윤경', '이상협']\n"
          ]
        }
      ]
    },
    {
      "cell_type": "code",
      "source": [
        "# Q 1부터 100까지의 정수중 5에서 95까지의 합을 구하세요\n",
        "\n",
        "sum = 0\n",
        "\n",
        "for i in range(1, 101):\n",
        "  if i >= 5 and i <= 95:\n",
        "    sum += i\n",
        "print(sum)\n"
      ],
      "metadata": {
        "colab": {
          "base_uri": "https://localhost:8080/"
        },
        "id": "_c5zvdHATYG4",
        "outputId": "a2574e6a-611b-441c-da43-ad0643e2dfad"
      },
      "execution_count": null,
      "outputs": [
        {
          "output_type": "stream",
          "name": "stdout",
          "text": [
            "4550\n"
          ]
        }
      ]
    },
    {
      "cell_type": "code",
      "source": [
        "sum = 0\n",
        "while i <= 100:\n",
        "  if i >=5 and i <=95:\n",
        "    sum += i\n",
        "  i += 1\n",
        "print(sum)"
      ],
      "metadata": {
        "colab": {
          "base_uri": "https://localhost:8080/"
        },
        "id": "E81pIbdzvLBr",
        "outputId": "cccbcd8b-3f5b-4cca-f85b-bd5bcdc456a5"
      },
      "execution_count": null,
      "outputs": [
        {
          "output_type": "stream",
          "name": "stdout",
          "text": [
            "4550\n"
          ]
        }
      ]
    },
    {
      "cell_type": "code",
      "source": [
        "# Q while문을 사용해 1부터 1000까지의 정수 중 3과 5의 공배수의 합을 구해 보세요\n",
        "\n",
        "count = 1\n",
        "sum = 0\n",
        "\n",
        "while count <= 1000:\n",
        "  if count % 3 ==0 or count % 5 ==0:\n",
        "    sum += count\n",
        "  count += 1\n",
        "\n",
        "print(sum)"
      ],
      "metadata": {
        "colab": {
          "base_uri": "https://localhost:8080/"
        },
        "id": "RMAM-2bGTe0Q",
        "outputId": "f993e194-e0b6-4400-95e2-9255c955b434"
      },
      "execution_count": null,
      "outputs": [
        {
          "output_type": "stream",
          "name": "stdout",
          "text": [
            "234168\n"
          ]
        }
      ]
    },
    {
      "cell_type": "code",
      "source": [
        "# Q 현재 시각을 오전과 오후로 구분하는 프로그램을 작성하세요\n",
        "import datetime\n",
        "import pytz\n",
        "\n",
        "tz = pytz.timezone('Asia/Seoul')\n",
        "now = datetime.datetime.now(tz)\n",
        "now_time= now.hour\n",
        "now_time # 현재 시각\n",
        "if now_time >= 12:\n",
        "  print(\"오후\")\n",
        "else:\n",
        "  print(\"오전\")"
      ],
      "metadata": {
        "colab": {
          "base_uri": "https://localhost:8080/"
        },
        "id": "5biZ8JxdTojv",
        "outputId": "47cf049a-cef2-4a18-fe9f-1636b6f1a800"
      },
      "execution_count": null,
      "outputs": [
        {
          "output_type": "stream",
          "name": "stdout",
          "text": [
            "오후\n"
          ]
        }
      ]
    },
    {
      "cell_type": "code",
      "source": [
        "# 다양한 오류 입력에 대한 해결 방안 추가 필요\n",
        "\n",
        "time = input(\"현재 시간을 입력하세요 (ex: 15시 30분, 15시, 15) : \")\n",
        "\n",
        "if '시' not in time:\n",
        "  print(\"형식에 맞춰 작성해주세요\")\n",
        "elif int(time.split('시')[0]) >= 0 and int(time.split('시')[0]) < 12:\n",
        "  print(\"오전 입니다\")\n",
        "elif int(time.split('시')[0]) >= 12 and int(time.split('시')[0]) < 24:\n",
        "  print(\"오후 입니다\")\n",
        "else:\n",
        "  print(\"시간을 다시 입력\")"
      ],
      "metadata": {
        "colab": {
          "base_uri": "https://localhost:8080/"
        },
        "id": "DqYni72rzCx1",
        "outputId": "c465439f-3fa5-449c-eb72-3847c3f8a428"
      },
      "execution_count": null,
      "outputs": [
        {
          "output_type": "stream",
          "name": "stdout",
          "text": [
            "현재 시간을 입력하세요 (ex: 15시 30분, 15시, 15) : 15\n",
            "형식에 맞춰 작성해주세요\n"
          ]
        }
      ]
    },
    {
      "cell_type": "code",
      "source": [
        "# 가위 바위 보 게임을 코딩을 프로그래밍하세요.\n",
        "\n",
        "cpu = ['가위', '바위', '보']\n",
        "\n",
        "win = [('가위', '바위'),('바위', '보'),('보', '가위')]\n",
        "\n",
        "while 1:\n",
        "  cpu_select = random.choice(cpu)\n",
        "  human = input(\"무엇을 낼래\")\n",
        "  if cpu_select == human:\n",
        "    print(\"비겼습니다\")\n",
        "  elif (cpu_select, human) in win:\n",
        "    print(\"이겼습니다\")\n",
        "  else:\n",
        "    print(\"졌습니다\")"
      ],
      "metadata": {
        "id": "iit7CCSACMrd"
      },
      "execution_count": null,
      "outputs": []
    },
    {
      "cell_type": "code",
      "source": [
        "# 가위 바위 보 게임을 코딩을 프로그래밍하세요. 3연승 종료\n",
        "import random\n",
        "\n",
        "com_hand = ['가위', '바위', '보']\n",
        "win_case = {'가위':'바위', '바위':'보', '보':'가위'}\n",
        "win_number = 0\n",
        "\n",
        "print('가위 바위 보 시작 ( 3회 승리시 종료 )')\n",
        "print('주의 : 오타는 패배 ')\n",
        "\n",
        "while True:\n",
        "  com_select = com_hand[random.randint(0,2)]\n",
        "  you_select = input(\"가위 / 바위 / 보 입력 \")\n",
        "  print(f'컴퓨터는 {com_select}입니다')\n",
        "  if win_case[com_select] == you_select:\n",
        "    win_number += 1\n",
        "    print(f'이겼습니다. 현재 {win_number}승 ')\n",
        "  else:\n",
        "    if com_select == you_select:\n",
        "      print(\"비겼습니다\")\n",
        "    else:\n",
        "      print(\"졌습니다\")\n",
        "  if win_number == 3:\n",
        "    print(\"3승을 달성하여 게임이 종료됩니다\")\n",
        "    break"
      ],
      "metadata": {
        "id": "AFiLL7QJ8ZlF"
      },
      "execution_count": null,
      "outputs": []
    },
    {
      "cell_type": "markdown",
      "source": [
        "## 2024년 5월 2일"
      ],
      "metadata": {
        "id": "SOjEE7AY2MEx"
      }
    },
    {
      "cell_type": "code",
      "source": [],
      "metadata": {
        "id": "_p1Bqchz602C"
      },
      "execution_count": null,
      "outputs": []
    },
    {
      "cell_type": "markdown",
      "source": [
        "Task1_0502. 짝수와 짝수를 입력하면 곱한 값을 출력하고 홀수와 홀수를 입력하면 덧셈 값을 출력하고 그외는 다시 입력하라는 메시지를 출력하세요."
      ],
      "metadata": {
        "id": "p727mSVp2SCX"
      }
    },
    {
      "cell_type": "code",
      "source": [
        "num1 = int(input(\"첫번쨰 숫자 입력 \"))\n",
        "num2 = int(input(\"두번쨰 숫자 입력 \"))\n",
        "\n",
        "avg = 0\n",
        "sum = 0\n",
        "\n",
        "if num1 % 2 == 0 and num2 % 2 == 0:\n",
        "  avg = num1 * num2\n",
        "  print(avg)\n",
        "elif num1 % 2 == 1 and num2 % 2 == 1:\n",
        "  sum = num1 + num2\n",
        "  print(sum)\n",
        "else:\n",
        "  print(\"다시 입력하세요\")"
      ],
      "metadata": {
        "colab": {
          "base_uri": "https://localhost:8080/"
        },
        "id": "NUsm1O1YJgBO",
        "outputId": "57ab7ff8-89b1-4ac4-f8d6-090cc47cec4d"
      },
      "execution_count": null,
      "outputs": [
        {
          "output_type": "stream",
          "name": "stdout",
          "text": [
            "첫번쨰 숫자 입력 66\n",
            "두번쨰 숫자 입력 88\n",
            "5808\n"
          ]
        }
      ]
    },
    {
      "cell_type": "markdown",
      "source": [
        "Task2_0502. 현재 계절 구분 프로그램\n",
        "- 시나리오 : 3 ~ 5월은 봄, 6 ~ 8월은 여름, 9 ~ 11월은 가을, 12 ~ 2월은 겨울로 구분. 지금 계절을 알려주는 프로그램\n",
        "- 각 계절별 출력 멘트는 계절에 맞게 창작\n",
        "- if 조건문으로 datetime 모듈을 import해서 datetime.now 함수를 사용해서 작성"
      ],
      "metadata": {
        "id": "ojupqA-q5gem"
      }
    },
    {
      "cell_type": "code",
      "source": [
        "import datetime\n",
        "import pytz\n",
        "\n",
        "tz = pytz.timezone('Asia/Seoul')\n",
        "now = datetime.datetime.now(tz)\n",
        "now_month= now.month\n",
        "now_month # 현재 월\n",
        "\n",
        "if now_month >= 3 and now_month <= 5:\n",
        "  print(\"봄 꽃들이 아름다운 계절\")\n",
        "elif now_month >= 6 and now_month <= 8:\n",
        "  print(\"여름 바다가 아름다운 계절\")\n",
        "elif now_month >= 9 and now_month <= 11:\n",
        "  print(\"가을 나무가 아름다운 계절\")\n",
        "elif now_month >= 2 and now_month == 12:\n",
        "  print(\"겨울 눈이 아름다운 계절\")"
      ],
      "metadata": {
        "colab": {
          "base_uri": "https://localhost:8080/"
        },
        "id": "OgBgiH06LMid",
        "outputId": "5e121f5f-7f19-4a68-8719-cad078ff7663"
      },
      "execution_count": null,
      "outputs": [
        {
          "output_type": "stream",
          "name": "stdout",
          "text": [
            "봄 꽃들이 아름다운 계절\n"
          ]
        }
      ]
    },
    {
      "cell_type": "code",
      "source": [
        "from datetime import datetime\n",
        "\n",
        "spring = [3, 4, 5]\n",
        "summer = [6, 7, 8]\n",
        "autumn = [9, 10, 11]\n",
        "winter = [12, 1, 2]\n",
        "\n",
        "today = datetime.now()\n",
        "month = today.month\n",
        "if month in spring:\n",
        "  print(\"봄\")\n",
        "elif month in summer:\n",
        "  print(\"여름\")\n",
        "elif month in autumn:\n",
        "  print(\"가을\")\n",
        "else:\n",
        "  print(\"겨울\")\n"
      ],
      "metadata": {
        "colab": {
          "base_uri": "https://localhost:8080/"
        },
        "id": "0ZXxy8TRyph9",
        "outputId": "dd5b31ab-9cd6-41dd-8c3c-9601172a350a"
      },
      "execution_count": null,
      "outputs": [
        {
          "output_type": "stream",
          "name": "stdout",
          "text": [
            "봄\n"
          ]
        }
      ]
    },
    {
      "cell_type": "markdown",
      "source": [
        "Task3_0502. 1부터 99까지 아래와 같이 2개의 수를 곱해서 가장 큰 수를 구하세요.\n",
        "\n",
        "`1*99, 2*98 ...99*1`"
      ],
      "metadata": {
        "id": "kf29SHiS5xSi"
      }
    },
    {
      "cell_type": "code",
      "source": [
        "max_value = 0\n",
        "\n",
        "for i in range(1, 100):\n",
        "  if max_value >= (i*(100-i)):\n",
        "    continue\n",
        "  else:\n",
        "    max_value = i * (100-i)\n",
        "print(max_value)\n"
      ],
      "metadata": {
        "colab": {
          "base_uri": "https://localhost:8080/"
        },
        "id": "8DcYjOj301z7",
        "outputId": "a3ba0709-e6ed-4666-8000-408d447a3b75"
      },
      "execution_count": null,
      "outputs": [
        {
          "output_type": "stream",
          "name": "stdout",
          "text": [
            "2500\n"
          ]
        }
      ]
    },
    {
      "cell_type": "code",
      "source": [
        "n = 1\n",
        "result = 0\n",
        "\n",
        "while n <= 100:\n",
        "  a = n*(100-n)\n",
        "  if a > result:\n",
        "    result = a\n",
        "    n += 1\n",
        "  else:\n",
        "    n += 1\n",
        "    continue\n",
        "\n",
        "print(result)"
      ],
      "metadata": {
        "colab": {
          "base_uri": "https://localhost:8080/"
        },
        "id": "HuO1-d0v2Vp8",
        "outputId": "28e6f5d6-225f-465b-deba-9aaccfa41d37"
      },
      "execution_count": null,
      "outputs": [
        {
          "output_type": "stream",
          "name": "stdout",
          "text": [
            "2500\n"
          ]
        }
      ]
    },
    {
      "cell_type": "code",
      "source": [
        "# 입력값 없고 출력값만 있는 형태의 사용자 함수\n",
        "\n",
        "def findBiggestOne():\n",
        "  biggestNum = 0\n",
        "  for i, j in zip(range(1, 100), range(99, 0, -1)):\n",
        "    if i * j > biggestNum:\n",
        "      biggestNum = i * j\n",
        "  return biggestNum\n",
        "\n",
        "print(findBiggestOne())\n"
      ],
      "metadata": {
        "colab": {
          "base_uri": "https://localhost:8080/"
        },
        "id": "OQWmMAdh3S_R",
        "outputId": "4144b5f5-ccec-4fc9-c2f4-0c28a17ae5de"
      },
      "execution_count": null,
      "outputs": [
        {
          "output_type": "stream",
          "name": "stdout",
          "text": [
            "2500\n"
          ]
        }
      ]
    },
    {
      "cell_type": "code",
      "source": [
        "numbers = [i for i in range(99, 0, -1)]\n",
        "print(type(numbers))\n",
        "print(type(numbers[0]))\n",
        "print(numbers)"
      ],
      "metadata": {
        "colab": {
          "base_uri": "https://localhost:8080/"
        },
        "id": "fwmj5lgT-zuq",
        "outputId": "29a88365-3d61-4449-bc7d-595a3c50a906"
      },
      "execution_count": null,
      "outputs": [
        {
          "output_type": "stream",
          "name": "stdout",
          "text": [
            "<class 'list'>\n",
            "<class 'int'>\n",
            "[99, 98, 97, 96, 95, 94, 93, 92, 91, 90, 89, 88, 87, 86, 85, 84, 83, 82, 81, 80, 79, 78, 77, 76, 75, 74, 73, 72, 71, 70, 69, 68, 67, 66, 65, 64, 63, 62, 61, 60, 59, 58, 57, 56, 55, 54, 53, 52, 51, 50, 49, 48, 47, 46, 45, 44, 43, 42, 41, 40, 39, 38, 37, 36, 35, 34, 33, 32, 31, 30, 29, 28, 27, 26, 25, 24, 23, 22, 21, 20, 19, 18, 17, 16, 15, 14, 13, 12, 11, 10, 9, 8, 7, 6, 5, 4, 3, 2, 1]\n"
          ]
        }
      ]
    },
    {
      "cell_type": "code",
      "source": [
        "numbers = [str(i) for i in range(99, 0, -1)]\n",
        "print(type(numbers))\n",
        "print(type(numbers[0]))\n",
        "print(numbers)"
      ],
      "metadata": {
        "colab": {
          "base_uri": "https://localhost:8080/"
        },
        "id": "MB4z611f_mW8",
        "outputId": "b4d47df1-bafa-4621-ca11-d9b5e220e1be"
      },
      "execution_count": null,
      "outputs": [
        {
          "output_type": "stream",
          "name": "stdout",
          "text": [
            "<class 'list'>\n",
            "<class 'str'>\n",
            "['99', '98', '97', '96', '95', '94', '93', '92', '91', '90', '89', '88', '87', '86', '85', '84', '83', '82', '81', '80', '79', '78', '77', '76', '75', '74', '73', '72', '71', '70', '69', '68', '67', '66', '65', '64', '63', '62', '61', '60', '59', '58', '57', '56', '55', '54', '53', '52', '51', '50', '49', '48', '47', '46', '45', '44', '43', '42', '41', '40', '39', '38', '37', '36', '35', '34', '33', '32', '31', '30', '29', '28', '27', '26', '25', '24', '23', '22', '21', '20', '19', '18', '17', '16', '15', '14', '13', '12', '11', '10', '9', '8', '7', '6', '5', '4', '3', '2', '1']\n"
          ]
        }
      ]
    },
    {
      "cell_type": "markdown",
      "source": [
        "Task4_0502. [    ]을 채워서 아래의 출력과 같이 출력하세요."
      ],
      "metadata": {
        "id": "KdE7_z_16Ih8"
      }
    },
    {
      "cell_type": "code",
      "source": [
        "numbers = [1,2,3,4,5,6,7,8,9]\n",
        "output = [[], [], []]\n",
        "# [[1,4,7],[2,5,8],[3,6,9]]\n",
        "\n",
        "for num in numbers:\n",
        "  if num % 3 == 1:\n",
        "    output[0].append(num)\n",
        "  elif num % 3 == 2:\n",
        "    output[1].append(num)\n",
        "  else:\n",
        "    output[2].append(num)\n",
        "\n",
        "print(output)"
      ],
      "metadata": {
        "id": "p6ZpMiXX6JMe",
        "colab": {
          "base_uri": "https://localhost:8080/"
        },
        "outputId": "aef7b538-7715-4197-98ba-e444291e1800"
      },
      "execution_count": null,
      "outputs": [
        {
          "output_type": "stream",
          "name": "stdout",
          "text": [
            "[[1, 4, 7], [2, 5, 8], [3, 6, 9]]\n"
          ]
        }
      ]
    },
    {
      "cell_type": "code",
      "source": [
        "numbers = [1,2,3,4,5,6,7,8,9]\n",
        "output = [[], [], []]\n",
        "\n",
        "for number in numbers:\n",
        "  output[(number-1) % 3].append(number)\n",
        "print(output)"
      ],
      "metadata": {
        "colab": {
          "base_uri": "https://localhost:8080/"
        },
        "id": "z6uWJIpb7TV-",
        "outputId": "3515734b-635b-4dfd-af26-b018feecb5e0"
      },
      "execution_count": null,
      "outputs": [
        {
          "output_type": "stream",
          "name": "stdout",
          "text": [
            "[[1, 4, 7], [2, 5, 8], [3, 6, 9]]\n"
          ]
        }
      ]
    },
    {
      "cell_type": "markdown",
      "source": [
        "Task5_0502. 주어진 리스트에서 중복된 요소를 제거하고, 남은 요소만을 포함하는 새 리스트를 반환합니다. 순서는 유지해야 합니다."
      ],
      "metadata": {
        "id": "JyefnTRb6XT1"
      }
    },
    {
      "cell_type": "code",
      "source": [
        "input_list = [1, 2, 2, 3, 4, 4, 4, 5, 6, 7, 7]\n",
        "\n",
        "nums = set(input_list)\n",
        "list(nums)"
      ],
      "metadata": {
        "colab": {
          "base_uri": "https://localhost:8080/"
        },
        "id": "Xa4ApYU36ham",
        "outputId": "af06d1a5-5ee2-4dee-a4af-04e17c06d7db"
      },
      "execution_count": null,
      "outputs": [
        {
          "output_type": "execute_result",
          "data": {
            "text/plain": [
              "[1, 2, 3, 4, 5, 6, 7]"
            ]
          },
          "metadata": {},
          "execution_count": 7
        }
      ]
    },
    {
      "cell_type": "code",
      "source": [
        "input_list = [1, 2, 2, 3, 4, 4, 4, 5, 6, 7, 7]\n",
        "\n",
        "for i in input_list:\n",
        "  if input_list.count(i) > 1:\n",
        "    input_list.remove(i)\n",
        "print(input_list)"
      ],
      "metadata": {
        "colab": {
          "base_uri": "https://localhost:8080/"
        },
        "id": "oDXesGetAC1y",
        "outputId": "92d7249a-e5c8-4635-a1d4-5e34a5c01682"
      },
      "execution_count": null,
      "outputs": [
        {
          "output_type": "stream",
          "name": "stdout",
          "text": [
            "[1, 2, 3, 4, 5, 6, 7]\n"
          ]
        }
      ]
    },
    {
      "cell_type": "code",
      "source": [
        "input_list = [1, 2, 6, 2, 3, 7, 4, 4, 5, 6, 7, 7]\n",
        "\n",
        "def remove_duplicates(input_list):\n",
        "  num = []\n",
        "  result = []\n",
        "  for item in input_list:\n",
        "    if item not in num:\n",
        "      num.append(item)\n",
        "  return num\n",
        "\n",
        "print(remove_duplicates(input_list))\n",
        "print(result)"
      ],
      "metadata": {
        "colab": {
          "base_uri": "https://localhost:8080/"
        },
        "id": "XwMx8ST6EIEF",
        "outputId": "3b0a7483-45e1-4837-d4dd-afedb4139ef9"
      },
      "execution_count": null,
      "outputs": [
        {
          "output_type": "stream",
          "name": "stdout",
          "text": [
            "[1, 2, 6, 3, 7, 4, 5]\n",
            " ......-...-..---.-----.-..-..-..\n"
          ]
        }
      ]
    },
    {
      "cell_type": "code",
      "source": [
        "input_list = [1, 2, 6, 2, 3, 7, 4, 4, 5, 6, 7, 7]\n",
        "\n",
        "print(f'집합 :  {set(input_list)}')\n",
        "\n",
        "def remove_duplicates"
      ],
      "metadata": {
        "id": "Y60CeuCGaqLV"
      },
      "execution_count": null,
      "outputs": []
    },
    {
      "cell_type": "markdown",
      "source": [
        "Task6_0502 주어진 문자열을 모스 코드로 변환하는 함수를 작성하세요. 공백은 무시하고 알파벳만 변환하세요\n",
        "input_text = \"Hello World\""
      ],
      "metadata": {
        "id": "WOBVLkWq6qoS"
      }
    },
    {
      "cell_type": "code",
      "source": [
        "morse_code = {\n",
        "        'A': '.-', 'B': '-...', 'C': '-.-.', 'D': '-..', 'E': '.', 'F': '..-.',\n",
        "        'G': '--.', 'H': '....', 'I': '..', 'J': '.---', 'K': '-.-', 'L': '.-..',\n",
        "        'M': '--', 'N': '-.', 'O': '---', 'P': '.--.', 'Q': '--.-', 'R': '.-.',\n",
        "        'S': '...', 'T': '-', 'U': '..-', 'V': '...-', 'W': '.--', 'X': '-..-',\n",
        "        'Y': '-.--', 'Z': '--..'\n",
        "    }\n",
        "input_text = \"Hello World\"\n",
        "result = \" \"\n",
        "\n",
        "for char in input_text:\n",
        "  if char.upper() in morse_code:\n",
        "    result += morse_code[char.upper()]\n",
        "\n",
        "print(result)"
      ],
      "metadata": {
        "id": "bPyvN7Zp7JR0",
        "colab": {
          "base_uri": "https://localhost:8080/"
        },
        "outputId": "270f2492-41da-43b9-c4cc-e3dea86ed01d"
      },
      "execution_count": null,
      "outputs": [
        {
          "output_type": "stream",
          "name": "stdout",
          "text": [
            " ......-...-..---.-----.-..-..-..\n"
          ]
        }
      ]
    },
    {
      "cell_type": "markdown",
      "source": [
        "Task7_0502. 주어진 비대칭 m×n 매트릭스(2차원 리스트)에서, 모든 대각선 상의 합을 계산하는 함수를 작성하세요. 결과는 각 대각선의 합을 리스트로 반환해야 합니다."
      ],
      "metadata": {
        "id": "nXDefIvZ7OJa"
      }
    },
    {
      "cell_type": "code",
      "source": [
        "input_matrix = [\n",
        "    [1, 2, 3],\n",
        "    [4, 5, 6],\n",
        "    [7, 8, 9],\n",
        "    [10, 11, 12]\n",
        "]\n",
        "print(len(input_matrix))\n",
        "print(len(input_matrix[0]))"
      ],
      "metadata": {
        "id": "l1P6O_IQMqsP"
      },
      "execution_count": null,
      "outputs": []
    },
    {
      "cell_type": "code",
      "source": [
        "def diagonal_sums(matrix):\n",
        "    if not matrix:\n",
        "        return []\n",
        "    m, n = len(matrix), len(matrix[0])\n",
        "    # 최대 가능한 대각선 수는 m + n - 1\n",
        "    print(m,n)\n",
        "    max_diagonals = m + n - 1\n",
        "    result = [0] * max_diagonals\n",
        "\n",
        "    # 모든 원소를 순회하면서 해당 대각선 인덱스에 값을 더함\n",
        "    for i in range(m):\n",
        "        for j in range(n):\n",
        "            # 대각선 인덱스는 행 인덱스와 열 인덱스의 차의 절댓값\n",
        "            diagonal_index = i + j\n",
        "            result[diagonal_index] += matrix[i][j]\n",
        "\n",
        "    return result\n",
        "\n",
        "# 매트릭스 입력\n",
        "input_matrix = [\n",
        "    [1, 2, 3],\n",
        "    [4, 5, 6],\n",
        "    [7, 8, 9],\n",
        "    [10, 11, 12]\n",
        "]\n",
        "\n",
        "# 대각선 합 결과 출력\n",
        "print(diagonal_sums(input_matrix))"
      ],
      "metadata": {
        "colab": {
          "base_uri": "https://localhost:8080/"
        },
        "id": "BbWik8L1MrFh",
        "outputId": "2083b6d9-b0a8-4cb9-e78e-6864d4d85676"
      },
      "execution_count": null,
      "outputs": [
        {
          "output_type": "stream",
          "name": "stdout",
          "text": [
            "4 3\n",
            "[1, 6, 15, 24, 20, 12]\n"
          ]
        }
      ]
    },
    {
      "cell_type": "markdown",
      "source": [
        " 대각선 수 구하기\n",
        "4행 3열에서\n",
        "첫 번째 행은 3개의 대각선에 각각 기여합니다.\n",
        "첫 번째 열은 4개의 대각선에 각각 기여합니다.\n",
        " 하지만 가장 왼쪽 상단의 원소가 두 방향에서 모두 카운트되므로, 총 대각선 수는 3 + 4 − 1 = 6개가 됩니다."
      ],
      "metadata": {
        "id": "x4dN_I7cMxaa"
      }
    },
    {
      "cell_type": "code",
      "source": [
        "# 대각선 합 구하기\n",
        "a b c\n",
        "d e f\n",
        "g h i\n",
        "j k l\n",
        "\n",
        "대각선 0: a\n",
        "대각선 1: b + d\n",
        "대각선 2: c + e + g\n",
        "대각선 3: f + h + j\n",
        "대각선 4: i + k\n",
        "대각선 5: l"
      ],
      "metadata": {
        "id": "La_wGfAA7Z8x"
      },
      "execution_count": null,
      "outputs": []
    },
    {
      "cell_type": "markdown",
      "source": [
        "Q 음식점의 음식 가격 산출 프로그랭하세요\n",
        "\n",
        "KITA 식당에 오신 것을 환영합니다\n",
        "\n",
        "========================================\n",
        "\n",
        "          - 메  뉴 -\n",
        "    1. 불고기 비빔밥 : 12,000원\n",
        "    2. 야채 비빔밥 : 8,000원\n",
        "    3. 전주 비빔밥 : 10,000원\n",
        "\n",
        "    세트 주문시 : 3000원 추가\n",
        "    (세트는 밥과 반찬이 추가됩니다.)\n",
        "\n",
        "========================================\n",
        "\n",
        "비빔밥 메뉴를 선택해 주세요. 1, 2, 3 >>> 2\n",
        "세트 주문을 하시겠습니까? 3,000원 추가. y, n >>> y\n",
        "총 금액은 11000원 입니다.\n",
        "'''"
      ],
      "metadata": {
        "id": "-46LhcFPO6T6"
      }
    },
    {
      "cell_type": "code",
      "source": [
        "print(\"KITA 식당에 오신 것을 환영합니다\")\n",
        "\n",
        "menu = [\"1번 불고기 비빔밥 12000원\", \"2번 야채 비빔밥 8000원\", \"3번 전주 비빔밥\"]\n",
        "\n",
        "print(menu)\n",
        "choice = int(input(\"메뉴를 선택하세요 >  \"))\n",
        "\n",
        "if choice == 1:\n",
        "  set = input(\"세트 추가? y or n \")\n",
        "  if set == 'y' or set == 'n':\n",
        "    print(\"3000원이 추가됩니다 총가격은 15000원입니다\")\n",
        "elif choice == 2:\n",
        "  set = input(\"세트 추가? y or n \")\n",
        "  if set == 'y' or set == 'n':\n",
        "    print(\"3000원이 추가됩니다 총가격은 11000원입니다\")\n",
        "elif choice == 3:\n",
        "  set = input(\"세트 추가? y or n \")\n",
        "  if set == 'y' or set == 'n':\n",
        "    print(\"3000원이 추가됩니다 총가격은 13000원입니다\")\n",
        "\n"
      ],
      "metadata": {
        "colab": {
          "base_uri": "https://localhost:8080/"
        },
        "id": "PyakuuasO2dt",
        "outputId": "106cb946-ad72-4d8e-ab6f-578a087a37da"
      },
      "execution_count": null,
      "outputs": [
        {
          "output_type": "stream",
          "name": "stdout",
          "text": [
            "KITA 식당에 오신 것을 환영합니다\n",
            "['1번 불고기 비빔밥 12000원', '2번 야채 비빔밥 8000원', '3번 전주 비빔밥']\n",
            "메뉴를 선택하세요 >  3\n",
            "세트 추가? y or n n\n",
            "3000원이 추가됩니다 총가격은 13000원입니다\n"
          ]
        }
      ]
    },
    {
      "cell_type": "code",
      "source": [
        "def main():\n",
        "    print(\"KITA 식당에 오신 것을 환영합니다\")\n",
        "    print(\"\\n\" + \"=\" * 40)\n",
        "    print(\"\\n          - 메  뉴 -\")\n",
        "    print(\"    1. 불고기 비빔밥 : 12,000원\")\n",
        "    print(\"    2. 야채 비빔밥 : 8,000원\")\n",
        "    print(\"    3. 전주 비빔밥 : 10,000원\")\n",
        "    print(\"\\n    세트 주문시 : 3,000원 추가\")\n",
        "    print(\"    (세트는 밥과 반찬이 추가됩니다.)\")\n",
        "    print(\"\\n\" + \"=\" * 40)\n",
        "\n",
        "    # 사용자로부터 메뉴 선택을 받는다.\n",
        "    menu_choice = int(input(\"\\n비빔밥 메뉴를 선택해 주세요. 1, 2, 3 >>> \"))\n",
        "\n",
        "    # 메뉴별 가격을 설정한다.\n",
        "    prices = {1: 12000, 2: 8000, 3: 10000}\n",
        "\n",
        "    # 사용자가 선택한 메뉴의 가격을 가져온다.\n",
        "    total_price = prices.get(menu_choice, 0)\n",
        "\n",
        "    # 세트 주문 여부를 확인한다.\n",
        "    set_order = input(\"세트 주문을 하시겠습니까? 3,000원 추가. y, n >>> \").lower()\n",
        "    if set_order == 'y':\n",
        "        total_price += 3000\n",
        "\n",
        "    print(f\"총 금액은 {total_price}원 입니다.\")\n",
        "\n",
        "if __name__ == \"__main__\":\n",
        "    main()"
      ],
      "metadata": {
        "colab": {
          "base_uri": "https://localhost:8080/"
        },
        "id": "BfcQMdQqW3Zz",
        "outputId": "0b59b804-a907-4cf8-cec3-25bf6d4b8d1f"
      },
      "execution_count": null,
      "outputs": [
        {
          "output_type": "stream",
          "name": "stdout",
          "text": [
            "KITA 식당에 오신 것을 환영합니다\n",
            "\n",
            "========================================\n",
            "\n",
            "          - 메  뉴 -\n",
            "    1. 불고기 비빔밥 : 12,000원\n",
            "    2. 야채 비빔밥 : 8,000원\n",
            "    3. 전주 비빔밥 : 10,000원\n",
            "\n",
            "    세트 주문시 : 3,000원 추가\n",
            "    (세트는 밥과 반찬이 추가됩니다.)\n",
            "\n",
            "========================================\n",
            "\n",
            "비빔밥 메뉴를 선택해 주세요. 1, 2, 3 >>> 2\n",
            "세트 주문을 하시겠습니까? 3,000원 추가. y, n >>> n\n",
            "총 금액은 8000원 입니다.\n"
          ]
        }
      ]
    },
    {
      "cell_type": "code",
      "source": [
        "# 계속 주문\n",
        "\n",
        "def main():\n",
        "    print(\"KITA 식당에 오신 것을 환영합니다\")\n",
        "    print(\"\\n\" + \"=\" * 40)\n",
        "    print(\"\\n          - 메  뉴 -\")\n",
        "    print(\"    1. 불고기 비빔밥 : 12,000원\")\n",
        "    print(\"    2. 야채 비빔밥 : 8,000원\")\n",
        "    print(\"    3. 전주 비빔밥 : 10,000원\")\n",
        "    print(\"\\n    세트 주문시 : 3,000원 추가\")\n",
        "    print(\"    (세트는 밥과 반찬이 추가됩니다.)\")\n",
        "    print(\"\\n\" + \"=\" * 40)\n",
        "\n",
        "while True:\n",
        "    menu_choice = int(input(\"\\n비빔밥 메뉴를 선택해 주세요. 1, 2, 3 >>> \"))\n",
        "\n",
        "    prices = {1: 12000, 2: 8000, 3: 10000}\n",
        "\n",
        "    total_price = prices.get(menu_choice, 0)\n",
        "\n",
        "    set_order = input(\"세트 주문을 하시겠습니까? 3,000원 추가. y, n >>> \").lower()\n",
        "    if set_order == 'y':\n",
        "        total_price += 3000\n",
        "\n",
        "    print(f\"총 금액은 {total_price}원 입니다.\")\n",
        "    print()\n",
        "    too_order = input(\"추가 주문을 하시겠습니까? y, n >>> \").lower()\n",
        "    if too_order == 'y':\n",
        "      continue\n",
        "    elif too_order == 'n':\n",
        "      break\n",
        "\n",
        "if __name__ == \"__main__\":\n",
        "    main()"
      ],
      "metadata": {
        "colab": {
          "base_uri": "https://localhost:8080/"
        },
        "id": "H-s2bHV6ektC",
        "outputId": "c31d1a1b-f557-4b87-c049-61bd5ad81574"
      },
      "execution_count": null,
      "outputs": [
        {
          "output_type": "stream",
          "name": "stdout",
          "text": [
            "\n",
            "비빔밥 메뉴를 선택해 주세요. 1, 2, 3 >>> 1\n",
            "세트 주문을 하시겠습니까? 3,000원 추가. y, n >>> y\n",
            "총 금액은 15000원 입니다.\n",
            "\n",
            "추가 주문을 하시겠습니까? y, n >>> y\n",
            "\n",
            "비빔밥 메뉴를 선택해 주세요. 1, 2, 3 >>> 1\n",
            "세트 주문을 하시겠습니까? 3,000원 추가. y, n >>> n\n",
            "총 금액은 12000원 입니다.\n",
            "\n",
            "추가 주문을 하시겠습니까? y, n >>> n\n",
            "KITA 식당에 오신 것을 환영합니다\n",
            "\n",
            "========================================\n",
            "\n",
            "          - 메  뉴 -\n",
            "    1. 불고기 비빔밥 : 12,000원\n",
            "    2. 야채 비빔밥 : 8,000원\n",
            "    3. 전주 비빔밥 : 10,000원\n",
            "\n",
            "    세트 주문시 : 3,000원 추가\n",
            "    (세트는 밥과 반찬이 추가됩니다.)\n",
            "\n",
            "========================================\n"
          ]
        }
      ]
    },
    {
      "cell_type": "code",
      "source": [
        "def display_menu():\n",
        "    print(\"\\nKITA 식당에 오신 것을 환영합니다\")\n",
        "    print(\"\\n\" + \"=\" * 40)\n",
        "    print(\"\\n          - 메  뉴 -\")\n",
        "    print(\"    1. 불고기 비빔밥 : 12,000원\")\n",
        "    print(\"    2. 야채 비빔밥 : 8,000원\")\n",
        "    print(\"    3. 전주 비빔밥 : 10,000원\")\n",
        "    print(\"\\n    세트 주문시 : 3,000원 추가\")\n",
        "    print(\"    (세트는 밥과 반찬이 추가됩니다.)\")\n",
        "    print(\"\\n\" + \"=\" * 40)\n",
        "\n",
        "\n",
        "def order():\n",
        "    # 메뉴별 가격을 설정한다.\n",
        "    prices = {1: 12000, 2: 8000, 3: 10000}\n",
        "\n",
        "    # 사용자로부터 메뉴 선택을 받는다.\n",
        "    menu_choice = int(input(\"\\n비빔밥 메뉴를 선택해 주세요. 1, 2, 3 >>> \"))\n",
        "\n",
        "    # 사용자가 선택한 메뉴의 가격을 가져온다.\n",
        "    total_price = prices.get(menu_choice, 0)\n",
        "\n",
        "    # 세트 주문 여부를 확인한다.\n",
        "    set_order = input(\"세트 주문을 하시겠습니까? 3,000원 추가. y, n >>> \").lower()\n",
        "    if set_order == 'y':\n",
        "        total_price += 3000\n",
        "\n",
        "    print(f\"총 금액은 {total_price}원 입니다.\")\n",
        "\n",
        "\n",
        "def main():\n",
        "    while True:\n",
        "        display_menu()\n",
        "        order()\n",
        "\n",
        "        # 계속 주문하거나 종료 여부를 확인한다.\n",
        "        continue_ordering = input(\"\\n다시 주문하시겠습니까? (주문: enter, 종료: '종료' 입력) >>> \")\n",
        "        if continue_ordering == '종료':\n",
        "            break\n",
        "\n",
        "    print(\"\\n감사합니다! 다음에 또 방문해 주세요.\")\n",
        "\n",
        "\n",
        "if __name__ == \"__main__\":\n",
        "    main()\n",
        "\n"
      ],
      "metadata": {
        "id": "5KeYHhkijib0"
      },
      "execution_count": null,
      "outputs": []
    },
    {
      "cell_type": "code",
      "source": [],
      "metadata": {
        "id": "eou-xk9RUdd8"
      },
      "execution_count": null,
      "outputs": []
    },
    {
      "cell_type": "markdown",
      "source": [
        "## 2024년 5월 3일"
      ],
      "metadata": {
        "id": "X5Pau8DNDvCs"
      }
    },
    {
      "cell_type": "markdown",
      "source": [
        "Task1_0503 여러개의 음식을 동시에 주문할 수 있는 주문 시스템을 작성하세요 (구조 지향)[시나리오]\n",
        "1. 시작 인터페이스:\n",
        "- 시스템 시작 시, 사용자에게 주문 시작 여부를 질문 (y 또는 n으로 응답).\n",
        "- y 선택 시 주문 프로세스 시작.\n",
        "- n 선택 시 시스템 종료 및 \"감사합니다.\" 메시지 표시.\n",
        "2. 메뉴 표시:\n",
        "- 주문 프로세스 시작 시, 현재 메뉴 항목과 가격 표시.\n",
        "- 각 메뉴 옆에는 선택 번호 제공 (예: 1, 2, 3).\n",
        "- 세트 주문 시 추가 비용 안내 (3000원 추가).\n",
        "3. 주문 입력:\n",
        "- 메뉴 선택 입력 요청.\n",
        "- 메뉴 번호 입력 후 세트 주문 여부 질문 (y는 세트, n은 일반).\n",
        "- 주문 수량 질문 후, 주문 장바구니에 추가.\n",
        "- 주문이 추가된 후 해당 내용 표시.\n",
        "4. 주문 취소:\n",
        "- 잘못 주문했거나 주문 취소 시 0 입력.\n",
        "- 주문 취소 시 \"모든 주문이 취소되었습니다.\" 메시지 표시.\n",
        "5. 주문 요약 및 결제:\n",
        "- 주문 완료하려면 5 입력.\n",
        "- 주문 내역 및 총 금액 요약 표시.\n",
        "- 결제 금액 안내 및 결제 진행 요청.\n",
        "- 결제 완료 후 \"총 금액은 XXX원이 결제되었습니다. 감사합니다.\" 메시지 표시 및 주문 초기화.\n",
        "6. 반복 주문 가능:\n",
        "- 결제 후 추가 주문 진행 가능.\n",
        "- 언제든지 n 입력하여 주문 프로세스 종료 및 시스템 빠져나올 수 있음.\n",
        "\n",
        "[ 함수 구성 및 역할 ]\n",
        "1. display_menu()\n",
        "- 역할: 사용자에게 메뉴 선택지를 표시.\n",
        "- 세부 기능: 메뉴 아이템과 각각의 가격, 세트 주문 시 추가 비용을 표시.\n",
        "- 시나리오 연결: 사용자가 주문 프로세스를 시작할 때, 어떤 메뉴를 선택할 수 있는지 표시.\n",
        "2. display_order_summary()\n",
        "- 역할: 현재 주문 상태를 요약하여 표시.\n",
        "- 세부 기능: 선택된 메뉴 항목, 수량, 세트 여부, 각 항목의 가격과 총 주문 금액을 계산하여 표시.\n",
        "- 시나리오 연결: 주문을 마친 후, 사용자가 자신의 주문 내역을 확인하고 최종 결제하기 전에 전체 주문 내용 검토.\n",
        "3. add_order(menu_id, is_set)\n",
        "- 역할: 사용자의 메뉴 선택을 주문 목록에 추가.\n",
        "- 세부 기능: 메뉴 ID와 세트 여부에 따라 주문을 추가하고, 추가된 주문 정보를 사용자에게 전달.\n",
        "- 시나리오 연결: 사용자가 메뉴를 선택하고 주문 수량을 입력할 때, 해당 주문을 시스템에 추가 및 확인.\n",
        "4. process_order()\n",
        "- 역할: 주문 프로세스의 메인 컨트롤러.\n",
        "- 세부 기능: 사용자의 입력을 받아 메뉴 선택, 주문, 주문 취소, 결제를 처리하고, 프로세스의 시작과 종료를 관리.\n",
        "- 시나리오 연결: 전체 주문 프로세스를 실행하고, 사용자의 각 선택에 따라 적절한 행동을 지시하며, 필요에 따라 다른 함수들을 호출.\n",
        "\n",
        "[ 시나리오의 흐름과 함수 연결 ]\n",
        "1. 시작: 사용자가 주문을 시작하겠다고 응답하면 (y 입력), display_menu() 함수가 호출되어 사용 가능한 메뉴를 표시.\n",
        "2. 메뉴 선택: 사용자가 메뉴 번호를 입력하고, 세트 여부를 선택하면 add_order() 함수가 호출되어 주문을 추가.\n",
        "3. 주문 확인: 주문을 추가할 때마다 display_order_summary() 함수가 호출되어 현재까지의 주문 상태를 확인.\n",
        "4. 주문 수정 또는 결제: 사용자가 주문을 취소하거나 변경할 수 있고, 최종적으로 결제를 원할 때 process_order() 함수 내에서 결제를 진행.\n",
        "4. 종료: 주문 결제가 완료되면, 사용자가 추가 주문을 원하지 않을 경우 (n 입력), 시스템이 종료.\n",
        "\n",
        "이러한 구조화된 접근 방식은 코드의 각 부분이 시나리오의 어떤 단계와 연결되는지 명확하게 정의하며, 시스템의 유지 관리와 확장성을 개선."
      ],
      "metadata": {
        "id": "4ePuVdy4DICx"
      }
    },
    {
      "cell_type": "code",
      "source": [
        "menu_items = {\n",
        "    '1' : (\"불고기 비빔밥\" , 12000),\n",
        "    '2' : (\"야채 비빔밥\" , 8000),\n",
        "    '3' : (\"전주 비빔밥\" , 12000),\n",
        "}\n",
        "\n",
        "set_price = 3000\n",
        "orders = {}\n",
        "price_total = ()\n",
        "\n",
        "def display_menu():\n",
        "    print(\"\\n♣♣♣ KITA 식당에 오신 것을 환영합니다 ♣♣♣\")\n",
        "    print(\"========================================\")\n",
        "    print(\"           - 메뉴 -\")\n",
        "    for key, (name, price) in menu_items.items():\n",
        "        print(f\"  {key}. {name} : {price}원\")\n",
        "    print(\"\\n  세트 주문시 : 3000원 추가 (세트는 밥과 반찬이 추가됩니다.)\")\n",
        "    print(\"========================================\")\n",
        "\n",
        "def display_order_summary():\n",
        "  global price_total # 전역 변수 price_total 사용 선언\n",
        "  print(\"\\n 장바구니\")\n",
        "  price_total = 0\n",
        "  for key, (name, price) in menu_items.items():\n",
        "    count = orders.get((key, False), 0)\n",
        "    count_set = orders.get((key, True), 0)\n",
        "    print(f\" {name} {count}개 : {count * price}원\")\n",
        "    print(f\" {name} 세트 {count_set}개 : {count_set * (price + set_price)}원\")\n",
        "    price_total += (count * price) + (count_set * (price + set_price))\n",
        "  print(f\" 총 금액 {price_total}원\\n\")\n",
        "\n",
        "\n",
        "def add_order(menu_id, is_set):\n",
        "  item_name, item_price = menu_items[menu_id]\n",
        "  if is_set:\n",
        "    item_price += set_price\n",
        "  num = input(f\"\\n {item_name}{' 세트' if is_set else ''} 몇개 주문 하시겠습니다까 ?  \\m\")\n",
        "  if num.isdigit() and int(num) > 0:\n",
        "    orders[(menu_id, is_set)] = orders.get((menu_id, is_set), 0) + int(num) # orders는 {(menu_id, is_set):num}\n",
        "    print(f\"\\n{item_name}{' 세트' if is_set else ''} {num}개가 장바구니에 담겼습니다. \\n\")\n",
        "  else:\n",
        "    print(\"양수만 입력\")\n",
        "\n",
        "\n",
        "def process_order():\n",
        "  while True:\n",
        "    msg = input(\" 주문을 하시겠습니까 ?? ( y 또는 n ) >> \").strip().lower()\n",
        "    if msg == 'y':\n",
        "      while True:\n",
        "        display_menu()\n",
        "        display_order_summary()\n",
        "        choice = input(\" 주문할 메뉴를 골라주세요 . (불고기 비빔밥 : 1, 야채 비빔밥 : 2, 전주 비빔밥 : 3, \\\n",
        "        전체 취소 : 0, 결제 : 5) >> \").strip().lower()\n",
        "        if choice in menu_items:\n",
        "          set_choice = input(\" \\n 3000원을 추가해 세트로 주문하시겠습니까 ? (일반주문시: n, 세트주문시: y)\\n\").strip().lower()\n",
        "          if set_choice in ['y', 'n']:\n",
        "            add_order(choice, set_choice == 'y')\n",
        "          else:\n",
        "            print(\"올바른 선택을 입력하세요 ( y 또는 n ) \")\n",
        "        elif choice == '0':\n",
        "          orders.clear()\n",
        "          print(\"\\n 모든 주문이 취소되었습니다 \")\n",
        "        elif choice == '5':\n",
        "          if price_total > 0:\n",
        "            print(f'\\n 주문하려면 결제해주세요 결제금액 {price_total}원 입니다. \\n')\n",
        "            input(\"결제를 완료하려면 아무 키나 누르세요.... \") # 사용자가 결제를 확인할 수 있도록 입력 대기\n",
        "            print(f\"\\n 총 금액 {price_total}원이 결제 되었습니다. 감사합니다.\")\n",
        "            orders.clear()\n",
        "            break\n",
        "          else:\n",
        "            print('메뉴를 고르고 주문해주세요!')\n",
        "      else:\n",
        "        print('메뉴의 지정된 숫자로 입력해주세요')\n",
        "    else:\n",
        "      print('감사합니다.')\n",
        "      break\n",
        "\n",
        "if __name__ == \"__main__\":\n",
        "    process_order()\n"
      ],
      "metadata": {
        "id": "Jrt3puq7UeGc",
        "colab": {
          "base_uri": "https://localhost:8080/"
        },
        "outputId": "d1a949da-11dd-440c-a923-40ff7c1cd012"
      },
      "execution_count": null,
      "outputs": [
        {
          "output_type": "stream",
          "name": "stdout",
          "text": [
            " 주문을 하시겠습니까 ?? ( y 또는 n ) >> n\n",
            "감사합니다.\n"
          ]
        }
      ]
    },
    {
      "cell_type": "markdown",
      "source": [
        "Task2_0503. 내장함수 5개를 활용해서 사용자 함수로 간단한 프로그램을 만드세요.\n",
        "\n",
        "[예시] 문서관리 프로그램\n",
        "\n",
        "len() - 문자열의 길이를 계산합니다.\\\n",
        "input() - 사용자로부터 입력을 받습니다.\\\n",
        "print() - 결과를 출력합니다.\\\n",
        "sum() - 주어진 조건에 따라 특정 개수를 계산합니다.\\\n",
        "Counter (from collections) - 문자의 빈도수를 계산합니다."
      ],
      "metadata": {
        "id": "uXo8kgzRUdPQ"
      }
    },
    {
      "cell_type": "code",
      "source": [
        "print(\"덧셈 계산기\")\n",
        "number1 = int(input(\"첫번쨰 숫자를 입력하세요 \"))\n",
        "number2 = int(input(\"두번쨰 숫자를 입력하세요 \"))\n",
        "sum = 0\n",
        "\n",
        "if int(len(str(number1))) >= 5 and int(len(str(number2))) >= 5:\n",
        "  sum = number1 + number2\n",
        "  print(sum,\"문제가 조금 어렵네요 ㅎㅎ\")\n",
        "elif int(len(str(number1))) <= 5 and int(len(str(number2))) <= 5:\n",
        "  sum = number1 + number2\n",
        "  print(sum,\"문제가 쉽네요 ㅎㅎ\")\n",
        "\n"
      ],
      "metadata": {
        "colab": {
          "base_uri": "https://localhost:8080/"
        },
        "id": "_jEdC-Is537E",
        "outputId": "08eed193-6df5-4618-cb94-692cf804a635"
      },
      "execution_count": null,
      "outputs": [
        {
          "output_type": "stream",
          "name": "stdout",
          "text": [
            "덧셈 계산기\n",
            "첫번쨰 숫자를 입력하세요 1\n",
            "두번쨰 숫자를 입력하세요 2\n",
            "3 문제가 쉽네요 ㅎㅎ\n"
          ]
        }
      ]
    },
    {
      "cell_type": "code",
      "source": [
        "def string_statistics(user_input):\n",
        "  # 문자열 길이 반환\n",
        "  length = len(user_input)\n",
        "\n",
        "  # 가장 자주 등장하는 문자 찾기\n",
        "  from collections import Counter\n",
        "  frequency = Counter(user_input)\n",
        "  most_common = frequency.most_common(1)[0][0]\n",
        "\n",
        "  # 숫자 개수 세기\n",
        "  num_count = sum(c.isdigit() for c in user_input)\n",
        "\n",
        "  # 대문자 개수 세기\n",
        "  uppercase_count = sum(c.isupper() for c in user_input)\n",
        "\n",
        "  # 소문자 개수 세기\n",
        "  lowercase_count = sum(c.islower() for c in user_input)\n",
        "\n",
        "  # 결과 출력\n",
        "  print(f\"입력된 문자열의 길이: {length}\")\n",
        "  print(f\"가장 자주 등장하는 문자: {most_common}\")\n",
        "  print(f\"숫자의 개수: {num_count}\")\n",
        "  print(f\"대문자의 개수: {uppercase_count}\")\n",
        "  print(f\"소문자의 개수: {lowercase_count}\")\n",
        "\n",
        "  # 사용자 입력 받기\n",
        "user_input = input(\"문자열을 입력하세요 \")\n",
        "string_statistics(user_input)"
      ],
      "metadata": {
        "colab": {
          "base_uri": "https://localhost:8080/"
        },
        "id": "Umu44Rm6AiPg",
        "outputId": "875fb2fd-5bd1-4375-a8ce-76079217ec12"
      },
      "execution_count": null,
      "outputs": [
        {
          "output_type": "stream",
          "name": "stdout",
          "text": [
            "문자열을 입력하세요 gd\n",
            "입력된 문자열의 길이: 2\n",
            "가장 자주 등장하는 문자: g\n",
            "숫자의 개수: 0\n",
            "대문자의 개수: 0\n",
            "소문자의 개수: 2\n"
          ]
        }
      ]
    },
    {
      "cell_type": "markdown",
      "source": [
        "\n",
        "Task3_0503. 외장함수 3개 이상 활용해서 간단한 프로그램을 만드세요\n",
        "\n"
      ],
      "metadata": {
        "id": "F3ogi-F5U1g-"
      }
    },
    {
      "cell_type": "code",
      "source": [
        "import math\n",
        "\n",
        "num1 = int(input(\"첫번째 숫자 입력 : \"))\n",
        "num2 = int(input(\"두번째 숫자 입력 : \"))\n",
        "\n",
        "print(math.sqrt(num1)) # 제곱근\n",
        "print(math.sqrt(num2)) # 제곱근\n",
        "print(math.pow(num1,num2)) # 제곱\n",
        "print(math.pow(num1,num1)) # 제곱\n",
        "print(math.pow(num2,num2)) # 제곱\n",
        "print(math.factorial(num1)) # 팩토리얼\n",
        "print(math.factorial(num2)) # 팩토리얼"
      ],
      "metadata": {
        "colab": {
          "base_uri": "https://localhost:8080/"
        },
        "id": "Eoxg6EmFWG7s",
        "outputId": "43666f22-a13a-4437-c8c7-29cb64040fb5"
      },
      "execution_count": null,
      "outputs": [
        {
          "output_type": "stream",
          "name": "stdout",
          "text": [
            "첫번째 숫자 입력 : 5\n",
            "두번째 숫자 입력 : 2\n",
            "2.23606797749979\n",
            "1.4142135623730951\n",
            "25.0\n",
            "3125.0\n",
            "4.0\n",
            "120\n",
            "2\n"
          ]
        }
      ]
    },
    {
      "cell_type": "code",
      "source": [
        "import os\n",
        "import datetime\n",
        "import shutil\n",
        "\n",
        "def daily_scheduler():\n",
        "  # 현재 날짜와 시간을 가져옵니다\n",
        "  today = datetime.datetime.now()\n",
        "  date_string = today.strftime(\"%Y-%m-%d %H:%M:%S\")\n",
        "  print(f\"오늘의 날짜와 시간: {date_string}\")\n",
        "  # 작업 파일의 이름을 정합니다\n",
        "  filename = f\"tasks_{today.strftime('%Y%m%d')}.txt\"\n",
        "  # 파일이 이미 존재하는지 확인합니다\n",
        "  if os.path.exists(filename):\n",
        "    print(f\"'{filename}' 파일이 이미 존재합니다. 백업을 생성합니다 \")\n",
        "    # 백업 파일 생성\n",
        "    shutil.copy(filename, filename + \".bak\")\n",
        "  else:\n",
        "    print(f\"'{filename} 파일이 존재하지 않습니다 새로운 파일을 생성합니다\")\n",
        "  # 사용자로부터 오늘의 주요 작업을 입력받습니다\n",
        "  task = input(\"오늘의 주요 작업을 입력하세요 : \")\n",
        "  # 작업 내용을 파일에 저장합니다\n",
        "  with open(filename, 'a') as file:\n",
        "    file.write(f\"{date_string}: {task}\\n\")\n",
        "  print(f\"'{filename}' 파일에 작업이 저장되었습니다\")\n",
        "\n",
        "if __name__ == \"__main__\":\n",
        "    daily_scheduler()"
      ],
      "metadata": {
        "colab": {
          "base_uri": "https://localhost:8080/"
        },
        "id": "maeQVqyjFB6J",
        "outputId": "b0b5d0b9-e7aa-4d08-dd7d-d7e8b0133aca"
      },
      "execution_count": null,
      "outputs": [
        {
          "output_type": "stream",
          "name": "stdout",
          "text": [
            "오늘의 날짜와 시간: 2024-05-07 03:35:38\n",
            "'tasks_20240507.txt 파일이 존재하지 않습니다 새로운 파일을 생성합니다\n",
            "오늘의 주요 작업을 입력하세요 : 점심 식사\n",
            "'tasks_20240507.txt' 파일에 작업이 저장되었습니다\n"
          ]
        }
      ]
    },
    {
      "cell_type": "markdown",
      "source": [
        "Task4_0503. 리스트를 작성하고 람다 함수를 이용해서 한번에 함수를 적용하여 결과값을 출력하세요."
      ],
      "metadata": {
        "id": "BjzuUaKMWHIi"
      }
    },
    {
      "cell_type": "code",
      "source": [
        "numbers = [1, 2, 3, 4, 5]\n",
        "squared_numbers = map(lambda x: x * x, numbers)\n",
        "print(list(squared_numbers))"
      ],
      "metadata": {
        "colab": {
          "base_uri": "https://localhost:8080/"
        },
        "id": "lAw4jOl-WHae",
        "outputId": "05a3c2a4-c064-482f-f178-37fa78e8b814"
      },
      "execution_count": null,
      "outputs": [
        {
          "output_type": "stream",
          "name": "stdout",
          "text": [
            "[1, 4, 9, 16, 25]\n"
          ]
        }
      ]
    },
    {
      "cell_type": "code",
      "source": [
        "# 짝수\n",
        "numbers = [1, 2, 3, 4, 5]\n",
        "filtered_numbers = filter(lambda x: x % 2 == 0, numbers)\n",
        "print(list(filtered_numbers))"
      ],
      "metadata": {
        "colab": {
          "base_uri": "https://localhost:8080/"
        },
        "id": "W9jnbtjDJjv9",
        "outputId": "30cfe670-24e9-4ff6-880a-e8145dd18943"
      },
      "execution_count": null,
      "outputs": [
        {
          "output_type": "stream",
          "name": "stdout",
          "text": [
            "[2, 4]\n"
          ]
        }
      ]
    },
    {
      "cell_type": "markdown",
      "source": [
        "Task5_0503. 외부 라리브러리를 임포트해서 간단한 프로그램을 만드세요.\n",
        "\n",
        "from bs4 import BeautifulSoup\n",
        "html_doc = \"<html><head><title>Hello World</title></head></html>\"\n",
        "soup = BeautifulSoup(html_doc, 'html.parser')\n",
        "print(soup.title.text)"
      ],
      "metadata": {
        "id": "gr08KP05WHmt"
      }
    },
    {
      "cell_type": "code",
      "source": [
        "!pip install requests -q"
      ],
      "metadata": {
        "id": "RkhYdexdWIN8"
      },
      "execution_count": null,
      "outputs": []
    },
    {
      "cell_type": "code",
      "source": [
        "import requests\n",
        "from bs4 import BeautifulSoup\n",
        "\n",
        "def fetch_website_content(url):\n",
        "  # URL에서 데이터를 가져옵니다\n",
        "  response = requests.get(url)\n",
        "  if response.status_code == 200:\n",
        "    # HTML 내용을 BeautifulSoup 객체로 파싱합니다\n",
        "    soup = BeautifulSoup(response.text, 'html.parser')\n",
        "\n",
        "    # 예제: 페이지 타이틀을 출력합니다\n",
        "    print(\"Page Title:\", soup.title.string if soup.title else \"No title found\")\n",
        "  else:\n",
        "    print(\"Failed to retrieve the webpage\")\n",
        "    print(\"Status code: \", response.status_code)\n",
        "\n",
        "if __name__ == \"__main__\":\n",
        "  url = input(\"저장하고 싳은 웹사이트의 URL을 입력하세요 \")\n",
        "  fetch_website_content(url)"
      ],
      "metadata": {
        "colab": {
          "base_uri": "https://localhost:8080/"
        },
        "id": "g_c2HInuYycf",
        "outputId": "3e48acc4-39a6-4137-8d26-7330faf11994"
      },
      "execution_count": null,
      "outputs": [
        {
          "output_type": "stream",
          "name": "stdout",
          "text": [
            "저장하고 싳은 웹사이트의 URL을 입력하세요 https://www.naver.com/\n",
            "Page Title: NAVER\n"
          ]
        }
      ]
    },
    {
      "cell_type": "code",
      "source": [],
      "metadata": {
        "id": "CkPIykP6t5Oj"
      },
      "execution_count": null,
      "outputs": []
    },
    {
      "cell_type": "markdown",
      "source": [
        "## 2024년 5월 7일"
      ],
      "metadata": {
        "id": "TweR4TGitCBN"
      }
    },
    {
      "cell_type": "markdown",
      "source": [
        "Task1_0507. 튜플 형태인 strings를 다양한 문자가 포함된 순서로 정렬하세요.\n",
        "\n",
        "strings = ('a', 'ca', 'bar', 'aaaa', 'ababa')"
      ],
      "metadata": {
        "id": "kfUv0dpetL4l"
      }
    },
    {
      "cell_type": "code",
      "source": [
        "strings = ('a', 'ca', 'bar', 'aaaa', 'ababa')\n",
        "sorted_strings = sorted(strings, key = lambda x: len(set(x)), reverse = True)\n",
        "print(sorted_strings)"
      ],
      "metadata": {
        "id": "IzZntXUDwpgV",
        "colab": {
          "base_uri": "https://localhost:8080/"
        },
        "outputId": "e62443f2-4aa9-46a1-baf4-cf62e2e43537"
      },
      "execution_count": null,
      "outputs": [
        {
          "output_type": "stream",
          "name": "stdout",
          "text": [
            "['bar', 'ca', 'ababa', 'a', 'aaaa']\n"
          ]
        }
      ]
    },
    {
      "cell_type": "code",
      "source": [
        "strings = ('a', 'ca', 'bar', 'aaaa', 'ababa')\n",
        "strings = list(strings)\n",
        "strings.sort(key=lambda x: len(set(x)), reverse =True)\n",
        "print(list(strings))"
      ],
      "metadata": {
        "colab": {
          "base_uri": "https://localhost:8080/"
        },
        "id": "vdb-oqGSmXM_",
        "outputId": "ce8e2ffb-6878-4918-e1b5-c3557ce2cd46"
      },
      "execution_count": null,
      "outputs": [
        {
          "output_type": "stream",
          "name": "stdout",
          "text": [
            "['bar', 'ca', 'ababa', 'a', 'aaaa']\n"
          ]
        }
      ]
    },
    {
      "cell_type": "markdown",
      "source": [
        "Task2_0507. a,b 변수와 연산자를 입력하면 사칙연산을 수행하는 코드를 작성하세요.(eval 사용하는 경우와 안하는 경우)"
      ],
      "metadata": {
        "id": "aSVJm0FJtRfk"
      }
    },
    {
      "cell_type": "code",
      "source": [
        "num = input(\"계산할 수식을 입력하세요 \")\n",
        "result = eval(num)\n",
        "print(f\"계산 결과 :  {result}\")"
      ],
      "metadata": {
        "colab": {
          "base_uri": "https://localhost:8080/"
        },
        "id": "4IuOIsGTwqmu",
        "outputId": "67faa623-9912-47d4-9aff-e33fc63edf65"
      },
      "execution_count": null,
      "outputs": [
        {
          "output_type": "stream",
          "name": "stdout",
          "text": [
            "계산할 수식을 입력하세요 5+5\n",
            "계산 결과 :  10\n"
          ]
        }
      ]
    },
    {
      "cell_type": "code",
      "source": [
        "num = input(\"수식 입력  >  \")\n",
        "maths = ['+', '-', '/', '*']\n",
        "math = {'+': lambda a,b:a+b, '-': lambda a,b:a-b, '/':lambda a,b:a/b, '*':lambda a,b:a*b }\n",
        "\n",
        "num_list = list(num)\n",
        "for i in num_list:\n",
        "  if i in maths:\n",
        "    num = num.split(i)\n",
        "    print(math[i](int(num[0]), int(num[1])))\n"
      ],
      "metadata": {
        "colab": {
          "base_uri": "https://localhost:8080/"
        },
        "id": "e8mR4TQcnur6",
        "outputId": "1aa7e77c-dbda-4524-92d1-7d6c2c3ca9f2"
      },
      "execution_count": null,
      "outputs": [
        {
          "output_type": "stream",
          "name": "stdout",
          "text": [
            "수식 입력  >  5+5\n",
            "10\n"
          ]
        }
      ]
    },
    {
      "cell_type": "code",
      "source": [
        "num1 = int(input(\"첫번쨰 숫자를 입력하세요 >> \"))\n",
        "num2 = int(input(\"두번쨰 숫자를 입력하세요 >> \"))\n",
        "\n",
        "math = input(\"사칙 연산을 입력하세요 \")\n",
        "\n",
        "if math == '+':\n",
        "  number = num1 + num2\n",
        "  print(number)\n",
        "elif math == '-':\n",
        "  number = num1 - num2\n",
        "  print(number)\n",
        "elif math == '*':\n",
        "  number = num1 * num2\n",
        "  print(number)\n",
        "elif math == '/':\n",
        "  number = num1 % num2\n",
        "  print(number)\n"
      ],
      "metadata": {
        "colab": {
          "base_uri": "https://localhost:8080/"
        },
        "id": "wPW8J2I54XeS",
        "outputId": "cd0200e6-e30b-41ef-f0b5-514ef58fdee2"
      },
      "execution_count": null,
      "outputs": [
        {
          "output_type": "stream",
          "name": "stdout",
          "text": [
            "첫번쨰 숫자를 입력하세요 >> 2\n",
            "두번쨰 숫자를 입력하세요 >> 8\n",
            "사칙 연산을 입력하세요 /\n",
            "2\n"
          ]
        }
      ]
    },
    {
      "cell_type": "markdown",
      "source": [
        "Task3_0507. list1에 대해서 아래와 같이 출력하는 코드를 작성하세요.\n",
        "\n",
        "인사평가 1번째 해당자는 김부장입니다. 회의실A로 오시기 바랍니다.\\\n",
        "인사평가 2번째 해당자는 이차장입니다. 회의실A로 오시기 바랍니다.\\\n",
        "인사평가 3번째 해당자는 김과장입니다. 회의실A로 오시기 바랍니다.\\\n",
        "인사평가 4번째 해당자는 이대리입니다. 회의실A로 오시기 바랍니다.\\\n",
        "인사평가 5번째 해당자는 오사원입니다. 회의실A로 오시기 바랍니다.\\\n",
        "인사평가 6번째 해당자는 김인턴입니다. 회의실A로 오시기 바랍니다."
      ],
      "metadata": {
        "id": "TpPYZDC9zgtQ"
      }
    },
    {
      "cell_type": "code",
      "source": [
        "list1 = ['김부장', '이차장', '김과장', '이대리', '오사원', '김인턴']\n",
        "\n",
        "for i, a in enumerate(list1):\n",
        "  print(f'인사평가 {i+1}번째 해당자는 {a}입니다. 회의실A로 오시기 바랍니다. ')"
      ],
      "metadata": {
        "colab": {
          "base_uri": "https://localhost:8080/"
        },
        "id": "1P2jw_Oyz2FX",
        "outputId": "60e437cb-04f6-4a2a-9e96-afe9346ae8ec"
      },
      "execution_count": null,
      "outputs": [
        {
          "output_type": "stream",
          "name": "stdout",
          "text": [
            "인사평가 1번째 해당자는 김부장입니다. 회의실A로 오시기 바랍니다. \n",
            "인사평가 2번째 해당자는 이차장입니다. 회의실A로 오시기 바랍니다. \n",
            "인사평가 3번째 해당자는 김과장입니다. 회의실A로 오시기 바랍니다. \n",
            "인사평가 4번째 해당자는 이대리입니다. 회의실A로 오시기 바랍니다. \n",
            "인사평가 5번째 해당자는 오사원입니다. 회의실A로 오시기 바랍니다. \n",
            "인사평가 6번째 해당자는 김인턴입니다. 회의실A로 오시기 바랍니다. \n"
          ]
        }
      ]
    },
    {
      "cell_type": "markdown",
      "source": [
        "Task4_0507. 주어진 문자열 리스트의 요소들을 대문자로 변환하세요.\n",
        "words = [\"hello\", \"world\", \"python\", \"map\"]"
      ],
      "metadata": {
        "id": "St2gpf7Lz2SD"
      }
    },
    {
      "cell_type": "code",
      "source": [
        "words = [\"hello\", \"world\", \"python\", \"map\"]\n",
        "\n",
        "upper = []\n",
        "for i in words:\n",
        "    upper.append(i.upper())\n",
        "print(upper)"
      ],
      "metadata": {
        "colab": {
          "base_uri": "https://localhost:8080/"
        },
        "id": "xlsK39XZ0E8Y",
        "outputId": "3fb0505b-3fdc-4463-a4d0-75c9e152d91d"
      },
      "execution_count": null,
      "outputs": [
        {
          "output_type": "stream",
          "name": "stdout",
          "text": [
            "['HELLO', 'WORLD', 'PYTHON', 'MAP']\n"
          ]
        }
      ]
    },
    {
      "cell_type": "code",
      "source": [
        "words = [\"hello\", \"world\", \"python\", \"map\"]\n",
        "print([i.upper() for i in words])"
      ],
      "metadata": {
        "colab": {
          "base_uri": "https://localhost:8080/"
        },
        "id": "kxtPlOuAq5h3",
        "outputId": "65090658-2c99-4b01-d056-e299bbc39532"
      },
      "execution_count": null,
      "outputs": [
        {
          "output_type": "stream",
          "name": "stdout",
          "text": [
            "['HELLO', 'WORLD', 'PYTHON', 'MAP']\n"
          ]
        }
      ]
    },
    {
      "cell_type": "code",
      "source": [
        "# 요소를 이용\n",
        "result = []\n",
        "words = [\"hello\", \"world\", \"python\", \"map\"]\n",
        "for word in words:\n",
        "  result.append(word.upper())\n",
        "print(result)"
      ],
      "metadata": {
        "colab": {
          "base_uri": "https://localhost:8080/"
        },
        "id": "ugkBJSMPubVP",
        "outputId": "d0089d66-943a-4c78-f49e-36f74edb9fba"
      },
      "execution_count": null,
      "outputs": [
        {
          "output_type": "stream",
          "name": "stdout",
          "text": [
            "['HELLO', 'WORLD', 'PYTHON', 'MAP']\n"
          ]
        }
      ]
    },
    {
      "cell_type": "code",
      "source": [
        "# str.upper는 문자열의 모든 문자를 대문자로 변환하는 메소드\n",
        "words = [\"hello\", \"world\", \"python\", \"map\"]\n",
        "upper_words = list(map(str.upper, words))\n",
        "print(upper_words)"
      ],
      "metadata": {
        "colab": {
          "base_uri": "https://localhost:8080/"
        },
        "id": "DcXRpeknvlgJ",
        "outputId": "cec4b6bb-7caa-4e91-d267-a0505993a473"
      },
      "execution_count": null,
      "outputs": [
        {
          "output_type": "stream",
          "name": "stdout",
          "text": [
            "['HELLO', 'WORLD', 'PYTHON', 'MAP']\n"
          ]
        }
      ]
    },
    {
      "cell_type": "markdown",
      "source": [
        "Task5_0507. 주어진 리스트에서 'p'로 시작하는 단어만 필터링하세요.\n",
        "\n",
        "words = [\"python\", \"is\", \"powerful\", \"programming\", \"language\", \"pandas\"]"
      ],
      "metadata": {
        "id": "E-CEdesI0FLD"
      }
    },
    {
      "cell_type": "code",
      "source": [
        "words = [\"python\", \"is\", \"powerful\", \"programming\", \"language\", \"pandas\"]\n",
        "filtered_words = filter(lambda x: x[0] == 'p', words)\n",
        "print(list(filtered_words))"
      ],
      "metadata": {
        "colab": {
          "base_uri": "https://localhost:8080/"
        },
        "id": "nGM6C3HC0PjK",
        "outputId": "6d30947a-be16-4d06-a4ee-7a6c43378663"
      },
      "execution_count": null,
      "outputs": [
        {
          "output_type": "stream",
          "name": "stdout",
          "text": [
            "['python', 'powerful', 'programming', 'pandas']\n"
          ]
        }
      ]
    },
    {
      "cell_type": "code",
      "source": [
        "words = [\"python\", \"is\", \"powerful\", \"programming\", \"language\", \"pandas\"]\n",
        "print([i for i in words if i.startswith('p')]) # 조건을 만족하는 요소를 출력"
      ],
      "metadata": {
        "colab": {
          "base_uri": "https://localhost:8080/"
        },
        "id": "yIOwyvlIwo_b",
        "outputId": "4d2747fe-6fd2-4f93-f1bc-a1ded3351711"
      },
      "execution_count": null,
      "outputs": [
        {
          "output_type": "stream",
          "name": "stdout",
          "text": [
            "['python', 'powerful', 'programming', 'pandas']\n"
          ]
        }
      ]
    },
    {
      "cell_type": "code",
      "source": [
        "words = [\"python\", \"is\", \"powerful\", \"programming\", \"language\", \"pandas\"]\n",
        "p_words = list(filter(lambda x: x.startswith('p'), words))\n",
        "print(p_words)"
      ],
      "metadata": {
        "colab": {
          "base_uri": "https://localhost:8080/"
        },
        "id": "cqMPECObxG-f",
        "outputId": "e6ccc91a-6450-44e0-e7c9-c002e10d4c75"
      },
      "execution_count": null,
      "outputs": [
        {
          "output_type": "stream",
          "name": "stdout",
          "text": [
            "['python', 'powerful', 'programming', 'pandas']\n"
          ]
        }
      ]
    },
    {
      "cell_type": "markdown",
      "source": [
        "Task6_0507. 내장함수를 이용해서 list = [0,1,2,3,4,5,6]에서 2를 삭제 후 출력하세요.(2가지 방법)"
      ],
      "metadata": {
        "id": "Ad7u5TOK0UhJ"
      }
    },
    {
      "cell_type": "code",
      "source": [
        "list = [0, 1, 2, 3, 4, 5, 6]\n",
        "\n",
        "del list[2]\n",
        "print(list)\n"
      ],
      "metadata": {
        "id": "Air7C6uZ0U7d",
        "colab": {
          "base_uri": "https://localhost:8080/"
        },
        "outputId": "1d134abb-bd33-470b-baa1-5c52b1848f39"
      },
      "execution_count": null,
      "outputs": [
        {
          "output_type": "stream",
          "name": "stdout",
          "text": [
            "[0, 1, 3, 4, 5, 6]\n"
          ]
        }
      ]
    },
    {
      "cell_type": "code",
      "source": [
        "list = [0, 1, 2, 3, 4, 5, 6]\n",
        "list.remove(2) # 값\n",
        "print(list)\n"
      ],
      "metadata": {
        "colab": {
          "base_uri": "https://localhost:8080/"
        },
        "id": "SM8NZLsEyd1C",
        "outputId": "aa0a5974-26df-408b-af43-0d7516bd77ac"
      },
      "execution_count": null,
      "outputs": [
        {
          "output_type": "stream",
          "name": "stdout",
          "text": [
            "[0, 1, 3, 4, 5, 6]\n"
          ]
        }
      ]
    },
    {
      "cell_type": "code",
      "source": [
        "list = [0, 1, 2, 3, 4, 5, 6]\n",
        "list.pop(2) # 인덱스\n",
        "print(list)"
      ],
      "metadata": {
        "colab": {
          "base_uri": "https://localhost:8080/"
        },
        "id": "IBSSeuD7ykNr",
        "outputId": "5643b0e1-5145-4a59-c638-05287b11409c"
      },
      "execution_count": null,
      "outputs": [
        {
          "output_type": "stream",
          "name": "stdout",
          "text": [
            "[0, 1, 3, 4, 5, 6]\n"
          ]
        }
      ]
    },
    {
      "cell_type": "markdown",
      "source": [
        "Task7_0507. 내장함수를 이용하여 동일한 개수로 이루어진 자료형을 화살표 좌측에서 우측으로 변환하세요.\n",
        "\n",
        "[1,2,3],[4,5,6] -> [(1,4),(2,5),(3,6)]\\\n",
        "[1,2,3],[4,5,6] [7,8,9] -> [(1,4,7),(2,5,8),(3,6,9)]\\\n",
        "('abc','def') -> [('a','d'),('b','e'),('c','f')]"
      ],
      "metadata": {
        "id": "pfonn9F10lS-"
      }
    },
    {
      "cell_type": "code",
      "source": [
        "list1 = [1,2,3]\n",
        "list2 = [4,5,6]\n",
        "list3 = [7,8,9]\n",
        "tuple4 = ('abc', 'def')\n",
        "print([i for i in zip(list1, list2)])\n",
        "print([i for i in zip(list1, list2, list3)])\n",
        "print([i for i in zip(tuple4[0],tuple4[1])])"
      ],
      "metadata": {
        "id": "I1QkLojMLpX_",
        "colab": {
          "base_uri": "https://localhost:8080/"
        },
        "outputId": "d1d779d1-c717-4125-bb38-9fe159aecf0c"
      },
      "execution_count": null,
      "outputs": [
        {
          "output_type": "stream",
          "name": "stdout",
          "text": [
            "[(1, 4), (2, 5), (3, 6)]\n",
            "[(1, 4, 7), (2, 5, 8), (3, 6, 9)]\n",
            "[('a', 'd'), ('b', 'e'), ('c', 'f')]\n"
          ]
        }
      ]
    },
    {
      "cell_type": "markdown",
      "source": [
        "Task8_0507. url에서 호스트 도메인(news.naver.com)을 추출하여 출력하세요.\n",
        "\n",
        "url = 'http://news.naver.com/main/read.nhn?mode=LSD&mid=shm&sid1=105&oid=028&aid=0002334601'"
      ],
      "metadata": {
        "id": "SVTI8nWk2GnW"
      }
    },
    {
      "cell_type": "code",
      "source": [
        "url = 'http://news.naver.com/main/read.nhn?mode=LSD&mid=shm&sid1=105&oid=028&aid=0002334601'\n",
        "print(url.split('/')[2])"
      ],
      "metadata": {
        "colab": {
          "base_uri": "https://localhost:8080/"
        },
        "id": "jQXGOgVc0rG0",
        "outputId": "384450eb-5225-4c9c-e3c5-d3f8971dd388"
      },
      "execution_count": null,
      "outputs": [
        {
          "output_type": "stream",
          "name": "stdout",
          "text": [
            "news.naver.com\n"
          ]
        }
      ]
    },
    {
      "cell_type": "code",
      "source": [
        "print(range(10), type(range(10)))\n",
        "print([ i for i in range(10)])\n",
        "print(type([i for i in range(10)]))"
      ],
      "metadata": {
        "colab": {
          "base_uri": "https://localhost:8080/"
        },
        "id": "ACHzWXe81xFC",
        "outputId": "6f88e6bd-7227-4fc8-983e-454f40097f83"
      },
      "execution_count": null,
      "outputs": [
        {
          "output_type": "stream",
          "name": "stdout",
          "text": [
            "range(0, 10) <class 'range'>\n",
            "[0, 1, 2, 3, 4, 5, 6, 7, 8, 9]\n",
            "<class 'list'>\n"
          ]
        }
      ]
    },
    {
      "cell_type": "markdown",
      "source": [
        "## 2024년 5월 8일"
      ],
      "metadata": {
        "id": "SRujqLVNC_Jx"
      }
    },
    {
      "cell_type": "markdown",
      "source": [
        "Task1_0508. title() 함수를 사용하지 않고 동일한 결과를 출력하세요\n",
        "\n",
        "lee bum seok -> Lee Bum Seok"
      ],
      "metadata": {
        "id": "Mo3olw1-DEpl"
      }
    },
    {
      "cell_type": "code",
      "source": [
        "\n",
        "def name(s):\n",
        "    txt = input(\"영어 이름 >>\")\n",
        "    words = txt.split()  # 문자열을 공백을 기준으로 나눠 리스트로 변환\n",
        "    english = [word.capitalize() for word in words]  # 각 단어의 첫 글자를 대문자로 변환\n",
        "    return \" \".join(english)  # 리스트의 단어들을 다시 공백으로 연결하여 문자열로 반환\n",
        "\n",
        "print(name(txt))"
      ],
      "metadata": {
        "id": "NUjsvLUXOovP",
        "colab": {
          "base_uri": "https://localhost:8080/"
        },
        "outputId": "05c872c4-bb78-484e-dcff-c86f1681839c"
      },
      "execution_count": null,
      "outputs": [
        {
          "output_type": "stream",
          "name": "stdout",
          "text": [
            "영어 이름 >>lee bum seok\n",
            "Lee Bum Seok\n"
          ]
        }
      ]
    },
    {
      "cell_type": "code",
      "source": [
        "a = input(\"이름을 영어로 입력하세요.\")\n",
        "\n",
        "b=a.strip().split(\" \")\n",
        "e =\"\"\n",
        "\n",
        "for i in range(len(b)):\n",
        "    c = list(b[i])\n",
        "\n",
        "    c[0] = c[0].upper()\n",
        "    d = \"\".join(c)\n",
        "    c = []\n",
        "    e = e + d + \" \"\n",
        "print(f\"당신의 이름을 바꾸면 {e}입니다.\")"
      ],
      "metadata": {
        "id": "N9r_GAS53x6c"
      },
      "execution_count": null,
      "outputs": []
    },
    {
      "cell_type": "markdown",
      "source": [
        "Task2_0507. join 함수를 이용해서 ['a','b','c']을 아래와 같이 출력하세요.\n",
        "\n",
        "a::b::c"
      ],
      "metadata": {
        "id": "oqSnsYxCJZf6"
      }
    },
    {
      "cell_type": "code",
      "source": [
        "a = ['a','b','c']\n",
        "bond = '::'\n",
        "log = bond.join(a)\n",
        "print(log)"
      ],
      "metadata": {
        "colab": {
          "base_uri": "https://localhost:8080/"
        },
        "id": "km5gFKoNJZOe",
        "outputId": "bfe4ed8c-2d89-44d0-ea28-39ff77c3bc4d"
      },
      "execution_count": null,
      "outputs": [
        {
          "output_type": "stream",
          "name": "stdout",
          "text": [
            "a::b::c\n"
          ]
        }
      ]
    },
    {
      "cell_type": "code",
      "source": [
        "li = ['a','b','c']\n",
        "'::'.join(li)"
      ],
      "metadata": {
        "id": "Z04p-5Wc3zkV"
      },
      "execution_count": null,
      "outputs": []
    },
    {
      "cell_type": "markdown",
      "source": [
        "Task3_0508. 다음을 수행하세요.\n",
        "- 사용자로부터 문자열을 입력받습니다.\n",
        "- 입력받은 문자열이 숫자로만 이루어져 있는지 확인합니다.\n",
        "- 만약 숫자로만 이루어져 있다면, 그 숫자를 정수로 변환하여 100을 더한 결과를 출력합니다.\n",
        "- 숫자가 아닌 문자가 포함되어 있다면, 사용자에게 숫자만 입력하라는 메시지를 출력합니다.\n",
        "- 연산이 수행이 완료될 때까지 반복하고 수행이 완료되면 break 합니다."
      ],
      "metadata": {
        "id": "JP2cuhgjOofV"
      }
    },
    {
      "cell_type": "code",
      "source": [
        "\n",
        "while True:\n",
        "  txt = input(\"문자열 입력 >> \")\n",
        "  a = txt.isdigit()\n",
        "  if a == True:\n",
        "    result = int(txt) + 100\n",
        "    print(\"결과:\", result)\n",
        "    break\n",
        "  else:\n",
        "    print(\"숫자만 입력하세요.\")\n",
        "\n"
      ],
      "metadata": {
        "colab": {
          "base_uri": "https://localhost:8080/"
        },
        "id": "Db3mddH6Ss5s",
        "outputId": "915c1a9f-2bde-4973-9659-30d58d100f56"
      },
      "execution_count": null,
      "outputs": [
        {
          "output_type": "stream",
          "name": "stdout",
          "text": [
            "문자열 입력 >> 피지컬100\n",
            "숫자만 입력하세요.\n",
            "문자열 입력 >> 100\n",
            "결과: 200\n"
          ]
        }
      ]
    },
    {
      "cell_type": "code",
      "source": [
        "while 1:\n",
        "  num = input('숫자를 입력하세요.')\n",
        "  if num.isdigit():\n",
        "      print(int(num)+100)\n",
        "      break\n",
        "  else:\n",
        "      print('숫자만 입력하세요.')"
      ],
      "metadata": {
        "id": "hwiGf17I32bx"
      },
      "execution_count": null,
      "outputs": []
    },
    {
      "cell_type": "markdown",
      "source": [
        "Task4_0508. 문자와 숫자로만 구성된 아이디만 유효한 규칙을 만들려고 한다. 아래 사항을 참조하여 프로그램을 작성하세요.\n",
        "- 사용자로부터 문자열을 입력받습니다.\n",
        "- 입력받은 문자열이 알파벳과 숫자로만 이루어져 있는지 확인합니다.\n",
        "- 만약 조건을 만족한다면 \"유효한 아이디입니다\"라고 출력합니다.\n",
        "- 그렇지 않다면, \"아이디는 알파벳과 숫자만 포함할 수 있습니다\"라고 메시지를 출력합니다."
      ],
      "metadata": {
        "id": "kv8HtBHLQK4t"
      }
    },
    {
      "cell_type": "code",
      "source": [
        "txt = input(\"문자열 입력 >> \")\n",
        "\n",
        "ret = txt.isalnum()\n",
        "\n",
        "if ret == True:\n",
        "  print(\"유효한 아이디입니다 \")\n",
        "else:\n",
        "  print(\"아이디는 알파벳과 숫자만 포함할 수 있습니다\")"
      ],
      "metadata": {
        "colab": {
          "base_uri": "https://localhost:8080/"
        },
        "id": "QW4EM7yDQrMC",
        "outputId": "f2a0736d-db28-452a-a8be-a75a4b49c403"
      },
      "execution_count": null,
      "outputs": [
        {
          "output_type": "stream",
          "name": "stdout",
          "text": [
            "문자열 입력 >> 12345\n",
            "유효한 아이디입니다 \n"
          ]
        }
      ]
    },
    {
      "cell_type": "code",
      "source": [
        "\n",
        "while 1:\n",
        "    txt = input(\"문자열 입력 >> \")\n",
        "    ret = txt.isalnum()\n",
        "    if ret == True:\n",
        "      print(\"유효한 아이디입니다 \")\n",
        "      break\n",
        "    else:\n",
        "      print(\"아이디는 알파벳과 숫자만 포함할 수 있습니다\")"
      ],
      "metadata": {
        "colab": {
          "base_uri": "https://localhost:8080/"
        },
        "id": "HeLjZiWq4cUO",
        "outputId": "b9e30b3f-0d43-4702-d363-8c74c8662521"
      },
      "execution_count": null,
      "outputs": [
        {
          "output_type": "stream",
          "name": "stdout",
          "text": [
            "문자열 입력 >> 44%\n",
            "아이디는 알파벳과 숫자만 포함할 수 있습니다\n",
            "문자열 입력 >> hello\n",
            "유효한 아이디입니다 \n"
          ]
        }
      ]
    },
    {
      "cell_type": "markdown",
      "source": [
        "Task5_0508. 코딩을 한줄로 작성해서 동일한 결과를 출력하세요.\n",
        "list = []\n",
        "for i in range(0,20,2):\n",
        "    list.append(i*i)\n",
        "print(list)"
      ],
      "metadata": {
        "id": "nZTTHIABSsrg"
      }
    },
    {
      "cell_type": "code",
      "source": [
        "list = []\n",
        "for i in range(0,20,2):\n",
        "  list.append(i*i)\n",
        "print(list)\n",
        "\n",
        "print"
      ],
      "metadata": {
        "colab": {
          "base_uri": "https://localhost:8080/"
        },
        "id": "AE1z7UwkUUdR",
        "outputId": "c2f4062d-14e6-4302-af57-ea012166408d"
      },
      "execution_count": null,
      "outputs": [
        {
          "output_type": "stream",
          "name": "stdout",
          "text": [
            "[0, 4, 16, 36, 64, 100, 144, 196, 256, 324]\n"
          ]
        }
      ]
    },
    {
      "cell_type": "code",
      "source": [
        "print([i*i for i in range(0,20,2)])"
      ],
      "metadata": {
        "colab": {
          "base_uri": "https://localhost:8080/"
        },
        "id": "0fdd2LsW-Htr",
        "outputId": "b881827e-6d04-488a-e043-1032baa77302"
      },
      "execution_count": null,
      "outputs": [
        {
          "output_type": "stream",
          "name": "stdout",
          "text": [
            "[0, 4, 16, 36, 64, 100, 144, 196, 256, 324]\n"
          ]
        }
      ]
    },
    {
      "cell_type": "code",
      "source": [
        "print(list(map(lambda x: x*x, range(0,20,2))))"
      ],
      "metadata": {
        "id": "v3SFOIuJ5Cvy"
      },
      "execution_count": null,
      "outputs": []
    },
    {
      "cell_type": "markdown",
      "source": [
        "Task6_0508. 유닉스 타임스탬프를 받아서 해당 시간을 datetime.datetime 객체로 변환하고, 그 결과를 출력하는 사용자 함수를 작성하여 임의의 타임스탬프를 입력하여 결과를 출력하세요"
      ],
      "metadata": {
        "id": "tn0g4UWA5ETu"
      }
    },
    {
      "cell_type": "code",
      "source": [
        "import datetime\n",
        "\n",
        "timestamp = 1609160537\n",
        "dt = datetime.datetime.fromtimestamp(timestamp)\n",
        "\n",
        "print(dt)\n"
      ],
      "metadata": {
        "colab": {
          "base_uri": "https://localhost:8080/"
        },
        "id": "zlDVYqMs6MSB",
        "outputId": "06d031b6-990b-4d47-a756-0d4643829b6f"
      },
      "execution_count": null,
      "outputs": [
        {
          "output_type": "stream",
          "name": "stdout",
          "text": [
            "2020-12-28 13:02:17\n"
          ]
        }
      ]
    },
    {
      "cell_type": "code",
      "source": [
        "def timestamp_to_datetime(timestamp):\n",
        "    return datetime.fromtimestamp(timestamp)\n",
        "# timestamp = 1609160537.371015\n",
        "ts = float(input('timestamp을 입력하세요 >> '))\n",
        "dt = timestamp_to_datetime(ts)\n",
        "print(dt)"
      ],
      "metadata": {
        "id": "kPoADCfb6VZs"
      },
      "execution_count": null,
      "outputs": []
    },
    {
      "cell_type": "markdown",
      "source": [
        "Task7_0508. datetime 객체를 문자열로 변환하는 사용자 함수를 작성하여 datetime 객체를 \"YYYY-MM-DD HH:MM:SS\" 형식의 문자열로 변환하고 출력하세요."
      ],
      "metadata": {
        "id": "_v6NCUlb6Mgj"
      }
    },
    {
      "cell_type": "code",
      "source": [
        "from datetime import datetime\n",
        "\n",
        "s = datetime.now()\n",
        "\n",
        "s1 = s.strftime(\"%Y-%m-%d %H:%M:%S\")\n",
        "print(s1,type(s1))"
      ],
      "metadata": {
        "colab": {
          "base_uri": "https://localhost:8080/"
        },
        "id": "mHoTrQlL9vkH",
        "outputId": "d1235600-2f7d-4d93-c928-b8dbef6040ff"
      },
      "execution_count": null,
      "outputs": [
        {
          "output_type": "stream",
          "name": "stdout",
          "text": [
            "2024-05-08 07:50:43 <class 'str'>\n"
          ]
        }
      ]
    },
    {
      "cell_type": "code",
      "source": [
        "import datetime\n",
        "def datetime_to_string(dt):\n",
        "    return dt.strftime('%Y-%m-%d %H:%M:%S')\n",
        "\n",
        "dt = input('datetime을 입력하세요> ')\n",
        "dt = datetime.datetime.strptime(date_string, '%Y-%m-%d %H:%M:%S')\n",
        "s = datetime_to_string(dt)\n",
        "print(s)"
      ],
      "metadata": {
        "colab": {
          "base_uri": "https://localhost:8080/",
          "height": 239
        },
        "id": "z67MkXEI8kXf",
        "outputId": "016eb979-e04d-426a-e726-19dd23dacaee"
      },
      "execution_count": null,
      "outputs": [
        {
          "name": "stdout",
          "output_type": "stream",
          "text": [
            "datetime을 입력하세요> 2024-05-09 01:28:22\n"
          ]
        },
        {
          "output_type": "error",
          "ename": "NameError",
          "evalue": "name 'date_string' is not defined",
          "traceback": [
            "\u001b[0;31m---------------------------------------------------------------------------\u001b[0m",
            "\u001b[0;31mNameError\u001b[0m                                 Traceback (most recent call last)",
            "\u001b[0;32m<ipython-input-18-ece72ad02ba9>\u001b[0m in \u001b[0;36m<cell line: 6>\u001b[0;34m()\u001b[0m\n\u001b[1;32m      4\u001b[0m \u001b[0;34m\u001b[0m\u001b[0m\n\u001b[1;32m      5\u001b[0m \u001b[0mdt\u001b[0m \u001b[0;34m=\u001b[0m \u001b[0minput\u001b[0m\u001b[0;34m(\u001b[0m\u001b[0;34m'datetime을 입력하세요> '\u001b[0m\u001b[0;34m)\u001b[0m\u001b[0;34m\u001b[0m\u001b[0;34m\u001b[0m\u001b[0m\n\u001b[0;32m----> 6\u001b[0;31m \u001b[0mdt\u001b[0m \u001b[0;34m=\u001b[0m \u001b[0mdatetime\u001b[0m\u001b[0;34m.\u001b[0m\u001b[0mdatetime\u001b[0m\u001b[0;34m.\u001b[0m\u001b[0mstrptime\u001b[0m\u001b[0;34m(\u001b[0m\u001b[0mdate_string\u001b[0m\u001b[0;34m,\u001b[0m \u001b[0;34m'%Y-%m-%d %H:%M:%S'\u001b[0m\u001b[0;34m)\u001b[0m\u001b[0;34m\u001b[0m\u001b[0;34m\u001b[0m\u001b[0m\n\u001b[0m\u001b[1;32m      7\u001b[0m \u001b[0ms\u001b[0m \u001b[0;34m=\u001b[0m \u001b[0mdatetime_to_string\u001b[0m\u001b[0;34m(\u001b[0m\u001b[0mdt\u001b[0m\u001b[0;34m)\u001b[0m\u001b[0;34m\u001b[0m\u001b[0;34m\u001b[0m\u001b[0m\n\u001b[1;32m      8\u001b[0m \u001b[0mprint\u001b[0m\u001b[0;34m(\u001b[0m\u001b[0ms\u001b[0m\u001b[0;34m)\u001b[0m\u001b[0;34m\u001b[0m\u001b[0;34m\u001b[0m\u001b[0m\n",
            "\u001b[0;31mNameError\u001b[0m: name 'date_string' is not defined"
          ]
        }
      ]
    },
    {
      "cell_type": "code",
      "source": [
        "Task7번 타임존을 한국 기준으로 바꾸어 출력되게 하는 코드 아래와 같습니다.\n",
        "from datetime import datetime\n",
        "\n",
        "# def str_date (date) :\n",
        "#   return date.strftime('%Y-%m-%d %H:%M:%S')\n",
        "\n",
        "def datetime_to_string(dt):\n",
        "    soeul_timezone = pytz.timezone('Asia/Seoul')\n",
        "    dt_korea = dt.astimezone(soeul_timezone)\n",
        "    return dt_korea.strftime('%Y-%m-%d %H:%M:%S')\n",
        "\n",
        "# result = str_date(datetime.now())\n",
        "result = datetime_to_string(datetime.now())\n",
        "print(result , type(result))"
      ],
      "metadata": {
        "id": "Xvoj4sbmu9Cg"
      },
      "execution_count": null,
      "outputs": []
    },
    {
      "cell_type": "code",
      "source": [
        "!pip install pytz"
      ],
      "metadata": {
        "colab": {
          "base_uri": "https://localhost:8080/"
        },
        "id": "a-zYbTfpGP3n",
        "outputId": "f3f15df8-2fe1-4d50-e480-f8013e1146e3"
      },
      "execution_count": null,
      "outputs": [
        {
          "output_type": "stream",
          "name": "stdout",
          "text": [
            "Requirement already satisfied: pytz in /usr/local/lib/python3.10/dist-packages (2023.4)\n"
          ]
        }
      ]
    },
    {
      "cell_type": "code",
      "source": [
        "import datetime\n",
        "import pytz\n",
        "\n",
        "def datetime_to_string(dt):\n",
        "  soeul_timezone = pytz.timezone('Asia/Seoul')\n",
        "  dt_korea = dt.astimezone(soeul_timezone)\n",
        "  return dt_korea.strftime('%Y-%m-%d %H:%M:%S')\n",
        "\n",
        "data_string = input(\"datetime을 입력하세요 > \")\n",
        "dt = datetime.datetime.strptime(date_string, '%Y-%m-%d %H:%M:%S')\n",
        "dt = dt.replace(tzinfo=pytz.utc)\n",
        "s = datetime_to_strinf(dt)\n",
        "print(s)"
      ],
      "metadata": {
        "id": "ExxByBylGV7v"
      },
      "execution_count": null,
      "outputs": []
    },
    {
      "cell_type": "markdown",
      "source": [
        "Task8_0508. 올해 경과된 날짜수 계산하세요."
      ],
      "metadata": {
        "id": "mBC7SzTq9v4I"
      }
    },
    {
      "cell_type": "code",
      "source": [
        "from datetime import datetime\n",
        "\n",
        "# 현재 날짜 가져오기\n",
        "today = datetime.now()\n",
        "\n",
        "# 1월 1일 날짜 생성\n",
        "start = datetime(today.year, 1, 1)\n",
        "\n",
        "# 경과된 날짜 계산\n",
        "end = (today - start).days\n",
        "\n",
        "print(\"올해 경과된 날짜 수:\", end)\n"
      ],
      "metadata": {
        "colab": {
          "base_uri": "https://localhost:8080/"
        },
        "id": "4NxpjPMY9w0N",
        "outputId": "c23dad64-4da6-49d2-9ec5-e79fed31a531"
      },
      "execution_count": null,
      "outputs": [
        {
          "output_type": "stream",
          "name": "stdout",
          "text": [
            "올해 경과된 날짜 수: 129\n"
          ]
        }
      ]
    },
    {
      "cell_type": "markdown",
      "source": [
        "Task9_0508. 현재 요일을 \"2021-6-26 오늘은 토요일입니다.\"와 같은 형식으로 출력하세요."
      ],
      "metadata": {
        "id": "gvVH4CgQ9xSP"
      }
    },
    {
      "cell_type": "code",
      "source": [
        "from datetime import datetime\n",
        "\n",
        "def week(dt):\n",
        "    # 요일을 문자열로 매핑\n",
        "    days = [\"월요일\", \"화요일\", \"수요일\", \"목요일\", \"금요일\", \"토요일\", \"일요일\"]\n",
        "    # 날짜 형식 지정\n",
        "    formatted_date = dt.strftime(\"%Y-%m-%d\")\n",
        "    # 요일 가져오기\n",
        "    day = days[dt.weekday()]\n",
        "    # 형식에 맞춰 문자열 반환\n",
        "    return f\"{formatted_date} 오늘은 {day}입니다.\"\n",
        "\n",
        "# 현재 날짜와 시간 가져오기\n",
        "current_datetime = datetime.now()\n",
        "\n",
        "print(week(current_datetime))\n",
        "\n"
      ],
      "metadata": {
        "colab": {
          "base_uri": "https://localhost:8080/"
        },
        "id": "_l0ceNpG922A",
        "outputId": "cad3839c-413c-480b-aa23-84fba159b11a"
      },
      "execution_count": null,
      "outputs": [
        {
          "output_type": "stream",
          "name": "stdout",
          "text": [
            "2024-05-09 오늘은 목요일입니다.\n"
          ]
        }
      ]
    },
    {
      "cell_type": "code",
      "source": [
        "import time\n",
        "\n",
        "weekdays = ['월요일','화요일','수요일','목요일','금요일','토요일','일요일']\n",
        "t = time.localtime()\n",
        "today = f'{t.tm_year}-{t.tm_mon}-{t.tm_mday}'\n",
        "week = weekdays[t.tm_wday]\n",
        "# print('%s 오늘은 %s입니다' %(today, week))\n",
        "print(f'{today} 오늘은 {week}입니다.')"
      ],
      "metadata": {
        "id": "FMDX0VhlGASv"
      },
      "execution_count": null,
      "outputs": []
    },
    {
      "cell_type": "markdown",
      "source": [
        "Task10_0508. 1에서 백만까지 더하는데 걸리는 프로그램 실행 시간을 밀리초(ms) 단위로 구하세요.(1ms=0.001초)"
      ],
      "metadata": {
        "id": "23IDDMmo91al"
      }
    },
    {
      "cell_type": "code",
      "source": [
        "import time\n",
        "\n",
        "start = time.time()\n",
        "\n",
        "# 1부터 백만까지의 숫자 더하기\n",
        "total = 0\n",
        "for i in range(1, 1000001):\n",
        "    total += i\n",
        "\n",
        "end = time.time()\n",
        "\n",
        "# 실행 시간 계산 (초 단위)\n",
        "time = end - start\n",
        "# 밀리초(ms) 단위로 변환\n",
        "time_ms = time * 1000\n",
        "\n",
        "print(\"시간: {:.3f} 밀리초\".format(time_ms))"
      ],
      "metadata": {
        "id": "Uku5ANcz93YL",
        "colab": {
          "base_uri": "https://localhost:8080/"
        },
        "outputId": "72266633-d6fb-4149-9a11-242ed27dcc61"
      },
      "execution_count": null,
      "outputs": [
        {
          "output_type": "stream",
          "name": "stdout",
          "text": [
            "시간: 132.740 밀리초\n"
          ]
        }
      ]
    },
    {
      "cell_type": "code",
      "source": [
        "import time\n",
        "\n",
        "t1 = time.time()\n",
        "t2 = 0\n",
        "result = 0\n",
        "\n",
        "for i in range(1000000):\n",
        "    result += i+1\n",
        "else:\n",
        "    t2 = time.time()\n",
        "\n",
        "print(f'백만까지 더한 값: {result}\\n걸린 시간: {round((t2-t1)*1000)} (ms)')"
      ],
      "metadata": {
        "id": "iDro2KxQF-No"
      },
      "execution_count": null,
      "outputs": []
    },
    {
      "cell_type": "markdown",
      "source": [
        "## 2024년5월 9일"
      ],
      "metadata": {
        "id": "NGip5ogBaUmf"
      }
    },
    {
      "cell_type": "markdown",
      "source": [
        "Task1_0509. 주어진 텍스트에서 문자 빈도를 아래와 같이 출력하세요.(사용자 함수 사용)\n",
        "\n",
        "가장 많이 나온 문자 5개를 뽑아 봤습니다.\\\n",
        "[e] -> [97]회 나타남\\\n",
        "[t] -> [85]회 나타남\\\n",
        "[a] -> [78]회 나타남\\\n",
        "[o] -> [73]회 나타남\\\n",
        "[s] -> [60]회 나타남"
      ],
      "metadata": {
        "id": "3JMPnl70aYiF"
      }
    },
    {
      "cell_type": "code",
      "source": [
        "with open('mydata.txt','w') as f:\n",
        "    f.write(\n",
        "'''\n",
        "a lot of things occur each day\n",
        "we've got to live with on our way\n",
        "there's so much misery on the screen\n",
        "with commercials in between\n",
        "\n",
        "and the russians won't be so late\n",
        "uncle sam don't want to wait\n",
        "no matter if you're black or white\n",
        "you never ever had a right\n",
        "\n",
        "and look up to the eternal skies\n",
        "see warfare even there\n",
        "what once has been a paradise\n",
        "now destruction and despair\n",
        "\n",
        "in other worlds the children die\n",
        "lacking food ill from a fly\n",
        "oppressed by troops to tame their land\n",
        "it's all the same again\n",
        "\n",
        "\n",
        "if any man is free on earth\n",
        "then tormentors steal his birth\n",
        "they slam gun butts in his face\n",
        "and leave his woman choked in mace\n",
        "\n",
        "so stand up for our human rights\n",
        "push back this pest of hate\n",
        "raise you voice pass on the light\n",
        "unite! it's not too late\n",
        "\n",
        "how many tears flow away\n",
        "to become a sea of fears\n",
        "how many hearts are torn apart\n",
        "till another torment starts\n",
        "\n",
        "but before the world\n",
        "turns into a sun\n",
        "all cruelty and violence\n",
        "on earth will be dead and gone\n",
        "\n",
        "so stand up for our human rights\n",
        "push back this pest of hate\n",
        "raise you voice pass on the light\n",
        "unite! it's not too late\n",
        "''')\n",
        "with open('mydata.txt', 'r') as f:\n",
        "    data = f.read()\n",
        "    print(data)"
      ],
      "metadata": {
        "id": "f8H6au8b3UXH"
      },
      "execution_count": null,
      "outputs": []
    },
    {
      "cell_type": "code",
      "source": [
        "import re\n",
        "with open('mydata.txt','r') as f:\n",
        "  text = f.read()\n",
        "\n",
        "char_list = re.sub(r'[ ..!\\n\\']', '', text)\n",
        "word_list = re.sub(r'[..!\\n\\']', '', text).lower().split()\n",
        "\n",
        "print(len(text))\n",
        "print(len(char_list))\n",
        "print(len(word_list))"
      ],
      "metadata": {
        "id": "S8NDUiZnzWFc",
        "colab": {
          "base_uri": "https://localhost:8080/"
        },
        "outputId": "04a25543-f04e-4ba9-f93e-98e19b05390c"
      },
      "execution_count": null,
      "outputs": [
        {
          "output_type": "stream",
          "name": "stdout",
          "text": [
            "1073\n",
            "840\n",
            "178\n"
          ]
        }
      ]
    },
    {
      "cell_type": "code",
      "source": [
        "# 사용자 함수 적용\n",
        "def getTextFreq(filename):\n",
        "  with open(filename, 'r') as f:\n",
        "    text = f.read()\n",
        "    text = re.sub(r'[ ..!\\n\\']', '', text)\n",
        "    fa = {}\n",
        "    for c in text:\n",
        "      if c in fa:\n",
        "        fa[c] += 1\n",
        "      else:\n",
        "        fa[c] = 1\n",
        "  return fa\n",
        "\n",
        "ret = getTextFreq('mydata.txt')\n",
        "print(ret.items(),'\\n')\n",
        "ret = sorted(ret.items(), key = lambda x:x[1],reverse=True)\n",
        "\n",
        "for c, freq in ret[:5]:\n",
        "  if c == '\\n':\n",
        "    continue\n",
        "  print(f'[{c}] -> [{freq}]회 나타남')"
      ],
      "metadata": {
        "colab": {
          "base_uri": "https://localhost:8080/"
        },
        "id": "-H9wx59V4yjc",
        "outputId": "d345f03e-4c20-4a88-b40b-637691a005d3"
      },
      "execution_count": null,
      "outputs": [
        {
          "output_type": "stream",
          "name": "stdout",
          "text": [
            "dict_items([('a', 78), ('l', 34), ('o', 73), ('t', 85), ('f', 17), ('h', 48), ('i', 50), ('n', 60), ('g', 11), ('s', 60), ('c', 23), ('u', 27), ('r', 54), ('e', 97), ('d', 24), ('y', 15), ('w', 20), ('v', 9), ('m', 20), ('b', 13), ('k', 7), ('p', 15)]) \n",
            "\n",
            "[e] -> [97]회 나타남\n",
            "[t] -> [85]회 나타남\n",
            "[a] -> [78]회 나타남\n",
            "[o] -> [73]회 나타남\n",
            "[n] -> [60]회 나타남\n"
          ]
        }
      ]
    },
    {
      "cell_type": "markdown",
      "source": [
        "Task2_0509.  람다함수와 적합한 내장함수를 사용하여 아래와 같이 출력하세요.\n",
        "\n",
        "[1,2,3,4,5] -> [1,4,9,16,25]\\\n",
        "[1,2,3,4,5] -> [1,2]"
      ],
      "metadata": {
        "id": "57hWommOzYUx"
      }
    },
    {
      "cell_type": "code",
      "source": [
        "numbers = [1, 2, 3, 4, 5]\n",
        "\n",
        "# 제곱\n",
        "result1 = list(map(lambda x: x ** 2, numbers))\n",
        "print(result1)\n",
        "\n",
        "# 3보다 작은수\n",
        "result2 = list(filter(lambda x: x < 3, numbers))\n",
        "print(result2)"
      ],
      "metadata": {
        "colab": {
          "base_uri": "https://localhost:8080/"
        },
        "id": "zvas_BNEzY96",
        "outputId": "ef797e4e-68cc-463b-9c95-bc1e42795122"
      },
      "execution_count": null,
      "outputs": [
        {
          "output_type": "stream",
          "name": "stdout",
          "text": [
            "[1, 4, 9, 16, 25]\n",
            "[1, 2]\n"
          ]
        }
      ]
    },
    {
      "cell_type": "markdown",
      "source": [
        "Task3_0509. [1,-3,2,0,-5,6] 에서 양수만 필터링해서 출력하세요(내장함수, 사용자함수 각각 이용)"
      ],
      "metadata": {
        "id": "Sk-_xGWvzWSo"
      }
    },
    {
      "cell_type": "code",
      "source": [
        "numbers = [1,-3,2,0,-5,6]\n",
        "\n",
        "num = list(filter(lambda x: x > 0, numbers))\n",
        "print(num)"
      ],
      "metadata": {
        "colab": {
          "base_uri": "https://localhost:8080/"
        },
        "id": "tkk-bW-d8XmC",
        "outputId": "8d70a511-68d2-4f90-997a-ca0bd2c4e43e"
      },
      "execution_count": null,
      "outputs": [
        {
          "output_type": "stream",
          "name": "stdout",
          "text": [
            "[1, 2, 6]\n"
          ]
        }
      ]
    },
    {
      "cell_type": "code",
      "source": [
        "numbers = [1,-3,2,0,-5,6]\n",
        "\n",
        "def num(numbers):\n",
        "  return numbers > 0\n",
        "\n",
        "num1 = list(filter(num, numbers))\n",
        "print(num1)"
      ],
      "metadata": {
        "colab": {
          "base_uri": "https://localhost:8080/"
        },
        "id": "75uViyF6Kk9v",
        "outputId": "3ffd77de-deaa-44f7-fd16-ff1c0014dfde"
      },
      "execution_count": null,
      "outputs": [
        {
          "output_type": "stream",
          "name": "stdout",
          "text": [
            "[1, 2, 6]\n"
          ]
        }
      ]
    },
    {
      "cell_type": "markdown",
      "source": [
        "Task4_0509. **args를 이용하여 아래와 같이 출력할 수 있는 사용자 함수 func2를 작성하세요.\n",
        "\n",
        "Width: 100\\\n",
        "Height: 200\\\n",
        "Other arguments: {'color': 'red', 'thickness': 5}\n",
        "\n",
        "Width: 100\\\n",
        "Height: 200\\\n",
        "Other arguments: {'color': 'red', 'thickness': 5, 'type': 'large'}"
      ],
      "metadata": {
        "id": "o1InOcwo8X1a"
      }
    },
    {
      "cell_type": "code",
      "source": [
        "def func2(width, height,**kwargs):\n",
        "\n",
        "    print(f\"Width: {width}\")\n",
        "    print(f\"Height: {height}\")\n",
        "    print(f\"Other arguments: {kwargs}\")\n",
        "\n",
        "    print()\n",
        "\n",
        "func2(100, 200, color='red', thickness=5)\n",
        "\n",
        "func2(100, 200, color='red', thickness=5, type='large')"
      ],
      "metadata": {
        "colab": {
          "base_uri": "https://localhost:8080/"
        },
        "id": "m_GFd6ev8ae8",
        "outputId": "1a9571e7-dc8f-4169-e4c9-10520b989b7c"
      },
      "execution_count": null,
      "outputs": [
        {
          "output_type": "stream",
          "name": "stdout",
          "text": [
            "Width: 100\n",
            "Height: 200\n",
            "Other arguments: {'color': 'red', 'thickness': 5}\n",
            "\n",
            "Width: 100\n",
            "Height: 200\n",
            "Other arguments: {'color': 'red', 'thickness': 5, 'type': 'large'}\n",
            "\n"
          ]
        }
      ]
    },
    {
      "cell_type": "markdown",
      "source": [
        "Task5_0509. 아래와 같은 결과를 얻을 수 있도록 사용자 함수 func3를 작성하세요.\n",
        "\n",
        "Width: 100, Height: 200, Color: blue, Thickness: 1\n",
        "\n",
        "Width: 100, Height: 200, Color: red, Thickness: 15"
      ],
      "metadata": {
        "id": "erJlvukf8arj"
      }
    },
    {
      "cell_type": "code",
      "source": [
        "def func3(width, height, color, thickness):\n",
        "    print(f\"Width:\", width,\"Height:\", height,\"Color:\", color,\"Thickness:\", thickness)\n",
        "\n",
        "    print()\n",
        "\n",
        "func3(width=100, height=200, color='blue', thickness=1)\n",
        "func3(width=100, height=200, color='red', thickness=15)\n"
      ],
      "metadata": {
        "colab": {
          "base_uri": "https://localhost:8080/"
        },
        "id": "M9K5M9Mx8clY",
        "outputId": "5b2aad8a-90f4-4cdd-87a3-4b91c01e7d7b"
      },
      "execution_count": null,
      "outputs": [
        {
          "output_type": "stream",
          "name": "stdout",
          "text": [
            "Width: 100 Height: 200 Color: blue Thickness: 1\n",
            "\n",
            "Width: 100 Height: 200 Color: red Thickness: 15\n",
            "\n"
          ]
        }
      ]
    },
    {
      "cell_type": "code",
      "source": [
        "def func3(a, b, color='blue', thickness=1):\n",
        "  print(f\"Width:, {a}, Height: {b}, Color: {color}, Thickness: {thickness}\")\n",
        "\n",
        "func3(100,200)\n",
        "func3(100,200,color='red',thickness=15)"
      ],
      "metadata": {
        "colab": {
          "base_uri": "https://localhost:8080/"
        },
        "id": "HsX9dbOw96Pi",
        "outputId": "8290b497-e1e6-4855-f8df-c8241a85a5c4"
      },
      "execution_count": null,
      "outputs": [
        {
          "output_type": "stream",
          "name": "stdout",
          "text": [
            "Width:, 100, Height: 200, Color: blue, Thickness: 1\n",
            "Width:, 100, Height: 200, Color: red, Thickness: 15\n"
          ]
        }
      ]
    },
    {
      "cell_type": "markdown",
      "source": [
        "Task6_0509. 입력으로 들어오는 모든 수의 평균 값을 계산해 주는 함수를 작성한 후 1,2,3을 입력한 결과를 출력하세요."
      ],
      "metadata": {
        "id": "oL1-cUF08c1s"
      }
    },
    {
      "cell_type": "code",
      "source": [
        "def cal_average(*args):\n",
        "  return sum(args) / len(args)\n",
        "\n",
        "print(cal_average(1,2,3))\n",
        "print(cal_average(10,20,30,40,50))"
      ],
      "metadata": {
        "id": "Zj_xq7118eCW",
        "colab": {
          "base_uri": "https://localhost:8080/"
        },
        "outputId": "efa4a85c-f91c-40b3-d818-a77c2d219d39"
      },
      "execution_count": null,
      "outputs": [
        {
          "output_type": "stream",
          "name": "stdout",
          "text": [
            "2.0\n",
            "30.0\n"
          ]
        }
      ]
    },
    {
      "cell_type": "markdown",
      "source": [
        "Task7_0509. 원의 면적과 둘레의 길이를 구하는 사용자 함수를 작성하여 반지름이 5와 10일때 면적과 둘레를 구하세요(반올림:round())"
      ],
      "metadata": {
        "id": "zZ3_85z78eh_"
      }
    },
    {
      "cell_type": "code",
      "source": [
        "import math\n",
        "\n",
        "def area_circumference(r):\n",
        "  area = math.pi*r*r\n",
        "  circumference = 2*math.pi*r\n",
        "  print(f\"면적 : {round(area,2)}, 둘레: {round(circumference,2)}\")\n",
        "\n",
        "area_circumference(5)\n",
        "area_circumference(10)"
      ],
      "metadata": {
        "id": "AdHSdVur8gQl",
        "colab": {
          "base_uri": "https://localhost:8080/"
        },
        "outputId": "45238f15-be87-4f97-a5c2-e00d2d2d4051"
      },
      "execution_count": null,
      "outputs": [
        {
          "output_type": "stream",
          "name": "stdout",
          "text": [
            "면적 : 78.54, 둘레: 31.42\n",
            "면적 : 314.16, 둘레: 62.83\n"
          ]
        }
      ]
    },
    {
      "cell_type": "markdown",
      "source": [
        "Task8_0509. 게시물의 총 건수와 한 페이지에 보여 줄 게시물 수를 입력시 총 페이지 수를 출력하는 프로그램을 작성하세요."
      ],
      "metadata": {
        "id": "rrwfWSO88glp"
      }
    },
    {
      "cell_type": "code",
      "source": [
        "\n",
        "total_posts = int(input(\"총 게시물 수를 입력하세요: \"))\n",
        "post_page = int(input(\"한 페이지에 보여 줄 게시물 수를 입력하세요: \"))\n",
        "\n",
        "def total_page(total_posts, post_page):\n",
        "    if total_posts <= 0 or post_page <= 0:\n",
        "        return 0\n",
        "    return (total_posts + post_page - 1) // post_page\n",
        "\n",
        "\n",
        "total_pages = total_page(total_posts, post_page)\n",
        "print(\"총 페이지 수:\", total_pages)"
      ],
      "metadata": {
        "colab": {
          "base_uri": "https://localhost:8080/"
        },
        "id": "q-mI_zLV8iCv",
        "outputId": "f97c14ad-c412-4e33-a551-df504d2c3c87"
      },
      "execution_count": null,
      "outputs": [
        {
          "output_type": "stream",
          "name": "stdout",
          "text": [
            "총 게시물 수를 입력하세요: 100\n",
            "한 페이지에 보여 줄 게시물 수를 입력하세요: 5\n",
            "총 페이지 수: 20\n"
          ]
        }
      ]
    },
    {
      "cell_type": "code",
      "source": [
        "import math\n",
        "total = int(input(\"총 게시물수 : \"))\n",
        "show = int(input(\"한페이지 보여줄 게시물 수 : \"))\n",
        "result = math.ceil(total/show)\n",
        "print(f'총페이지수는 {result} 입니다')"
      ],
      "metadata": {
        "colab": {
          "base_uri": "https://localhost:8080/"
        },
        "id": "k--c4905CWEL",
        "outputId": "4633d87e-2a1d-4d07-f159-abfcf4ec80b0"
      },
      "execution_count": null,
      "outputs": [
        {
          "output_type": "stream",
          "name": "stdout",
          "text": [
            "총 게시물수 : 100\n",
            "한페이지 보여줄 게시물 수 : 7\n",
            "총페이지수는 15 입니다\n"
          ]
        }
      ]
    },
    {
      "cell_type": "markdown",
      "source": [
        "Task9_0509. 위의 문제를 *args를 사용한 사용자 함수 bignum을 작성하여 bignum(20,1,30)과 bignum(20,10,50,70, 100)의 결과를 출력하세요.\n"
      ],
      "metadata": {
        "id": "MPdCnogV_UQ6"
      }
    },
    {
      "cell_type": "code",
      "source": [
        "def max(a,b,c):\n",
        "  if a>b:\n",
        "    if a>c:\n",
        "      return a\n",
        "    elif a<c:\n",
        "      return c\n",
        "  if a<b:\n",
        "    if b>c:\n",
        "      return b\n",
        "    else:\n",
        "      return c\n",
        "\n",
        "print(\"가장 큰 수는 %d입니다.\" %(max(20,1,30)))\n",
        "max(10,20,30)"
      ],
      "metadata": {
        "id": "SBpKiiWaDpsm"
      },
      "execution_count": null,
      "outputs": []
    },
    {
      "cell_type": "code",
      "source": [
        "def bignum(*args):\n",
        "  return max(args)\n",
        "\n",
        "print(bignum(20,1,30))\n",
        "print(bignum(20,10,50,70, 100))"
      ],
      "metadata": {
        "id": "xgS0kSbcBhDv",
        "colab": {
          "base_uri": "https://localhost:8080/"
        },
        "outputId": "a7a8ccbf-1ca8-4554-89af-96633c7e0ec8"
      },
      "execution_count": null,
      "outputs": [
        {
          "output_type": "stream",
          "name": "stdout",
          "text": [
            "30\n",
            "100\n"
          ]
        }
      ]
    },
    {
      "cell_type": "markdown",
      "source": [
        "Task10_0509. 위의 계산을 연산자를 choice로 가변적인 숫자들을 *args로 사용한 사용자 함수 cal을 이용하여 다음을 수행하세요.\n",
        "\n",
        "cal('*',1,2,3,4,5)\n",
        "\n",
        "cal('+',1,2,3,4,5,6,7)\n",
        "\n",
        "cal('-',1,2,3,4,5,6,7)\n",
        "\n",
        "cal('/',10,3)"
      ],
      "metadata": {
        "id": "5kRYki1oBhSE"
      }
    },
    {
      "cell_type": "code",
      "source": [
        "def cal(choice, *args):\n",
        "  result = args[0]\n",
        "  for i in args[1:]:\n",
        "    if choice == '+':\n",
        "      result += i\n",
        "    elif choice == '-':\n",
        "      result -= i\n",
        "    elif choice == '*':\n",
        "      result *= i\n",
        "    elif choice == '/':\n",
        "      if i == 0:\n",
        "        return print(\"오류\")\n",
        "      else:\n",
        "        result /= i\n",
        "    else:\n",
        "      return \" 계산할 수 있는 기호가 아닙니다\"\n",
        "  return result\n",
        "\n",
        "print(cal('*',1,2,3,4,5))\n",
        "print(cal('+',1,2,3,4,5,6,7))\n",
        "print(cal('-',1,2,3,4,5,6,7))\n",
        "print(cal('/',10,3))"
      ],
      "metadata": {
        "id": "nu1JC5tLCETV",
        "colab": {
          "base_uri": "https://localhost:8080/"
        },
        "outputId": "9be6123d-f789-4839-ac00-0201713ebb76"
      },
      "execution_count": null,
      "outputs": [
        {
          "output_type": "stream",
          "name": "stdout",
          "text": [
            "120\n",
            "28\n",
            "-26\n",
            "3.3333333333333335\n"
          ]
        }
      ]
    },
    {
      "cell_type": "markdown",
      "source": [
        "## 2024년 5월 10일"
      ],
      "metadata": {
        "id": "537Cu-atVl2Q"
      }
    },
    {
      "cell_type": "markdown",
      "source": [
        "Task1_0510. try ~ except, try ~ except ~ finally, try ~ except ~else, try ~ except ~else ~finally 4가지 예외 처리가 필요한 경우에 대해서 코딩을 수행하세요."
      ],
      "metadata": {
        "id": "R03eVmPUVsbO"
      }
    },
    {
      "cell_type": "code",
      "source": [
        "# 1 - 1\n",
        "try:\n",
        "  ans = int(input('정수값을 입력하세요 : '))\n",
        "except:\n",
        "  print('잘못 입력하셨습니다 다음에 이용')\n",
        "\n",
        "# 1 - 2\n",
        "try:\n",
        "  ans = int(input(\"정수값 입력  >> \"))\n",
        "except:\n",
        "  print('잘못 입력 다음에 이용')\n",
        "finally:\n",
        "  print('프로그램 종료')\n",
        "\n"
      ],
      "metadata": {
        "id": "CBb7_kS1VzVS",
        "colab": {
          "base_uri": "https://localhost:8080/"
        },
        "outputId": "656b12cf-ccf8-40fb-f651-e8337f0b6efa"
      },
      "execution_count": null,
      "outputs": [
        {
          "output_type": "stream",
          "name": "stdout",
          "text": [
            "정수값을 입력하세요 : ㅎ\n",
            "잘못 입력하셨습니다 다음에 이용\n",
            "정수값 입력  >> ㅎ\n",
            "잘못 입력 다음에 이용\n",
            "프로그램 종료\n"
          ]
        }
      ]
    },
    {
      "cell_type": "code",
      "source": [
        "# 1 - 3\n",
        "try:\n",
        "  ans = int(input('정수값 입력 : '))\n",
        "except:\n",
        "  print('잘못 입력 다음에 이용')\n",
        "else:\n",
        "  print(f'오늘의 행운 숫자 {ans}입니다 ')\n",
        "\n",
        "# 1 - 4\n",
        "try:\n",
        "  ans = int(input('정수값 입력 : '))\n",
        "except:\n",
        "  print('잘못 입력 다음에 이용')\n",
        "else:\n",
        "  print(f'오늘의 행운 숫자 {ans} ')\n",
        "finally:\n",
        "  print('프로그램 종료')"
      ],
      "metadata": {
        "colab": {
          "base_uri": "https://localhost:8080/"
        },
        "id": "Xn8ZoXUISCc_",
        "outputId": "59c365a6-fe66-4e9e-d197-767a65a9481b"
      },
      "execution_count": null,
      "outputs": [
        {
          "output_type": "stream",
          "name": "stdout",
          "text": [
            "정수값 입력 : 5\n",
            "오늘의 행운 숫자 5입니다 \n",
            "정수값 입력 : ㅏ\n",
            "잘못 입력 다음에 이용\n",
            "프로그램 종료\n"
          ]
        }
      ]
    },
    {
      "cell_type": "markdown",
      "source": [
        "Task2_0510. 리스트 ['52','273','32','문자','103']에서 숫자 부분만 출력하세요(예외 처리 수행)"
      ],
      "metadata": {
        "id": "6PscKWLZVzmF"
      }
    },
    {
      "cell_type": "code",
      "source": [
        "list1 = {'52','273','32','문자','103'}\n",
        "\n",
        "result = []\n",
        "for i in list1:\n",
        "  try:\n",
        "    result.append(int(i))\n",
        "  except:\n",
        "    pass\n",
        "print(result)"
      ],
      "metadata": {
        "id": "LMBJlHZIV-hM",
        "colab": {
          "base_uri": "https://localhost:8080/"
        },
        "outputId": "0b9afaee-3af4-48b1-d347-9ede7974fafc"
      },
      "execution_count": null,
      "outputs": [
        {
          "output_type": "stream",
          "name": "stdout",
          "text": [
            "[273, 32, 52, 103]\n"
          ]
        }
      ]
    },
    {
      "cell_type": "markdown",
      "source": [
        "Task3_0510. 두가지 시나리오를 예외처리를 하여 코드 작업을 수행하세요\n",
        "- 정수를 입력하면 > '예외 발생하지 않음' > '프로그램 종료'\n",
        "- 정수를 입력하지 않으면 > '정수 아님' > '프로그램 종료'"
      ],
      "metadata": {
        "id": "mOKCmfh7V-s5"
      }
    },
    {
      "cell_type": "code",
      "source": [
        "try:\n",
        "  n = int(input('정수 입력 >> '))\n",
        "except:\n",
        "  print('정수 아님')\n",
        "else:\n",
        "  print(n)\n",
        "  print('예외 발생하지 않음')\n",
        "finally:\n",
        "  print('프로그램 종료')"
      ],
      "metadata": {
        "id": "h-VHF1MxWEkZ"
      },
      "execution_count": null,
      "outputs": []
    },
    {
      "cell_type": "markdown",
      "source": [
        "Task4_0510. 생성자만으로 구성된 클래스를 작성하고 객체 3개를 만들어서 결과를 출력하세요."
      ],
      "metadata": {
        "id": "4lRG66PGhxjf"
      }
    },
    {
      "cell_type": "code",
      "source": [
        "class Test:\n",
        "  def __init__(self, a, b):\n",
        "    self.a = a\n",
        "    self.b = b\n",
        "    print(a + b)\n",
        "obj1 = Test(1, 2)\n",
        "obj2 = Test(3, 8)\n",
        "obj3 = Test(10, 21)"
      ],
      "metadata": {
        "id": "w5MiMFd1hyp5",
        "colab": {
          "base_uri": "https://localhost:8080/"
        },
        "outputId": "ecbf339a-309a-4798-ffca-0d4d91c7ca79"
      },
      "execution_count": null,
      "outputs": [
        {
          "output_type": "stream",
          "name": "stdout",
          "text": [
            "3\n",
            "11\n",
            "31\n"
          ]
        }
      ]
    },
    {
      "cell_type": "markdown",
      "source": [
        "Task5_0510. 생성자, 메소드를 모두 포함하는 클래스를 작성하고 객체 3개를 만들어서 결과를 출력하세요"
      ],
      "metadata": {
        "id": "Zh79IOFLhyfY"
      }
    },
    {
      "cell_type": "code",
      "source": [
        "class MyCar:\n",
        "  def __init__(self, name, color='white', price = 2000):\n",
        "    self.name = name\n",
        "    self.color = color\n",
        "    self.price = price\n",
        "\n",
        "  def car_sound(self):\n",
        "    if self.price > 15000:\n",
        "      print('부와아아아')\n",
        "    elif self.price > 10000:\n",
        "      print('부우부우')\n",
        "    else:\n",
        "      print('털털털털')\n",
        "\n",
        "a = MyCar('아반뗴')\n",
        "b = MyCar('페라리', 'red', 17000)\n",
        "c = MyCar('벤츠', 'black', 11000)\n",
        "\n",
        "# 생성자 지정값 확인\n",
        "print(a.name)\n",
        "print(b.price)\n",
        "print(c.color)\n",
        "\n",
        "print()\n",
        "\n",
        "# 메소드 확인\n",
        "a.car_sound()\n",
        "b.car_sound()\n",
        "c.car_sound()\n",
        "\n"
      ],
      "metadata": {
        "id": "Xyoc2YKOh1xv",
        "colab": {
          "base_uri": "https://localhost:8080/"
        },
        "outputId": "a80eae1c-e1fd-4876-a678-6abe696befd3"
      },
      "execution_count": null,
      "outputs": [
        {
          "output_type": "stream",
          "name": "stdout",
          "text": [
            "아반뗴\n",
            "17000\n",
            "black\n",
            "\n",
            "털털털털\n",
            "부와아아아\n",
            "부우부우\n"
          ]
        }
      ]
    },
    {
      "cell_type": "markdown",
      "source": [
        "Task6_0510. 여러개의 음식을 주문할 수 있는 주문 시스템을 작성하세요.(클래스 활용 - 객체 지향)"
      ],
      "metadata": {
        "id": "3Ust5u8-4qIL"
      }
    },
    {
      "cell_type": "code",
      "source": [
        "class OrderSystem:\n",
        "    def __init__(self):\n",
        "        self.menu_items = {\n",
        "            '1': (\"불고기 비빔밥\", 12000),\n",
        "            '2': (\"야채 비빔밥\", 8000),\n",
        "            '3': (\"전주 비빔밥\", 10000)\n",
        "        }\n",
        "        self.set_price = 3000\n",
        "        self.orders = {}\n",
        "        self.price_total = 0\n",
        "\n",
        "    def display_menu(self):\n",
        "        print(\"\\n♣♣♣ KITA 식당에 오신 것을 환영합니다 ♣♣♣\")\n",
        "        print(\"========================================\")\n",
        "        print(\"           - 메뉴 -\")\n",
        "        for key, (name, price) in self.menu_items.items():\n",
        "            print(f\"  {key}. {name} : {price}원\")\n",
        "        print(\"\\n  세트 주문시 : 3000원 추가 (세트는 밥과 반찬이 추가됩니다.)\")\n",
        "        print(\"========================================\")\n",
        "\n",
        "    def display_order_summary(self):\n",
        "        print(\"\\n■장바구니\")\n",
        "        self.price_total = 0\n",
        "        for key, (name, price) in self.menu_items.items():\n",
        "            count = self.orders.get((key, False), 0)\n",
        "            count_set = self.orders.get((key, True), 0)\n",
        "            print(f\" {name} {count}개: {count * price}원\")\n",
        "            print(f\" {name} 세트 {count_set}개: {count_set * (price + self.set_price)}원\")\n",
        "            self.price_total += (count * price) + (count_set * (price + self.set_price))\n",
        "        print(f\" 총 금액 {self.price_total}원\\n\")\n",
        "\n",
        "    def add_order(self, menu_id, is_set):\n",
        "        item_name, item_price = self.menu_items[menu_id]\n",
        "        if is_set:\n",
        "            item_price += self.set_price\n",
        "        num = input(f\"\\n● {item_name}{' 세트' if is_set else ''} 몇 개 주문 하시겠습니까?\\n\")\n",
        "        if num.isdigit() and int(num) > 0:\n",
        "            self.orders[(menu_id, is_set)] = self.orders.get((menu_id, is_set), 0) + int(num)\n",
        "            print(f\"\\n{item_name}{' 세트' if is_set else ''} {num}개가 장바구니에 담겼습니다.\\n\")\n",
        "        else:\n",
        "            print('★양수만 입력하세요.★')\n",
        "\n",
        "    def process_order(self):\n",
        "        while True:\n",
        "            print('★비빔밥 주문 KIOSK★','\\n')\n",
        "            msg = input(\"● 주문을 하시겠습니까? (y 또는 n) >> \").strip().lower()\n",
        "            if msg == 'y':\n",
        "                while True:\n",
        "                    self.display_menu()\n",
        "                    self.display_order_summary()\n",
        "                    choice = input(\"● 주문할 메뉴를 골라주세요. (불고기 비빔밥:1, 야채 비빔밥:2, 전주 비빔밥:3, 전체 취소:0, 결제:5) >> \").strip().lower()\n",
        "                    if choice in self.menu_items:\n",
        "                        set_choice = input(\"\\n●3000원을 추가해 세트로 주문하시겠습니까? (일반주문시:n, 세트주문시:y)\\n\").strip().lower()\n",
        "                        if set_choice in ['y', 'n']:\n",
        "                            self.add_order(choice, set_choice == 'y')\n",
        "                        else:\n",
        "                            print('★올바른 선택을 입력하세요 (y 또는 n).★')\n",
        "\n",
        "                    elif choice == '0':\n",
        "                        self.orders.clear()\n",
        "                        print('\\n모든 주문이 취소되었습니다.')\n",
        "\n",
        "                    elif choice == '5':\n",
        "                        if self.price_total > 0:\n",
        "                            print(f'\\n●주문하려면 결제해주세요. 결제금액은 {self.price_total}원 입니다.\\n')\n",
        "                            input(\"결제를 완료하려면 아무 키나 누르세요...\")  # 사용자가 결제를 확인할 수 있도록 입력 대기\n",
        "                            print(f\"\\n총 금액은 {self.price_total}원이 결제 되었습니다. 감사합니다.\",'\\n')\n",
        "                            self.orders.clear()\n",
        "                            break\n",
        "                        else:\n",
        "                            print('★메뉴를 고르고 주문해주세요!★')\n",
        "\n",
        "                    else:\n",
        "                        print('★메뉴의 지정된 숫자로 입력하세요★')\n",
        "\n",
        "            else:\n",
        "                print('감사합니다.')\n",
        "                break\n",
        "\n",
        "if __name__ == \"__main__\":\n",
        "    order_system = OrderSystem()\n",
        "    order_system.process_order()"
      ],
      "metadata": {
        "id": "fAqf_eA-4vLF"
      },
      "execution_count": null,
      "outputs": []
    },
    {
      "cell_type": "markdown",
      "source": [
        "## 2024년 5월 13일"
      ],
      "metadata": {
        "id": "aGD9j44rgvl0"
      }
    },
    {
      "cell_type": "markdown",
      "source": [
        "Task1_0513. 클래스 구성 요소와 관련 아래 사항에 대한 사례를 작성하세요.\n",
        "- 클래스 선언\n",
        "- 생성자\n",
        "- 속성(attributes)\n",
        "- 메서드\n",
        "- 상속\n",
        "- 인스턴스화(객체 만들기)\n",
        "- 클래스 변수\n",
        "- 매직 메서드(특수 메서드)"
      ],
      "metadata": {
        "id": "qEcQlDKBfbyk"
      }
    },
    {
      "cell_type": "code",
      "source": [],
      "metadata": {
        "id": "eMb4-qu2oKMI"
      },
      "execution_count": null,
      "outputs": []
    },
    {
      "cell_type": "markdown",
      "source": [
        "Task2_0513. 두개의 수를 입력한 후 두개의 수에 대한 사칙연산을 수행하세요.(0을 입력한 경우 다시 입력하도록 조치)"
      ],
      "metadata": {
        "id": "uXayHruvoKZp"
      }
    },
    {
      "cell_type": "code",
      "source": [
        "class Math:\n",
        "    def get_number_input(self, prompt):\n",
        "        while True:\n",
        "            try:\n",
        "                number = float(input(prompt))\n",
        "                if number == 0:\n",
        "                    print(\"0은 입력할 수 없습니다. 다시 입력해주세요.\")\n",
        "                else:\n",
        "                    return number\n",
        "            except ValueError:\n",
        "                print(\"숫자를 입력하세요.\")\n",
        "\n",
        "    def perform_operation(self, num1, num2):\n",
        "        num1 = int(num1)\n",
        "        num2 = int(num2)\n",
        "        print(f\"덧셈 결과: {num1 + num2}\")\n",
        "        print(f\"뺄셈 결과: {num1 - num2}\")\n",
        "        print(f\"곱셈 결과: {num1 * num2}\")\n",
        "        print(f\"나눗셈 결과: {num1 / num2}\")\n",
        "\n",
        "\n",
        "Math = Math()\n",
        "\n",
        "\n",
        "number1 = Math.get_number_input(\"첫 번째 숫자를 입력하세요: \")\n",
        "number2 = Math.get_number_input(\"두 번째 숫자를 입력하세요: \")\n",
        "\n",
        "\n",
        "Math.perform_operation(number1, number2)"
      ],
      "metadata": {
        "colab": {
          "base_uri": "https://localhost:8080/"
        },
        "id": "CT8NWiZGvFJz",
        "outputId": "0d73d4bc-43b1-4bfa-a153-6e9585d39e77"
      },
      "execution_count": null,
      "outputs": [
        {
          "output_type": "stream",
          "name": "stdout",
          "text": [
            "첫 번째 숫자를 입력하세요: 9\n",
            "두 번째 숫자를 입력하세요: 8\n",
            "덧셈 결과: 17\n",
            "뺄셈 결과: 1\n",
            "곱셈 결과: 72\n",
            "나눗셈 결과: 1.125\n"
          ]
        }
      ]
    },
    {
      "cell_type": "markdown",
      "source": [
        "Task3_0513. 파이썬 오버라이딩, 오버로딩, 다형성의 사례를 만들어 보세요"
      ],
      "metadata": {
        "id": "nH2lhCFqvFWL"
      }
    },
    {
      "cell_type": "code",
      "source": [],
      "metadata": {
        "id": "TPmF5Av8vwFw"
      },
      "execution_count": null,
      "outputs": []
    }
  ]
}