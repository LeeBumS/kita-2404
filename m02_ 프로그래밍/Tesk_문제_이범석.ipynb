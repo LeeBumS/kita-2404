{
  "nbformat": 4,
  "nbformat_minor": 0,
  "metadata": {
    "colab": {
      "provenance": [],
      "collapsed_sections": [
        "-3KDPrw_NWAl",
        "90xRPhm5N7jw",
        "eHr8APHgOqn3",
        "oyzVb12eod31"
      ]
    },
    "kernelspec": {
      "name": "python3",
      "display_name": "Python 3"
    },
    "language_info": {
      "name": "python"
    }
  },
  "cells": [
    {
      "cell_type": "markdown",
      "source": [
        "2024년 4월 24일\n",
        "----------------------------------------------------------------------------------------------------------------------------------------------------------------"
      ],
      "metadata": {
        "id": "-3KDPrw_NWAl"
      }
    },
    {
      "cell_type": "markdown",
      "source": [
        "Q. 주어진 문자열 리스트에서 유효한 Python 변수 이름만을 추출하여 반환하는 함수를 작성하세요"
      ],
      "metadata": {
        "id": "mAZmA2IvNSYy"
      }
    },
    {
      "cell_type": "code",
      "execution_count": null,
      "metadata": {
        "id": "RrW3kPfwMtix"
      },
      "outputs": [],
      "source": [
        "# 나의 풀이\n",
        "\n",
        "identifiers = [\"var1\",\"2things\",\"variable_name\",\"time!\"]\n",
        "\n",
        "search = '2'\n",
        "search1 = '!'\n",
        "\n",
        "for word in identifiers:\n",
        "    if search in word:\n",
        "        print('>> remove: ' + word)\n",
        "        identifiers.remove(word)\n",
        "    elif search1 in word:\n",
        "        print('>> remove: ' + word)\n",
        "        identifiers.remove(word)\n",
        "\n",
        "print(identifiers)"
      ]
    },
    {
      "cell_type": "code",
      "source": [
        "# 정답\n",
        "def valid_identifiers(identifier):\n",
        "    valid = []\n",
        "    for identifier in identifier:\n",
        "        if identifier.isidentifier():\n",
        "          valid.append(identifier)\n",
        "    return valid\n",
        "\n",
        "\n",
        "  # 예제 실행\n",
        "identifiers = [\"var1\",\"2things\",\"variable_name\",\"time!\"]\n",
        "print(valid_identifiers(identifiers))\n",
        "\n",
        "\n",
        "# isidentifier()는 파이썬 문자열 메소드로 문자열이 유효한 식별자인지 Check.\n",
        "# isidentifier()는 예약어인지는 따로 체크하지 않음.\n",
        "import keyword\n",
        "def valid_identifiers(identifier):\n",
        "    valid = []\n",
        "    for identifier in identifier:\n",
        "        if identifier.isidentifier() and not keyword.iskeyword(identifier):\n",
        "            valid.append(identifier)\n",
        "    return valid\n",
        "\n",
        "identifiers = [\"var1\", \"2things\", \"variable_name\", \"time!\", \"True\"]\n",
        "print(valid_identifiers(identifiers))"
      ],
      "metadata": {
        "id": "F0T3lhwpNxSS"
      },
      "execution_count": null,
      "outputs": []
    },
    {
      "cell_type": "markdown",
      "source": [
        "2024년 4월 25일\n",
        "----------------------------------------------------------------------------------------------------------------------------------------------------------------"
      ],
      "metadata": {
        "id": "90xRPhm5N7jw"
      }
    },
    {
      "cell_type": "markdown",
      "source": [
        "Task1_0425. 주어진 숫자 리스트에서 최소값과 최대값을 찾아 출력하세요.\n",
        "\n",
        "numbers = [58, 45, 69, 19, 4, 87, 29, 13, 39, 15]"
      ],
      "metadata": {
        "id": "-ee_DjdbN0Qv"
      }
    },
    {
      "cell_type": "code",
      "source": [
        "# Task1 주어진 숫자 리스트에서 최소값과 최대값을 찾아 출력하세요.\n",
        "numbers = [58, 45, 69, 19, 4, 87, 29, 13, 39, 15]\n",
        "\n",
        "numbers.sort()\n",
        "print(numbers[0])\n",
        "\n",
        "numbers.sort(reverse=True)\n",
        "print(numbers[0],'\\n')\n",
        "\n",
        "\n",
        "#--------------------------------------------------------------------------------\n",
        "\n",
        "min_value = min(numbers)\n",
        "max_value = max(numbers)\n",
        "\n",
        "print(f\"최소값: {min_value}, 최대값:  {max_value}\",\"\\n\")\n",
        "\n",
        "#--------------------------------------------------------------------------------\n",
        "\n",
        "min_value1 = numbers[0]\n",
        "max_value2 = numbers[0]\n",
        "\n",
        "for number in numbers:\n",
        "  if number < min_value1:\n",
        "    min_value1 = number\n",
        "  elif number < max_value2:\n",
        "    max_value2 = number\n",
        "\n",
        "print(f\"최소값: {min_value1}, 최대값:  {max_value2}\")"
      ],
      "metadata": {
        "id": "PCx8W3_AOBzD"
      },
      "execution_count": null,
      "outputs": []
    },
    {
      "cell_type": "markdown",
      "source": [
        "Task2_0425. 주어진 숫자 리스트의 모든 요소의 합계와 평균을 계산하고 출력하세요\n",
        "\n",
        "numbers = [58, 45, 69, 19, 4, 87, 29, 13, 39, 15]"
      ],
      "metadata": {
        "id": "A2FeMvY9OGCH"
      }
    },
    {
      "cell_type": "code",
      "source": [
        "# Task2 주어진 숫자 리스트의 모든 요소의 합계와 평균을 계산하고 출력하세요\n",
        "\n",
        "numbers = [58, 45, 69, 19, 4, 87, 29, 13, 39, 15]\n",
        "\n",
        "# 합계 계산\n",
        "result = sum(numbers)\n",
        "\n",
        "# 평균 계산\n",
        "ave = result / len(numbers)\n",
        "\n",
        "# 결과 풀력\n",
        "print(f\"합계: {result}, 평균:  {ave}\")\n"
      ],
      "metadata": {
        "id": "I4-FPIXZOIBn"
      },
      "execution_count": null,
      "outputs": []
    },
    {
      "cell_type": "code",
      "source": [
        "# 파이썬에서 평균을 구하는 내장함수 없음\n",
        "\n",
        "import statistics\n",
        "numbers = [58, 45, 69, 19, 4, 87, 29, 13, 39, 15]\n",
        "avg = statistics.mean(numbers)\n",
        "print(f\"평균: {ave}\")"
      ],
      "metadata": {
        "id": "EWnY1xpTOL1L"
      },
      "execution_count": null,
      "outputs": []
    },
    {
      "cell_type": "markdown",
      "source": [
        "Task3_0425. 주어진 리스트에서 특정 요소가 등장하는 모든 인덱스를 리스트로 만들어 출력하세요.\n",
        "\n",
        "items = ['apple', 'banana', 'cherry', 'apple', 'cherry', 'apple'] target='apple'"
      ],
      "metadata": {
        "id": "AmPYXBUhOJ8g"
      }
    },
    {
      "cell_type": "code",
      "source": [
        "# Task3 주어진 리스트에서 특정 요소가 등장하는 모든 인덱스를 리스트로 만들어 출력하세요.\n",
        "\n",
        "items = ['apple', 'banana', 'cherry', 'apple', 'cherry', 'apple']\n",
        "\n",
        "search = []\n",
        "\n",
        "for search1 in items:\n",
        "  if 'apple' in search1:\n",
        "    search.append(search1)\n",
        "\n",
        "print(search)\n"
      ],
      "metadata": {
        "id": "ITsW3BuUOVQe"
      },
      "execution_count": null,
      "outputs": []
    },
    {
      "cell_type": "code",
      "source": [
        "# 리스트 정의\n",
        "items = ['apple', 'banana', 'cherry', 'apple', 'cherry', 'apple']\n",
        "\n",
        "# 찾을 요소\n",
        "target = 'apple'\n",
        "\n",
        "# 인덱스 찾기\n",
        "indexes = [index for index, value in enumerate(items) if value == target]\n",
        "\n",
        "# 결과 출력\n",
        "print(f\"{target}'의 모든 인덱스: {indexes}\")"
      ],
      "metadata": {
        "id": "daBFLvtDOYdA"
      },
      "execution_count": null,
      "outputs": []
    },
    {
      "cell_type": "markdown",
      "source": [
        "Task4_0425. 주어진 리스트에서 연속해서 반복되는 요소만 제거하고, 결과 리스트를 반환하세요. 단, 처음 등장하는 요소는 유지해야 합니다. 예를 들어, ['a', 'a', 'b', 'c', 'c', 'c', 'd', 'e', 'e']가 입력되면, ['a', 'b', 'c', 'd', 'e']를 출력해야 합니다."
      ],
      "metadata": {
        "id": "hG-excXUOas7"
      }
    },
    {
      "cell_type": "code",
      "source": [
        "#Task4 주어진 리스트에서 연속해서 반복되는 요소만 제거하고, 결과 리스트를 반환하세요.\n",
        "#단, 처음 등장하는 요소는 유지해야 합니다. 예를 들어, ['a', 'a', 'b', 'c', 'c', 'c', 'd', 'e', 'e']가 입력되면, ['a', 'b', 'c', 'd', 'e']를 출력해야 합니다\n",
        "\n",
        "li = ['a', 'a', 'b', 'c', 'c', 'c', 'd', 'e', 'e']\n",
        "result = [li[0]]\n",
        "for i in li[1:]:\n",
        "  if i != result[-1]:\n",
        "      result.append(i)\n",
        "print(result)"
      ],
      "metadata": {
        "id": "jNsw_gnTOcoF"
      },
      "execution_count": null,
      "outputs": []
    },
    {
      "cell_type": "code",
      "source": [
        "def remove_consecutive_duplicates(items):\n",
        "   if not items:\n",
        "      return []\n",
        "  # 결과 리스트 초기화\n",
        "      result = [items[0]]\n",
        "    # 이전 요소와 비교하면서 중복 제거\n",
        "      for current in items[1:]:\n",
        "        if current != result[-1]:\n",
        "          result.append(current)\n",
        "      return result\n",
        "\n",
        "# 리스트 정의\n",
        "items = ['a', 'a', 'b', 'c', 'c', 'c', 'd', 'e', 'e']\n",
        "\n",
        "# 결과 출력\n",
        "print(remove_consecutive_duplicates(items))"
      ],
      "metadata": {
        "id": "1PcY1AR2OfWZ"
      },
      "execution_count": null,
      "outputs": []
    },
    {
      "cell_type": "markdown",
      "source": [
        "Task5_0425 주어진 정수 리스트와 회전 횟수 k에 대해 리스트를 오른쪽으로 k만큼 회전시킨 결과를 반환하세요. k가 리스트의 길이보다 클 수 있으며, 이 경우 k를 리스트 길이로 나눈 나머지만큼 실제 회전시키면 됩니다.\n",
        "\n",
        "예를 들어, [1, 2, 3, 4, 5]와 k=2가 주어지면, 결과는 [4, 5, 1, 2, 3]이 되어야 합니다."
      ],
      "metadata": {
        "id": "uXKNaxRlOjyo"
      }
    },
    {
      "cell_type": "code",
      "source": [
        "#Task5 주어진 정수 리스트와 회전 횟수 k에 대해 리스트를 오른쪽으로 k만큼 회전시킨 결과를 반환하세요.\n",
        "#k가 리스트의 길이보다 클 수 있으며, 이 경우 k를 리스트 길이로 나눈 나머지만큼 실제 회전시키면 됩니다.\n",
        "#예를 들어, [1, 2, 3, 4, 5]와 k=2가 주어지면, 결과는 [4, 5, 1, 2, 3]이 되어야 합니다\n",
        "a = [1, 2, 3, 4, 5]\n",
        "def right_rotate(test_list, n):\n",
        "  new_list = [None for _ in range(len(test_list))]\n",
        "\n",
        "  for i in range(len(test_list)):\n",
        "\n",
        "      new_list[i] = test_list[i-n]\n",
        "\n",
        "  return new_list\n",
        "\n",
        "  print(right_rotate(a,2))"
      ],
      "metadata": {
        "id": "2xfem27vOhsR"
      },
      "execution_count": null,
      "outputs": []
    },
    {
      "cell_type": "code",
      "source": [
        "# 오른쪽으로 회전\n",
        "def rotate_list(num, k):\n",
        "  if not nums:\n",
        "    return nums\n",
        "  # 회전 횟수를 리스트 길이로 나눈 나머지로 계산\n",
        "  k = k % len(nums)\n",
        "  # 리스트의 끝부분을 앞으로, 앞부분을 끝으로 옮김\n",
        "  rotated = nums[-k:] + nums[:-k]\n",
        "  return rotated\n",
        "\n",
        "# 리스트 정의\n",
        "nums = [1, 2, 3, 4, 5]\n",
        "k =2\n",
        "# 결과 출력\n",
        "print(rotate_list(nums, k))\n"
      ],
      "metadata": {
        "id": "EeYt5kzwOmlt"
      },
      "execution_count": null,
      "outputs": []
    },
    {
      "cell_type": "code",
      "source": [
        "# 왼쪽으로 회전\n",
        "def rotate_list(num, k):\n",
        "  if not nums:\n",
        "    return nums\n",
        "  # 회전 횟수를 리스트 길이로 나눈 나머지로 계산\n",
        "  k = k % len(nums)\n",
        "  # 리스트의 끝부분을 앞으로, 앞부분을 끝으로 옮김\n",
        "  rotated = nums[k:] + nums[:k]\n",
        "  return rotated\n",
        "\n",
        "# 리스트 정의\n",
        "nums = [1, 2, 3, 4, 5]\n",
        "k = 2\n",
        "\n",
        "\n",
        "# 결과 출력\n",
        "print(rotate_list(nums, k))"
      ],
      "metadata": {
        "id": "KFn0FPXhOooM"
      },
      "execution_count": null,
      "outputs": []
    },
    {
      "cell_type": "markdown",
      "source": [
        "2024년 4월 26일\n",
        "----------------------------------------------------------------------------------------------------------------------------------------------------------------"
      ],
      "metadata": {
        "id": "eHr8APHgOqn3"
      }
    },
    {
      "cell_type": "markdown",
      "source": [
        "Task_0426 주어진 리스트의 총합과 평균을 동시에 반환하는 함수를 작성하세요 numbers = [10,20,30,40,50]"
      ],
      "metadata": {
        "id": "h0RR1tI_PBTc"
      }
    },
    {
      "cell_type": "code",
      "source": [
        "def calculate_sum_and_avg(numbers):\n",
        "\n",
        "# 합계 계산\n",
        "  total = sum(numbers)\n",
        "# 평균 계산\n",
        "  avg = total / len(numbers)\n",
        "  return (total, avg) # 튜플로 총합과 평균 반환\n",
        "\n",
        "numbers = [10, 20, 30, 40, 50]\n",
        "total, avg = calculate_sum_and_avg(numbers)\n",
        "print(f\"총합: {total}, 평균: {avg}\")\n",
        "\n"
      ],
      "metadata": {
        "id": "OZxf8wZKPHuX"
      },
      "execution_count": null,
      "outputs": []
    },
    {
      "cell_type": "markdown",
      "source": [
        "Task_0426 딕셔너리 d에서 'b'의 값을 확인하면서 그 값을 삭제하세요"
      ],
      "metadata": {
        "id": "Co_9iOKuPJug"
      }
    },
    {
      "cell_type": "code",
      "source": [
        "# pop() 함수는 딕셔너리에서 삭제하라는 값을 반환한 후 삭제\n",
        "d = {'a': 1, 'b': 2, 'c': 3, 'd': 4}\n",
        "value = d.pop('b')\n",
        "print(\"삭제 값 : \",value)\n",
        "print(d)"
      ],
      "metadata": {
        "id": "jTdfzvYGPPRT"
      },
      "execution_count": null,
      "outputs": []
    },
    {
      "cell_type": "markdown",
      "source": [
        " Task_0426 다음과 같이 학생의 이름과 점수를 튜플로 묶은 리스트가 있습니다:[(\"Tom\",85),(\"Jane\",90),(\"Bob\",75)]\n",
        "\n",
        "이 리스트를 사용해 학생 이름을 키로, 점수를 값으로 하는 딕셔너리를 생성하고 출력하세요"
      ],
      "metadata": {
        "id": "RLiPuamLPTHv"
      }
    },
    {
      "cell_type": "code",
      "source": [
        "student = (\"Tom\",85),(\"Jane\",90),(\"Bob\",75)\n",
        "\n",
        "student_dict = dict(student)\n",
        "print(student_dict)"
      ],
      "metadata": {
        "id": "6FbMR9J2PdcN"
      },
      "execution_count": null,
      "outputs": []
    },
    {
      "cell_type": "markdown",
      "source": [
        " Tesk_0426 튜플의 불변생 떄문에 튜플은 딕셔너리의 키로 사용될 수 있습니다. 주어진 위치 좌표 리스트에서 각 위치가 몇 번 나타나는지 계산하는 딕셔너리를 만드세요"
      ],
      "metadata": {
        "id": "DVcXGfgWPfQZ"
      }
    },
    {
      "cell_type": "code",
      "source": [
        "# 위치 좌표의 리스트\n",
        "positions = [(1, 1), (2, 2), (1, 1), (3, 3), (2, 2)]\n",
        "\n",
        "# 각 위치의 출현 횟수를 저장할 딕셔너리\n",
        "position_count = {}\n",
        "\n",
        "for pos in positions:\n",
        "  if pos in position_count:\n",
        "      position_count[pos] += 1\n",
        "  else:\n",
        "    position_count[pos] = 1\n",
        "\n",
        "print(position_count)"
      ],
      "metadata": {
        "colab": {
          "base_uri": "https://localhost:8080/"
        },
        "id": "MhaNlyGKPilN",
        "outputId": "7961f841-c8d2-4ba2-c8bf-92402e9381d1"
      },
      "execution_count": null,
      "outputs": [
        {
          "output_type": "stream",
          "name": "stdout",
          "text": [
            "{(1, 1): 2, (2, 2): 2, (3, 3): 1}\n"
          ]
        }
      ]
    },
    {
      "cell_type": "markdown",
      "source": [
        "Task1_0426. 주어진 리스트에서 중복된 요소를 제외하고 고유한 요소의 개수를 세는 프로그램을 작성하세요.\n",
        "\n",
        "data = [1, 2, 2, 3, 4, 4, 4, 5]"
      ],
      "metadata": {
        "id": "swa2n9TYPk19"
      }
    },
    {
      "cell_type": "code",
      "source": [
        "data = [1, 2, 2, 3, 4, 4, 4, 5]\n",
        "\n",
        "result_A = list(set(data))\n",
        "\n",
        "print(len(result_A))"
      ],
      "metadata": {
        "id": "fNWmIFE1PkcW"
      },
      "execution_count": null,
      "outputs": []
    },
    {
      "cell_type": "markdown",
      "source": [
        "Task2_0426. 두 개의 리스트에서 공통으로 나타나는 요소들을 찾아 리스트로 반환하는 프로그램을 작성하세요.\n",
        "\n",
        "예시 입력: list1 = [1, 2, 3, 4, 5], list2 = [4, 5, 6, 7, 8]\n",
        "\n",
        "예시 출력: [4, 5]"
      ],
      "metadata": {
        "id": "HqoHXRvjPrHv"
      }
    },
    {
      "cell_type": "code",
      "source": [
        "list1 = [1, 2, 3, 4, 5]\n",
        "list2 = [4, 5, 6, 7, 8]\n",
        "\n",
        "set1 = set(list1)\n",
        "set2 = set(list2)\n",
        "\n",
        "print(set1 & set2)"
      ],
      "metadata": {
        "colab": {
          "base_uri": "https://localhost:8080/"
        },
        "id": "Unj_iC-GPuHa",
        "outputId": "160155ab-3ced-452c-93ec-6009d705c752"
      },
      "execution_count": null,
      "outputs": [
        {
          "output_type": "stream",
          "name": "stdout",
          "text": [
            "{4, 5}\n"
          ]
        }
      ]
    },
    {
      "cell_type": "markdown",
      "source": [
        "Task3_0426 주어진 숫자 리스트에서 특정 값보다 큰 요소가 하나라도 존재하는지 검사하고, 그 결과를 불 값으로 반환하는 함수를 작성하세요.\n",
        "\n",
        "numbers = [1, 2, 3, 10, 20]\n",
        "threshold = 15"
      ],
      "metadata": {
        "id": "Zb5evqU-Ptvn"
      }
    },
    {
      "cell_type": "code",
      "source": [
        "numbers = [1, 2, 3, 10, 20]\n",
        "threshold = 10\n",
        "\n",
        "for number in numbers:\n",
        "    if threshold < number:\n",
        "        print(bool(1))\n",
        "        break\n",
        "else:\n",
        "    print(bool(0))"
      ],
      "metadata": {
        "colab": {
          "base_uri": "https://localhost:8080/"
        },
        "id": "EB-zh_7SP1xL",
        "outputId": "70674351-9d11-449c-a66f-0a86bac3d15f"
      },
      "execution_count": null,
      "outputs": [
        {
          "output_type": "stream",
          "name": "stdout",
          "text": [
            "True\n"
          ]
        }
      ]
    },
    {
      "cell_type": "code",
      "source": [
        "numbers = [1, 2, 3, 10, 20]\n",
        "\n",
        "if any(num > 15 for num in numbers):\n",
        "  print(\"True\")\n",
        "else:\n",
        "  print(\"False\")"
      ],
      "metadata": {
        "colab": {
          "base_uri": "https://localhost:8080/"
        },
        "id": "b5hvskRgQRRl",
        "outputId": "378c567b-ed6c-4fad-a5d0-f45fe0eb44f0"
      },
      "execution_count": null,
      "outputs": [
        {
          "output_type": "stream",
          "name": "stdout",
          "text": [
            "True\n"
          ]
        }
      ]
    },
    {
      "cell_type": "code",
      "source": [
        "def check_greater_than_threshold(numbers,threshold):\n",
        "  for num in numbers:\n",
        "    if num > threshold:\n",
        "        return True\n",
        "  return False\n",
        "\n",
        "numbers = [1, 2, 3, 10, 20]\n",
        "threshold = 15\n",
        "result = check_greater_than_threshold(numbers,threshold)\n",
        "print(result)"
      ],
      "metadata": {
        "colab": {
          "base_uri": "https://localhost:8080/"
        },
        "id": "lOozLdxyQzIg",
        "outputId": "c2d3cf78-d38d-49e0-9be9-14f6b05100a9"
      },
      "execution_count": null,
      "outputs": [
        {
          "output_type": "stream",
          "name": "stdout",
          "text": [
            "True\n"
          ]
        }
      ]
    },
    {
      "cell_type": "markdown",
      "source": [
        "Task4_0426. 주어진 문자열이 특정 문자열을 포함하는지 확인하고 결과를 불 값으로 반환하는 함수를 작성하세요.\n",
        "\n",
        "text = \"hello world\"\n",
        "substring = \"world"
      ],
      "metadata": {
        "id": "XN-UmG2yP6II"
      }
    },
    {
      "cell_type": "code",
      "source": [
        "text = 'hello world'\n",
        "substring = 'world'\n",
        "\n",
        "if substring in text:\n",
        "    print(bool(1))\n",
        "else:\n",
        "    print(bool(0))"
      ],
      "metadata": {
        "colab": {
          "base_uri": "https://localhost:8080/"
        },
        "id": "8h07lcy7P8nx",
        "outputId": "aa2a6025-6750-4df9-cd0b-626e570b0cd1"
      },
      "execution_count": null,
      "outputs": [
        {
          "output_type": "stream",
          "name": "stdout",
          "text": [
            "True\n"
          ]
        }
      ]
    },
    {
      "cell_type": "code",
      "source": [
        "def contains_substring(text, substring):\n",
        "  if substring in text:\n",
        "    return True\n",
        "  else:\n",
        "    return False\n",
        "\n",
        "text = \"hello world\"\n",
        "substring = \"world\"\n",
        "result = contains_substring(text, substring)\n",
        "print(result)"
      ],
      "metadata": {
        "colab": {
          "base_uri": "https://localhost:8080/"
        },
        "id": "e8cf0jr4TRsz",
        "outputId": "3f30b6b9-39b0-432c-ba02-92a191b17ee6"
      },
      "execution_count": null,
      "outputs": [
        {
          "output_type": "stream",
          "name": "stdout",
          "text": [
            "True\n"
          ]
        }
      ]
    },
    {
      "cell_type": "markdown",
      "source": [
        "사용자 함수의 형태\n",
        "- 입력값, 출력값 모두 있는 경우\n",
        "- 입력값만 있는 경우\n",
        "- 출력값만 있는 경우\n",
        "- 입출력값이 없는 경우"
      ],
      "metadata": {
        "id": "dHS49GnkUhNP"
      }
    },
    {
      "cell_type": "markdown",
      "source": [
        "Task5_0426. 주어진 연도가 윤년인지 판별하는 함수를 작성하세요. 윤년은 다음의 조건을 만족해야 합니다:\n",
        "\n",
        "4로 나누어 떨어진다.\n",
        "100으로 나누어 떨어지지 않거나, 400으로 나누어 떨어지면 윤년이다.\n",
        "year = 2020\n",
        "\n",
        "True"
      ],
      "metadata": {
        "id": "KpG1O6q_P-mw"
      }
    },
    {
      "cell_type": "code",
      "source": [
        "year = 2020\n",
        "\n",
        "if (year % 4 == 0) and ((year % 100 != 0) or (year % 400 == 0)):\n",
        "    print(bool(1))\n",
        "else:\n",
        "    print(bool(0))"
      ],
      "metadata": {
        "id": "fXY33YBpQBF9"
      },
      "execution_count": null,
      "outputs": []
    },
    {
      "cell_type": "code",
      "source": [
        "def is_leep_year(year):\n",
        "    if year % 4 == 0 and (year % 100 != 0 or year % 400 == 0):\n",
        "      return True\n",
        "    else:\n",
        "      return False\n",
        "\n",
        "year = 2020\n",
        "result =is_leep_year(year)\n",
        "print(result)"
      ],
      "metadata": {
        "colab": {
          "base_uri": "https://localhost:8080/"
        },
        "id": "CWuFcVOTY0Qe",
        "outputId": "4d26ee46-f05b-476f-b56f-c28bd5316bf2"
      },
      "execution_count": null,
      "outputs": [
        {
          "output_type": "stream",
          "name": "stdout",
          "text": [
            "True\n"
          ]
        }
      ]
    },
    {
      "cell_type": "code",
      "source": [
        "def is_leep_year(year):\n",
        "    if (not year % 4 ) and ((year % 100) or (not year % 400)):\n",
        "      return True\n",
        "    else:\n",
        "      return False\n",
        "\n"
      ],
      "metadata": {
        "id": "RHuUY1obaW10"
      },
      "execution_count": null,
      "outputs": []
    },
    {
      "cell_type": "markdown",
      "source": [
        "Task6_0426. Calculator 클래스를 작성하고 4칙연산을 수행하는 객체 4개를 작성하여 결과를 출력하세요"
      ],
      "metadata": {
        "id": "SZAsp9oSQp1t"
      }
    },
    {
      "cell_type": "code",
      "source": [
        "class Calculator:\n",
        "  def add(self,n1,n2):\n",
        "    return n1 + n2\n",
        "  def mul(self,n1,n2):\n",
        "    return n1 * n2\n",
        "  def subtract(self,n1,n2):\n",
        "    return n1 - n2\n",
        "  def div(self,n1,n2):\n",
        "    if n2 == 0:\n",
        "      return \"Error\"\n",
        "    else:\n",
        "      return n1 / n2\n",
        "\n",
        "# 덧셈\n",
        "take1 = Calculator()\n",
        "print(take1.add(5, 2))\n",
        "\n",
        "# 곱하기\n",
        "take2 = Calculator()\n",
        "print(take2.mul(5, 2))\n",
        "\n",
        "# 뻴셈\n",
        "take3 = Calculator()\n",
        "print(take3.subtract(5, 2))\n",
        "\n",
        "# 나눗셈\n",
        "take4 = Calculator()\n",
        "print(take4.div(10, 2))"
      ],
      "metadata": {
        "colab": {
          "base_uri": "https://localhost:8080/"
        },
        "id": "VrpGOakfQr5u",
        "outputId": "93ca22f1-eb5f-48ff-8809-b51a256bf436"
      },
      "execution_count": null,
      "outputs": [
        {
          "output_type": "stream",
          "name": "stdout",
          "text": [
            "7\n",
            "10\n",
            "3\n",
            "5.0\n"
          ]
        }
      ]
    },
    {
      "cell_type": "markdown",
      "source": [
        "Task7_0426. 다음 과제를 수행하세요.\n",
        "\n",
        "사용자로 부터 텍스트를 입력 받는다.\n",
        "문자을 단어 단위로 분리 : split()\n",
        "단어의 빈도수를 저장할 딕셔너리를 생성\n",
        "각 단어의 빈도 수를 계산(for 문 / if else문): word=word.lower()\n",
        "결과 출력\n",
        "[ 예시 ]\n",
        "\n",
        "문장을 입력하세요: I love apple. I love orange. Apple is tasty\n",
        "\n",
        "{'i': 2, 'love': 2, 'apple.': 1, 'orange.': 1, 'apple': 1, 'is': 1, 'tasty': 1}"
      ],
      "metadata": {
        "id": "VrlOzSIYQss_"
      }
    },
    {
      "cell_type": "code",
      "source": [
        "text = input(\"문장을 입력하세요: \")\n",
        "words = text.split()\n",
        "word_frequency = {}\n",
        "for word in words:\n",
        "    if word in word_frequency:\n",
        "        word_frequency[word] += 1\n",
        "    else:\n",
        "        word_frequency[word] = 1\n",
        "\n",
        "print(word_frequency)"
      ],
      "metadata": {
        "colab": {
          "base_uri": "https://localhost:8080/"
        },
        "id": "0ULyTmDTcPgC",
        "outputId": "acc21785-839c-4d3c-9a15-8d7812a437ab"
      },
      "execution_count": null,
      "outputs": [
        {
          "output_type": "stream",
          "name": "stdout",
          "text": [
            "문장을 입력하세요: I love apple. I love orange. Apple is tasty\n",
            "{'I': 2, 'love': 2, 'apple.': 1, 'orange.': 1, 'Apple': 1, 'is': 1, 'tasty': 1}\n"
          ]
        }
      ]
    },
    {
      "cell_type": "code",
      "source": [
        "# 사용자로부터 문장을 입력 받습니다\n",
        "sentence = input(\"문장을 입력하세요:\")\n",
        "# 문장을 단어 단위로 분리합니다\n",
        "word = sentence.split()\n",
        "# 단어의 빈도수를 저장할 딕셔너리를 생성합니다\n",
        "word_frequency = {}\n",
        "# 각 단어의 빈도수를 계산합니다\n",
        "for word in words:\n",
        "    # 대소문자를 구분하지 않기 위해 단어를 소문자로 변환합니다\n",
        "    word = word.lower() # upper() 대문자로 변경\n",
        "    # 딕셔너리에 단어가 이미 존재한다면 빈도수를 1 증가시키고, 존재하지 않는다면 새로운 항목으로 추가합니다\n",
        "    if word in word_frequency:\n",
        "        word_frequency[word] += 1\n",
        "    else:\n",
        "        word_frequency[word] = 1\n",
        "# 결과를 출력합니다\n",
        "print(word_frequency)\n",
        "# I love apple. I love orange. Apple is tasty"
      ],
      "metadata": {
        "colab": {
          "base_uri": "https://localhost:8080/"
        },
        "id": "AAejIKW3fyWI",
        "outputId": "17d945d2-d362-450d-d6bb-9773a62c3cfa"
      },
      "execution_count": null,
      "outputs": [
        {
          "output_type": "stream",
          "name": "stdout",
          "text": [
            "문장을 입력하세요:huhhjhj\n",
            "{'i': 2, 'love': 2, 'apple.': 1, 'orange.': 1, 'apple': 1, 'is': 1, 'tasty': 1, 'apple ': 1, ' banana ': 1, ' orange': 1}\n"
          ]
        }
      ]
    },
    {
      "cell_type": "markdown",
      "source": [
        "2024년 4월 29일\n",
        "----------------------------------------------------------------------------------------------------------------------------------------------------------------"
      ],
      "metadata": {
        "id": "oyzVb12eod31"
      }
    },
    {
      "cell_type": "markdown",
      "source": [
        "Task1_0429. input_str을 아래와 같이 단어로 분리하여 출력하세요.\n",
        "\n",
        "input_str = \"Hello, world! How are you today? I am fine. Thank you!\"\n",
        "\n",
        "['Hello', 'world', 'How', 'are', 'you', 'today', 'I', 'am', 'fine', 'Thank', 'you', '']"
      ],
      "metadata": {
        "id": "XhCWFD-nohCg"
      }
    },
    {
      "cell_type": "code",
      "source": [
        "text = input(\"단어 입력 \")\n",
        "words = text.split()\n",
        "print(words)"
      ],
      "metadata": {
        "id": "u4u-cd6eosYa",
        "colab": {
          "base_uri": "https://localhost:8080/"
        },
        "outputId": "c47c087e-4ee1-4709-bb25-4c19a396a29a"
      },
      "execution_count": null,
      "outputs": [
        {
          "output_type": "stream",
          "name": "stdout",
          "text": [
            "단어 입력Hello, world! How are you today? I am fine. Thank you!\n",
            "['Hello,', 'world!', 'How', 'are', 'you', 'today?', 'I', 'am', 'fine.', 'Thank', 'you!']\n"
          ]
        }
      ]
    },
    {
      "cell_type": "code",
      "source": [
        "import re\n",
        "\n",
        "input_str =  \"Hello, world! How are you today? I am fine. Thank you!\"\n",
        "# 여러 구분자(공백, 쉼표, 마침표, 느낌표)를 포함하는 정규 표현식을 사용\n",
        "tokens = re.split('[ ..?!]+',input_str)\n",
        "print(tokens)"
      ],
      "metadata": {
        "colab": {
          "base_uri": "https://localhost:8080/"
        },
        "id": "BugMMV_OX6Fk",
        "outputId": "054262de-0f82-4cc5-f36c-aa2c42325c39"
      },
      "execution_count": null,
      "outputs": [
        {
          "output_type": "stream",
          "name": "stdout",
          "text": [
            "['Hello,', 'world', 'How', 'are', 'you', 'today', 'I', 'am', 'fine', 'Thank', 'you', '']\n"
          ]
        }
      ]
    },
    {
      "cell_type": "code",
      "source": [
        "import re\n",
        "\n",
        "input_str =  \"Hello, world! How are you today? I am fine. Thank you!\"\n",
        "tokens = re.split('[ ..?!]+',input_str)\n",
        "tokens =  [token for token in tokens if token ]\n",
        "print(tokens)"
      ],
      "metadata": {
        "colab": {
          "base_uri": "https://localhost:8080/"
        },
        "id": "yI_bnpwliFtm",
        "outputId": "ef79216e-2c87-460f-c2d6-1f8ffe376a72"
      },
      "execution_count": null,
      "outputs": [
        {
          "output_type": "stream",
          "name": "stdout",
          "text": [
            "['Hello,', 'world', 'How', 'are', 'you', 'today', 'I', 'am', 'fine', 'Thank', 'you']\n"
          ]
        }
      ]
    },
    {
      "cell_type": "code",
      "source": [
        "import re\n",
        "\n",
        "input_str =  \"Hello, world! How are you today? I am fine. Thank you!\"\n",
        "tokens = re.split('[ ..?!]+',input_str)\n",
        "tokens =  list(filter(None, tokens))\n",
        "print(tokens)"
      ],
      "metadata": {
        "colab": {
          "base_uri": "https://localhost:8080/"
        },
        "id": "RAWfb5a5ht-u",
        "outputId": "0521d426-0f90-4c66-9629-d2d01d02a37f"
      },
      "execution_count": null,
      "outputs": [
        {
          "output_type": "stream",
          "name": "stdout",
          "text": [
            "['Hello,', 'world', 'How', 'are', 'you', 'today', 'I', 'am', 'fine', 'Thank', 'you']\n"
          ]
        }
      ]
    },
    {
      "cell_type": "markdown",
      "source": [
        "Task2_0429. 십진수 122를 2진수, 8진수, 16진수로 변경하여 출력하세요."
      ],
      "metadata": {
        "id": "DBF5cdNl69ZO"
      }
    },
    {
      "cell_type": "code",
      "source": [
        "print(122)\n",
        "print(0b1111010)\n",
        "print(0o122)\n",
        "print(0x122)\n",
        "\n"
      ],
      "metadata": {
        "id": "FJ0eF_u-6wKI"
      },
      "execution_count": null,
      "outputs": []
    },
    {
      "cell_type": "code",
      "source": [
        "decimal_number = 122\n",
        "binary_number = bin(decimal_number)\n",
        "print(\"2진수 : \", binary_number)\n",
        "\n",
        "ootal_number = oct(decimal_number)\n",
        "print(\"8진수 : \", ootal_number)\n",
        "\n",
        "hexadecimal_number = hex(decimal_number)\n",
        "print(\"16진수 : \", hexadecimal_number)"
      ],
      "metadata": {
        "colab": {
          "base_uri": "https://localhost:8080/"
        },
        "id": "GH86GSw5ZoEA",
        "outputId": "6a0ff07a-a1ea-4e9a-e57a-b7c91547fd5f"
      },
      "execution_count": null,
      "outputs": [
        {
          "output_type": "stream",
          "name": "stdout",
          "text": [
            "2진수 :  0b1111010\n",
            "8진수 :  0o172\n",
            "16진수 :  0x7a\n"
          ]
        }
      ]
    },
    {
      "cell_type": "markdown",
      "source": [
        "Task3_0429. 두 수의 곱셈 결과를 계산하고, 그 결과에 10을 더하세요."
      ],
      "metadata": {
        "id": "si18zdMy7v8y"
      }
    },
    {
      "cell_type": "code",
      "source": [
        "x = 10\n",
        "y = 11\n",
        "result = x * y + 10\n",
        "print(result)"
      ],
      "metadata": {
        "id": "bWXiyDoT70bT",
        "colab": {
          "base_uri": "https://localhost:8080/"
        },
        "outputId": "246f39e0-cc32-4d6c-e9b7-b8640bc379a3"
      },
      "execution_count": null,
      "outputs": [
        {
          "output_type": "stream",
          "name": "stdout",
          "text": [
            "120\n"
          ]
        }
      ]
    },
    {
      "cell_type": "markdown",
      "source": [
        "Task4_0429. 주어진 리스트에서 두 번째 요소를 삭제하고, 마지막에 새로운 요소 'Python'을 추가하세요.\n",
        "\n",
        "리스트: ['Java', 'C', 'JavaScript']"
      ],
      "metadata": {
        "id": "PaxXx13N70qK"
      }
    },
    {
      "cell_type": "code",
      "source": [
        "list1 = ['Java', 'C', 'JavaScript']\n",
        "\n",
        "del list1[1]\n",
        "print(list1)\n",
        "\n",
        "list1.append('Python')\n",
        "print(list1)"
      ],
      "metadata": {
        "id": "YJAyzRy7IZNY",
        "colab": {
          "base_uri": "https://localhost:8080/"
        },
        "outputId": "cd3066c3-e1f1-4aa6-e7b1-a25f2ece4080"
      },
      "execution_count": null,
      "outputs": [
        {
          "output_type": "stream",
          "name": "stdout",
          "text": [
            "['Java', 'JavaScript']\n",
            "['Java', 'JavaScript', 'Python']\n"
          ]
        }
      ]
    },
    {
      "cell_type": "code",
      "source": [
        "languages = ['java', 'c', 'JavaScript']\n",
        "print(languages.pop(1))\n",
        "languages.append('Python')\n",
        "print(languages)"
      ],
      "metadata": {
        "colab": {
          "base_uri": "https://localhost:8080/"
        },
        "id": "Z7PDo7XBcrdV",
        "outputId": "939108b5-391d-4d40-d2a5-3c2908e46773"
      },
      "execution_count": null,
      "outputs": [
        {
          "output_type": "stream",
          "name": "stdout",
          "text": [
            "c\n",
            "['java', 'JavaScript', 'Python']\n"
          ]
        }
      ]
    },
    {
      "cell_type": "markdown",
      "source": [
        "Task5_0429. 주어진 문자열에서 처음 세 글자와 마지막 세 글자를 연결하여 새로운 문자열을 만드세요.\n",
        "\n",
        "문자열: 'Incredible'"
      ],
      "metadata": {
        "id": "cAFtPcHE71xh"
      }
    },
    {
      "cell_type": "code",
      "source": [
        "str1 = \"Incredible\"\n",
        "str = str1[:3]+str1[-3:]\n",
        "print(str)"
      ],
      "metadata": {
        "id": "0U0XNPcCNrGw",
        "colab": {
          "base_uri": "https://localhost:8080/"
        },
        "outputId": "300e082f-2076-4474-984b-f38aee076fd6"
      },
      "execution_count": null,
      "outputs": [
        {
          "output_type": "stream",
          "name": "stdout",
          "text": [
            "Incble\n"
          ]
        }
      ]
    },
    {
      "cell_type": "markdown",
      "source": [
        "Task6_0429. 사용자의 이름과 이메일을 딕셔너리로 저장하고, 이름을 입력받아 해당하는 이메일을 출력하세요.\n",
        "\n",
        "사용자 정보: 이름 - 'Alice', 이메일 - 'alice@example.com'"
      ],
      "metadata": {
        "id": "0ZZfx38N75Bp"
      }
    },
    {
      "cell_type": "code",
      "source": [
        "user = {'Alice':'alice@example.com' }\n",
        "name = input('이름을 입력 ')\n",
        "if name in user.keys():\n",
        "    print(name, ' ',user[name], ' ')\n",
        "else:\n",
        "    print('해당 사람이 없습니다.')\n",
        "\n"
      ],
      "metadata": {
        "id": "OFu1Yqt376du",
        "colab": {
          "base_uri": "https://localhost:8080/"
        },
        "outputId": "b1d4eff7-3508-4e7b-e0c4-2d032ebda644"
      },
      "execution_count": null,
      "outputs": [
        {
          "output_type": "stream",
          "name": "stdout",
          "text": [
            "이름을 입력 Alice\n",
            "Alice   alice@example.com  \n"
          ]
        }
      ]
    },
    {
      "cell_type": "markdown",
      "source": [
        "Task7_0429. 주어진 두 튜플에서 공통 요소만을 찾아 집합으로 만드세요.\n",
        "\n",
        "튜플: (1, 2, 3, 4, 5)와 (4, 5, 6, 7, 8)"
      ],
      "metadata": {
        "id": "AM09Yy5c7_Ue"
      }
    },
    {
      "cell_type": "code",
      "source": [
        "tuple1 = (1,2,3,4,5)\n",
        "tuple2 = (4,5,6,7,8)\n",
        "\n",
        "t1 = set(tuple1)\n",
        "t2 = set(tuple2)\n",
        "\n",
        "print(t1 & t2)"
      ],
      "metadata": {
        "colab": {
          "base_uri": "https://localhost:8080/"
        },
        "id": "z8Mdv7F8Os3Z",
        "outputId": "f9a321d9-15e2-4985-8ae1-d5658cbe7956"
      },
      "execution_count": null,
      "outputs": [
        {
          "output_type": "stream",
          "name": "stdout",
          "text": [
            "{4, 5}\n"
          ]
        }
      ]
    },
    {
      "cell_type": "markdown",
      "source": [
        "Task8_Challenge_0429. 다음 요구 사항을 충족하는 프로그램을 작성하세요:\n",
        "\n",
        "- 사용자로부터 이름, 나이, 좋아하는 색상을 입력받습니다.\n",
        "- 입력받은 정보를 딕셔너리로 저장하고, 모든 사용자 정보를 리스트에 저장합니다.\n",
        "- 이름이 'John'인 사용자의 정보만 출력하세요.\n",
        "- 전체 사용자의 평균 나이를 계산하고 출력하세요.\n",
        "1. 사용자 데이터:\n",
        "- 이름: John\n",
        "- 나이: 28\n",
        "- 좋아하는 색상: Blue\n",
        "2. 사용자 데이터:\n",
        "- 이름: Alice\n",
        "- 나이: 24\n",
        "- 좋아하는 색상: Red\n",
        "3. 사용자 데이터:\n",
        "- 이름: Maria\n",
        "- 나이: 32\n",
        "- 좋아하는 색상: Green"
      ],
      "metadata": {
        "id": "w2RKtXi38CG6"
      }
    },
    {
      "cell_type": "code",
      "source": [
        "users = []\n",
        "\n",
        "for _ in range(3):\n",
        "\n",
        "  name = input(\"이름 입력 : \")\n",
        "  age = int(input(\"나이 입력 : \"))\n",
        "  color = input(\"좋아하는 색상 입력 : \")\n",
        "\n",
        "  user_info = {'name' : name, 'age' : age, 'color' : color }\n",
        "  users.append(user_info)\n",
        "\n",
        "for user in users:\n",
        "  if user[ 'name' ] == 'John':\n",
        "    print(f'John\\'s info: {user}')\n",
        "\n",
        "total_avg = sum(user['age'] for user in users)\n",
        "average_avg = total_avg / len(users)\n",
        "\n",
        "print(f'Average age of users : {average_avg: 2f}')\n",
        "\n"
      ],
      "metadata": {
        "colab": {
          "base_uri": "https://localhost:8080/"
        },
        "id": "lhIQSuOg2B_H",
        "outputId": "99e1212f-b98b-4098-c097-dc1a5e2833c4"
      },
      "execution_count": null,
      "outputs": [
        {
          "output_type": "stream",
          "name": "stdout",
          "text": [
            "이름 입력 : Jone\n",
            "나이 입력 : 28\n",
            "좋아하는 색상 입력 : Blue\n",
            "이름 입력 : Alice\n",
            "나이 입력 : 24\n",
            "좋아하는 색상 입력 : Red\n",
            "이름 입력 : Maria\n",
            "나이 입력 : 32\n",
            "좋아하는 색상 입력 : Green\n",
            "Average age of users :  28.000000\n"
          ]
        }
      ]
    },
    {
      "cell_type": "markdown",
      "source": [
        "## 2024년 4월 30일"
      ],
      "metadata": {
        "id": "78jUDtbjzch-"
      }
    },
    {
      "cell_type": "markdown",
      "source": [
        "Task1_0430. 남녀 파트너 정해주기 프로그램(zip)\n",
        "\n",
        "같은 수의 남녀 모임에서 파트너를 랜덤하게 정해주는 프로그램을 만들어 보세요\n",
        "\n",
        "male = ['철수','갑돌','로미오','이몽룡','온돌']\n",
        "\n",
        "female = ['미미','갑순','줄리엣','성춘향','평강']"
      ],
      "metadata": {
        "id": "Kqye0UtizalY"
      }
    },
    {
      "cell_type": "code",
      "source": [
        "import random\n",
        "\n",
        "male = ['철수','갑돌','로미오','이몽룡','온돌']\n",
        "female = ['미미','갑순','줄리엣','성춘향','평강']\n",
        "\n",
        "random.shuffle(male)\n",
        "random.shuffle(female)\n",
        "\n",
        "full = [male + \", \" + female for male, female in zip(male, female)]\n",
        "\n",
        "print(full)\n",
        "\n",
        "for i, full in enumerate(full):\n",
        "  print(f'커플{i+1}: {full[0], {full[1]}}')"
      ],
      "metadata": {
        "colab": {
          "base_uri": "https://localhost:8080/"
        },
        "id": "u6Dfq7UQ0KYa",
        "outputId": "df08c2b0-ab7c-4474-c92d-d058cab24297"
      },
      "execution_count": 1,
      "outputs": [
        {
          "output_type": "stream",
          "name": "stdout",
          "text": [
            "['온돌, 갑순', '갑돌, 줄리엣', '철수, 평강', '로미오, 미미', '이몽룡, 성춘향']\n",
            "커플1: ('온', {'돌'})\n",
            "커플2: ('갑', {'돌'})\n",
            "커플3: ('철', {'수'})\n",
            "커플4: ('로', {'미'})\n",
            "커플5: ('이', {'몽'})\n"
          ]
        }
      ]
    },
    {
      "cell_type": "markdown",
      "source": [
        "Task2_0430. 대문자, 소문자, 숫자를 포함하는 8자리 랜덤 비밀번호를 생성하는 프로그램을 작성하세요."
      ],
      "metadata": {
        "id": "m7LU0kIKzg5E"
      }
    },
    {
      "cell_type": "code",
      "source": [
        "import random\n",
        "import string # 문자열 상수를 제공하는 모듈로, 여기서는 알파벳 문자와 숫자를 포함\n",
        "\n",
        "characters = string.ascii_letters + string.digits # 모든 소문자와 대문자 알파벳을 포함( a - z , A - Z )\n",
        "password = ''.join(random.choice(characters) for i in range(8))\n",
        "print(\"랜덤 비밀번호 : \" , password)\n"
      ],
      "metadata": {
        "id": "2UmHwbSL1SNy",
        "colab": {
          "base_uri": "https://localhost:8080/"
        },
        "outputId": "8c832ab9-b490-404b-c085-1d43c8bb5f7b"
      },
      "execution_count": 4,
      "outputs": [
        {
          "output_type": "stream",
          "name": "stdout",
          "text": [
            "랜덤 비밀번호 :  M2jyHzOd\n"
          ]
        }
      ]
    },
    {
      "cell_type": "code",
      "source": [
        "# 대문자, 소문자, 숫자가 한번씩은 반드시 포함되야 하는 경우\n",
        "\n",
        "import random\n",
        "import string\n",
        "\n",
        "upper = random.choice(string.ascii_uppercase)\n",
        "lower = random.choice(string.ascii_lowercase)\n",
        "digit = random.choice(string.digits)\n",
        "\n",
        "characters = string.ascii_letters + string.digits\n",
        "rest = ''.join(random.choice(characters) for i in range(5))\n",
        "\n",
        "# 모든 요소를 하나의 문자열로 합치기\n",
        "password = upper + lower + digit + rest\n",
        "\n",
        "# 비밀번호 임의로 찾기\n",
        "print(password)\n",
        "password = ''.join(random.sample(password, len(password))) # (선택할 시퀀스, 선택할 요소)\n",
        "print(\"랜덤 비밀번호 : \" , password)"
      ],
      "metadata": {
        "colab": {
          "base_uri": "https://localhost:8080/"
        },
        "id": "vxBFlTfy0ydK",
        "outputId": "e4cd36ec-3319-4aa5-9a1e-eea200311df7"
      },
      "execution_count": 7,
      "outputs": [
        {
          "output_type": "stream",
          "name": "stdout",
          "text": [
            "Fe4BQ96z\n",
            "랜덤 비밀번호 :  e9z6QB4F\n"
          ]
        }
      ]
    },
    {
      "cell_type": "markdown",
      "source": [
        "Task3_0430. 발표자 수를 랜덤하게 출력하는 프로그램을 작성하세요.(발표자 수 입력)\n",
        "\n",
        "kita = ['김성현','황강민','윤호준','류윤선','이상협','박지환','최환욱','서보선','김한결','김도현','김하준',\n",
        "        '김도원','신현진','소지승','이범석','이현석','이명신','박윤경','이도헌','김홍준']"
      ],
      "metadata": {
        "id": "1yCtS1vMziSp"
      }
    },
    {
      "cell_type": "code",
      "source": [
        "import random\n",
        "\n",
        "kita = ['김성현','황강민','윤호준','류윤선','이상협','박지환','최환욱','서보선','김한결','김도현','김하준', '김도원','신현진','소지승','이범석','이현석','이명신','박윤경','이도헌','김홍준']\n",
        "\n",
        "num = int(input(\"발표자 수  > \"))\n",
        "ans = random.sample(kita, num) # 중복 없이 요소를 선택\n",
        "print(ans)"
      ],
      "metadata": {
        "colab": {
          "base_uri": "https://localhost:8080/"
        },
        "id": "QZcH96FI2KRC",
        "outputId": "ad950a2b-5177-46c8-e368-8e42465cc32b"
      },
      "execution_count": 9,
      "outputs": [
        {
          "output_type": "stream",
          "name": "stdout",
          "text": [
            "발표자 수  > 8\n",
            "['류윤선', '김홍준', '김한결', '박지환', '김하준', '이현석', '윤호준', '김성현']\n"
          ]
        }
      ]
    },
    {
      "cell_type": "markdown",
      "source": [
        "Task4_0430. 사용자로부터 숫자를 입력받아 해당 숫자의 구구단을 출력하는 프로그램을 작성하세요."
      ],
      "metadata": {
        "id": "nZqpVPJNzlj8"
      }
    },
    {
      "cell_type": "code",
      "source": [
        "num = int(input(\"숫자 입력: \"))\n",
        "\n",
        "for i in range(1, 10):\n",
        "    print(f'{num} x {i} = {num * i}')"
      ],
      "metadata": {
        "colab": {
          "base_uri": "https://localhost:8080/"
        },
        "id": "nZZ7ZH487E_0",
        "outputId": "495d1eb1-48a8-45c5-e467-940bcbaf6231"
      },
      "execution_count": 28,
      "outputs": [
        {
          "output_type": "stream",
          "name": "stdout",
          "text": [
            "숫자 입력: 7\n",
            "7 x 1 = 7\n",
            "7 x 2 = 14\n",
            "7 x 3 = 21\n",
            "7 x 4 = 28\n",
            "7 x 5 = 35\n",
            "7 x 6 = 42\n",
            "7 x 7 = 49\n",
            "7 x 8 = 56\n",
            "7 x 9 = 63\n"
          ]
        }
      ]
    },
    {
      "cell_type": "code",
      "source": [
        "# 구구단 전부 출력\n",
        "\n",
        "for i in range(2, 10):\n",
        "  for j in range(1, 10):\n",
        "    print(f'{i} x {j} = {i * j}')\n",
        "  print('\\n')"
      ],
      "metadata": {
        "id": "6WT3u8Pw7Y2i"
      },
      "execution_count": null,
      "outputs": []
    },
    {
      "cell_type": "markdown",
      "source": [
        "f - string내에서 { }안에는 변수 뿐만 아니라 Python 표현식도 올 수 있음\n",
        "\n",
        "\n"
      ],
      "metadata": {
        "id": "mjr2JfP-Fhs8"
      }
    },
    {
      "cell_type": "code",
      "source": [
        "# 구구단 횡 방향 출력\n",
        "\n",
        "for i in range(2, 10): # 2단 부터 9단 까지\n",
        "  # 각 단위 이름 중간에 출력\n",
        "  print(f\"{' '*5}{i}단{' '*5}\", end=\"\\t\") # 중간에 각 단의 이름을 출력\n",
        "print()\n",
        "\n",
        "# 구분선 추가\n",
        "for i in range(2, 10):\n",
        "  print(\"=\"*12, end=\"\\t\") # 각 단마다 구분선을 출력\n",
        "print()\n",
        "\n",
        "for j in range(1, 10):\n",
        "  for i in range(2, 10):\n",
        "    print(f'{i} x {j} = {i * j}', end ='\\t')\n",
        "  print()"
      ],
      "metadata": {
        "colab": {
          "base_uri": "https://localhost:8080/"
        },
        "id": "TCNWhc3F9-GA",
        "outputId": "8916647d-9d5b-4a33-f9d5-2bf59a55ee93"
      },
      "execution_count": 29,
      "outputs": [
        {
          "output_type": "stream",
          "name": "stdout",
          "text": [
            "     2단     \t     3단     \t     4단     \t     5단     \t     6단     \t     7단     \t     8단     \t     9단     \t\n",
            "============\t============\t============\t============\t============\t============\t============\t============\t\n",
            "2 x 1 = 2\t3 x 1 = 3\t4 x 1 = 4\t5 x 1 = 5\t6 x 1 = 6\t7 x 1 = 7\t8 x 1 = 8\t9 x 1 = 9\t\n",
            "2 x 2 = 4\t3 x 2 = 6\t4 x 2 = 8\t5 x 2 = 10\t6 x 2 = 12\t7 x 2 = 14\t8 x 2 = 16\t9 x 2 = 18\t\n",
            "2 x 3 = 6\t3 x 3 = 9\t4 x 3 = 12\t5 x 3 = 15\t6 x 3 = 18\t7 x 3 = 21\t8 x 3 = 24\t9 x 3 = 27\t\n",
            "2 x 4 = 8\t3 x 4 = 12\t4 x 4 = 16\t5 x 4 = 20\t6 x 4 = 24\t7 x 4 = 28\t8 x 4 = 32\t9 x 4 = 36\t\n",
            "2 x 5 = 10\t3 x 5 = 15\t4 x 5 = 20\t5 x 5 = 25\t6 x 5 = 30\t7 x 5 = 35\t8 x 5 = 40\t9 x 5 = 45\t\n",
            "2 x 6 = 12\t3 x 6 = 18\t4 x 6 = 24\t5 x 6 = 30\t6 x 6 = 36\t7 x 6 = 42\t8 x 6 = 48\t9 x 6 = 54\t\n",
            "2 x 7 = 14\t3 x 7 = 21\t4 x 7 = 28\t5 x 7 = 35\t6 x 7 = 42\t7 x 7 = 49\t8 x 7 = 56\t9 x 7 = 63\t\n",
            "2 x 8 = 16\t3 x 8 = 24\t4 x 8 = 32\t5 x 8 = 40\t6 x 8 = 48\t7 x 8 = 56\t8 x 8 = 64\t9 x 8 = 72\t\n",
            "2 x 9 = 18\t3 x 9 = 27\t4 x 9 = 36\t5 x 9 = 45\t6 x 9 = 54\t7 x 9 = 63\t8 x 9 = 72\t9 x 9 = 81\t\n"
          ]
        }
      ]
    },
    {
      "cell_type": "markdown",
      "source": [
        "Task5_0430. 사용자로부터 숫자를 입력받아 해당 숫자의 팩토리얼을 계산하세요."
      ],
      "metadata": {
        "id": "tjRJyCiZzntb"
      }
    },
    {
      "cell_type": "code",
      "source": [
        "\n",
        "num = int(input(\"팩토리얼을 계산할 숫자를 입력 : \"))\n",
        "\n",
        "factorial = 1\n",
        "\n",
        "for i in range(1, num + 1):\n",
        "  factorial *= i\n",
        "print(f\"{num}의 팩토리얼은 {factorial}입니다\")"
      ],
      "metadata": {
        "id": "iNoJsrvP8ER9",
        "colab": {
          "base_uri": "https://localhost:8080/"
        },
        "outputId": "1cc9c18b-fd32-4487-ae90-7752b73c9b17"
      },
      "execution_count": 32,
      "outputs": [
        {
          "output_type": "stream",
          "name": "stdout",
          "text": [
            "팩토리얼을 계산할 숫자를 입력 : 10\n",
            "10의 팩토리얼은 3628800입니다\n"
          ]
        }
      ]
    },
    {
      "cell_type": "markdown",
      "source": [
        "Task6_0430. 0부터 20까지의 숫자 중에서 짝수와 홀수를 분리하여 두 개의 리스트에 저장하세요."
      ],
      "metadata": {
        "id": "HCSfmnRbzvpu"
      }
    },
    {
      "cell_type": "code",
      "source": [
        "num1 = []\n",
        "num2 = []\n",
        "\n",
        "for i in range(21):\n",
        "  if i % 2 == 0:\n",
        "    num1.append(i)\n",
        "  else:\n",
        "    num2.append(i)\n",
        "\n",
        "print(num1)\n",
        "print(num2)"
      ],
      "metadata": {
        "id": "GJtPG9bR8D92",
        "colab": {
          "base_uri": "https://localhost:8080/"
        },
        "outputId": "1640929c-7db2-4a53-9ac0-a7846a932601"
      },
      "execution_count": 33,
      "outputs": [
        {
          "output_type": "stream",
          "name": "stdout",
          "text": [
            "[0, 2, 4, 6, 8, 10, 12, 14, 16, 18, 20]\n",
            "[1, 3, 5, 7, 9, 11, 13, 15, 17, 19]\n"
          ]
        }
      ]
    },
    {
      "cell_type": "markdown",
      "source": [
        "Task7_0430. 주어진 리스트에서 최대값을 찾아 출력하세요.\n",
        "numbers = [34, 78, 2, 45, 99, 23]"
      ],
      "metadata": {
        "id": "c62Xx8JHzxk2"
      }
    },
    {
      "cell_type": "code",
      "source": [
        " numbers = [34, 78, 2, 45, 99, 23]\n",
        "\n",
        "max = 0\n",
        "for i in numbers:\n",
        "  if i > max:\n",
        "    max = i\n",
        "print(max)"
      ],
      "metadata": {
        "colab": {
          "base_uri": "https://localhost:8080/"
        },
        "id": "v50Umn_HIgkT",
        "outputId": "d685583a-3d28-4e94-8647-f5f65aa6ff04"
      },
      "execution_count": 35,
      "outputs": [
        {
          "output_type": "stream",
          "name": "stdout",
          "text": [
            "99\n"
          ]
        }
      ]
    },
    {
      "cell_type": "code",
      "source": [
        " numbers = [34, 78, 2, 45, 99, 23]\n",
        "\n",
        " max(numbers)"
      ],
      "metadata": {
        "colab": {
          "base_uri": "https://localhost:8080/"
        },
        "id": "WHP9yqOA8Dm8",
        "outputId": "ae6dc733-f7f9-456a-8f46-4aeca9b493b6"
      },
      "execution_count": 34,
      "outputs": [
        {
          "output_type": "execute_result",
          "data": {
            "text/plain": [
              "99"
            ]
          },
          "metadata": {},
          "execution_count": 34
        }
      ]
    },
    {
      "cell_type": "markdown",
      "source": [
        "Task8_0430.  1부터 10 사이의 임의의 숫자를 맞추는 게임을 만드세요. 사용자가 숫자를 맞출 때까지 입력을 계속 받으며, 정답을 맞추면 게임을 종료하세요."
      ],
      "metadata": {
        "id": "PhvSebZXzzEg"
      }
    },
    {
      "cell_type": "code",
      "source": [
        "#  숫자 맞추기 게임\n",
        "import random\n",
        "\n",
        "target_number = random.randint(1, 10)\n",
        "\n",
        "while True:\n",
        "  guess = int(input(\"1부터 10 사이의 숫자를 맞춰보세요 \"))\n",
        "  if guess > target_number:\n",
        "    print(\"더 작은 숫자\")\n",
        "  elif guess < target_number:\n",
        "      print(\"더 큰 숫자\")\n",
        "  else:\n",
        "    print(\"정답\")\n",
        "    break\n",
        ""
      ],
      "metadata": {
        "id": "vMpUc_7i8Fee",
        "colab": {
          "base_uri": "https://localhost:8080/"
        },
        "outputId": "598b0263-0b12-4fda-8ac4-596dc95300f9"
      },
      "execution_count": 1,
      "outputs": [
        {
          "output_type": "stream",
          "name": "stdout",
          "text": [
            "1부터 10 사이의 숫자를 맞춰보세요 6\n",
            "정답\n"
          ]
        }
      ]
    },
    {
      "cell_type": "markdown",
      "source": [
        "Task9_0430. 태어난 연도를 입력받아 띠를 출력하는 프로그램을 작성하세요."
      ],
      "metadata": {
        "id": "vTiBD1ytz0XM"
      }
    },
    {
      "cell_type": "code",
      "source": [
        "birth_year = int(input(\"태어난 연도를 입력하세요 \"))\n",
        "\n",
        "zodiacs = [\"쥐\", \"소\", \"호랑이\", \"토끼\", \"용\", \"뱀\", \"말\", \"양\", \"원숭이\", \"닭\", \"개\", \"돼지\"]\n",
        "\n",
        "zodiac_index = (birth_year - 1924) % 12\n",
        "zodiac = zodiacs[zodiac_index]\n",
        "\n",
        "print(f'{birth_year}년은 {zodiac}띠입니다')"
      ],
      "metadata": {
        "colab": {
          "base_uri": "https://localhost:8080/"
        },
        "id": "Ud1IKec7LA7o",
        "outputId": "3f64ad71-830c-4e3d-f807-88b57c3c5096"
      },
      "execution_count": 7,
      "outputs": [
        {
          "output_type": "stream",
          "name": "stdout",
          "text": [
            "태어난 연도를 입력하세요 1998\n",
            "1998년은 호랑이띠입니다\n"
          ]
        }
      ]
    },
    {
      "cell_type": "code",
      "source": [
        "y = [\"원숭이\", \"닭\", \"개\", \"돼지\", \"쥐\", \"소\", \"호랑이\", \"토끼\", \"용\", \"뱀\", \"말\", \"양\"]\n",
        "\n",
        "x = int(input(\"태어난 연도 입력: \"))\n",
        "print(f'{y[x%12]} 띠입니다')\n"
      ],
      "metadata": {
        "colab": {
          "base_uri": "https://localhost:8080/"
        },
        "id": "6qFhQQqZNmIH",
        "outputId": "a5844134-835a-4034-a3c6-e9ff01fd7ee1"
      },
      "execution_count": 9,
      "outputs": [
        {
          "output_type": "stream",
          "name": "stdout",
          "text": [
            "태어난 연도 입력: 1998\n",
            "호랑이 띠입니다\n"
          ]
        }
      ]
    },
    {
      "cell_type": "markdown",
      "source": [
        "Task10_0430. 아래 사항을 반영하여 커피 자판기 프로그램을 작성하세요.\n",
        "- 시나리오 : 자판기 커피 재고 5잔, 커피 1잔 가격 300원, 재고 범위내에서 300원 이상 돈을 넣으면 거스름돈과 커피를 주고 그렇지 않으면 반환하며 재고가 소진되면 안내멘트 출력\n",
        "- 각 Case별 멘트 출력은 상황에 맞게 창작\n",
        "- while, if ~ elif ~ else 제어문을 사용하여 작성"
      ],
      "metadata": {
        "id": "5JWOd4C_z2tq"
      }
    },
    {
      "cell_type": "code",
      "source": [
        "coffee = 5\n",
        "\n",
        "while True:\n",
        "  money = int(input(\"돈을 주시면 커피를 드립니다 \"))\n",
        "  if money == 300:\n",
        "    print(\"커피를 추출합니다\")\n",
        "    coffee -=1\n",
        "  elif money > 300:\n",
        "    print(\"거스름돈 %d원을 받고 커피를 추출합니다.\" %(money-300))\n",
        "    coffee -=1\n",
        "  else:\n",
        "    print(\"금액이 부족하여 %d원을 반환합니다 \"%(money))\n",
        "  if coffee == 0:\n",
        "    print(\"커피가 다 소진되었습니다 다음에 오세요 \")\n",
        "    break"
      ],
      "metadata": {
        "colab": {
          "base_uri": "https://localhost:8080/"
        },
        "id": "reofy5QgQJZY",
        "outputId": "9da3f01b-2728-4d0c-fee9-e6f5cf3ad539"
      },
      "execution_count": 11,
      "outputs": [
        {
          "output_type": "stream",
          "name": "stdout",
          "text": [
            "돈을 주시면 커피를 드립니다 500\n",
            "거스름돈 200원을 받고 커피를 추출합니다.\n",
            "돈을 주시면 커피를 드립니다 200\n",
            "금액이 부족하여 200원을 반환합니다 \n",
            "돈을 주시면 커피를 드립니다 300\n",
            "커피를 추출합니다\n",
            "돈을 주시면 커피를 드립니다 3000\n",
            "거스름돈 2700원을 받고 커피를 추출합니다.\n",
            "돈을 주시면 커피를 드립니다 500\n",
            "거스름돈 200원을 받고 커피를 추출합니다.\n",
            "돈을 주시면 커피를 드립니다 400\n",
            "거스름돈 100원을 받고 커피를 추출합니다.\n",
            "커피가 다 소진되었습니다 다음에 오세요 \n"
          ]
        }
      ]
    },
    {
      "cell_type": "code",
      "source": [
        "# Q 로또 번호 6개를 6세트 출력하는 코드를 작성하세요 (중복안됨)\n",
        "import random\n",
        "\n",
        "r = list(range(1, 46))\n",
        "for i in range(6):\n",
        "  lotto = random.sample(r, 6)\n",
        "  print(lotto)\n"
      ],
      "metadata": {
        "colab": {
          "base_uri": "https://localhost:8080/"
        },
        "id": "9sC0CB0gS9Hh",
        "outputId": "6c971b8e-e9be-4f40-bdb9-5028d10bb97c"
      },
      "execution_count": 23,
      "outputs": [
        {
          "output_type": "stream",
          "name": "stdout",
          "text": [
            "[19, 13, 39, 16, 15, 35]\n",
            "[30, 37, 34, 32, 31, 21]\n",
            "[2, 26, 1, 28, 42, 43]\n",
            "[45, 34, 28, 43, 44, 24]\n",
            "[20, 45, 38, 17, 22, 18]\n",
            "[45, 36, 6, 5, 2, 16]\n"
          ]
        }
      ]
    },
    {
      "cell_type": "code",
      "source": [
        "# Q n개 그룹으로 분류하는 코드를 작성하세요\n",
        "\n",
        "kita = ['김성현','황강민','윤호준','류윤선','이상협','박지환','최환욱','서보선',\n",
        "        '김한결','김도현','김하준', '김도원','신현진','소지승','이범석',\n",
        "        '이현석','이명신','박윤경','이도헌','김홍준']\n",
        "\n",
        "n = int(input(\"나눌 숫자 입력 : \"))\n",
        "\n",
        "random.shuffle(kita)\n",
        "\n",
        "groups = [kita[i::n] for i in range(n)]\n",
        "\n",
        "for idx, group in enumerate(groups):\n",
        "  print(f\"그룹 {idx + 1}: {group}\")\n"
      ],
      "metadata": {
        "colab": {
          "base_uri": "https://localhost:8080/"
        },
        "id": "sEbXSOgZTMWy",
        "outputId": "fdabad79-0148-469c-be97-a17c04227a3e"
      },
      "execution_count": 25,
      "outputs": [
        {
          "output_type": "stream",
          "name": "stdout",
          "text": [
            "나눌 숫자 입력 : 5\n",
            "그룹 1: ['서보선', '김성현', '최환욱', '이현석']\n",
            "그룹 2: ['소지승', '윤호준', '김홍준', '이명신']\n",
            "그룹 3: ['김도원', '박지환', '이범석', '이도헌']\n",
            "그룹 4: ['김한결', '김하준', '신현진', '황강민']\n",
            "그룹 5: ['류윤선', '김도현', '박윤경', '이상협']\n"
          ]
        }
      ]
    },
    {
      "cell_type": "code",
      "source": [
        "# Q 1부터 100까지의 정수중 5에서 95까지의 합을 구하세요\n",
        "\n",
        "sum = 0\n",
        "\n",
        "for i in range(1, 101):\n",
        "  if i >= 5 and i <= 95:\n",
        "    sum += i\n",
        "print(sum)\n"
      ],
      "metadata": {
        "colab": {
          "base_uri": "https://localhost:8080/"
        },
        "id": "_c5zvdHATYG4",
        "outputId": "a2574e6a-611b-441c-da43-ad0643e2dfad"
      },
      "execution_count": 16,
      "outputs": [
        {
          "output_type": "stream",
          "name": "stdout",
          "text": [
            "4550\n"
          ]
        }
      ]
    },
    {
      "cell_type": "code",
      "source": [
        "sum = 0\n",
        "while i <= 100:\n",
        "  if i >=5 and i <=95:\n",
        "    sum += i\n",
        "  i += 1\n",
        "print(sum)"
      ],
      "metadata": {
        "colab": {
          "base_uri": "https://localhost:8080/"
        },
        "id": "E81pIbdzvLBr",
        "outputId": "cccbcd8b-3f5b-4cca-f85b-bd5bcdc456a5"
      },
      "execution_count": 26,
      "outputs": [
        {
          "output_type": "stream",
          "name": "stdout",
          "text": [
            "4550\n"
          ]
        }
      ]
    },
    {
      "cell_type": "code",
      "source": [
        "# Q while문을 사용해 1부터 1000까지의 정수 중 3과 5의 공배수의 합을 구해 보세요\n",
        "\n",
        "count = 1\n",
        "sum = 0\n",
        "\n",
        "while count <= 1000:\n",
        "  if count % 3 ==0 or count % 5 ==0:\n",
        "    sum += count\n",
        "  count += 1\n",
        "\n",
        "print(sum)"
      ],
      "metadata": {
        "colab": {
          "base_uri": "https://localhost:8080/"
        },
        "id": "RMAM-2bGTe0Q",
        "outputId": "f993e194-e0b6-4400-95e2-9255c955b434"
      },
      "execution_count": 15,
      "outputs": [
        {
          "output_type": "stream",
          "name": "stdout",
          "text": [
            "234168\n"
          ]
        }
      ]
    },
    {
      "cell_type": "code",
      "source": [
        "# Q 현재 시각을 오전과 오후로 구분하는 프로그램을 작성하세요\n",
        "import datetime\n",
        "import pytz\n",
        "\n",
        "tz = pytz.timezone('Asia/Seoul')\n",
        "now = datetime.datetime.now(tz)\n",
        "now_time= now.hour\n",
        "now_time # 현재 시각\n",
        "if now_time >= 12:\n",
        "  print(\"오후\")\n",
        "else:\n",
        "  print(\"오전\")"
      ],
      "metadata": {
        "colab": {
          "base_uri": "https://localhost:8080/"
        },
        "id": "5biZ8JxdTojv",
        "outputId": "47cf049a-cef2-4a18-fe9f-1636b6f1a800"
      },
      "execution_count": 27,
      "outputs": [
        {
          "output_type": "stream",
          "name": "stdout",
          "text": [
            "오후\n"
          ]
        }
      ]
    },
    {
      "cell_type": "code",
      "source": [
        "# 다양한 오류 입력에 대한 해결 방안 추가 필요\n",
        "\n",
        "time = input(\"현재 시간을 입력하세요 (ex: 15시 30분, 15시, 15) : \")\n",
        "\n",
        "if '시' not in time:\n",
        "  print(\"형식에 맞춰 작성해주세요\")\n",
        "elif int(time.split('시')[0]) >= 0 and int(time.split('시')[0]) < 12:\n",
        "  print(\"오전 입니다\")\n",
        "elif int(time.split('시')[0]) >= 12 and int(time.split('시')[0]) < 24:\n",
        "  print(\"오후 입니다\")\n",
        "else:\n",
        "  print(\"시간을 다시 입력\")"
      ],
      "metadata": {
        "colab": {
          "base_uri": "https://localhost:8080/"
        },
        "id": "DqYni72rzCx1",
        "outputId": "c465439f-3fa5-449c-eb72-3847c3f8a428"
      },
      "execution_count": 34,
      "outputs": [
        {
          "output_type": "stream",
          "name": "stdout",
          "text": [
            "현재 시간을 입력하세요 (ex: 15시 30분, 15시, 15) : 15\n",
            "형식에 맞춰 작성해주세요\n"
          ]
        }
      ]
    },
    {
      "cell_type": "code",
      "source": [
        "# 가위 바위 보 게임을 코딩을 프로그래밍하세요.\n",
        "\n",
        "cpu = ['가위', '바위', '보']\n",
        "\n",
        "win = [('가위', '바위'),('바위', '보'),('보', '가위')]\n",
        "\n",
        "while 1:\n",
        "  cpu_select = random.choice(cpu)\n",
        "  human = input(\"무엇을 낼래\")\n",
        "  if cpu_select == human:\n",
        "    print(\"비겼습니다\")\n",
        "  elif (cpu_select, human) in win:\n",
        "    print(\"이겼습니다\")\n",
        "  else:\n",
        "    print(\"졌습니다\")"
      ],
      "metadata": {
        "id": "iit7CCSACMrd"
      },
      "execution_count": null,
      "outputs": []
    },
    {
      "cell_type": "code",
      "source": [
        "# 가위 바위 보 게임을 코딩을 프로그래밍하세요. 3연승 종료\n",
        "import random\n",
        "\n",
        "com_hand = ['가위', '바위', '보']\n",
        "win_case = {'가위':'바위', '바위':'보', '보':'가위'}\n",
        "win_number = 0\n",
        "\n",
        "print('가위 바위 보 시작 ( 3회 승리시 종료 )')\n",
        "print('주의 : 오타는 패배 ')\n",
        "\n",
        "while True:\n",
        "  com_select = com_hand[random.randint(0,2)]\n",
        "  you_select = input(\"가위 / 바위 / 보 입력 \")\n",
        "  print(f'컴퓨터는 {com_select}입니다')\n",
        "  if win_case[com_select] == you_select:\n",
        "    win_number += 1\n",
        "    print(f'이겼습니다. 현재 {win_number}승 ')\n",
        "  else:\n",
        "    if com_select == you_select:\n",
        "      print(\"비겼습니다\")\n",
        "    else:\n",
        "      print(\"졌습니다\")\n",
        "  if win_number == 3:\n",
        "    print(\"3승을 달성하여 게임이 종료됩니다\")\n",
        "    break"
      ],
      "metadata": {
        "id": "AFiLL7QJ8ZlF"
      },
      "execution_count": null,
      "outputs": []
    },
    {
      "cell_type": "markdown",
      "source": [
        "## 2024년 5월 2일"
      ],
      "metadata": {
        "id": "SOjEE7AY2MEx"
      }
    },
    {
      "cell_type": "markdown",
      "source": [
        "Task1_0502. 짝수와 짝수를 입력하면 곱한 값을 출력하고 홀수와 홀수를 입력하면 덧셈 값을 출력하고 그외는 다시 입력하라는 메시지를 출력하세요."
      ],
      "metadata": {
        "id": "p727mSVp2SCX"
      }
    },
    {
      "cell_type": "code",
      "source": [
        "num1 = int(input(\"첫번쨰 숫자 입력 \"))\n",
        "num2 = int(input(\"두번쨰 숫자 입력 \"))\n",
        "\n",
        "avg = 0\n",
        "sum = 0\n",
        "\n",
        "if num1 % 2 == 0 and num2 % 2 == 0:\n",
        "  avg = num1 * num2\n",
        "  print(avg)\n",
        "elif num1 % 2 == 1 and num2 % 2 == 1:\n",
        "  sum = num1 + num2\n",
        "  print(sum)\n",
        "else:\n",
        "  print(\"다시 입력하세요\")"
      ],
      "metadata": {
        "colab": {
          "base_uri": "https://localhost:8080/"
        },
        "id": "NUsm1O1YJgBO",
        "outputId": "57ab7ff8-89b1-4ac4-f8d6-090cc47cec4d"
      },
      "execution_count": 5,
      "outputs": [
        {
          "output_type": "stream",
          "name": "stdout",
          "text": [
            "첫번쨰 숫자 입력 66\n",
            "두번쨰 숫자 입력 88\n",
            "5808\n"
          ]
        }
      ]
    },
    {
      "cell_type": "markdown",
      "source": [
        "Task2_0502. 현재 계절 구분 프로그램\n",
        "- 시나리오 : 3 ~ 5월은 봄, 6 ~ 8월은 여름, 9 ~ 11월은 가을, 12 ~ 2월은 겨울로 구분. 지금 계절을 알려주는 프로그램\n",
        "- 각 계절별 출력 멘트는 계절에 맞게 창작\n",
        "- if 조건문으로 datetime 모듈을 import해서 datetime.now 함수를 사용해서 작성"
      ],
      "metadata": {
        "id": "ojupqA-q5gem"
      }
    },
    {
      "cell_type": "code",
      "source": [
        "import datetime\n",
        "import pytz\n",
        "\n",
        "tz = pytz.timezone('Asia/Seoul')\n",
        "now = datetime.datetime.now(tz)\n",
        "now_month= now.month\n",
        "now_month # 현재 월\n",
        "\n",
        "if now_month >= 3 and now_month <= 5:\n",
        "  print(\"봄 꽃들이 아름다운 계절\")\n",
        "elif now_month >= 6 and now_month <= 8:\n",
        "  print(\"여름 바다가 아름다운 계절\")\n",
        "elif now_month >= 9 and now_month <= 11:\n",
        "  print(\"가을 나무가 아름다운 계절\")\n",
        "elif now_month >= 2 and now_month == 12:\n",
        "  print(\"겨울 눈이 아름다운 계절\")"
      ],
      "metadata": {
        "colab": {
          "base_uri": "https://localhost:8080/"
        },
        "id": "OgBgiH06LMid",
        "outputId": "5e121f5f-7f19-4a68-8719-cad078ff7663"
      },
      "execution_count": 6,
      "outputs": [
        {
          "output_type": "stream",
          "name": "stdout",
          "text": [
            "봄 꽃들이 아름다운 계절\n"
          ]
        }
      ]
    },
    {
      "cell_type": "markdown",
      "source": [
        "Task3_0502. 1부터 99까지 아래와 같이 2개의 수를 곱해서 가장 큰 수를 구하세요.\n",
        "\n",
        "`1*99, 2*98 ...99*1`"
      ],
      "metadata": {
        "id": "kf29SHiS5xSi"
      }
    },
    {
      "cell_type": "markdown",
      "source": [
        "Task4_0502. [    ]을 채워서 아래의 출력과 같이 출력하세요."
      ],
      "metadata": {
        "id": "KdE7_z_16Ih8"
      }
    },
    {
      "cell_type": "code",
      "source": [
        "numbers = [1,2,3,4,5,6,7,8,9]\n",
        "output = [[], [], []]\n",
        "\n",
        "\n",
        "# [[1,4,7],[2,5,8],[3,6,9]]"
      ],
      "metadata": {
        "id": "p6ZpMiXX6JMe"
      },
      "execution_count": null,
      "outputs": []
    },
    {
      "cell_type": "markdown",
      "source": [
        "Task5_0502. 주어진 리스트에서 중복된 요소를 제거하고, 남은 요소만을 포함하는 새 리스트를 반환합니다. 순서는 유지해야 합니다."
      ],
      "metadata": {
        "id": "JyefnTRb6XT1"
      }
    },
    {
      "cell_type": "code",
      "source": [
        "input_list = [1, 2, 2, 3, 4, 4, 4, 5, 6, 7, 7]\n",
        "\n",
        "nums = set(input_list)\n",
        "\n",
        "list(nums)"
      ],
      "metadata": {
        "colab": {
          "base_uri": "https://localhost:8080/"
        },
        "id": "Xa4ApYU36ham",
        "outputId": "af06d1a5-5ee2-4dee-a4af-04e17c06d7db"
      },
      "execution_count": 7,
      "outputs": [
        {
          "output_type": "execute_result",
          "data": {
            "text/plain": [
              "[1, 2, 3, 4, 5, 6, 7]"
            ]
          },
          "metadata": {},
          "execution_count": 7
        }
      ]
    },
    {
      "cell_type": "markdown",
      "source": [
        "Task6_0502 주어진 문자열을 모스 코드로 변환하는 함수를 작성하세요. 공백은 무시하고 알파벳만 변환하세요\n",
        "input_text = \"Hello World\""
      ],
      "metadata": {
        "id": "WOBVLkWq6qoS"
      }
    },
    {
      "cell_type": "code",
      "source": [
        "morse_code = {\n",
        "        'A': '.-', 'B': '-...', 'C': '-.-.', 'D': '-..', 'E': '.', 'F': '..-.',\n",
        "        'G': '--.', 'H': '....', 'I': '..', 'J': '.---', 'K': '-.-', 'L': '.-..',\n",
        "        'M': '--', 'N': '-.', 'O': '---', 'P': '.--.', 'Q': '--.-', 'R': '.-.',\n",
        "        'S': '...', 'T': '-', 'U': '..-', 'V': '...-', 'W': '.--', 'X': '-..-',\n",
        "        'Y': '-.--', 'Z': '--..'\n",
        "    }"
      ],
      "metadata": {
        "id": "bPyvN7Zp7JR0"
      },
      "execution_count": null,
      "outputs": []
    },
    {
      "cell_type": "markdown",
      "source": [
        "Task7_0502. 주어진 비대칭 m×n 매트릭스(2차원 리스트)에서, 모든 대각선 상의 합을 계산하는 함수를 작성하세요. 결과는 각 대각선의 합을 리스트로 반환해야 합니다."
      ],
      "metadata": {
        "id": "nXDefIvZ7OJa"
      }
    },
    {
      "cell_type": "code",
      "source": [
        "input_matrix = [\n",
        "    [1, 2, 3],\n",
        "    [4, 5, 6],\n",
        "    [7, 8, 9],\n",
        "    [10, 11, 12]\n",
        "]"
      ],
      "metadata": {
        "id": "La_wGfAA7Z8x"
      },
      "execution_count": null,
      "outputs": []
    }
  ]
}