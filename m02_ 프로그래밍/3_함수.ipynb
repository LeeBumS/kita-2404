{
  "nbformat": 4,
  "nbformat_minor": 0,
  "metadata": {
    "colab": {
      "provenance": []
    },
    "kernelspec": {
      "name": "python3",
      "display_name": "Python 3"
    },
    "language_info": {
      "name": "python"
    }
  },
  "cells": [
    {
      "cell_type": "markdown",
      "source": [
        "- 함수의 종류 및 예제\n",
        "- 패키지, 모듈, 함수, 클래스\n",
        "- 함수 vs 메소드\n",
        "- 내장함수 연습\n",
        "- 외장함수 연습 : 날짜 함수, os\n",
        "- 외부 라이브러리 연습\n",
        "- 람다함수 연습\n",
        "- 사용자 함수 연습\n",
        "- 함수 유형 : 입력 인자와 리턴값에 따른 4가지 형태\n",
        "- 지역변수와 전역변수\n",
        "- 프로그램 작성"
      ],
      "metadata": {
        "id": "N_nPrfUcjKHr"
      }
    },
    {
      "cell_type": "markdown",
      "source": [
        "파이썬에서 함수는 크게 내장 함수(Built-in Functions)와 외장 함수(External Functions)로 나뉩니다.\n",
        "\n",
        "(파이썬 표준 라이브러리)\n",
        "https://docs.python.org/ko/3.10/library/index.html\n",
        "1. 내장 함수 (Built-in Functions):\n",
        "- 내장 함수는 파이썬 인터프리터에 포함되어 있어, 별도의 모듈을 임포트(import)하지 않고도 사용 예를 들어, print(), len(), type(), range(), zip() 등이 내장 함수입니다.\n",
        "- 이러한 함수들은 기본적인 작업을 수행하며, 파이썬 프로그래밍의 기본적인 빌딩 블록(building blocks)으로 작동\n",
        "\n",
        "2. 외장 함수 (External Functions):\n",
        "- 표준 라이브러리에 포함된 모듈과 함수를 가리키는 것으로 모듈을 임포트하여 사용\n",
        "- 파이썬 표준 라이브러리의 os, sys, math, random, datetime 등의 모듈에는 다양한 외장 함수가 포함\n",
        "\n",
        "3. 외부 라이브러리나 패키지\n",
        "- 표준 라이브러리에 포함되지 않아 기본 설치에는 포함되지 않는다.\n",
        "- 이를 사용하려면 먼저 해당 라이브러리나 패키지를 설치\n",
        "- 외부 라이브러리는 통상적으로 파이썬의 패키지 관리자인 pip를 사용하여 설치\n",
        "- 설치 후에는 외장 함수와 마찬가지로 필요한 모듈을 임포트하여 사용\n",
        "- 예: numpy, pandas, requests 등의 외부 라이브러리에 포함된 함수들.\n",
        "\n",
        "3. 사용자 정의 함수(User-Defined Functions):\n",
        "- 사용자가 직접 정의하여 사용하는 함수\n",
        "- def 키워드를 사용하여 함수를 정의하며, 필요에 따라 매개변수와 반환 값을 지정\n",
        "\n",
        "4. 람다 함수(Lambda Functions):\n",
        "- 이름 없는 간단한 함수를 정의할 때 사용하는 익명 함수\n",
        "- lambda 키워드를 사용하여 한 줄로 함수를 정의하며, 주로 간단한 연산이 필요할 때 사용"
      ],
      "metadata": {
        "id": "lhAl-lWrELdx"
      }
    },
    {
      "cell_type": "code",
      "source": [
        "# 내장 함수 예제\n",
        "\n",
        "print(\"Hello, World\") # 출력 함수\n",
        "print(len([1, 2, 3, 4])) # 길이 계산 함수\n",
        "print(type(10)) # 타입 확인 함수\n"
      ],
      "metadata": {
        "colab": {
          "base_uri": "https://localhost:8080/"
        },
        "id": "ZI6DxzcMEY1v",
        "outputId": "032c5cf1-0ef4-43df-b1d1-c749cc8c84f0"
      },
      "execution_count": null,
      "outputs": [
        {
          "output_type": "stream",
          "name": "stdout",
          "text": [
            "Hello, World\n",
            "4\n",
            "<class 'int'>\n"
          ]
        }
      ]
    },
    {
      "cell_type": "code",
      "source": [
        "# Q 내장함수로 다음을 수행하세요\n",
        "\n",
        "a = [1, 2, 3, 4, 5]\n",
        "print(sum(a))\n",
        "print(max(a))\n",
        "print(min(a))\n",
        "print(sorted(a))\n",
        "print(list(reversed(a)))"
      ],
      "metadata": {
        "colab": {
          "base_uri": "https://localhost:8080/"
        },
        "id": "QnMsFN2YHC_q",
        "outputId": "cbaf355f-ec5f-4f96-af99-cc91ba48ac99"
      },
      "execution_count": null,
      "outputs": [
        {
          "output_type": "stream",
          "name": "stdout",
          "text": [
            "15\n",
            "5\n",
            "1\n",
            "[1, 2, 3, 4, 5]\n",
            "[5, 4, 3, 2, 1]\n"
          ]
        }
      ]
    },
    {
      "cell_type": "code",
      "source": [
        "print(type(42))\n",
        "print(abs(-5))\n",
        "print(round(3.14159, 2))\n",
        "print(pow(2, 3)) # 2의 3승"
      ],
      "metadata": {
        "colab": {
          "base_uri": "https://localhost:8080/"
        },
        "id": "URcyKT7dHiUA",
        "outputId": "5abac1f5-71af-4c3d-bbba-f26c300aa28f"
      },
      "execution_count": null,
      "outputs": [
        {
          "output_type": "stream",
          "name": "stdout",
          "text": [
            "<class 'int'>\n",
            "5\n",
            "3.14\n",
            "8\n"
          ]
        }
      ]
    },
    {
      "cell_type": "code",
      "source": [
        "# 외장 함수 예제\n",
        "\n",
        "import math # 수학 모듈 임포트\n",
        "print(math.sqrt(16)) # 제곱근 계산 함수\n",
        "\n",
        "import random # 랜덤 모듈 임포트\n",
        "print(random.randint(1, 10)) # 랜덤 정수 생성 함수, 양끝 포함\n",
        "\n",
        "import datetime # 날짜와 시간 모듈 임포트\n",
        "print(datetime.datetime.now()) # 현재 날짜와 시간 출력 함수"
      ],
      "metadata": {
        "colab": {
          "base_uri": "https://localhost:8080/"
        },
        "id": "1SAVEx-dIFQ1",
        "outputId": "c03cffc9-cf21-470b-ffd6-e4837af53232"
      },
      "execution_count": null,
      "outputs": [
        {
          "output_type": "stream",
          "name": "stdout",
          "text": [
            "4.0\n",
            "8\n",
            "2024-05-03 06:26:49.365255\n"
          ]
        }
      ]
    },
    {
      "cell_type": "code",
      "source": [
        "# Q datedime.datetime.now()에서 연도, 월, 일, 시, 분, 초, 마이크로초를 각각 출력하세요\n",
        "from datetime import datetime\n",
        "\n",
        "now = datetime.now()\n",
        "print(now.year)\n",
        "print(now.month)\n",
        "print(now.day)\n",
        "print(now.hour)\n",
        "print(now.minute)\n",
        "print(now.second)\n",
        "print(now.microsecond)"
      ],
      "metadata": {
        "colab": {
          "base_uri": "https://localhost:8080/"
        },
        "id": "EOKDMGDrI-SE",
        "outputId": "576f6712-5026-4289-807b-3094c53d0d09"
      },
      "execution_count": null,
      "outputs": [
        {
          "output_type": "stream",
          "name": "stdout",
          "text": [
            "2024\n",
            "5\n",
            "3\n",
            "6\n",
            "30\n",
            "54\n",
            "599981\n"
          ]
        }
      ]
    },
    {
      "cell_type": "code",
      "source": [
        "import os\n",
        "print(os.getcwd())\n",
        "print(os.listdir())"
      ],
      "metadata": {
        "colab": {
          "base_uri": "https://localhost:8080/"
        },
        "id": "SU0q29D3KflU",
        "outputId": "a1ba7658-85a8-4545-bc14-c2713f1b1bb0"
      },
      "execution_count": null,
      "outputs": [
        {
          "output_type": "stream",
          "name": "stdout",
          "text": [
            "/content\n",
            "['.config', 'new_foider', 'sample_data']\n"
          ]
        }
      ]
    },
    {
      "cell_type": "code",
      "source": [
        "os.mkdir('new_foider')"
      ],
      "metadata": {
        "id": "75EublpYK-P4"
      },
      "execution_count": null,
      "outputs": []
    },
    {
      "cell_type": "code",
      "source": [
        "os.removedirs('new_foider')"
      ],
      "metadata": {
        "id": "4Iar36ySLrZE"
      },
      "execution_count": null,
      "outputs": []
    },
    {
      "cell_type": "code",
      "source": [
        "!ls -l"
      ],
      "metadata": {
        "colab": {
          "base_uri": "https://localhost:8080/"
        },
        "id": "CimS8SkRLa8m",
        "outputId": "73c79044-66aa-4780-ac0d-8480c55a39ae"
      },
      "execution_count": null,
      "outputs": [
        {
          "output_type": "stream",
          "name": "stdout",
          "text": [
            "total 4\n",
            "drwxr-xr-x 1 root root 4096 May  1 13:20 sample_data\n"
          ]
        }
      ]
    },
    {
      "cell_type": "code",
      "source": [
        "# 외부 라이브러리 예제\n",
        "# 먼저 pip를 사용하여 pandas 라이브러리를 설치합니다\n",
        "# !pip install pandas\n",
        "\n",
        "import pandas as pd\n",
        "\n",
        "# pandas의 DataFrame 객체 생성\n",
        "data = {'Name' : ['Alice', 'Bob', 'Charlie'], 'Age': [25, 30, 35]}\n",
        "df = pd.DataFrame(data)\n",
        "\n",
        "# pandas의 head() 함수 사용하여 DataFrame의 처음 5행 출력 (여기서는 3행만 존재)\n",
        "print(df.head())"
      ],
      "metadata": {
        "colab": {
          "base_uri": "https://localhost:8080/"
        },
        "id": "NF7YUpnbMBA1",
        "outputId": "a5552e46-2b3c-47f7-c005-d3227ea4ce2e"
      },
      "execution_count": null,
      "outputs": [
        {
          "output_type": "stream",
          "name": "stdout",
          "text": [
            "      Name  Age\n",
            "0    Alice   25\n",
            "1      Bob   30\n",
            "2  Charlie   35\n"
          ]
        }
      ]
    },
    {
      "cell_type": "code",
      "source": [
        "import numpy as np\n",
        "\n",
        "data = [1, 2, 3, 4]\n",
        "\n",
        "arr = np.array(data)\n",
        "print(arr,type(arr))"
      ],
      "metadata": {
        "colab": {
          "base_uri": "https://localhost:8080/"
        },
        "id": "EvuMpeJ8RAdG",
        "outputId": "a433a3a5-b711-460f-8011-7ea6ea7ba63c"
      },
      "execution_count": null,
      "outputs": [
        {
          "output_type": "stream",
          "name": "stdout",
          "text": [
            "[1 2 3 4] <class 'numpy.ndarray'>\n"
          ]
        }
      ]
    },
    {
      "cell_type": "code",
      "source": [
        "# 사용자 함수 예제\n",
        "\n",
        "def great(name):\n",
        "  return f\"Hello, {name}!\"\n",
        "\n",
        "print(great(\"가나다\")) # 출력: Hello, Alice!"
      ],
      "metadata": {
        "colab": {
          "base_uri": "https://localhost:8080/"
        },
        "id": "scvVDh4oSOGA",
        "outputId": "d161b8aa-8bdf-45d4-9708-ffcf9bf8fb10"
      },
      "execution_count": null,
      "outputs": [
        {
          "output_type": "stream",
          "name": "stdout",
          "text": [
            "Hello, 가나다!\n"
          ]
        }
      ]
    },
    {
      "cell_type": "markdown",
      "source": [
        "## 람다함수"
      ],
      "metadata": {
        "id": "5aWGp6U5Szh5"
      }
    },
    {
      "cell_type": "code",
      "source": [
        "# 람다 함수는 간단한 한 줄의 함수를 작성할 때 유용\n",
        "\n",
        "muitiply = lambda x, y : x * y\n",
        "print(muitiply(3, 4)) # 출력 12"
      ],
      "metadata": {
        "colab": {
          "base_uri": "https://localhost:8080/"
        },
        "id": "yQT_PenoSyVK",
        "outputId": "14629c30-672a-488e-c0e1-21e73b4b5d33"
      },
      "execution_count": null,
      "outputs": [
        {
          "output_type": "stream",
          "name": "stdout",
          "text": [
            "12\n"
          ]
        }
      ]
    },
    {
      "cell_type": "code",
      "source": [
        "# 조건 사용\n",
        "is_even = lambda x: True if x % 2 == 0 else False\n",
        "print(is_even(4)) # 출력 True\n",
        "print(is_even(5)) # 출력 False"
      ],
      "metadata": {
        "colab": {
          "base_uri": "https://localhost:8080/"
        },
        "id": "kv6YJxwSTTHa",
        "outputId": "3f989363-67cf-4e07-e390-cd1b4b84cbab"
      },
      "execution_count": null,
      "outputs": [
        {
          "output_type": "stream",
          "name": "stdout",
          "text": [
            "True\n",
            "False\n"
          ]
        }
      ]
    },
    {
      "cell_type": "markdown",
      "source": [
        "#### 파이썬 패키지,  모듈, 함수, 클래스\n",
        "- 코드 작성 시 이미 만들어져 있는 함수들을 활용하면 보다 효율적이고 빠르게 개발 가능\n",
        "- 이미 만들어져 있고 안정성이 검증된 함수들을 성격에 맞게 하나의 파이썬 파일에 묶어 만들어 놓을 것을 모듈이라 함\n",
        "- 외부 모듈에 있는 함수들을 활용하려면 이 모듈을 먼저 가져와서 사용해야 하는데 이것을 모듈을 임포트한다고 한다.\n",
        "- 파이썬 모듈이 하나의 파이썬 파일이라면 패키지는 디렉토리로 볼 수 있다.\n",
        "\n",
        "패키지\n",
        "1. 라이브러리라고도 부름\n",
        "2. 특정 기능과 관련된 여러 모듈을 한 그룹으로 묶은 것\n",
        "3. 패키지 안에 서브패키지가 있을 수도 있다.\n",
        "4. import 패키지/모듈, from 패키지/모듈 import 서브패키지/모듈\n",
        "  \n",
        "   \n",
        "모듈\n",
        "1. 여러 기능들이 뭉쳐진 하나의. py파일\n",
        "2. 함수, 클래스, 변수 등 포함\n",
        "3. import 모듈\n",
        "\n",
        "함수\n",
        "1. 하나의 기능을 가진 코드의 집합\n",
        "2. 함수를 사용한다 = 함수를 호출한다\n",
        "3. 함수 사용 형태: 함수( )\n",
        "   - 필요한 경우 () 안에 매개변수 또는 옵션\n",
        "4. 종류\n",
        "   - 내장 함수(built in function)\n",
        "   - 외장 함수: import 해주어야 함\n",
        "   \n",
        "클래스   \n",
        "- 파이썬은 객체 지향 언어로클래스를 기반으로 객체를 만들어 사용한다.\n",
        "- 한 파이썬 파일(. py) 내에서 \"class class명():\"을 통해 클래스 선언\n",
        "\n"
      ],
      "metadata": {
        "id": "SZZYSavfdxzl"
      }
    },
    {
      "cell_type": "markdown",
      "source": [
        "#### 함수 vs 메소드\n",
        "- 함수 (Function)\n",
        "    - 함수는 특정 작업을 수행하거나 값을 계산하기 위해 정의된 코드의 블록\n",
        "    - 함수는 def 키워드를 사용하여 정의\n",
        "    - 함수는 전역적으로 호출할 수 있거나 다른 함수 내부에서 호출할 수 있다.    \n",
        "- 메소드 (Method)\n",
        "    - 메소드는 객체에 속한 함수, 메소드는 특정 객체의 기능으로 정의\n",
        "    - 메소드는 객체와 연결되어 있으며, . (점) 표기법을 사용하여 해당 객체에 대한 메소드를 호출\n",
        "    - 메소드는 첫 번째 매개변수로 self를 사용하여 객체 자체를 참조 (클래스 내부에서 메소드를 정의할 때)\n",
        "- 주요 차이점\n",
        "    - 정의: 함수는 독립적으로 정의되지만, 메소드는 클래스 내부에서 정의\n",
        "    - 호출: 함수는 이름만으로 호출될 수 있지만, 메소드는 객체를 통해 호출\n",
        "    - 참조: 메소드는 첫 번째 매개변수로 객체 자신을 참조(self), 반면 함수는 이런 자체 참조 매개변수를 갖지 않는다."
      ],
      "metadata": {
        "id": "DK-4KNBceirJ"
      }
    },
    {
      "cell_type": "code",
      "source": [
        "# 함수 호출\n",
        "def my_function():\n",
        "  print(\"Hello from a function\")\n",
        "\n",
        "my_function()"
      ],
      "metadata": {
        "colab": {
          "base_uri": "https://localhost:8080/"
        },
        "id": "z2eKIk4sgxwI",
        "outputId": "677c84a5-10cb-4cdd-9f84-bec10a9a67cb"
      },
      "execution_count": null,
      "outputs": [
        {
          "output_type": "stream",
          "name": "stdout",
          "text": [
            "Hello from a function\n"
          ]
        }
      ]
    },
    {
      "cell_type": "code",
      "source": [
        "# 메소드 호출\n",
        "class MyClass:\n",
        "  def my_method(self):\n",
        "    print('Hello from a method')\n",
        "\n",
        "obj = MyClass()\n",
        "obj.my_method()"
      ],
      "metadata": {
        "colab": {
          "base_uri": "https://localhost:8080/"
        },
        "id": "9Hsx0AkqhGwB",
        "outputId": "b03ccb47-9cc9-4d9d-935c-6ea7ac6141f2"
      },
      "execution_count": null,
      "outputs": [
        {
          "output_type": "stream",
          "name": "stdout",
          "text": [
            "Hello from a method\n"
          ]
        }
      ]
    },
    {
      "cell_type": "code",
      "source": [
        "# 내장함수 연습\n",
        "print(abs(-3))\n",
        "print(all([1,2,3,0])) # x가 모두 참이면 True, 거짓이 하나라도 있으면 False\n",
        "print(any([1,2,3,0])) # x가 하나라도 참이면 True 모두 거짓이면 False\n",
        "print(chr(65)) # 아스키코드\n",
        "print(float(3))\n",
        "print(int(3.9))\n",
        "print(max(1,10))\n",
        "print(min(1,10))\n",
        "print(pow(10, 2)) # 거듭 제곱\n",
        "print(round(2.675,2))"
      ],
      "metadata": {
        "colab": {
          "base_uri": "https://localhost:8080/"
        },
        "id": "HPslHKKiibqE",
        "outputId": "1b306f17-8edf-4b5d-8516-59891db58f35"
      },
      "execution_count": null,
      "outputs": [
        {
          "output_type": "stream",
          "name": "stdout",
          "text": [
            "3\n",
            "False\n",
            "True\n",
            "A\n",
            "3.0\n",
            "3\n",
            "10\n",
            "1\n",
            "100\n",
            "2.67\n"
          ]
        }
      ]
    },
    {
      "cell_type": "code",
      "source": [
        "type(pow)"
      ],
      "metadata": {
        "colab": {
          "base_uri": "https://localhost:8080/"
        },
        "id": "sr0kbrPXkDOD",
        "outputId": "13773448-15e0-4da9-baa2-301b0fd0a1a8"
      },
      "execution_count": null,
      "outputs": [
        {
          "output_type": "execute_result",
          "data": {
            "text/plain": [
              "builtin_function_or_method"
            ]
          },
          "metadata": {},
          "execution_count": 7
        }
      ]
    },
    {
      "cell_type": "code",
      "source": [
        "# 함수가 다른 객체와 마찬가지로 변수에 할당되거나,\n",
        "# 다른 함수로 전달되거나, 다른 함수로부터 반환될 수 있음\n",
        "my_pow = pow\n",
        "result = my_pow(2,3)\n",
        "print(result)\n",
        "\n",
        "# 함수를 문자로 전달\n",
        "def apply_func(func, x, y):\n",
        "  return func(x, y)\n",
        "result = apply_func(pow, 3, 4) # pow(3, 4)\n",
        "print(result)"
      ],
      "metadata": {
        "colab": {
          "base_uri": "https://localhost:8080/"
        },
        "id": "qjQwp-rgkGOf",
        "outputId": "346d007e-3f8b-4e69-a3ed-776998e77ad3"
      },
      "execution_count": null,
      "outputs": [
        {
          "output_type": "stream",
          "name": "stdout",
          "text": [
            "8\n",
            "81\n"
          ]
        }
      ]
    },
    {
      "cell_type": "code",
      "source": [
        "age = 30\n",
        "print(\"i am \" + str(age) + \" years old\")"
      ],
      "metadata": {
        "colab": {
          "base_uri": "https://localhost:8080/"
        },
        "id": "VukQQSeUlhJc",
        "outputId": "04cc2b98-ac88-42b5-e982-8dcf5eae6c28"
      },
      "execution_count": null,
      "outputs": [
        {
          "output_type": "stream",
          "name": "stdout",
          "text": [
            "i am 30 years old\n"
          ]
        }
      ]
    },
    {
      "cell_type": "markdown",
      "source": [
        "## sort,sorted 모두 key, reverse 매개변수를 갖고 있다\n",
        "\n",
        "\n",
        "*  revers : 기본값은 revers = False(오름차순), reverse = True를 매개변수로 입력하면 내림차순으로 정렬\n",
        "*  key : 정렬을 목적으로 하는 함수를 값으로 넣는다. lambda를 이용할 수 있고 key값을 기준으로 정렬되고 기본값은 오름차순\n",
        "\n"
      ],
      "metadata": {
        "id": "OnDLNyP3mfoB"
      }
    },
    {
      "cell_type": "code",
      "source": [
        "my_list = [3, 1, 4, 2]\n",
        "print(sorted(my_list))\n",
        "my_list"
      ],
      "metadata": {
        "colab": {
          "base_uri": "https://localhost:8080/"
        },
        "id": "29NPAJJEmLnY",
        "outputId": "b476de0a-6a29-44ab-de22-154f07d91b91"
      },
      "execution_count": null,
      "outputs": [
        {
          "output_type": "stream",
          "name": "stdout",
          "text": [
            "[1, 2, 3, 4]\n"
          ]
        },
        {
          "output_type": "execute_result",
          "data": {
            "text/plain": [
              "[3, 1, 4, 2]"
            ]
          },
          "metadata": {},
          "execution_count": 11
        }
      ]
    },
    {
      "cell_type": "markdown",
      "source": [
        " Q. students = [(\"Alice, 90\"),(\"Bob, 85\"),(\"Charlie, 88\")]를 점수를 기준으로 정렬하세요"
      ],
      "metadata": {
        "id": "UUjSP9HOqKuf"
      }
    },
    {
      "cell_type": "code",
      "source": [
        "# sorted() 함수와 함께 사용\n",
        "students = [(\"Alice\", 90),(\"Bob\", 85),(\"Charlie\", 88)]\n",
        "# sorted_students = sorted(students, key = lambda x: x[1]) # key는 sort 기준\n",
        "sorted_students = sorted(students, key = lambda x: x[1], reverse=True) # 내림차순\n",
        "print(sorted_students)"
      ],
      "metadata": {
        "colab": {
          "base_uri": "https://localhost:8080/"
        },
        "id": "MkdLPbrDp20W",
        "outputId": "2f983331-6a32-4fc3-e958-64d1031f69f7"
      },
      "execution_count": null,
      "outputs": [
        {
          "output_type": "stream",
          "name": "stdout",
          "text": [
            "[('Alice', 90), ('Charlie', 88), ('Bob', 85)]\n"
          ]
        }
      ]
    },
    {
      "cell_type": "code",
      "source": [
        "my_string = 'Python'\n",
        "print(type(my_string))"
      ],
      "metadata": {
        "colab": {
          "base_uri": "https://localhost:8080/"
        },
        "id": "FcFWyKHJtLWq",
        "outputId": "f011d25f-f887-4266-d7aa-428771f213b9"
      },
      "execution_count": null,
      "outputs": [
        {
          "output_type": "stream",
          "name": "stdout",
          "text": [
            "<class 'str'>\n"
          ]
        }
      ]
    },
    {
      "cell_type": "code",
      "source": [
        "print(list(range(5)))\n",
        "print(list(range(1,6)))\n",
        "print(list(range(1,10, 2)))\n",
        "print(list(range(0, -10, -1)))"
      ],
      "metadata": {
        "colab": {
          "base_uri": "https://localhost:8080/"
        },
        "id": "C6_R9ZuKuAh0",
        "outputId": "4f00400e-6166-4db1-f027-74f47a190bf2"
      },
      "execution_count": null,
      "outputs": [
        {
          "output_type": "stream",
          "name": "stdout",
          "text": [
            "[0, 1, 2, 3, 4]\n",
            "[1, 2, 3, 4, 5]\n",
            "[1, 3, 5, 7, 9]\n",
            "[0, -1, -2, -3, -4, -5, -6, -7, -8, -9]\n"
          ]
        }
      ]
    },
    {
      "cell_type": "markdown",
      "source": [
        "Q. 실행 가능한 숫자를 문자열('5+5') 입력으로 받아 문자열을 숫자 연산으로 실행한 결과값을 출력하세요"
      ],
      "metadata": {
        "id": "4z_V88PeuTMq"
      }
    },
    {
      "cell_type": "code",
      "source": [
        "print(eval(input(\"연산을 입력하세요  \")))"
      ],
      "metadata": {
        "colab": {
          "base_uri": "https://localhost:8080/"
        },
        "id": "nzXmnPx2uhXp",
        "outputId": "780bd8e8-efe4-42b0-d1fb-5159b1eca19a"
      },
      "execution_count": null,
      "outputs": [
        {
          "output_type": "stream",
          "name": "stdout",
          "text": [
            "연산을 입력하세요  5+5\n",
            "10\n"
          ]
        }
      ]
    },
    {
      "cell_type": "code",
      "source": [
        "expression = input(\"계산할 수식을 입력하세요 \")\n",
        "result = eval(expression)\n",
        "print(f\"계산 결과 :  {result}\")"
      ],
      "metadata": {
        "colab": {
          "base_uri": "https://localhost:8080/"
        },
        "id": "ByhDxxVwvCor",
        "outputId": "8d6784fe-13bd-4de1-e9ae-7f93cd6589f2"
      },
      "execution_count": null,
      "outputs": [
        {
          "output_type": "stream",
          "name": "stdout",
          "text": [
            "계산할 수식을 입력하세요 5+6\n",
            "계산 결과 :  11\n"
          ]
        }
      ]
    },
    {
      "cell_type": "code",
      "source": [
        "data = [1, 2, 3, 4, 5]\n",
        "operation = input(\"실행할 리스트 연선을 입력 (예 'data.append(6), 'data.pop()) : >>> \")\n",
        "eval(operation)\n",
        "print(f\"수정된 데이터 : {data}\")"
      ],
      "metadata": {
        "colab": {
          "base_uri": "https://localhost:8080/"
        },
        "id": "FdlxH1_4vZBO",
        "outputId": "357c782d-9fd0-454a-fc28-ae5414f571c5"
      },
      "execution_count": null,
      "outputs": [
        {
          "output_type": "stream",
          "name": "stdout",
          "text": [
            "실행할 리스트 연선을 입력 (예 'data.append(6), 'data.pop()) : >>> data.append(8)\n",
            "수정된 데이터 : [1, 2, 3, 4, 5, 8]\n"
          ]
        }
      ]
    },
    {
      "cell_type": "code",
      "source": [
        "for idx, element in enumerate(['ele1', 'ele2', 'ele3']):\n",
        "  print(idx + 1, element)"
      ],
      "metadata": {
        "colab": {
          "base_uri": "https://localhost:8080/"
        },
        "id": "68y67QSxxQTW",
        "outputId": "dd7441b1-428b-479d-875d-4100170d5901"
      },
      "execution_count": null,
      "outputs": [
        {
          "output_type": "stream",
          "name": "stdout",
          "text": [
            "1 ele1\n",
            "2 ele2\n",
            "3 ele3\n"
          ]
        }
      ]
    },
    {
      "cell_type": "code",
      "source": [
        "# enumerate와 f-string을 사용해서 특정 리스트에서 원하는 형태로 출력을 하세요 (인덱스와 내용을 믹스하여)\n",
        "\n",
        "print(\"과일의 종류\")\n",
        "\n",
        "list = ['사과', '키위', '딸기', '참외', '수박']\n",
        "\n",
        "for i, a in enumerate(list):\n",
        "  print(f'{i}, {a}')"
      ],
      "metadata": {
        "colab": {
          "base_uri": "https://localhost:8080/"
        },
        "id": "OwyjVEzvxj94",
        "outputId": "191fd7c9-8dc6-4225-ab57-87683f40fe5b"
      },
      "execution_count": null,
      "outputs": [
        {
          "output_type": "stream",
          "name": "stdout",
          "text": [
            "과일의 종류\n",
            "0, 사과\n",
            "1, 키위\n",
            "2, 딸기\n",
            "3, 참외\n",
            "4, 수박\n"
          ]
        }
      ]
    },
    {
      "cell_type": "code",
      "source": [
        "# 몫과 나머자\n",
        "\n",
        "print(divmod(7, 3))"
      ],
      "metadata": {
        "colab": {
          "base_uri": "https://localhost:8080/"
        },
        "id": "4_0ZB6Ol2TW5",
        "outputId": "aa0a0a11-000b-45ba-9f05-d0448835cec0"
      },
      "execution_count": null,
      "outputs": [
        {
          "output_type": "stream",
          "name": "stdout",
          "text": [
            "(2, 1)\n"
          ]
        }
      ]
    },
    {
      "cell_type": "code",
      "source": [
        "# Q 150분을 시간과 분으로 변환해서 출력하세여\n",
        "\n",
        "def converf_time(minutes):\n",
        "  hours,minutes = divmod(minutes, 60)\n",
        "  return hours,minutes\n",
        "\n",
        "minutes = 150\n",
        "hours,minutes = converf_time(minutes)\n",
        "print(f'{hours}시간 {minutes}분')"
      ],
      "metadata": {
        "colab": {
          "base_uri": "https://localhost:8080/"
        },
        "id": "XR22hyu13CcP",
        "outputId": "4e9d1298-28ba-47be-bd06-e1cabfbd1f6a"
      },
      "execution_count": null,
      "outputs": [
        {
          "output_type": "stream",
          "name": "stdout",
          "text": [
            "2시간 30분\n"
          ]
        }
      ]
    },
    {
      "cell_type": "code",
      "source": [
        "# Q url에서 쿼리문을 추출하여 출력하세요\n",
        "# Q url에서 '?'위에 표시되는 문자열을 쿼리 문자열이라고 하며 변수=값 사이 & 로 구분되어 나열된다\n",
        "url = 'http://news.naver.com/main/read.nhn?mode=LSD&mid=shm&sid1=105&oid=028&aid=0002334601'\n",
        "\n",
        "tmp1 = url.split('/')\n",
        "tmp2 = tmp1[-1].split('?')\n",
        "result = tmp2[-1].split('&')\n",
        "\n",
        "print(result)\n",
        "print(\"\")\n",
        "\n",
        "for i in result:\n",
        "  print(i)"
      ],
      "metadata": {
        "colab": {
          "base_uri": "https://localhost:8080/"
        },
        "id": "5mqZETAT5O_7",
        "outputId": "3cd24a4a-7188-49be-f8c2-9853829540a8"
      },
      "execution_count": null,
      "outputs": [
        {
          "output_type": "stream",
          "name": "stdout",
          "text": [
            "['mode=LSD', 'mid=shm', 'sid1=105', 'oid=028', 'aid=0002334601']\n",
            "\n",
            "mode=LSD\n",
            "mid=shm\n",
            "sid1=105\n",
            "oid=028\n",
            "aid=0002334601\n"
          ]
        }
      ]
    },
    {
      "cell_type": "code",
      "source": [
        "# Q List 안의 단어 혹은 알파벡이 있으면 해당 제목을 출력\n",
        "\n",
        "x = input(\"제목을 입력하세요 > \")\n",
        "tlist = [\"Hello Word!\", \"Nice Day\", \"HappyBin\", \"enDing_Story\"]\n",
        "n_tlist = []\n",
        "\n",
        "x=x.lower()\n",
        "for i in range(len(tlist)):\n",
        "  n_tlist.append(tlist[i].lower())\n",
        "  if x in n_tlist[i]:\n",
        "    print(tlist[i])"
      ],
      "metadata": {
        "colab": {
          "base_uri": "https://localhost:8080/"
        },
        "id": "9uMMscYu-Gci",
        "outputId": "0db50b43-9166-4d23-92e4-c3d1cd5255ba"
      },
      "execution_count": null,
      "outputs": [
        {
          "output_type": "stream",
          "name": "stdout",
          "text": [
            "제목을 입력하세요 > n\n",
            "Nice Day\n",
            "HappyBin\n",
            "enDing_Story\n"
          ]
        }
      ]
    },
    {
      "cell_type": "code",
      "source": [
        "# 영어 이름을 적으면 앞에 글자를 대문자로 바꾸어 주는 프로그램\n",
        "# (단 중간에 한칸씩 띄어주어야 함) ex) kim doun won\n",
        "\n",
        "wiyname = input(\"이름을 영어로 입력하세요 > \")\n",
        "n_name = wiyname.lower()\n",
        "txt = n_name.title()\n",
        "\n",
        "print(f'당신의 이름을 바꾸면 {txt} 입니다.')"
      ],
      "metadata": {
        "colab": {
          "base_uri": "https://localhost:8080/"
        },
        "id": "pi9zvkpy-i6a",
        "outputId": "e93cc8ab-01b5-408a-a463-6facf51bbbec"
      },
      "execution_count": null,
      "outputs": [
        {
          "output_type": "stream",
          "name": "stdout",
          "text": [
            "이름을 영어로 입력하세요 > leebumseok\n",
            "당신의 이름을 바꾸면 Leebumseok 입니다.\n"
          ]
        }
      ]
    },
    {
      "cell_type": "code",
      "source": [
        "# 문자열에서 좌우 공백 제거\n",
        "txt = \"   양쪽에 공백이 있는 문자열 입니다   \"\n",
        "ret1 = txt.lstrip()\n",
        "ret2 = txt.rstrip()\n",
        "ret3 = txt.strip()\n",
        "\n",
        "print('<'+ret1+'>')\n",
        "print('<'+ret2+'>')\n",
        "print('<'+ret3+'>')\n"
      ],
      "metadata": {
        "colab": {
          "base_uri": "https://localhost:8080/"
        },
        "id": "3F2SlRYfDhhS",
        "outputId": "c164b806-fde6-41f7-df71-0a339ffe1840"
      },
      "execution_count": 3,
      "outputs": [
        {
          "output_type": "stream",
          "name": "stdout",
          "text": [
            "<양쪽에 공백이 있는 문자열 입니다   >\n",
            "<   양쪽에 공백이 있는 문자열 입니다>\n",
            "<양쪽에 공백이 있는 문자열 입니다>\n"
          ]
        }
      ]
    },
    {
      "cell_type": "code",
      "source": [
        "# 특정 문자로 결합\n",
        "loglist = ['2016/08/26 10:12;11' ,'200', 'OK', '이 또한 지나가리라']\n",
        "bond = ':'\n",
        "log = bond.join(loglist)\n",
        "print(log)"
      ],
      "metadata": {
        "colab": {
          "base_uri": "https://localhost:8080/"
        },
        "id": "oPTSOwJjEMXJ",
        "outputId": "478aba48-8f4d-4d5e-bf37-eb707ce87ccd"
      },
      "execution_count": 1,
      "outputs": [
        {
          "output_type": "stream",
          "name": "stdout",
          "text": [
            "2016/08/26 10:12;11:200:OK:이 또한 지나가리라\n"
          ]
        }
      ]
    },
    {
      "cell_type": "code",
      "source": [
        "# 특정 문자(열)을 다른 문자(열)로 바꾸기(replace)\n",
        "\n",
        "txt = 'My password is 1234'\n",
        "ret1 = txt.replace('1','0')\n",
        "ret2 = txt.replace('1','ptyhon')\n",
        "\n",
        "print(ret1)\n",
        "print(ret2)\n",
        "\n",
        "txt = \"매일 많은 일들이 일어납니다\"\n",
        "\n",
        "ret3 = txt.replace(\"많은 일들이\", \"아침 일찍\")\n",
        "print(ret3)"
      ],
      "metadata": {
        "colab": {
          "base_uri": "https://localhost:8080/"
        },
        "id": "zPgmY0EMEicG",
        "outputId": "402c7d5a-cf5d-412b-878d-2e057fdf4a54"
      },
      "execution_count": 4,
      "outputs": [
        {
          "output_type": "stream",
          "name": "stdout",
          "text": [
            "My password is 0234\n",
            "My password is ptyhon234\n",
            "매일 아침 일찍 일어납니다\n"
          ]
        }
      ]
    },
    {
      "cell_type": "code",
      "source": [
        "# Q 입력된 문장에서 'pad'를 'good'으로 교체해서 출력하세요 예시( This is a bad example )\n",
        "\n",
        "sentence = input(\"문장을 입력하세요 > \")\n",
        "print(sentence.replace('bad','good'))"
      ],
      "metadata": {
        "colab": {
          "base_uri": "https://localhost:8080/"
        },
        "id": "Fths2jKeGcnT",
        "outputId": "fa697022-f93b-419a-9b55-44d41db4edb3"
      },
      "execution_count": 5,
      "outputs": [
        {
          "output_type": "stream",
          "name": "stdout",
          "text": [
            "문장을 입력하세요 > This is a bad example\n",
            "This is a good example\n"
          ]
        }
      ]
    },
    {
      "cell_type": "code",
      "source": [
        "# 코드값을 대응하는 문자 얻기\n",
        "\n",
        "val = int(input('문자 코드값을 입력하세요 : '))\n",
        "ch = chr(val)\n",
        "print('코드값 : %d 문자 %s' %(val, ch))"
      ],
      "metadata": {
        "colab": {
          "base_uri": "https://localhost:8080/"
        },
        "id": "j5l-NoZqJnmg",
        "outputId": "b79dd20a-13f1-447f-f421-17527f831166"
      },
      "execution_count": 8,
      "outputs": [
        {
          "output_type": "stream",
          "name": "stdout",
          "text": [
            "문자 코드값을 입력하세요 : 65\n",
            "코드값 : 65 문자 A\n"
          ]
        }
      ]
    },
    {
      "cell_type": "code",
      "source": [
        "while True\n",
        "  val = int(input(\"문자 코드값 입력 : \"))\n",
        "  if val == 0:\n",
        "    print(\"프로그램 종료 \")\n",
        "    break\n",
        "  val2 =chr(val)\n",
        "  print(f'코드값 :{val}, 문자: {val2}')"
      ],
      "metadata": {
        "id": "3V86i74sKl4b"
      },
      "execution_count": null,
      "outputs": []
    },
    {
      "cell_type": "code",
      "source": [
        "# 문자열이 문자인지 검사\n",
        "\n",
        "txt1 = 'A'\n",
        "txt2 = '안녕'\n",
        "txt3 = 'Warcraft Three'\n",
        "txt4 = '3P0'\n",
        "ret1 = txt1.isalpha()\n",
        "ret2 = txt2.isalpha()\n",
        "ret3 = txt3.isalpha()\n",
        "ret4 = txt4.isalpha()\n",
        "print(ret1)   # True가 출력됨\n",
        "print(ret2)   # True가 출력됨\n",
        "print(ret3)   # False가 출력됨\n",
        "print(ret4)   # False가 출력됨"
      ],
      "metadata": {
        "colab": {
          "base_uri": "https://localhost:8080/"
        },
        "id": "tGur7b63MC7A",
        "outputId": "6b2e7142-48d0-4a2c-f734-691dc4a3b79b"
      },
      "execution_count": 10,
      "outputs": [
        {
          "output_type": "stream",
          "name": "stdout",
          "text": [
            "True\n",
            "True\n",
            "False\n",
            "False\n"
          ]
        }
      ]
    },
    {
      "cell_type": "code",
      "source": [
        "# isdigit() 문자열이 숫자인지 검사\n",
        "\n",
        "txt1 = '010-1234-5678'\n",
        "txt2 = 'R202'\n",
        "txt3 = '1212'\n",
        "\n",
        "ret1 = txt1.isdigit()\n",
        "ret2 = txt2.isdigit()\n",
        "ret3 = txt3.isdigit()\n",
        "\n",
        "print(ret1,ret2,ret3)"
      ],
      "metadata": {
        "colab": {
          "base_uri": "https://localhost:8080/"
        },
        "id": "o91xt3vzNA4C",
        "outputId": "96d2818e-470a-4028-91a8-7e703a5afc77"
      },
      "execution_count": 12,
      "outputs": [
        {
          "output_type": "stream",
          "name": "stdout",
          "text": [
            "False False True\n"
          ]
        }
      ]
    },
    {
      "cell_type": "code",
      "source": [
        "# isalnum() : 문자열이 문자 또는 숫자인지 검사 : 문자열이 영어, 한글 혹은 숫자로 되어있으면 참 리턴,\n",
        "# 아니면 거짓 리턴\n",
        "\n",
        "txt1 = '안녕하세요 ? '\n",
        "txt2 = '1, Title-제목을 넣으세요'\n",
        "txt3 = '3피오 R202'\n",
        "\n",
        "ret1 = txt1.isalnum()\n",
        "ret2 = txt2.isalnum()\n",
        "ret3 = txt3.isalnum()\n",
        "\n",
        "print(ret1,ret2,ret3)"
      ],
      "metadata": {
        "id": "-5bnZT5UOqGC",
        "colab": {
          "base_uri": "https://localhost:8080/"
        },
        "outputId": "aecd9afc-3357-4ab6-ac3d-2cac0442700c"
      },
      "execution_count": 13,
      "outputs": [
        {
          "output_type": "stream",
          "name": "stdout",
          "text": [
            "False False False\n"
          ]
        }
      ]
    },
    {
      "cell_type": "code",
      "source": [
        "txt = 'A lot of Things occur each day.'\n",
        "ret1 = txt.upper()\n",
        "ret2 = txt.lower()\n",
        "ret3 = txt.title()\n",
        "ret4 = txt.capitalize() # 문자열의 첫번쨰 문자를 대문자, 나머지는 소문자로 변환\n",
        "\n",
        "print(ret1)\n",
        "print(ret2)\n",
        "print(ret3)\n",
        "print(ret4)"
      ],
      "metadata": {
        "colab": {
          "base_uri": "https://localhost:8080/"
        },
        "id": "1sZ2Kn2lQ6Zw",
        "outputId": "8f725f21-3d48-4419-fb69-a09b5e53c0e3"
      },
      "execution_count": 14,
      "outputs": [
        {
          "output_type": "stream",
          "name": "stdout",
          "text": [
            "A LOT OF THINGS OCCUR EACH DAY.\n",
            "a lot of things occur each day.\n",
            "A Lot Of Things Occur Each Day.\n",
            "A lot of things occur each day.\n"
          ]
        }
      ]
    },
    {
      "cell_type": "markdown",
      "source": [
        "Q. numbers 내부에 들어 있는 숫자가 몇번 등장하는지를 출력하는 코드 작성\n",
        "\n",
        "numbers = [3,6,3,5,8,2,5,7,4,3,6,3,5,8,2,9,7,4]\n"
      ],
      "metadata": {
        "id": "UddZgcOsRfWc"
      }
    },
    {
      "cell_type": "code",
      "source": [
        "numbers = [3,6,3,5,8,2,5,7,4,3,6,3,5,8,2,9,7,4]\n",
        "\n",
        "counter = {}\n",
        "\n",
        "for number in numbers:\n",
        "    if number in counter:\n",
        "        counter[number] += 1\n",
        "\n",
        "    else:\n",
        "        counter[number] = 1\n",
        "print(counter)"
      ],
      "metadata": {
        "colab": {
          "base_uri": "https://localhost:8080/"
        },
        "id": "nm_IVkrqR3XU",
        "outputId": "4f98ae77-a15b-4337-fb0b-11c649548b6b"
      },
      "execution_count": 17,
      "outputs": [
        {
          "output_type": "stream",
          "name": "stdout",
          "text": [
            "{3: 4, 6: 2, 5: 3, 8: 2, 2: 2, 7: 2, 4: 2, 9: 1}\n"
          ]
        }
      ]
    },
    {
      "cell_type": "code",
      "source": [
        "# list a의 모든 원소를 실수형으로 바꾸어 출력하세요\n",
        "\n",
        "a = [1,2,3,4,5]\n",
        "a_float = list(map(float, a))\n",
        "\n",
        "print(a_float)"
      ],
      "metadata": {
        "colab": {
          "base_uri": "https://localhost:8080/"
        },
        "id": "IVNEafVnl3I1",
        "outputId": "51ab23d8-5edf-45b8-e223-7a7147bfc1f3"
      },
      "execution_count": 18,
      "outputs": [
        {
          "output_type": "stream",
          "name": "stdout",
          "text": [
            "[1.0, 2.0, 3.0, 4.0, 5.0]\n"
          ]
        }
      ]
    },
    {
      "cell_type": "code",
      "source": [
        "# Q 데이터를 입력하지 않으면 종료되는 코딩을 수행하세요 단 반복적으로 작업을 수행할 수 있음\n",
        "\n",
        "while 1:\n",
        "  a = input(\"데이터 입력 > \")\n",
        "  if a == '':\n",
        "    break\n",
        "  else:\n",
        "    print(a)"
      ],
      "metadata": {
        "colab": {
          "base_uri": "https://localhost:8080/"
        },
        "id": "b9uml1eamc6-",
        "outputId": "ea1dd7a1-e7d2-4f20-8996-412c2b646056"
      },
      "execution_count": 19,
      "outputs": [
        {
          "name": "stdout",
          "output_type": "stream",
          "text": [
            "데이터 입력 > \n"
          ]
        }
      ]
    },
    {
      "cell_type": "markdown",
      "source": [
        " 표준 라이브러리 - 외장함수"
      ],
      "metadata": {
        "id": "n32EjvbEns9g"
      }
    },
    {
      "cell_type": "markdown",
      "source": [
        "[ 날짜 함수 ]\n",
        "\n",
        "날짜와 시간을 처리하기 위한 주요 라이브러리는 datetime입니다. 이 라이브러리는 날짜, 시간, 시간대와 관련된 다양한 클래스와 함수를 제공하며, 날짜와 시간 연산에 매우 유용\n",
        "- datetime.date: 날짜(연, 월, 일)를 표현하는 클래스\n",
        "    - today(): 오늘의 날짜를 반환\n",
        "- datetime.time: 시간(시, 분, 초, 마이크로초)을 표현하는 클래스\n",
        "- datetime.datetime: 날짜와 시간을 모두 포함하는 클래스\n",
        "    - now(): 현재의 날짜와 시간을 반환\n",
        "- datetime.timedelta: 두 날짜/시간 간의 차이를 표현하는 클래스\n",
        "- datetime.tzinfo: 시간대 정보를 위한 기본 클래스\n",
        "\n",
        "datetime 모듈의 날짜와 시간 객체들을 문자열 형식으로 포맷팅하거나 문자열로부터 날짜와 시간 객체를 생성하기 위해 사용하는 주요 메서드는 strftime()와 strptime()\n",
        "- strftime() (String Format Time)\n",
        "    - 날짜와 시간 객체를 문자열로 변환하는 데 사용\n",
        "    - 사용자가 지정한 형식 문자열을 기반으로 날짜와 시간 정보를 문자열로 표현\n",
        "- strptime() (String Parse Time)\n",
        "    - 문자열을 날짜와 시간 객체로 변환하는 데 사용\n",
        "    - 주어진 형식 문자열을 기반으로 문자열에서 날짜와 시간 정보를 파싱"
      ],
      "metadata": {
        "id": "7pjXHdjdnxZx"
      }
    },
    {
      "cell_type": "markdown",
      "source": [
        "포맷 코드 표<BR>\n",
        "포맷코드   설명   예<BR>\n",
        "%a   요일 줄임말   Sun, Mon, ... Sat<BR>\n",
        "%A   요일   Sunday, Monday, ..., Saturday<BR>\n",
        "%w   요일을 숫자로 표시, 월요일일요일, 06   0, 1, ..., 6<BR>\n",
        "%d   일   01, 02, ..., 31<BR>\n",
        "%b   월 줄임말   Jan, Feb, ..., Dec<BR>\n",
        "%B   월   January, February, …, December<BR>\n",
        "%m   숫자 월   01, 02, ..., 12<BR>\n",
        "%y   두 자릿수 연도   01, 02, ..., 99<BR>\n",
        "%Y   네 자릿수 연도   0001, 0002, ..., 2017, 2018, 9999<BR>\n",
        "%H   시간(24시간)   00, 01, ..., 23<BR>\n",
        "%I   시간(12시간)   01, 02, ..., 12<BR>\n",
        "%p   AM, PM   AM, PM<BR>\n",
        "%M   분   00, 01, ..., 59<BR>\n",
        "%S   초   00, 01, ..., 59<BR>\n",
        "%Z   시간대   대한민국 표준시<BR>\n",
        "%j   1월 1일부터 경과한 일수   001, 002, ..., 366<BR>\n",
        "%U   1년중 주차, 월요일이 한 주의 시작으로   00, 01, ..., 53<BR>\n",
        "%W   1년중 주차, 월요일이 한 주의 시작으로   00, 01, ..., 53<BR>\n",
        "%c   날짜, 요일, 시간을 출력, 현재 시간대 기준   Sat May 19 11:14:27 2018<BR>\n",
        "%x   날짜를 출력, 현재 시간대 기준   05/19/18<BR>\n",
        "%X   시간을 출력, 현재 시간대 기준   '11:44:22'"
      ],
      "metadata": {
        "id": "1U5wqb86sTcQ"
      }
    },
    {
      "cell_type": "code",
      "source": [
        "import datetime\n",
        "\n",
        "# 현재 날짜와 시간 가져오기\n",
        "now = datetime.datetime.now()\n",
        "print(now)\n",
        "\n",
        "# 오늘의 날짜만 가져오기\n",
        "today = datetime.date.today()\n",
        "print(today)\n",
        "\n",
        "# 특정 날짜와 시간을 직접 지정\n",
        "d= datetime.datetime(2023, 11, 2, 14, 29, 45)\n",
        "print(d)\n",
        "\n",
        "# 날짜 간의 차이 계산\n",
        "delta = datetime.timedelta(days=7) # 7일의 기간\n",
        "new_date = today + delta\n",
        "print(new_date)\n",
        "\n",
        "# 두 날짜 간의 차이 계산\n",
        "date1 = datetime.date(2023, 1, 1)\n",
        "date2 = datetime.date(2023, 12, 31)\n",
        "diff = date2 - date1\n",
        "print(diff.days)"
      ],
      "metadata": {
        "colab": {
          "base_uri": "https://localhost:8080/"
        },
        "id": "uQ_NVtCQpkp1",
        "outputId": "973b14d1-299f-4505-c194-9dbdcc9418d6"
      },
      "execution_count": 22,
      "outputs": [
        {
          "output_type": "stream",
          "name": "stdout",
          "text": [
            "2024-05-08 05:27:09.581806\n",
            "2024-05-08\n",
            "2023-11-02 14:29:45\n",
            "2024-05-15\n",
            "364\n"
          ]
        }
      ]
    },
    {
      "cell_type": "code",
      "source": [
        "import datetime\n",
        "\n",
        "now = datetime.datetime.now()\n",
        "print(now,type(now))\n",
        "formatted = now.strftime(\"%Y-%m-%d %H:%M:%S\")\n",
        "print(formatted,type(formatted))"
      ],
      "metadata": {
        "colab": {
          "base_uri": "https://localhost:8080/"
        },
        "id": "ZzTrMgmsrtf2",
        "outputId": "88b0e6eb-eca5-4e45-c31b-0e7f591b82ec"
      },
      "execution_count": 25,
      "outputs": [
        {
          "output_type": "stream",
          "name": "stdout",
          "text": [
            "2024-05-08 05:35:09.768433 <class 'datetime.datetime'>\n",
            "2024-05-08 05:35:09 <class 'str'>\n"
          ]
        }
      ]
    },
    {
      "cell_type": "code",
      "source": [
        "import datetime\n",
        "\n",
        "date_string = \"2023-11-02 14:45:30\"\n",
        "print(date_string, type(date_string))\n",
        "dt = datetime.datetime.strptime(date_string, \"%Y-%m-%d %H:%M:%S\")\n",
        "print(dt,type(dt))"
      ],
      "metadata": {
        "colab": {
          "base_uri": "https://localhost:8080/"
        },
        "id": "OC3fMxBftqGF",
        "outputId": "d6d1e4cf-9f5a-45ba-969d-b945af301eca"
      },
      "execution_count": 27,
      "outputs": [
        {
          "output_type": "stream",
          "name": "stdout",
          "text": [
            "2023-11-02 14:45:30 <class 'str'>\n",
            "2023-11-02 14:45:30 <class 'datetime.datetime'>\n"
          ]
        }
      ]
    },
    {
      "cell_type": "markdown",
      "source": [
        "time 모듈\n",
        "- 시스템 시간에 접근하거나 간단한 타이머 기능을 구현\n",
        "- 함수와 같이 프로그램을 일정 시간 동안 중지시키는 데 사용\n",
        "- 시간을 연도, 월, 일, 시, 분, 초 등의 구성 요소로 변환하고 다룰 수 있는 struct_time 객체를 제공\n",
        "- time 모듈은 날짜와 시간을 처리하는 다양한 프로그래밍 요구에 대응할 수 있는 기본적인 기능을 제공하지만, 더 복잡한 날짜 시간 처리나 시간대 변환 등은 datetime 모듈 또는 외부 라이브러리를 사용"
      ],
      "metadata": {
        "id": "jClssdGwuSLk"
      }
    },
    {
      "cell_type": "code",
      "source": [
        "# localtime() 함수는 파이썬의 time 모듈에 포함되어 있으며, 이 함수는 초로 표시되는 시간을 구조화된 시간 튜플 형태\n",
        "import time\n",
        "local_time = time.localtime()\n",
        "print(local_time)"
      ],
      "metadata": {
        "colab": {
          "base_uri": "https://localhost:8080/"
        },
        "id": "oHodgxgAtw_w",
        "outputId": "5319fa70-e3e2-4b92-8ea0-757b83955f0d"
      },
      "execution_count": 30,
      "outputs": [
        {
          "output_type": "stream",
          "name": "stdout",
          "text": [
            "time.struct_time(tm_year=2024, tm_mon=5, tm_mday=8, tm_hour=5, tm_min=45, tm_sec=52, tm_wday=2, tm_yday=129, tm_isdst=0)\n"
          ]
        }
      ]
    },
    {
      "cell_type": "code",
      "source": [
        "# 현재 시간을 1970냔 1월 1일 0시 0분 0초 (유닉스 시간의 시작)부터 현재까지의 초(second)로 표현된 값을 반환\n",
        "import time\n",
        "time.time()"
      ],
      "metadata": {
        "colab": {
          "base_uri": "https://localhost:8080/"
        },
        "id": "sC0Tda2zvnyl",
        "outputId": "6f2b5a20-6f28-48d4-e9a9-c698f59482ef"
      },
      "execution_count": 31,
      "outputs": [
        {
          "output_type": "execute_result",
          "data": {
            "text/plain": [
              "1715147312.3144546"
            ]
          },
          "metadata": {},
          "execution_count": 31
        }
      ]
    },
    {
      "cell_type": "code",
      "source": [
        "# 초로 표현된 시간을 구조화된 시간 튜플 형태로 반환\n",
        "t = time.time()\n",
        "time.localtime(t)"
      ],
      "metadata": {
        "colab": {
          "base_uri": "https://localhost:8080/"
        },
        "id": "NeFYViArwBvf",
        "outputId": "f90654c1-37ba-4bd1-96e5-b4abad7fc19f"
      },
      "execution_count": 32,
      "outputs": [
        {
          "output_type": "execute_result",
          "data": {
            "text/plain": [
              "time.struct_time(tm_year=2024, tm_mon=5, tm_mday=8, tm_hour=5, tm_min=49, tm_sec=57, tm_wday=2, tm_yday=129, tm_isdst=0)"
            ]
          },
          "metadata": {},
          "execution_count": 32
        }
      ]
    },
    {
      "cell_type": "code",
      "source": [
        "# strftime 함수는 시간에 관계된 것을 세밀하게 표현할 수 있는 여러가지 포맷 코드 제공\n",
        "# time.localtime() 함수는 초로 표현된 시간을 구조화된 시간 튜플 형태로 변환\n",
        "import time\n",
        "\n",
        "d = time.strftime('%d', time.localtime(time.time()))\n",
        "m = time.strftime('%m', time.localtime(time.time()))\n",
        "y = time.strftime('%Y', time.localtime(time.time()))\n",
        "a = time.strftime('%A', time.localtime(time.time())) # 요일\n",
        "\n",
        "print(d)\n",
        "print(m)\n",
        "print(y)\n",
        "print(a)"
      ],
      "metadata": {
        "colab": {
          "base_uri": "https://localhost:8080/"
        },
        "id": "sbj_ISCry9mO",
        "outputId": "3579c83f-8946-4ced-f407-fef7281c7512"
      },
      "execution_count": 34,
      "outputs": [
        {
          "output_type": "stream",
          "name": "stdout",
          "text": [
            "08\n",
            "05\n",
            "2024\n",
            "Wednesday\n"
          ]
        }
      ]
    },
    {
      "cell_type": "code",
      "source": [
        "# Q 1609160537.371015을 \"Sat Jun 26 08:35:03 2021\" 포맷으로 출력하세요\n",
        "import time\n",
        "\n",
        "t = time.localtime(1609160537.371015)\n",
        "print(t)\n",
        "local_time = time.strftime(\"%a-%b-%d %H:%M:%S:%Y\",t)\n",
        "print(local_time)"
      ],
      "metadata": {
        "colab": {
          "base_uri": "https://localhost:8080/"
        },
        "id": "Hy7NJmY_z_BT",
        "outputId": "68e596e5-9582-4ace-bfc0-bdbc69f43400"
      },
      "execution_count": 46,
      "outputs": [
        {
          "output_type": "stream",
          "name": "stdout",
          "text": [
            "time.struct_time(tm_year=2020, tm_mon=12, tm_mday=28, tm_hour=13, tm_min=2, tm_sec=17, tm_wday=0, tm_yday=363, tm_isdst=0)\n",
            "Mon-Dec-28 13:02:17:2020\n"
          ]
        }
      ]
    },
    {
      "cell_type": "code",
      "source": [
        "import time\n",
        "current_time = time.localtime(1609160537.371015)\n",
        "print(current_time)\n",
        "# struct_time 객체를 인간이 읽을 수 있는 형태로 변환합니다\n",
        "readable_time = time.asctime(current_time)\n",
        "print(readable_time)"
      ],
      "metadata": {
        "colab": {
          "base_uri": "https://localhost:8080/"
        },
        "id": "ueyPVRZu0pHm",
        "outputId": "7029c628-d589-4472-8eb6-9feedfe2be7e"
      },
      "execution_count": 47,
      "outputs": [
        {
          "output_type": "stream",
          "name": "stdout",
          "text": [
            "time.struct_time(tm_year=2020, tm_mon=12, tm_mday=28, tm_hour=13, tm_min=2, tm_sec=17, tm_wday=0, tm_yday=363, tm_isdst=0)\n",
            "Mon Dec 28 13:02:17 2020\n"
          ]
        }
      ]
    },
    {
      "cell_type": "code",
      "source": [
        "# timestamp -> str\n",
        "import time\n",
        "t = time.time()\n",
        "print(t, type(t))\n",
        "s = str(t)\n",
        "print(s,type(s))"
      ],
      "metadata": {
        "colab": {
          "base_uri": "https://localhost:8080/"
        },
        "id": "tHjthj8K3GtA",
        "outputId": "995a8a8e-a9e8-4e38-a27a-95f571081e04"
      },
      "execution_count": 48,
      "outputs": [
        {
          "output_type": "stream",
          "name": "stdout",
          "text": [
            "1715149253.132664 <class 'float'>\n",
            "1715149253.132664 <class 'str'>\n"
          ]
        }
      ]
    },
    {
      "cell_type": "code",
      "source": [
        "# timestamp -> datetime\n",
        "from datetime import datetime\n",
        "t = time.time()\n",
        "print(t,type(t))\n",
        "d = datetime.fromtimestamp(t)\n",
        "print(d,type(d))"
      ],
      "metadata": {
        "colab": {
          "base_uri": "https://localhost:8080/"
        },
        "id": "GiDeDS9j3S6X",
        "outputId": "11598bb2-de67-4ff2-f59e-d6771f02be1e"
      },
      "execution_count": 51,
      "outputs": [
        {
          "output_type": "stream",
          "name": "stdout",
          "text": [
            "1715149450.470515 <class 'float'>\n",
            "2024-05-08 06:24:10.470515 <class 'datetime.datetime'>\n"
          ]
        }
      ]
    },
    {
      "cell_type": "code",
      "source": [
        "# datetime -> str\n",
        "from datetime import datetime\n",
        "\n",
        "s = datetime.now()\n",
        "print(s, type(s))\n",
        "\n",
        "s1 = s.strftime(\"%a-%b-%d %H:%M:%S\")\n",
        "print(s1,type(s1))"
      ],
      "metadata": {
        "colab": {
          "base_uri": "https://localhost:8080/"
        },
        "id": "g1O4ZtsM5t4d",
        "outputId": "1ef20b45-c578-43a5-8e0d-c2595dc8fc8a"
      },
      "execution_count": 52,
      "outputs": [
        {
          "output_type": "stream",
          "name": "stdout",
          "text": [
            "2024-05-08 06:33:05.419773 <class 'datetime.datetime'>\n",
            "Wed-May-08 06:33:05 <class 'str'>\n"
          ]
        }
      ]
    },
    {
      "cell_type": "code",
      "source": [
        "import time\n",
        "from datetime import datetime\n",
        "\n",
        "t = time.time()\n",
        "d = datetime.fromtimestamp(t) # timestamp -> datetime\n",
        "s = d.strftime('%Y-%m-%d %X') # datetime -> str %X 시간을 출력 , 현재 시간대 기준\n",
        "s"
      ],
      "metadata": {
        "colab": {
          "base_uri": "https://localhost:8080/",
          "height": 35
        },
        "id": "WDZGi9kz6f9l",
        "outputId": "05a8a2d9-a6c5-4cc6-abdb-daf0d0525189"
      },
      "execution_count": 53,
      "outputs": [
        {
          "output_type": "execute_result",
          "data": {
            "text/plain": [
              "'2024-05-08 06:36:46'"
            ],
            "application/vnd.google.colaboratory.intrinsic+json": {
              "type": "string"
            }
          },
          "metadata": {},
          "execution_count": 53
        }
      ]
    },
    {
      "cell_type": "code",
      "source": [
        "# str -> datetime\n",
        "from datetime import datetime\n",
        "s = '2021-07-20 11:13:58'\n",
        "print(s,type(s))\n",
        "d = datetime.strptime(s,\"%Y-%m-%d %H:%M:%S\")\n",
        "print(d,type(d))"
      ],
      "metadata": {
        "colab": {
          "base_uri": "https://localhost:8080/"
        },
        "id": "UMrsZPkB79AP",
        "outputId": "780cebb7-d444-41f6-8dc4-fb505ff37267"
      },
      "execution_count": 54,
      "outputs": [
        {
          "output_type": "stream",
          "name": "stdout",
          "text": [
            "2021-07-20 11:13:58 <class 'str'>\n",
            "2021-07-20 11:13:58 <class 'datetime.datetime'>\n"
          ]
        }
      ]
    },
    {
      "cell_type": "code",
      "source": [
        "# datetime -> timestamp\n",
        "d = datetime.today()\n",
        "print(d,type(d))\n",
        "timestamp = time.mktime(d.timetuple())\n",
        "print(timestamp, type(timestamp))"
      ],
      "metadata": {
        "colab": {
          "base_uri": "https://localhost:8080/"
        },
        "id": "Y4K6BMOr8Uvz",
        "outputId": "1611b13b-d843-4652-e593-1044a4279da5"
      },
      "execution_count": 55,
      "outputs": [
        {
          "output_type": "stream",
          "name": "stdout",
          "text": [
            "2024-05-08 06:44:19.873983 <class 'datetime.datetime'>\n",
            "1715150659.0 <class 'float'>\n"
          ]
        }
      ]
    },
    {
      "cell_type": "code",
      "source": [
        "# str -> datetime -> timestamp\n",
        "s = '2021-07-20 11:13:58'\n",
        "timestamp = time.mktime(datetime.strptime(s,'%Y-%m-%d %H:%M:%S').timetuple())\n",
        "print(timestamp,type(timestamp))"
      ],
      "metadata": {
        "colab": {
          "base_uri": "https://localhost:8080/"
        },
        "id": "u_UTT_Po9PaH",
        "outputId": "02a321c4-1b44-447b-bdd6-699778c76b9a"
      },
      "execution_count": 56,
      "outputs": [
        {
          "output_type": "stream",
          "name": "stdout",
          "text": [
            "1626779638.0 <class 'float'>\n"
          ]
        }
      ]
    }
  ]
}