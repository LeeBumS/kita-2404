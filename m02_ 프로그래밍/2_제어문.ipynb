{
  "nbformat": 4,
  "nbformat_minor": 0,
  "metadata": {
    "colab": {
      "provenance": []
    },
    "kernelspec": {
      "name": "python3",
      "display_name": "Python 3"
    },
    "language_info": {
      "name": "python"
    }
  },
  "cells": [
    {
      "cell_type": "markdown",
      "source": [
        "제어문(control statement)은 프로그램의 흐름을 제어하는데 사용\n",
        "\n",
        "#### 조건문 (Conditional Statements):\n",
        "- if: 특정 조건이 참(True)일 때 코드 블록을 실행\n",
        "    - 조건은 비교 연산자(==, !=, <, >, <=, >=)와 논리 연산자(and, or, not)를 사용하여 표현할 수 있다\n",
        "- elif: 이전의 if 또는 elif 조건이 거짓(False)일 때 다른 조건을 검사\n",
        "    - elif는 'else if'의 축약형으로, 이전 if 또는 elif 문의 조건이 거짓(False)일 때 다른 조건을 검사\n",
        "    - 여러 elif 문을 사용하여 다양한 조건을 검사할 수 있다\n",
        "- else:\n",
        "    - 이전의 if 또는 elif 문의 조건이 모두 거짓일 때 실행할 코드 블록을 지정"
      ],
      "metadata": {
        "id": "cXbF65fn8w5b"
      }
    },
    {
      "cell_type": "code",
      "execution_count": 1,
      "metadata": {
        "id": "7aTf6VJZ8tfw",
        "colab": {
          "base_uri": "https://localhost:8080/"
        },
        "outputId": "f98fde2a-8bb3-4ce4-bafa-8273e37dc181"
      },
      "outputs": [
        {
          "output_type": "stream",
          "name": "stdout",
          "text": [
            "x는 5보다 큽니다.\n"
          ]
        }
      ],
      "source": [
        "x = 10\n",
        "if x > 5:\n",
        "  print(\"x는 5보다 큽니다.\")\n",
        "elif x == 5:\n",
        "  print(\"x는 5입니다\")\n",
        "else:\n",
        "  print(\"x는 5보다 작습니다\")"
      ]
    },
    {
      "cell_type": "code",
      "source": [
        "x = 10\n",
        "if x >= 5:\n",
        "  print(\"x는 5보다 크거나 같습니다.\")\n",
        "else:\n",
        "  print(\"x는 5보다 작습니다\")"
      ],
      "metadata": {
        "colab": {
          "base_uri": "https://localhost:8080/"
        },
        "id": "KHSc0_cKRuLi",
        "outputId": "92d3fcef-4445-4dd9-a7f0-6ad00c982b7e"
      },
      "execution_count": 3,
      "outputs": [
        {
          "output_type": "stream",
          "name": "stdout",
          "text": [
            "x는 5보다 크거나 같습니다.\n"
          ]
        }
      ]
    },
    {
      "cell_type": "code",
      "source": [
        "# 각 조건이 서로 독립적일떄 if문을 연속해서 사용\n",
        "x = 10\n",
        "y = 5\n",
        "\n",
        "if x > 5:\n",
        "  print(\"x는 5보다 큽니다\")\n",
        "if y < 10:\n",
        "  print(\"y는 10보다 작습니다\")\n",
        "if x > y:\n",
        "  print(\"x는 y보다 큽니다\")\n",
        ""
      ],
      "metadata": {
        "colab": {
          "base_uri": "https://localhost:8080/"
        },
        "id": "gCtlocStSYP9",
        "outputId": "43eb08c5-6827-4a26-ddc9-69f303d4ecf4"
      },
      "execution_count": 4,
      "outputs": [
        {
          "output_type": "stream",
          "name": "stdout",
          "text": [
            "x는 5보다 큽니다\n",
            "y는 10보다 작습니다\n",
            "x는 y보다 큽니다\n"
          ]
        }
      ]
    },
    {
      "cell_type": "code",
      "source": [
        "x = 10\n",
        "y = 5\n",
        "if x > 5:\n",
        "  if y >=3:\n",
        "    print('x는 5보다 크고 y는 3보다 크거나 같습니다.')\n",
        "  else:\n",
        "    print('x는 5보다 크고 y는 3보다 작습니다.')\n",
        "else:\n",
        "  print(\"x는 5보다 작거나 같습니다\")"
      ],
      "metadata": {
        "colab": {
          "base_uri": "https://localhost:8080/"
        },
        "id": "08sTCtIcT1_3",
        "outputId": "5c05d3a4-2000-4566-fdba-b5bd9cf1cc9a"
      },
      "execution_count": 5,
      "outputs": [
        {
          "output_type": "stream",
          "name": "stdout",
          "text": [
            "x는 5보다 크고 y는 3보다 크거나 같습니다.\n"
          ]
        }
      ]
    },
    {
      "cell_type": "code",
      "source": [
        "# Q 이중 조건문을 사용하여 코드를 작성하세요 (조건 내용은 자유. 단, if문, if ~elif ~else 중첩하여 사용)\n",
        "\n",
        "text = int(input(\"숫자를 입력하세요\"))\n",
        "\n",
        "if text < 70:\n",
        "  print(\"점수가 70점 미만입니다. 채점을 진행하지 않습니다\")\n",
        "\n",
        "else:\n",
        "  if text >= 95:\n",
        "    print(\"A+\")\n",
        "  elif text >= 90:\n",
        "    print(\"A\")\n",
        "  elif text >= 85:\n",
        "    print(\"B+\")\n",
        "  elif text >= 80:\n",
        "    print(\"B\")\n",
        "  else:\n",
        "    print(\"C\")"
      ],
      "metadata": {
        "colab": {
          "base_uri": "https://localhost:8080/"
        },
        "id": "T4S60l_EUh1I",
        "outputId": "e7b2b578-14e0-4d41-9aab-3bc499a1c498"
      },
      "execution_count": 7,
      "outputs": [
        {
          "output_type": "stream",
          "name": "stdout",
          "text": [
            "숫자를 입력하세요85\n",
            "B+\n"
          ]
        }
      ]
    },
    {
      "cell_type": "code",
      "source": [
        "listdata = ['a', 'b', 'c']\n",
        "\n",
        "if 'a' in listdata:\n",
        "  print('a가 listdata에 있습니다')\n",
        "if 'b' in listdata:\n",
        "  print('b가 listdata에 있습니다')\n",
        "if 'c' in listdata:\n",
        "  print('c가 listdata에 있습니다')\n",
        "\n",
        "for i in listdata:\n",
        "  if i in listdata:\n",
        "    print(f'{i}가 listdata에 있습니다')\n"
      ],
      "metadata": {
        "colab": {
          "base_uri": "https://localhost:8080/"
        },
        "id": "hsXnNgwDYmW5",
        "outputId": "dd02f05c-7fae-4814-d543-1551a6f527c3"
      },
      "execution_count": 9,
      "outputs": [
        {
          "output_type": "stream",
          "name": "stdout",
          "text": [
            "a가 listdata에 있습니다\n",
            "b가 listdata에 있습니다\n",
            "c가 listdata에 있습니다\n",
            "a가 listdata에 있습니다\n",
            "b가 listdata에 있습니다\n",
            "c가 listdata에 있습니다\n"
          ]
        }
      ]
    },
    {
      "cell_type": "code",
      "source": [
        "# Q '10000원 돈이 있으면 택시를 타고 돈이 없으면 걸어 간다 를 만족하는 조건문을 작성\n",
        "\n",
        "money = int(input(\"가진 돈을 입력하세요\"))\n",
        "\n",
        "if money >= 10000:\n",
        "  print(\"택시 타자\")\n",
        "else:\n",
        "    print(\"걸어가\")"
      ],
      "metadata": {
        "colab": {
          "base_uri": "https://localhost:8080/"
        },
        "id": "iHgHqnVUaLIy",
        "outputId": "e35df9bc-2e37-42b8-83b9-4eda6cb9001a"
      },
      "execution_count": 12,
      "outputs": [
        {
          "output_type": "stream",
          "name": "stdout",
          "text": [
            "가진 돈을 입력하세요8000\n",
            "걸어가\n"
          ]
        }
      ]
    },
    {
      "cell_type": "code",
      "source": [
        "# Q 조건부 표현식을 한줄의 조건문으로 작성하세요\n",
        "\n",
        "score = 70\n",
        "if score >=60:\n",
        "  message = \"success\"\n",
        "else:\n",
        "  message = \"failure\"\n",
        "\n",
        "print(message)"
      ],
      "metadata": {
        "colab": {
          "base_uri": "https://localhost:8080/"
        },
        "id": "_4GLxrTPe_Nn",
        "outputId": "a8049d5e-4bdd-4019-cffa-5ac43b23fabc"
      },
      "execution_count": 13,
      "outputs": [
        {
          "output_type": "stream",
          "name": "stdout",
          "text": [
            "success\n"
          ]
        }
      ]
    },
    {
      "cell_type": "code",
      "source": [
        "score = 70\n",
        "[\"sucesss\" if score >= 60 else \"failure\"]"
      ],
      "metadata": {
        "colab": {
          "base_uri": "https://localhost:8080/"
        },
        "id": "0SoNvymafcnZ",
        "outputId": "9f67876c-ae45-48b5-ba66-e2c013c869c9"
      },
      "execution_count": 14,
      "outputs": [
        {
          "output_type": "execute_result",
          "data": {
            "text/plain": [
              "['sucesss']"
            ]
          },
          "metadata": {},
          "execution_count": 14
        }
      ]
    },
    {
      "cell_type": "code",
      "source": [
        "# Q 수입(income)과 지출(spend)을 비교해서 수입이 많으면 저축 증가, 반대이면 빚이 증가\n",
        "\n",
        "income = int(input(\"수입을 입력하세요 \"))\n",
        "spend = int(input(\"지출을 입력하세요 \"))\n",
        "\n",
        "if income > spend:\n",
        "  print(\"저축 증가\")\n",
        "elif income == spend:\n",
        "  print(\"현상 유지\")\n",
        "else:\n",
        "  print(\"빚 증가\")\n",
        "\n",
        "\n"
      ],
      "metadata": {
        "colab": {
          "base_uri": "https://localhost:8080/"
        },
        "id": "-fwNOhTmgWgI",
        "outputId": "72e4ea82-a9fe-4139-93d8-a3cafdbe0d83"
      },
      "execution_count": 21,
      "outputs": [
        {
          "output_type": "stream",
          "name": "stdout",
          "text": [
            "수입을 입력하세요 7000\n",
            "지출을 입력하세요 7000\n",
            "현상 유지\n"
          ]
        }
      ]
    },
    {
      "cell_type": "markdown",
      "source": [
        "#### 반복문 (Loop Statements):\n",
        "- for: 시퀀스(리스트, 튜플, 문자열 등)의 아이템을 순회하면서 코드 블록을 실행\n",
        "- while: 특정 조건이 참인 동안 코드 블록을 반복하여 실행"
      ],
      "metadata": {
        "id": "qAwfC-S9haDf"
      }
    },
    {
      "cell_type": "code",
      "source": [
        "# for 루프는 시퀀스(리스트. 튜플, 문자열 등)나 반복 가능한 객체(iterable)의 요소를 순환\n",
        "\n",
        "for i in range(5):\n",
        "# print(i)\n",
        "  print(i, end = ' ')\n",
        "print('\\n')\n",
        "count = 0\n",
        "while count < 5:\n",
        "  print(count, end = ' ')\n",
        "  count += 1"
      ],
      "metadata": {
        "colab": {
          "base_uri": "https://localhost:8080/"
        },
        "id": "uv-BWTbFhcEs",
        "outputId": "f0b3785f-5003-4345-ff9e-1a4ceb2e6cd1"
      },
      "execution_count": 25,
      "outputs": [
        {
          "output_type": "stream",
          "name": "stdout",
          "text": [
            "0 1 2 3 4 \n",
            "\n",
            "0 1 2 3 4 "
          ]
        }
      ]
    },
    {
      "cell_type": "code",
      "source": [
        "# 리스트를 순회하는 예\n",
        "for i in [1, 2, 3, 4, 5]:\n",
        "  print(i, end = ' ')\n",
        "print('\\n')\n",
        "# 문자열을 순회하는 예\n",
        "for char in \"hello\":\n",
        "  print(char, end = ' ')"
      ],
      "metadata": {
        "colab": {
          "base_uri": "https://localhost:8080/"
        },
        "id": "cALLcijPlChP",
        "outputId": "3c9a1072-6574-4ab0-ae0d-d4904d4dca38"
      },
      "execution_count": 26,
      "outputs": [
        {
          "output_type": "stream",
          "name": "stdout",
          "text": [
            "1 2 3 4 5 \n",
            "\n",
            "h e l l o "
          ]
        }
      ]
    },
    {
      "cell_type": "code",
      "source": [
        "# while 루프는 주어진 조건이 참(True)인 동안 코드 블록을 반복\n",
        "# 조건이 거짓(False)이 되면 루프가 종료\n",
        "\n",
        "count = 0\n",
        "sum = 0\n",
        "while count < 5:\n",
        "  sum += count\n",
        "  print(sum, end = ' ')\n",
        "  count += 1\n",
        ""
      ],
      "metadata": {
        "colab": {
          "base_uri": "https://localhost:8080/"
        },
        "id": "tokNKvGIloKE",
        "outputId": "1d72f864-9714-4748-b9c1-fa5ef7d2db9f"
      },
      "execution_count": 27,
      "outputs": [
        {
          "output_type": "stream",
          "name": "stdout",
          "text": [
            "0 1 3 6 10 "
          ]
        }
      ]
    },
    {
      "cell_type": "code",
      "source": [
        "# Q d에서 반복문을 사용해서 97, 98, 99을 출력하세요\n",
        "d = {'a': 97, 'b': 98, 'c': 99}\n",
        "for key in d:\n",
        "  print(d[key], end= ' ')"
      ],
      "metadata": {
        "colab": {
          "base_uri": "https://localhost:8080/"
        },
        "id": "9dP4wogem_xe",
        "outputId": "50a45224-a266-4312-8eac-bc1c3440b425"
      },
      "execution_count": 31,
      "outputs": [
        {
          "output_type": "stream",
          "name": "stdout",
          "text": [
            "97 98 99 "
          ]
        }
      ]
    }
  ]
}