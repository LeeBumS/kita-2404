{
  "nbformat": 4,
  "nbformat_minor": 0,
  "metadata": {
    "colab": {
      "provenance": []
    },
    "kernelspec": {
      "name": "python3",
      "display_name": "Python 3"
    },
    "language_info": {
      "name": "python"
    }
  },
  "cells": [
    {
      "cell_type": "markdown",
      "source": [
        "제어문(control statement)은 프로그램의 흐름을 제어하는데 사용\n",
        "\n",
        "#### 조건문 (Conditional Statements):\n",
        "- if: 특정 조건이 참(True)일 때 코드 블록을 실행\n",
        "    - 조건은 비교 연산자(==, !=, <, >, <=, >=)와 논리 연산자(and, or, not)를 사용하여 표현할 수 있다\n",
        "- elif: 이전의 if 또는 elif 조건이 거짓(False)일 때 다른 조건을 검사\n",
        "    - elif는 'else if'의 축약형으로, 이전 if 또는 elif 문의 조건이 거짓(False)일 때 다른 조건을 검사\n",
        "    - 여러 elif 문을 사용하여 다양한 조건을 검사할 수 있다\n",
        "- else:\n",
        "    - 이전의 if 또는 elif 문의 조건이 모두 거짓일 때 실행할 코드 블록을 지정"
      ],
      "metadata": {
        "id": "cXbF65fn8w5b"
      }
    },
    {
      "cell_type": "code",
      "execution_count": null,
      "metadata": {
        "id": "7aTf6VJZ8tfw",
        "colab": {
          "base_uri": "https://localhost:8080/"
        },
        "outputId": "f98fde2a-8bb3-4ce4-bafa-8273e37dc181"
      },
      "outputs": [
        {
          "output_type": "stream",
          "name": "stdout",
          "text": [
            "x는 5보다 큽니다.\n"
          ]
        }
      ],
      "source": [
        "x = 10\n",
        "if x > 5:\n",
        "  print(\"x는 5보다 큽니다.\")\n",
        "elif x == 5:\n",
        "  print(\"x는 5입니다\")\n",
        "else:\n",
        "  print(\"x는 5보다 작습니다\")"
      ]
    },
    {
      "cell_type": "code",
      "source": [
        "x = 10\n",
        "if x >= 5:\n",
        "  print(\"x는 5보다 크거나 같습니다.\")\n",
        "else:\n",
        "  print(\"x는 5보다 작습니다\")"
      ],
      "metadata": {
        "colab": {
          "base_uri": "https://localhost:8080/"
        },
        "id": "KHSc0_cKRuLi",
        "outputId": "92d3fcef-4445-4dd9-a7f0-6ad00c982b7e"
      },
      "execution_count": null,
      "outputs": [
        {
          "output_type": "stream",
          "name": "stdout",
          "text": [
            "x는 5보다 크거나 같습니다.\n"
          ]
        }
      ]
    },
    {
      "cell_type": "code",
      "source": [
        "# 각 조건이 서로 독립적일떄 if문을 연속해서 사용\n",
        "x = 10\n",
        "y = 5\n",
        "\n",
        "if x > 5:\n",
        "  print(\"x는 5보다 큽니다\")\n",
        "if y < 10:\n",
        "  print(\"y는 10보다 작습니다\")\n",
        "if x > y:\n",
        "  print(\"x는 y보다 큽니다\")\n"
      ],
      "metadata": {
        "colab": {
          "base_uri": "https://localhost:8080/"
        },
        "id": "gCtlocStSYP9",
        "outputId": "43eb08c5-6827-4a26-ddc9-69f303d4ecf4"
      },
      "execution_count": null,
      "outputs": [
        {
          "output_type": "stream",
          "name": "stdout",
          "text": [
            "x는 5보다 큽니다\n",
            "y는 10보다 작습니다\n",
            "x는 y보다 큽니다\n"
          ]
        }
      ]
    },
    {
      "cell_type": "code",
      "source": [
        "x = 10\n",
        "y = 5\n",
        "if x > 5:\n",
        "  if y >=3:\n",
        "    print('x는 5보다 크고 y는 3보다 크거나 같습니다.')\n",
        "  else:\n",
        "    print('x는 5보다 크고 y는 3보다 작습니다.')\n",
        "else:\n",
        "  print(\"x는 5보다 작거나 같습니다\")"
      ],
      "metadata": {
        "colab": {
          "base_uri": "https://localhost:8080/"
        },
        "id": "08sTCtIcT1_3",
        "outputId": "5c05d3a4-2000-4566-fdba-b5bd9cf1cc9a"
      },
      "execution_count": null,
      "outputs": [
        {
          "output_type": "stream",
          "name": "stdout",
          "text": [
            "x는 5보다 크고 y는 3보다 크거나 같습니다.\n"
          ]
        }
      ]
    },
    {
      "cell_type": "code",
      "source": [
        "# Q 이중 조건문을 사용하여 코드를 작성하세요 (조건 내용은 자유. 단, if문, if ~elif ~else 중첩하여 사용)\n",
        "\n",
        "text = int(input(\"숫자를 입력하세요\"))\n",
        "\n",
        "if text < 70:\n",
        "  print(\"점수가 70점 미만입니다. 채점을 진행하지 않습니다\")\n",
        "\n",
        "else:\n",
        "  if text >= 95:\n",
        "    print(\"A+\")\n",
        "  elif text >= 90:\n",
        "    print(\"A\")\n",
        "  elif text >= 85:\n",
        "    print(\"B+\")\n",
        "  elif text >= 80:\n",
        "    print(\"B\")\n",
        "  else:\n",
        "    print(\"C\")"
      ],
      "metadata": {
        "colab": {
          "base_uri": "https://localhost:8080/"
        },
        "id": "T4S60l_EUh1I",
        "outputId": "e7b2b578-14e0-4d41-9aab-3bc499a1c498"
      },
      "execution_count": null,
      "outputs": [
        {
          "output_type": "stream",
          "name": "stdout",
          "text": [
            "숫자를 입력하세요85\n",
            "B+\n"
          ]
        }
      ]
    },
    {
      "cell_type": "code",
      "source": [
        "listdata = ['a', 'b', 'c']\n",
        "\n",
        "if 'a' in listdata:\n",
        "  print('a가 listdata에 있습니다')\n",
        "if 'b' in listdata:\n",
        "  print('b가 listdata에 있습니다')\n",
        "if 'c' in listdata:\n",
        "  print('c가 listdata에 있습니다')\n",
        "\n",
        "for i in listdata:\n",
        "  if i in listdata:\n",
        "    print(f'{i}가 listdata에 있습니다')\n"
      ],
      "metadata": {
        "colab": {
          "base_uri": "https://localhost:8080/"
        },
        "id": "hsXnNgwDYmW5",
        "outputId": "dd02f05c-7fae-4814-d543-1551a6f527c3"
      },
      "execution_count": null,
      "outputs": [
        {
          "output_type": "stream",
          "name": "stdout",
          "text": [
            "a가 listdata에 있습니다\n",
            "b가 listdata에 있습니다\n",
            "c가 listdata에 있습니다\n",
            "a가 listdata에 있습니다\n",
            "b가 listdata에 있습니다\n",
            "c가 listdata에 있습니다\n"
          ]
        }
      ]
    },
    {
      "cell_type": "code",
      "source": [
        "# Q '10000원 돈이 있으면 택시를 타고 돈이 없으면 걸어 간다 를 만족하는 조건문을 작성\n",
        "\n",
        "money = int(input(\"가진 돈을 입력하세요\"))\n",
        "\n",
        "if money >= 10000:\n",
        "  print(\"택시 타자\")\n",
        "else:\n",
        "    print(\"걸어가\")"
      ],
      "metadata": {
        "colab": {
          "base_uri": "https://localhost:8080/"
        },
        "id": "iHgHqnVUaLIy",
        "outputId": "e35df9bc-2e37-42b8-83b9-4eda6cb9001a"
      },
      "execution_count": null,
      "outputs": [
        {
          "output_type": "stream",
          "name": "stdout",
          "text": [
            "가진 돈을 입력하세요8000\n",
            "걸어가\n"
          ]
        }
      ]
    },
    {
      "cell_type": "code",
      "source": [
        "# Q 조건부 표현식을 한줄의 조건문으로 작성하세요\n",
        "\n",
        "score = 70\n",
        "if score >=60:\n",
        "  message = \"success\"\n",
        "else:\n",
        "  message = \"failure\"\n",
        "\n",
        "print(message)"
      ],
      "metadata": {
        "colab": {
          "base_uri": "https://localhost:8080/"
        },
        "id": "_4GLxrTPe_Nn",
        "outputId": "a8049d5e-4bdd-4019-cffa-5ac43b23fabc"
      },
      "execution_count": null,
      "outputs": [
        {
          "output_type": "stream",
          "name": "stdout",
          "text": [
            "success\n"
          ]
        }
      ]
    },
    {
      "cell_type": "code",
      "source": [
        "score = 70\n",
        "[\"sucesss\" if score >= 60 else \"failure\"]"
      ],
      "metadata": {
        "colab": {
          "base_uri": "https://localhost:8080/"
        },
        "id": "0SoNvymafcnZ",
        "outputId": "9f67876c-ae45-48b5-ba66-e2c013c869c9"
      },
      "execution_count": null,
      "outputs": [
        {
          "output_type": "execute_result",
          "data": {
            "text/plain": [
              "['sucesss']"
            ]
          },
          "metadata": {},
          "execution_count": 14
        }
      ]
    },
    {
      "cell_type": "code",
      "source": [
        "# Q 수입(income)과 지출(spend)을 비교해서 수입이 많으면 저축 증가, 반대이면 빚이 증가\n",
        "\n",
        "income = int(input(\"수입을 입력하세요 \"))\n",
        "spend = int(input(\"지출을 입력하세요 \"))\n",
        "\n",
        "if income > spend:\n",
        "  print(\"저축 증가\")\n",
        "elif income == spend:\n",
        "  print(\"현상 유지\")\n",
        "else:\n",
        "  print(\"빚 증가\")\n",
        "\n",
        "\n"
      ],
      "metadata": {
        "colab": {
          "base_uri": "https://localhost:8080/"
        },
        "id": "-fwNOhTmgWgI",
        "outputId": "72e4ea82-a9fe-4139-93d8-a3cafdbe0d83"
      },
      "execution_count": null,
      "outputs": [
        {
          "output_type": "stream",
          "name": "stdout",
          "text": [
            "수입을 입력하세요 7000\n",
            "지출을 입력하세요 7000\n",
            "현상 유지\n"
          ]
        }
      ]
    },
    {
      "cell_type": "markdown",
      "source": [
        "#### 반복문 (Loop Statements):\n",
        "- for: 시퀀스(리스트, 튜플, 문자열 등)의 아이템을 순회하면서 코드 블록을 실행\n",
        "- while: 특정 조건이 참인 동안 코드 블록을 반복하여 실행"
      ],
      "metadata": {
        "id": "qAwfC-S9haDf"
      }
    },
    {
      "cell_type": "code",
      "source": [
        "# for 루프는 시퀀스(리스트. 튜플, 문자열 등)나 반복 가능한 객체(iterable)의 요소를 순환\n",
        "\n",
        "for i in range(5):\n",
        "# print(i)\n",
        "  print(i, end = ' ')\n",
        "print('\\n')\n",
        "count = 0\n",
        "while count < 5:\n",
        "  print(count, end = ' ')\n",
        "  count += 1"
      ],
      "metadata": {
        "colab": {
          "base_uri": "https://localhost:8080/"
        },
        "id": "uv-BWTbFhcEs",
        "outputId": "f0b3785f-5003-4345-ff9e-1a4ceb2e6cd1"
      },
      "execution_count": null,
      "outputs": [
        {
          "output_type": "stream",
          "name": "stdout",
          "text": [
            "0 1 2 3 4 \n",
            "\n",
            "0 1 2 3 4 "
          ]
        }
      ]
    },
    {
      "cell_type": "code",
      "source": [
        "# 리스트를 순회하는 예\n",
        "for i in [1, 2, 3, 4, 5]:\n",
        "  print(i, end = ' ')\n",
        "print('\\n')\n",
        "# 문자열을 순회하는 예\n",
        "for char in \"hello\":\n",
        "  print(char, end = ' ')"
      ],
      "metadata": {
        "colab": {
          "base_uri": "https://localhost:8080/"
        },
        "id": "cALLcijPlChP",
        "outputId": "3c9a1072-6574-4ab0-ae0d-d4904d4dca38"
      },
      "execution_count": null,
      "outputs": [
        {
          "output_type": "stream",
          "name": "stdout",
          "text": [
            "1 2 3 4 5 \n",
            "\n",
            "h e l l o "
          ]
        }
      ]
    },
    {
      "cell_type": "code",
      "source": [
        "# while 루프는 주어진 조건이 참(True)인 동안 코드 블록을 반복\n",
        "# 조건이 거짓(False)이 되면 루프가 종료\n",
        "\n",
        "count = 0\n",
        "sum = 0\n",
        "while count < 5:\n",
        "  sum += count\n",
        "  print(sum, end = ' ')\n",
        "  count += 1\n"
      ],
      "metadata": {
        "colab": {
          "base_uri": "https://localhost:8080/"
        },
        "id": "tokNKvGIloKE",
        "outputId": "1d72f864-9714-4748-b9c1-fa5ef7d2db9f"
      },
      "execution_count": null,
      "outputs": [
        {
          "output_type": "stream",
          "name": "stdout",
          "text": [
            "0 1 3 6 10 "
          ]
        }
      ]
    },
    {
      "cell_type": "code",
      "source": [
        "# Q d에서 반복문을 사용해서 97, 98, 99을 출력하세요\n",
        "d = {'a': 97, 'b': 98, 'c': 99}\n",
        "for key in d:\n",
        "  print(d[key], end= ' ')\n",
        "  print(type(d[key]))"
      ],
      "metadata": {
        "colab": {
          "base_uri": "https://localhost:8080/"
        },
        "id": "9dP4wogem_xe",
        "outputId": "8c9d37ae-7c6b-4c1e-f04b-aa4a9f989cd7"
      },
      "execution_count": 1,
      "outputs": [
        {
          "output_type": "stream",
          "name": "stdout",
          "text": [
            "97 <class 'int'>\n",
            "98 <class 'int'>\n",
            "99 <class 'int'>\n"
          ]
        }
      ]
    },
    {
      "cell_type": "markdown",
      "source": [
        "dict_values 클래스의 이해:\n",
        "- 클래스 정의: 파이썬에서 클래스는 객체를 생성하는 데 사용되는 템플릿. dict_values는 딕셔너리의 값을 보여주는 뷰 객체를 생성하는 특별한 내장 클래스.\n",
        "- 뷰 객체: dict_values 객체는 딕셔너리의 값에 대한 동적인 뷰를 제공. \"뷰(view)\"란 원본 딕셔너리 객체의 값이 변하면 그 변화가 dict_values 객체에도 반영되는, 원본 데이터의 실시간 반영본을 의미. 이는 딕셔너리의 값들이 수정, 추가, 삭제될 때 dict_values 객체가 자동으로 업데이트된다는 의미.\n",
        "- 객체 인스턴스: dict_values 객체는 dict_values 클래스의 인스턴스. 이 클래스는 파이썬의 다른 모든 클래스처럼 특정 데이터 구조와 메서드를 가진다. 예를 들어, dict_values 객체는 순회 가능하며 (iterable), 딕셔너리의 모든 값을 순차적으로 접근할 수 있는 메서드를 제공."
      ],
      "metadata": {
        "id": "GLIJaJ_jxwPm"
      }
    },
    {
      "cell_type": "code",
      "source": [
        "d['b'] = 100\n",
        "print(d)\n",
        "print(d.values())"
      ],
      "metadata": {
        "colab": {
          "base_uri": "https://localhost:8080/"
        },
        "id": "UlH-sWWTylyN",
        "outputId": "c95d6cc5-cef9-4517-e52b-adbb78b79f5c"
      },
      "execution_count": 3,
      "outputs": [
        {
          "output_type": "stream",
          "name": "stdout",
          "text": [
            "{'a': 97, 'b': 100, 'c': 99}\n",
            "dict_values([97, 100, 99])\n"
          ]
        }
      ]
    },
    {
      "cell_type": "markdown",
      "source": [
        "#### 제어문 관련 키워드:\n",
        "- break: 현재의 반복문을 중단하고, 반복문 바깥의 코드를 실행\n",
        "- continue: 반복문의 나머지 부분을 건너뛰고, 다음 반복을 시작"
      ],
      "metadata": {
        "id": "q1pX-VXwy-3y"
      }
    },
    {
      "cell_type": "code",
      "source": [
        "for i in range(5):\n",
        "  if i == 3:\n",
        "      break\n",
        "  print(i,end = ' ')\n",
        "print('\\n')\n",
        "\n",
        "for i in range(5):\n",
        "  if i == 3:\n",
        "    continue\n",
        "  print(i, end = ' ')"
      ],
      "metadata": {
        "colab": {
          "base_uri": "https://localhost:8080/"
        },
        "id": "hEy7HX9Qy-c6",
        "outputId": "b2660a60-80ac-4474-d604-6d3f8cefde74"
      },
      "execution_count": 5,
      "outputs": [
        {
          "output_type": "stream",
          "name": "stdout",
          "text": [
            "0 1 2 \n",
            "\n",
            "0 1 2 4 "
          ]
        }
      ]
    },
    {
      "cell_type": "code",
      "source": [
        "# for 또는 while 루프에 else 절을 사용하면, 루프가 정상적으로 완료된 후 실행할 코드를 지정\n",
        "\n",
        "for i in range(5):\n",
        "  print(i, end = ' ')\n",
        "else:\n",
        "  print(\"루프가 완료되었습니다\", '\\n')\n",
        "\n",
        "count = 0\n",
        "while count < 5:\n",
        "  print(count, end = ' ')\n",
        "  count += 1\n",
        "else:\n",
        "  print(\"루프가 완료되었습니다\")"
      ],
      "metadata": {
        "colab": {
          "base_uri": "https://localhost:8080/"
        },
        "id": "3i0FfOC21cIH",
        "outputId": "f0ec4a5d-51b7-4fe1-ebcc-ecfbb17d0af5"
      },
      "execution_count": 7,
      "outputs": [
        {
          "output_type": "stream",
          "name": "stdout",
          "text": [
            "0 1 2 3 4 루프가 완료되었습니다 \n",
            "\n",
            "0 1 2 3 4 루프가 완료되었습니다\n"
          ]
        }
      ]
    },
    {
      "cell_type": "code",
      "source": [
        "# break 문을 사용하여 루프를 중단하면 else 절은 실행되지 않음\n",
        "for i in range(5):\n",
        "  if i == 3:\n",
        "    print(f'{i}에서 루프를 중단한다')\n",
        "    break\n",
        "else:\n",
        "  print(\"루프가 완료되었습니다\", '\\n')"
      ],
      "metadata": {
        "colab": {
          "base_uri": "https://localhost:8080/"
        },
        "id": "QYPHImpA3NXH",
        "outputId": "ff877365-0c32-4a57-9282-7cec0c3bbca0"
      },
      "execution_count": 10,
      "outputs": [
        {
          "output_type": "stream",
          "name": "stdout",
          "text": [
            "3에서 루프를 중단한다\n"
          ]
        }
      ]
    },
    {
      "cell_type": "markdown",
      "source": [
        "## 조건과 반복을 결합"
      ],
      "metadata": {
        "id": "vOP7hq6j4Ix0"
      }
    },
    {
      "cell_type": "code",
      "source": [
        "# 10 미만의 홀수만 출력\n",
        "\n",
        "for i in range(10):\n",
        "  if i % 2 == 1:\n",
        "    print(i, end = ' ')"
      ],
      "metadata": {
        "colab": {
          "base_uri": "https://localhost:8080/"
        },
        "id": "fyzFyyvU4IhL",
        "outputId": "9719609c-7455-4077-fcb1-fb93296e559a"
      },
      "execution_count": 11,
      "outputs": [
        {
          "output_type": "stream",
          "name": "stdout",
          "text": [
            "1 3 5 7 9 "
          ]
        }
      ]
    },
    {
      "cell_type": "code",
      "source": [
        "# 1 ~ 10 범위의 정수에서 1부터 5까지만 출략\n",
        "\n",
        "for i in range(1, 11):\n",
        "  if i > 5 :\n",
        "    break\n",
        "  print(i, end = ' ')\n",
        "\n",
        ""
      ],
      "metadata": {
        "colab": {
          "base_uri": "https://localhost:8080/"
        },
        "id": "-uXj-usx4HS9",
        "outputId": "952db58f-742b-4ff8-a11d-99c211620c67"
      },
      "execution_count": 18,
      "outputs": [
        {
          "output_type": "stream",
          "name": "stdout",
          "text": [
            "1 2 3 4 5 "
          ]
        }
      ]
    },
    {
      "cell_type": "code",
      "source": [
        "# numbers 리스트에서 15, 20, 25 를 출력 (for문 과 if 조건 사용)\n",
        "numbers = [5, 15, 6, 20, 7, 25]\n",
        "\n",
        "for i in numbers:\n",
        "  if i % 5 == 0 and i > 5:\n",
        "    print(i, end = ' ')"
      ],
      "metadata": {
        "colab": {
          "base_uri": "https://localhost:8080/"
        },
        "id": "hRJgXfoH5lmH",
        "outputId": "f5d802a7-8780-46b7-cbe1-428bd0178c68"
      },
      "execution_count": 19,
      "outputs": [
        {
          "output_type": "stream",
          "name": "stdout",
          "text": [
            "15 20 25 "
          ]
        }
      ]
    },
    {
      "cell_type": "code",
      "source": [
        "# 특정 조건을 만족할 떄까지 반복\n",
        "\n",
        "count = 0\n",
        "while 1: # 무한반복\n",
        "  count += 1\n",
        "  if count > 5:\n",
        "    break # count가 5보다 클 떄 루프 종료\n",
        "  print(count)\n",
        "print('루프가 종료')"
      ],
      "metadata": {
        "colab": {
          "base_uri": "https://localhost:8080/"
        },
        "id": "RK9aUjOt-Xrx",
        "outputId": "f6835941-7760-4edb-9904-478ad09aa098"
      },
      "execution_count": 21,
      "outputs": [
        {
          "output_type": "stream",
          "name": "stdout",
          "text": [
            "1\n",
            "2\n",
            "3\n",
            "4\n",
            "5\n",
            "루프가 종료\n"
          ]
        }
      ]
    },
    {
      "cell_type": "code",
      "source": [
        "# Q 리스트에서 특정값 찾기\n",
        "numbers = [1, 2, 3, 4, 5]\n",
        "target = 6\n",
        "\n",
        "for num in numbers:\n",
        "  if num == target:\n",
        "    print(f'{target}을(를) 찾았습니다')\n",
        "    break\n",
        "else:\n",
        "  print(f'{target}을(를) 못찾았습니다')"
      ],
      "metadata": {
        "colab": {
          "base_uri": "https://localhost:8080/"
        },
        "id": "Oh_Sd8E2_1Zz",
        "outputId": "a3fb7454-cf4f-4ebb-9549-0cf7e20d390b"
      },
      "execution_count": 27,
      "outputs": [
        {
          "output_type": "stream",
          "name": "stdout",
          "text": [
            "6을(를) 못찾았습니다\n"
          ]
        }
      ]
    },
    {
      "cell_type": "code",
      "source": [
        "# Q 1 ~ 20 사이에 정수에서 10보다 작은 홀수만 출력\n",
        "\n",
        "for i in range(1, 21):\n",
        "  if i < 10:\n",
        "    if i % 2 != 0:\n",
        "      print(i, end = ' ')\n",
        "  else:\n",
        "    break"
      ],
      "metadata": {
        "colab": {
          "base_uri": "https://localhost:8080/"
        },
        "id": "ccWA448GDmGg",
        "outputId": "353bf5bd-95a5-45fa-d059-e9035a220e38"
      },
      "execution_count": 29,
      "outputs": [
        {
          "output_type": "stream",
          "name": "stdout",
          "text": [
            "1 3 5 7 9 "
          ]
        }
      ]
    },
    {
      "cell_type": "code",
      "source": [
        "# While ~ continue ~ break\n",
        "# 20 보다 작은 정수에서 1 3 5 7 9 만을 출력\n",
        "a = 0\n",
        "while a < 20:\n",
        "    a += 1\n",
        "    if a % 2 == 0:\n",
        "      continue\n",
        "    if a >= 10:\n",
        "      break\n",
        "    print(a, end = ' ')"
      ],
      "metadata": {
        "colab": {
          "base_uri": "https://localhost:8080/"
        },
        "id": "zI7ytBGwEkmg",
        "outputId": "dfb51897-add8-4ee5-eab4-52212c1fe0e3"
      },
      "execution_count": 34,
      "outputs": [
        {
          "output_type": "stream",
          "name": "stdout",
          "text": [
            "1 3 5 7 9 "
          ]
        }
      ]
    },
    {
      "cell_type": "code",
      "source": [
        "# Q 정수 1부터 n까지 더할 떄 그 힘이 1000보다 커지개 되는 n과 합을 구하세여 ( while ~ break )\n",
        "\n",
        "x = 1\n",
        "sum = 0\n",
        "\n",
        "while 1:\n",
        "  sum = sum + x\n",
        "  if sum > 1000:\n",
        "    print(x)\n",
        "    print(sum)\n",
        "    break\n",
        "  x = x + 1"
      ],
      "metadata": {
        "colab": {
          "base_uri": "https://localhost:8080/"
        },
        "id": "IhZ9j1YHF8nc",
        "outputId": "7b5f1d08-10fc-4046-d09c-bcc9598b5412"
      },
      "execution_count": 41,
      "outputs": [
        {
          "output_type": "stream",
          "name": "stdout",
          "text": [
            "45\n",
            "1035\n"
          ]
        }
      ]
    },
    {
      "cell_type": "code",
      "source": [
        "x = 0\n",
        "sum = 0\n",
        "while sum < 1000:\n",
        "  x += 1\n",
        "  sum += x\n",
        "print(x)\n",
        "print(sum)"
      ],
      "metadata": {
        "colab": {
          "base_uri": "https://localhost:8080/"
        },
        "id": "c9JLtPWqbx8O",
        "outputId": "f5a6ede1-5b8a-4c85-834c-8e2ed8395c03"
      },
      "execution_count": 42,
      "outputs": [
        {
          "output_type": "stream",
          "name": "stdout",
          "text": [
            "45\n",
            "1035\n"
          ]
        }
      ]
    },
    {
      "cell_type": "code",
      "source": [
        "# Q while문을 사용해 1부터 1000까지의 정수 중 3의 배수의 합을 구해 보세요\n",
        "\n",
        "count = 1\n",
        "multiple_sum = 0\n",
        "\n",
        "while count <= 1000:\n",
        "  if count % 3 ==0:\n",
        "    multiple_sum += count\n",
        "  count += 1\n",
        "\n",
        "print(multiple_sum)"
      ],
      "metadata": {
        "colab": {
          "base_uri": "https://localhost:8080/"
        },
        "id": "6mIW0jIEF8hH",
        "outputId": "bf9e0fc5-ce2d-4481-f817-57c179721dcf"
      },
      "execution_count": 45,
      "outputs": [
        {
          "output_type": "stream",
          "name": "stdout",
          "text": [
            "166833\n"
          ]
        }
      ]
    },
    {
      "cell_type": "code",
      "source": [
        "# Q 정수를 입력받아 홀수 짝수를 판별하는 프로그램 작성\n",
        "\n",
        "num = int(input(\"숫자를 입력 \"))\n",
        "\n",
        "if num % 2 == 0:\n",
        "  print(\"짝수\")\n",
        "else:\n",
        "  print(\"홀수\")"
      ],
      "metadata": {
        "colab": {
          "base_uri": "https://localhost:8080/"
        },
        "id": "1GVvD6qrF8UK",
        "outputId": "4e95e2eb-e384-420b-f4f6-6f0aee8d10cd"
      },
      "execution_count": 38,
      "outputs": [
        {
          "output_type": "stream",
          "name": "stdout",
          "text": [
            "숫자를 입력 987654321\n",
            "홀수\n"
          ]
        }
      ]
    },
    {
      "cell_type": "code",
      "source": [
        "while True:\n",
        "  try:\n",
        "    number = int(input(\"정수를 입력하세요\"))\n",
        "\n",
        "    if number % 2 == 1:\n",
        "      print(f'{number}는 홀수')\n",
        "    else:\n",
        "      print(f'{number}는 짝수')\n",
        "    break\n",
        "  except ValueError:\n",
        "    print(\"정수를 입력하시오\")"
      ],
      "metadata": {
        "colab": {
          "base_uri": "https://localhost:8080/"
        },
        "id": "GlobNBZmG6dQ",
        "outputId": "21c05a0b-8983-422b-bd90-300cd2ba9c60"
      },
      "execution_count": 50,
      "outputs": [
        {
          "output_type": "stream",
          "name": "stdout",
          "text": [
            "정수를 입력하세요5.2\n",
            "정수를 입력하시오\n",
            "정수를 입력하세요95\n",
            "95는 홀수\n"
          ]
        }
      ]
    },
    {
      "cell_type": "code",
      "source": [
        "# Q 입력받은 문자열의 각 문자를 그 다음 문자로 변경하여 출력하세요 ( ABC -> BCA)\n",
        "\n",
        "next = input(\"입력하세요 \")\n",
        "\n",
        "for i in range(len(next)):\n",
        "  if i == 0:\n",
        "    continue\n",
        "  print(next[i], end = ' ')\n",
        "else:\n",
        "  print(next[0])\n"
      ],
      "metadata": {
        "colab": {
          "base_uri": "https://localhost:8080/"
        },
        "id": "LyEiVtREjQk0",
        "outputId": "825657c4-5912-48da-d838-cedb596db96f"
      },
      "execution_count": 51,
      "outputs": [
        {
          "output_type": "stream",
          "name": "stdout",
          "text": [
            "입력하세요 abc\n",
            "b c a\n"
          ]
        }
      ]
    },
    {
      "cell_type": "markdown",
      "source": [
        "zip() 함수\n",
        "- 여러 개의 이터러블(리스트, 튜플 등)을 인자로 받아, 동일한 인덱스에 있는 요소들을 하나의 튜플로 묶어서 이터레이터를 반환\n",
        "- 데이터를 병렬로 처리할 때 유용"
      ],
      "metadata": {
        "id": "L0c0ZQ0CnNWi"
      }
    },
    {
      "cell_type": "code",
      "source": [
        "list1 = [1, 2, 3, 4]\n",
        "list2 = ['a', 'b', 'c', 'd']\n",
        "zipped  = zip(list1, list2)\n",
        "print(list(zipped))"
      ],
      "metadata": {
        "colab": {
          "base_uri": "https://localhost:8080/"
        },
        "id": "Vw_lSHffnhYi",
        "outputId": "f9966b07-9b28-4ca2-e6c0-8b122a35aeef"
      },
      "execution_count": 52,
      "outputs": [
        {
          "output_type": "stream",
          "name": "stdout",
          "text": [
            "[(1, 'a'), (2, 'b'), (3, 'c'), (4, 'd')]\n"
          ]
        }
      ]
    },
    {
      "cell_type": "code",
      "source": [
        "# Q  두개의 리스트(이름과 성)를 사용하여 각 사람의 전체 이름을 생성하세요.\n",
        "\n",
        "first_name = [\"John\", \"Jane\", \"Corey\", \"Travis\"]\n",
        "last_name = [\"Don\", \"Smith\", \"Turner\", \"Williams\"]\n",
        "\n",
        "full_names = [first + \" \" + last for first, last in zip(first_name, last_name)]\n",
        "print(full_names)"
      ],
      "metadata": {
        "colab": {
          "base_uri": "https://localhost:8080/"
        },
        "id": "2bGV9PC3oBgK",
        "outputId": "9355dfeb-e5f1-4fff-f593-d0892b583e31"
      },
      "execution_count": 55,
      "outputs": [
        {
          "output_type": "stream",
          "name": "stdout",
          "text": [
            "['John Don', 'Jane Smith', 'Corey Turner', 'Travis Williams']\n"
          ]
        }
      ]
    },
    {
      "cell_type": "code",
      "source": [
        "# Q 학생들의 수학과 영어 점수를 각각의 리스트로 받아 평균 점수를 계산하세요.\n",
        "\n",
        "math_scores = [88, 92, 79, 93, 85]\n",
        "english_scores = [90, 91, 85, 88, 86]\n",
        "\n",
        "average_scores = [(math + english) / 2 for math, english in zip(math_scores, english_scores)]\n",
        "print(average_scores)"
      ],
      "metadata": {
        "colab": {
          "base_uri": "https://localhost:8080/"
        },
        "id": "RB_KSaAGofDs",
        "outputId": "1949ef36-f250-474f-b6d9-e42343156b65"
      },
      "execution_count": 58,
      "outputs": [
        {
          "output_type": "stream",
          "name": "stdout",
          "text": [
            "[89.0, 91.5, 82.0, 90.5, 85.5]\n"
          ]
        }
      ]
    },
    {
      "cell_type": "code",
      "source": [
        "# Q 상품 이름과 가격이 각각 다른 리스트에 저장되어 있을 떄, 상품명과 가격을 튜플로 묶어 출력하세요\n",
        "\n",
        "products = [\"apple\", \"banana\", \"cherry\"]\n",
        "prices = [1.2, 0.5, 2.5]\n",
        "\n",
        "for product, price in zip(products, prices):\n",
        "  print(f'Product: {product}, Price ${price}')"
      ],
      "metadata": {
        "colab": {
          "base_uri": "https://localhost:8080/"
        },
        "id": "oiDG9A7Ao46U",
        "outputId": "f5f14d72-558b-401a-d775-8bcfb25070d7"
      },
      "execution_count": 60,
      "outputs": [
        {
          "output_type": "stream",
          "name": "stdout",
          "text": [
            "Product: apple, Price $1.2\n",
            "Product: banana, Price $0.5\n",
            "Product: cherry, Price $2.5\n"
          ]
        }
      ]
    },
    {
      "cell_type": "markdown",
      "source": [
        "#### 파이썬의 random 모듈\n",
        "난수를 생성하기 위한 다양한 함수를 제공\n",
        "- 기본 난수 생성:\n",
        "  - random.random(): 0과 1 사이의 무작위 부동소수점 숫자를 반환.\n",
        "- 범위 지정 난수 생성:\n",
        "  - random.randint(a, b): a와 b 사이의 무작위 정수를 반환(b 포함).\n",
        "  - random.randrange(start, stop[, step]): 지정된 범위에서 무작위 정수를 반환. step을 설정하여 수의 간격을 조정할 수 있다.\n",
        "- 시퀀스용 함수:\n",
        "  - random.choice(sequence): 주어진 시퀀스(리스트, 튜플 등)에서 무작위로 아이템을 선택하여 반환.\n",
        "  - random.shuffle(x[, random]): 리스트의 항목들을 무작위로 섞는다. random은 섞기를 위한 함수를 커스텀할 때 사용.\n",
        "  - random.sample(population, k): 주어진 시퀀스에서 무작위로 k개의 항목을 뽑아 새 리스트로 반환.\n",
        "- 분포 기반 난수 생성:\n",
        "  - random.uniform(a, b): a와 b 사이의 무작위 부동소수점 숫자를 균등 분포로 반환.\n",
        "  - random.gauss(mu, sigma): 평균 mu와 표준편차 sigma를 가지는 정규 분포에서 난수를 반환."
      ],
      "metadata": {
        "id": "jwpPHEztrf8p"
      }
    },
    {
      "cell_type": "code",
      "source": [
        "import random\n",
        "\n",
        "# Q과 1 사이의 난수 생성\n",
        "print(random.random())\n",
        "\n",
        "# 1에서 10 사이의 정수 반환(10 포함)\n",
        "print(random.randint(1, 10))\n",
        "\n",
        "# 리스트에서 무작위로 하나의 원소 선택\n",
        "items = [1, 2, 3, 4, 5]\n",
        "print(random.choice(items))\n",
        "\n",
        "# 리스트의 원소를 무작위로 섞기\n",
        "random.shuffle(items)\n",
        "print(items)\n",
        "\n",
        "# 정규 분포 난수 생성\n",
        "mean = 0\n",
        "std_dev = 1\n",
        "print(random.gauss(mean, std_dev))\n"
      ],
      "metadata": {
        "colab": {
          "base_uri": "https://localhost:8080/"
        },
        "id": "9SlUkj6Crefv",
        "outputId": "b36fe3a8-92e4-4bb0-f13b-eff2da29327b"
      },
      "execution_count": 66,
      "outputs": [
        {
          "output_type": "stream",
          "name": "stdout",
          "text": [
            "0.9345570001000791\n",
            "9\n",
            "5\n",
            "[2, 5, 1, 4, 3]\n",
            "0.1913748579164111\n"
          ]
        }
      ]
    },
    {
      "cell_type": "code",
      "source": [
        "import random\n",
        "male =['정수', '갑돌', '로미오', '이몽룡', '온돌']\n",
        "random.shuffle(male)\n",
        "male"
      ],
      "metadata": {
        "colab": {
          "base_uri": "https://localhost:8080/"
        },
        "id": "TmFAHtVywOEN",
        "outputId": "ff0095e8-2732-4093-cc21-8cf4bf912fb8"
      },
      "execution_count": 65,
      "outputs": [
        {
          "output_type": "execute_result",
          "data": {
            "text/plain": [
              "['갑돌', '온돌', '정수', '로미오', '이몽룡']"
            ]
          },
          "metadata": {},
          "execution_count": 65
        }
      ]
    }
  ]
}