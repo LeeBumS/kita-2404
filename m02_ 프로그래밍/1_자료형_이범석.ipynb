{
  "nbformat": 4,
  "nbformat_minor": 0,
  "metadata": {
    "colab": {
      "provenance": []
    },
    "kernelspec": {
      "name": "python3",
      "display_name": "Python 3"
    },
    "language_info": {
      "name": "python"
    }
  },
  "cells": [
    {
      "cell_type": "markdown",
      "source": [
        "#### 파이썬 이란\n",
        "- 1990년 암스테르담의 귀도 반 로섬(Guido Van Rossum)이 개발한 인터프리터 언어\n",
        "- 컴퓨터 프로그래밍 교육을 위해 많이 사용하지만, 기업의 실무를 위해서도 많이 사용하는 언어. 구글에서 만든 소프트웨어의 50%이상이 파이썬으로 작성\n",
        "\n",
        "#### 파이썬의 특징\n",
        "- 파이썬은 인간다운 언어이다\n",
        "- 파이썬은 문법이 쉬워 빠르게 배울 수 있다\n",
        "- 파이썬은 무료이지만 강력하다\n",
        "- 파이썬은 간결하다\n",
        "- 파이썬은 프로그래밍을 즐기게 해준다\n",
        "- 파이썬은 개발 속도가 빠르다\n",
        "\n",
        "#### 파이썬으로 할 수 있는 일\n",
        "- 웹 개발: Django, Flask 등의 프레임워크를 사용하여 웹 애플리케이션을 개발할 수 있습니다.\n",
        "- 데이터 분석: Pandas, NumPy, SciPy와 같은 라이브러리를 사용하여 데이터를 분석하고 처리할 수 있습니다.\n",
        "- 머신 러닝과 인공지능: TensorFlow, PyTorch, Scikit-learn 등의 라이브러리를 활용하여 머신 러닝 모델을 구축하고 훈련시킬 수 있습니다.\n",
        "- 자동화: 파이썬 스크립트를 작성하여 일상적인 작업을 자동화하고, 시스템 관리 작업을 수행할 수 있습니다.\n",
        "- 게임 개발: Pygame과 같은 라이브러리를 사용하여 간단한 게임을 개발할 수 있습니다.\n",
        "- 모바일 애플리케이션 개발: Kivy 또는 BeeWare와 같은 라이브러리를 사용하여 모바일 애플리케이션을 개발할 수 있습니다.\n",
        "- 데스크탑 애플리케이션 개발: PyQt, Tkinter 등의 라이브러리를 활용하여 데스크탑 애플리케이션을 개발할 수 있습니다.\n",
        "- 시스템 스크립팅과 네트워킹: 시스템 유틸리티를 개발하거나 네트워크 프로토콜을 구현할 수 있습니다.\n",
        "- 임베디드 시스템과 하드웨어 제어: 라즈베리 파이와 같은 임베디드 시스템을 제어하고 하드웨어를 프로그래밍할 수 있습니다.\n",
        "- 사이언티픽 컴퓨팅: 과학적 연산과 시뮬레이션을 위해 파이썬을 활용할 수 있습니다.\n",
        "- 교육: 파이썬은 초보자에게 프로그래밍을 가르치는 데 이상적인 언어로 평가받고 있습니다.\n",
        "- 파이썬의 다양한 라이브러리와 프레임워크 덕분에, 이러한 분야에서의 작업이 더욱 쉽고 효율적으로 수행될 수 있습니다."
      ],
      "metadata": {
        "id": "5lT-cpBF7WxM"
      }
    },
    {
      "cell_type": "code",
      "source": [
        "1 # i 기호는 Colab 셀에서 Unix/Linux 셀 명령어를 실행\n",
        "!python --version\n"
      ],
      "metadata": {
        "colab": {
          "base_uri": "https://localhost:8080/"
        },
        "id": "FBmPAe_LBS0-",
        "outputId": "bd639f89-eb74-47de-8d4a-a6d4a0282978"
      },
      "execution_count": null,
      "outputs": [
        {
          "output_type": "stream",
          "name": "stdout",
          "text": [
            "Python 3.10.12\n"
          ]
        }
      ]
    },
    {
      "cell_type": "code",
      "source": [
        "# % 기호는 !Python 환경(즉, Colab이 포환된 Jupyter 환경)에서 제공하는 매직 명령어를 사용\n",
        "# 라인 매직(%) = 단일 라인에 적용, 셀 전체에 적용되면 셀매직(%%) 사용함\n",
        "# 현재 작업폴더 확인\n",
        "%pwd"
      ],
      "metadata": {
        "colab": {
          "base_uri": "https://localhost:8080/",
          "height": 35
        },
        "id": "_aGLV9BEBe5h",
        "outputId": "03aa911a-70f6-4ff5-d530-00db86513068"
      },
      "execution_count": null,
      "outputs": [
        {
          "output_type": "execute_result",
          "data": {
            "text/plain": [
              "'/content'"
            ],
            "application/vnd.google.colaboratory.intrinsic+json": {
              "type": "string"
            }
          },
          "metadata": {},
          "execution_count": 8
        }
      ]
    },
    {
      "cell_type": "code",
      "source": [
        "# 셀매직사용\n",
        "%%time\n",
        "# 간단한 for 루프를 사용한 계산\n",
        "sum = 0\n",
        "for i in range(1000000):\n",
        "  sum += i\n",
        "print(sum)"
      ],
      "metadata": {
        "colab": {
          "base_uri": "https://localhost:8080/"
        },
        "id": "jfPBDdh6Bvfz",
        "outputId": "945de173-a707-45e9-d71c-9349d7d08858"
      },
      "execution_count": null,
      "outputs": [
        {
          "output_type": "stream",
          "name": "stdout",
          "text": [
            "499999500000\n",
            "CPU times: user 143 ms, sys: 986 µs, total: 144 ms\n",
            "Wall time: 149 ms\n"
          ]
        }
      ]
    },
    {
      "cell_type": "markdown",
      "source": [
        "#### 용어\n",
        "- 식별자 : 프로그램밍 언어에서 이름을 붙일 때 사용하는 단어. 주로 변수 또는 함수 이름 등으로 사용\n",
        "- 주석 : 프로그램을 설명하기 위해 사용. # 기호로 주석 처리\n",
        "- 연산자 : 스스로 값이 되는 것이 아니고 값과 값 사이에 무언가 기능을 적용할 때 사용\n",
        "- 자료 : 리터럴이라고 하는데 숫자이든 문자이든 어떠한 값 자체를 의미. 1, 10, \"Hello\"\n",
        "- 키워드 : 파이썬이 만들어질 때 이미 사용하겠다고 예약해 놓는 것. False, None, True, ...\n",
        "- 프로그램밍 언어에서 사용자가 이름을 정할 때 키워드는 사용할 수 없음\n"
      ],
      "metadata": {
        "id": "52Oq7pgMDdX_"
      }
    },
    {
      "cell_type": "markdown",
      "source": [
        "#### 식별자\n",
        "count, user_name, _is_valid, calculate_area, Car, model, year, math 및 m 모두 유효한 식별자. 각각의 식별자는 특정한 데이터 또는 기능에 이름을 부여하여 코드 내에서 해당 데이터나 기능을 참조할 수 있게하며 코드의 가독성과 유지 보수성을 높이는 데 중요한 역할\n",
        "\n",
        "#### 식별자 기본 규칙\n",
        "\n",
        "* 키워드를 사용하면 안된다\n",
        "* 특수문자는 언더 바(_)만 사용   \n",
        "* 숫자로 시작하면 안된다\n",
        "* 공백을 포함할 수 없다\n",
        "\n",
        "\n",
        "\n",
        "\n",
        "\n",
        "\n"
      ],
      "metadata": {
        "id": "QHcyQfZzEWQ3"
      }
    },
    {
      "cell_type": "code",
      "source": [
        "import keyword\n",
        "print(keyword.kwlist, '\\n')\n",
        "len(keyword.kwlist)"
      ],
      "metadata": {
        "colab": {
          "base_uri": "https://localhost:8080/"
        },
        "id": "Vpj8hAl_ElJJ",
        "outputId": "8153b79e-63d2-4413-9ed0-d02e6ba29cda"
      },
      "execution_count": null,
      "outputs": [
        {
          "output_type": "stream",
          "name": "stdout",
          "text": [
            "['False', 'None', 'True', 'and', 'as', 'assert', 'async', 'await', 'break', 'class', 'continue', 'def', 'del', 'elif', 'else', 'except', 'finally', 'for', 'from', 'global', 'if', 'import', 'in', 'is', 'lambda', 'nonlocal', 'not', 'or', 'pass', 'raise', 'return', 'try', 'while', 'with', 'yield'] \n",
            "\n"
          ]
        },
        {
          "output_type": "execute_result",
          "data": {
            "text/plain": [
              "35"
            ]
          },
          "metadata": {},
          "execution_count": 29
        }
      ]
    },
    {
      "cell_type": "code",
      "source": [
        "alpha\n",
        "break # 키워드\n",
        "alpha10\n",
        "_alpha\n",
        "273alpha # 숫자\n",
        "Alpha\n",
        "ALPHA\n",
        "has space # 공백"
      ],
      "metadata": {
        "id": "2_ExJwvzJxQq"
      },
      "execution_count": null,
      "outputs": []
    },
    {
      "cell_type": "markdown",
      "source": [
        "Q.  주어진 문자열 리스트에서 유효한 Python 변수 이름만을 추출하여 반환하는 함수를 작성하세요"
      ],
      "metadata": {
        "id": "H68f-HEzLKTA"
      }
    },
    {
      "cell_type": "code",
      "source": [
        "identifiers = [\"var1\",\"2things\",\"variable_name\",\"time!\"]\n",
        "\n",
        "search = '2'\n",
        "search1 = '!'\n",
        "\n",
        "for word in identifiers:\n",
        "    if search in word:\n",
        "        print('>> remove: ' + word)\n",
        "        identifiers.remove(word)\n",
        "    elif search1 in word:\n",
        "        print('>> remove: ' + word)\n",
        "        identifiers.remove(word)\n",
        "\n",
        "print(identifiers)"
      ],
      "metadata": {
        "colab": {
          "base_uri": "https://localhost:8080/"
        },
        "id": "bfudi1oELZqB",
        "outputId": "ab016317-690d-4ecd-f464-fc11334ee07d"
      },
      "execution_count": null,
      "outputs": [
        {
          "output_type": "stream",
          "name": "stdout",
          "text": [
            ">> remove: 2things\n",
            ">> remove: time!\n",
            "['var1', 'variable_name']\n"
          ]
        }
      ]
    },
    {
      "cell_type": "code",
      "source": [
        "# 정답\n",
        "def valid_identifiers(identifier):\n",
        "    valid = []\n",
        "    for identifier in identifier:\n",
        "        if identifier.isidentifier():\n",
        "          valid.append(identifier)\n",
        "    return valid\n",
        "\n",
        "\n",
        "  # 예제 실행\n",
        "identifiers = [\"var1\",\"2things\",\"variable_name\",\"time!\"]\n",
        "print(valid_identifiers(identifiers))\n",
        "\n",
        "\n",
        "# isidentifier()는 파이썬 문자열 메소드로 문자열이 유효한 식별자인지 Check.\n",
        "# isidentifier()는 예약어인지는 따로 체크하지 않음.\n",
        "import keyword\n",
        "def valid_identifiers(identifier):\n",
        "    valid = []\n",
        "    for identifier in identifier:\n",
        "        if identifier.isidentifier() and not keyword.iskeyword(identifier):\n",
        "            valid.append(identifier)\n",
        "    return valid\n",
        "\n",
        "identifiers = [\"var1\", \"2things\", \"variable_name\", \"time!\", \"True\"]\n",
        "print(valid_identifiers(identifiers))\n",
        "\n",
        "\n",
        "\n"
      ],
      "metadata": {
        "id": "uH1nyYDP5-Y7"
      },
      "execution_count": null,
      "outputs": []
    },
    {
      "cell_type": "code",
      "source": [
        "# 제거되는 시점에서 인덱스가 변경\n",
        "identifiers = [\"var1\", \"2things\", \"variable_name\", \"time!\", \"True\"]\n",
        "\n",
        "for i in identifiers:\n",
        "    if i[0].isdigit() or not i.isalnum():\n",
        "        identifiers.remove(i)\n",
        "print(identifiers)"
      ],
      "metadata": {
        "colab": {
          "base_uri": "https://localhost:8080/"
        },
        "id": "ww77ndnW6a4o",
        "outputId": "9f0a76e3-3543-4936-a175-5ac6fe6b856f"
      },
      "execution_count": null,
      "outputs": [
        {
          "output_type": "stream",
          "name": "stdout",
          "text": [
            "['var1', 'variable_name', 'True']\n"
          ]
        }
      ]
    },
    {
      "cell_type": "code",
      "source": [
        "# 변수 식별자\n",
        "count = 10\n",
        "user_name = \"Alice\"\n",
        "_is_valid = True\n",
        "\n",
        "# 함수 식별자\n",
        "def calculate_area(radius):\n",
        "    return 3.14159 * radius * radius\n",
        "\n",
        "# 클래스 식별자\n",
        "class Car:\n",
        "  def _init_(self, model, year):\n",
        "    self.model = model\n",
        "    self.year = year\n",
        "\n",
        "# 모듈 식별자 (math = m, 모듈 이름 변경)\n",
        "import math as m\n"
      ],
      "metadata": {
        "id": "VUMcfICoFEPW"
      },
      "execution_count": null,
      "outputs": []
    },
    {
      "cell_type": "markdown",
      "source": [
        "파이썬은 snake_case와 CamelCase를 모두 사용\n",
        "\n",
        "\n",
        "*   itemlist : item_list itemList\n",
        "*   loginstatus : login_status loginStatus\n",
        "*   케멀 케이스(대문자로 시작) 클래스\n",
        "*   스네이크 케이스(소문자로 시작)뒤에 ()가 있다 - 함수\n",
        "*   스네이크 케이스(소문자로 시작)뒤에 ()가 없다 - 변수\n",
        "\n",
        "\n",
        "\n",
        "\n",
        "\n",
        "\n"
      ],
      "metadata": {
        "id": "6uuX1VM-7Nv4"
      }
    },
    {
      "cell_type": "code",
      "source": [
        "# 연산자\n",
        "a = 5\n",
        "b = 3\n",
        "c = b % a\n",
        "d = b // a\n",
        "e = b / a\n",
        "f = a * b\n",
        "print(c)\n",
        "print(d)\n",
        "print(e)\n",
        "print(f)"
      ],
      "metadata": {
        "colab": {
          "base_uri": "https://localhost:8080/"
        },
        "id": "WfBWxIoY8McI",
        "outputId": "8dc1e0a9-d067-4810-c6c8-fed659f12cfc"
      },
      "execution_count": null,
      "outputs": [
        {
          "output_type": "stream",
          "name": "stdout",
          "text": [
            "3\n",
            "0\n",
            "0.6\n",
            "15\n"
          ]
        }
      ]
    },
    {
      "cell_type": "code",
      "source": [
        "a = 7\n",
        "b = 5\n",
        "if a > b:\n",
        "  print(a)"
      ],
      "metadata": {
        "colab": {
          "base_uri": "https://localhost:8080/"
        },
        "id": "KqCb0dObAYCQ",
        "outputId": "68a71ada-3abd-4be2-9c4a-45b2f2832ada"
      },
      "execution_count": null,
      "outputs": [
        {
          "output_type": "stream",
          "name": "stdout",
          "text": [
            "7\n"
          ]
        }
      ]
    },
    {
      "cell_type": "markdown",
      "source": [
        "#### 자료형\n",
        "- 자료형 또는 데이터 타입이란 숫자, 문자 등과 같이 여러 종류의 데이터를 구분하기 위한 분류\n",
        "- 파이썬의 자료형은 크게 숫자(numbers), 시퀀스(sequence), 매핑(mapping) 등으로 나눌 수 있다.\n",
        "- 파이썬의 기본 자료형\n",
        "  - 수치형\n",
        "    - 정수형 : int는 정수(integer)를 나타낸다. 양의 정수와 음의 정수, 숫자 0\n",
        "    - 실수형 : float는 원래 부동소수점수(floating-point number)를 가리키는데, 지금은 단순히 소수점 이하를 표현할 수 있는 수이다.\n",
        "    - 복소수형 : 복소수를 complex로 나타내고 제곱하면 -1이 되는 수 i를 ‘허수(imaginary number)’라고 하는데 허수 i를 j로 표현\n",
        "  - 시퀀스 : 문자열(str), 리스트(list), 튜플(tuple), 사용자 정의 클래스가 시퀀스에 속한다. for 문에서 사용할 수 있는 것들이 바로 시퀀스\n",
        "    - 문자열 : 문자를 한 줄로 표현하며 문자열 인덱스를 이용해 문자열의 일부를 복사\n",
        "    - 리스트 : 대괄호([ ])로 감싸 주고 각 요솟값은 쉼표(,)로 구분\n",
        "    - 튜플 : 튜플은 ( )으로 둘러싸고 각 요솟값은 쉼표(,)로 구분\n",
        "  - 매핑\n",
        "    - 사전 : 딕셔너리(dict)는 키(key)와 값(value)의 짝으로 이뤄지는데 이런 것을 매핑\n",
        "  - 집합 : 집합을 표현하는 세트(set)\n",
        "  - 블린 : 참, 거짓을 표현"
      ],
      "metadata": {
        "id": "aMcYZvTEA57S"
      }
    },
    {
      "cell_type": "code",
      "source": [
        "# 정수형 실수형\n",
        "i1 = 3\n",
        "f1 = 3.5\n",
        "print(i1)\n",
        "print(f1)"
      ],
      "metadata": {
        "colab": {
          "base_uri": "https://localhost:8080/"
        },
        "id": "QauawrsBCjYo",
        "outputId": "2b3f6707-b4ba-4b23-d7d7-9c488ad45a10"
      },
      "execution_count": null,
      "outputs": [
        {
          "output_type": "stream",
          "name": "stdout",
          "text": [
            "3\n",
            "3.5\n"
          ]
        }
      ]
    },
    {
      "cell_type": "code",
      "source": [
        "# 정수(int)\n",
        "print(int(True))\n",
        "print(int(False))\n",
        "print(int('100'))\n",
        "print(int(3.14))"
      ],
      "metadata": {
        "colab": {
          "base_uri": "https://localhost:8080/"
        },
        "id": "Q459p_PGDRK3",
        "outputId": "01615d9a-579f-40c2-ae21-46e75cf9fc19"
      },
      "execution_count": null,
      "outputs": [
        {
          "output_type": "stream",
          "name": "stdout",
          "text": [
            "1\n",
            "0\n",
            "100\n",
            "3\n"
          ]
        }
      ]
    },
    {
      "cell_type": "code",
      "source": [
        "# 실수(float)\n",
        "print(float(True))\n",
        "print(float(False))\n",
        "print(float('100'))\n",
        "print(float(3.14))"
      ],
      "metadata": {
        "colab": {
          "base_uri": "https://localhost:8080/"
        },
        "id": "_86l-56_DyKV",
        "outputId": "6440c183-dc92-4c23-a9c9-91845baa8203"
      },
      "execution_count": null,
      "outputs": [
        {
          "output_type": "stream",
          "name": "stdout",
          "text": [
            "1.0\n",
            "0.0\n",
            "100.0\n",
            "3.14\n"
          ]
        }
      ]
    },
    {
      "cell_type": "code",
      "source": [
        "# 사칙연산 : + , * , / , //, %, **\n",
        "a = 10\n",
        "b = 2.3\n",
        "print(int(a+b))\n",
        "print(a*b)\n",
        "print(a/b)\n",
        "print(a//b)\n",
        "print(a%b)\n",
        "print(a**b)"
      ],
      "metadata": {
        "colab": {
          "base_uri": "https://localhost:8080/"
        },
        "id": "42xXs6bPFNRg",
        "outputId": "6b05f402-b77c-4288-cf74-378fd7d75e0a"
      },
      "execution_count": null,
      "outputs": [
        {
          "output_type": "stream",
          "name": "stdout",
          "text": [
            "12\n",
            "23.0\n",
            "4.347826086956522\n",
            "4.0\n",
            "0.8000000000000007\n",
            "199.52623149688787\n"
          ]
        }
      ]
    },
    {
      "cell_type": "code",
      "source": [
        "# 문자열\n",
        "string = '문자열'\n",
        "a = '100'\n",
        "print(string)\n",
        "print(a)"
      ],
      "metadata": {
        "colab": {
          "base_uri": "https://localhost:8080/"
        },
        "id": "awRxdOePGJFR",
        "outputId": "4c15eba6-2c27-4095-d98f-64d79cba52a2"
      },
      "execution_count": null,
      "outputs": [
        {
          "output_type": "stream",
          "name": "stdout",
          "text": [
            "문자열\n",
            "100\n"
          ]
        }
      ]
    },
    {
      "cell_type": "code",
      "source": [
        "a = 100\n",
        "b = 50\n",
        "print(a+b)\n",
        "a = '100 '\n",
        "b = '50'\n",
        "print(a+b)\n"
      ],
      "metadata": {
        "colab": {
          "base_uri": "https://localhost:8080/"
        },
        "id": "8yWAtVpSGhyG",
        "outputId": "cb0f91a1-3534-4be4-d885-44b509db0392"
      },
      "execution_count": null,
      "outputs": [
        {
          "output_type": "stream",
          "name": "stdout",
          "text": [
            "150\n",
            "100 50\n"
          ]
        }
      ]
    },
    {
      "cell_type": "code",
      "source": [
        "a = int('100')\n",
        "b = float('50')\n",
        "print(a+b)"
      ],
      "metadata": {
        "colab": {
          "base_uri": "https://localhost:8080/"
        },
        "id": "6Sb6qhiQHKCg",
        "outputId": "47ac191c-6183-4ea4-8ade-7f163c310917"
      },
      "execution_count": null,
      "outputs": [
        {
          "output_type": "stream",
          "name": "stdout",
          "text": [
            "150.0\n"
          ]
        }
      ]
    },
    {
      "cell_type": "code",
      "source": [
        "# 사용자 입력\n",
        "input(\" 인사말 입력 \")"
      ],
      "metadata": {
        "colab": {
          "base_uri": "https://localhost:8080/",
          "height": 54
        },
        "id": "dOKrJNxuHZGU",
        "outputId": "5b6204bc-8fdc-4385-bf88-6f8e5ce5f906"
      },
      "execution_count": null,
      "outputs": [
        {
          "name": "stdout",
          "output_type": "stream",
          "text": [
            " 인사말 입력 안녕\n"
          ]
        },
        {
          "output_type": "execute_result",
          "data": {
            "text/plain": [
              "'안녕'"
            ],
            "application/vnd.google.colaboratory.intrinsic+json": {
              "type": "string"
            }
          },
          "metadata": {},
          "execution_count": 58
        }
      ]
    },
    {
      "cell_type": "code",
      "source": [
        "# input() 함수는 string으로 처리한다\n",
        "a = input()\n",
        "b = input()\n",
        "print(int(a)+int(b))"
      ],
      "metadata": {
        "colab": {
          "base_uri": "https://localhost:8080/"
        },
        "id": "X8HqHmVsH0wT",
        "outputId": "dfe41b86-81eb-457a-b043-a89aa9f3a4fc"
      },
      "execution_count": null,
      "outputs": [
        {
          "output_type": "stream",
          "name": "stdout",
          "text": [
            "3\n",
            "2\n",
            "5\n"
          ]
        }
      ]
    },
    {
      "cell_type": "code",
      "source": [
        "# 두개의 정수를 입력해서 더한 결과 출력\n",
        "num1 = int(input(\"첫번쨰 숫자 : \"))\n",
        "num2 = int(input(\"두번쨰 숫자 : \"))\n",
        "\n",
        "print(num1+num2)"
      ],
      "metadata": {
        "colab": {
          "base_uri": "https://localhost:8080/"
        },
        "id": "zrX1Fv2kImQD",
        "outputId": "71cf1b30-ed11-4041-e91d-52570429aaff"
      },
      "execution_count": null,
      "outputs": [
        {
          "output_type": "stream",
          "name": "stdout",
          "text": [
            "첫번쨰 숫자 : 23\n",
            "두번쨰 숫자 : 43\n",
            "66\n"
          ]
        }
      ]
    },
    {
      "cell_type": "code",
      "source": [
        "# 실수 + 실수 = 실수\n",
        "# Q 3과 3.3을 입력하고 숫자 연산을 수행하여 6.3을 출력하세요\n",
        "num1 = float(input(\"첫번쨰 숫자 : \"))\n",
        "num2 = float(input(\"두번쨰 숫자 : \"))\n",
        "\n",
        "print(num1+num2)"
      ],
      "metadata": {
        "colab": {
          "base_uri": "https://localhost:8080/"
        },
        "id": "x5unbU3gJMaw",
        "outputId": "474aaf08-7614-4773-c91d-b43ac3923fbf"
      },
      "execution_count": null,
      "outputs": [
        {
          "output_type": "stream",
          "name": "stdout",
          "text": [
            "첫번쨰 숫자 : 3\n",
            "두번쨰 숫자 : 3.3\n",
            "6.3\n"
          ]
        }
      ]
    },
    {
      "cell_type": "code",
      "source": [
        "# 정수 + 실수 = 실수\n",
        "# Q 3과 3.3을 입력하고 숫자 연산을 수행하여 6.3을 출력하세요\n",
        "num1 = int(input(\"정수 입력 : \"))\n",
        "num2 = float(input(\"소수점 이하를 포함한 실수 입력 : \"))\n",
        "\n",
        "print(num1+num2)"
      ],
      "metadata": {
        "colab": {
          "base_uri": "https://localhost:8080/"
        },
        "id": "O2WJbftoKByV",
        "outputId": "994f549e-a6f9-49fc-d0d3-16e5c88d7c3a"
      },
      "execution_count": null,
      "outputs": [
        {
          "output_type": "stream",
          "name": "stdout",
          "text": [
            "정수 입력 : 5\n",
            "소수점이하를 포함한 실수 입력 : 0.7\n",
            "5.7\n"
          ]
        }
      ]
    },
    {
      "cell_type": "code",
      "source": [
        "# Q = 52 b = 52.273 a+b는 5252.273으로 출력되도록 a와b를 문자열 자료형으로 변환하세요\n",
        "a = 52\n",
        "b = 52.273\n",
        "a = str(a)\n",
        "b = str(b)\n",
        "print(a+b)"
      ],
      "metadata": {
        "colab": {
          "base_uri": "https://localhost:8080/"
        },
        "id": "tvr8D5eVNl_v",
        "outputId": "eaa4161a-e138-47f2-872e-0b8eeaee6aaa"
      },
      "execution_count": null,
      "outputs": [
        {
          "output_type": "stream",
          "name": "stdout",
          "text": [
            "5252.273\n"
          ]
        }
      ]
    },
    {
      "cell_type": "code",
      "source": [
        "# 문자열 : \"\", ' ' , \"\"\" \"\"\", ''' '''\n",
        "# p1 = 'python's value is great'\n",
        "p1 = \"python's value is great\"\n",
        "print(p1)"
      ],
      "metadata": {
        "colab": {
          "base_uri": "https://localhost:8080/"
        },
        "id": "BAjOhOQRPYSE",
        "outputId": "5ff07126-31b3-48f9-fa90-101198999aa6"
      },
      "execution_count": null,
      "outputs": [
        {
          "output_type": "stream",
          "name": "stdout",
          "text": [
            "python's value is great\n"
          ]
        }
      ]
    },
    {
      "cell_type": "code",
      "source": [
        "# 백슬래시 (\\)는 문자열 안에서 작은따음표(')룰 문자열의 끝을 의미하지 않는 일반 문자로 포함시키기 위해 사용\n",
        "# 이 기술을 이스케이프라고 함\n",
        "#\n",
        "p1 = 'python\\'s value is great'\n",
        "print(p1)"
      ],
      "metadata": {
        "colab": {
          "base_uri": "https://localhost:8080/"
        },
        "id": "2ZINi45fQZqz",
        "outputId": "a1d89d8f-e2ca-44b8-8d3f-bc467af40365"
      },
      "execution_count": null,
      "outputs": [
        {
          "output_type": "stream",
          "name": "stdout",
          "text": [
            "python's value is great\n"
          ]
        }
      ]
    },
    {
      "cell_type": "code",
      "source": [
        "# \\n 행 바꿈\n",
        "# y1 = \"Once yor study data analysis You need Python\"\n",
        "y1 = \"Once yor study data analysis\\nYou need Python\"\n",
        "print(y1)"
      ],
      "metadata": {
        "colab": {
          "base_uri": "https://localhost:8080/"
        },
        "id": "K_VdhAM3RYrY",
        "outputId": "37a3bf5d-eb10-4513-e62c-7ec8a45e145a"
      },
      "execution_count": null,
      "outputs": [
        {
          "output_type": "stream",
          "name": "stdout",
          "text": [
            "Once yor study data analysis\n",
            "You need Python\n"
          ]
        }
      ]
    },
    {
      "cell_type": "code",
      "source": [
        "y2 = '''\n",
        "Once yor study data analysis\n",
        "You need Python\n",
        "'''\n",
        "\n",
        "y3 = \"\"\"\n",
        "Once yor study data analysis\n",
        "You need Python\n",
        "\"\"\"\n",
        "\n",
        "print(y2)\n",
        "print(y3)"
      ],
      "metadata": {
        "colab": {
          "base_uri": "https://localhost:8080/"
        },
        "id": "ari-bRraSOte",
        "outputId": "564a4a16-f4a9-4c8f-9898-ac565a2bd791"
      },
      "execution_count": null,
      "outputs": [
        {
          "output_type": "stream",
          "name": "stdout",
          "text": [
            "\n",
            "Once yor study data analysis \n",
            "You need Python\n",
            "\n",
            "\n",
            "Once yor study data analysis \n",
            "You need Python\n",
            "\n"
          ]
        }
      ]
    },
    {
      "cell_type": "code",
      "source": [
        "a1 = 'Python'\n",
        "a2 = ' is easy to learn'\n",
        "print(a1+a2)\n",
        "print(\"=\"*25)"
      ],
      "metadata": {
        "colab": {
          "base_uri": "https://localhost:8080/"
        },
        "id": "vBzrLILKSOqR",
        "outputId": "845ee376-4610-44d8-8e17-cce05539f4cb"
      },
      "execution_count": null,
      "outputs": [
        {
          "output_type": "stream",
          "name": "stdout",
          "text": [
            "Python is easy to learn\n",
            "=========================\n"
          ]
        }
      ]
    },
    {
      "cell_type": "code",
      "source": [
        "# Q. 아래와 같이 출력할 수 있는 String을 만드세요\n",
        "#\"What a wonderful world\"\n",
        "#he said loudly\n",
        "\n",
        "a = \"\"\"\n",
        "\"What a wonderful world\"\n",
        "he said loudly\n",
        "\"\"\"\n",
        "\n",
        "print(a)"
      ],
      "metadata": {
        "colab": {
          "base_uri": "https://localhost:8080/"
        },
        "id": "f44ja4rBUeWF",
        "outputId": "7b8985fa-3fcd-4299-eb9a-42eff9fcd908"
      },
      "execution_count": null,
      "outputs": [
        {
          "output_type": "stream",
          "name": "stdout",
          "text": [
            "\n",
            "\"What a wonderful world\"\n",
            "he said loudly\n",
            "\n"
          ]
        }
      ]
    },
    {
      "cell_type": "code",
      "source": [
        "# Q 다른 타입의 숫자 2개를 입력받아 큰 수를 출력하세요\n",
        "n1 = int(input(\"첫번쨰 숫자 \"))\n",
        "n2 = int(input(\"두번쨰 숫자 \"))\n",
        "if n1 > n2:\n",
        "  print(n1)\n",
        "elif n1 < n2:\n",
        "  print(n2)\n",
        "else:\n",
        "  print(\"큰 수가 없습니다\")"
      ],
      "metadata": {
        "colab": {
          "base_uri": "https://localhost:8080/"
        },
        "id": "Sz4TK_ExWSg4",
        "outputId": "4096d112-1b7b-425a-e8a8-224d3de3c2de"
      },
      "execution_count": null,
      "outputs": [
        {
          "output_type": "stream",
          "name": "stdout",
          "text": [
            "첫번쨰 숫자 84\n",
            "두번쨰 숫자 4\n",
            "84\n"
          ]
        }
      ]
    },
    {
      "cell_type": "code",
      "source": [
        "# 자료형 - List\n",
        "# 리스트는 [] 로 표시하며 [] 안의 요소를 콤마로 구분하여 순서있게 나열\n",
        "list1 = [1,2,3,4,5]\n",
        "list2 = ['a', 'b', 'c']\n",
        "list3 = [1,'a','abc',[1,2,3,4,5],['a','b','c']]\n",
        "\n",
        "print(list1)\n",
        "print(list2)\n",
        "print(list3)"
      ],
      "metadata": {
        "colab": {
          "base_uri": "https://localhost:8080/"
        },
        "id": "eH4ZhJqFXzlK",
        "outputId": "15eaf0d9-6bea-48cd-b2d7-c481eafe8f6a"
      },
      "execution_count": null,
      "outputs": [
        {
          "output_type": "stream",
          "name": "stdout",
          "text": [
            "[1, 2, 3, 4, 5]\n",
            "['a', 'b', 'c']\n",
            "[1, 'a', 'abc', [1, 2, 3, 4, 5], ['a', 'b', 'c']]\n"
          ]
        }
      ]
    },
    {
      "cell_type": "code",
      "source": [
        "# 인덱스\n",
        "list1 = [1,2,3,4,5]\n",
        "list1[2]\n",
        "list1[0:2]\n",
        "list1[:4]"
      ],
      "metadata": {
        "colab": {
          "base_uri": "https://localhost:8080/"
        },
        "id": "c5lm8JZ0qN21",
        "outputId": "da315579-da6f-4eb7-af48-8e9c75582662"
      },
      "execution_count": null,
      "outputs": [
        {
          "output_type": "execute_result",
          "data": {
            "text/plain": [
              "[1, 2, 3, 4]"
            ]
          },
          "metadata": {},
          "execution_count": 88
        }
      ]
    },
    {
      "cell_type": "code",
      "source": [
        "list3 = [1,'a','abc',[1,2,3,4,5],['a','b','c']]\n",
        "print(list3[3][2])"
      ],
      "metadata": {
        "colab": {
          "base_uri": "https://localhost:8080/"
        },
        "id": "vuuo3r7eqtGd",
        "outputId": "b3d44b87-b515-46cc-d605-3e75a4d1ec5c"
      },
      "execution_count": null,
      "outputs": [
        {
          "output_type": "stream",
          "name": "stdout",
          "text": [
            "3\n"
          ]
        }
      ]
    },
    {
      "cell_type": "code",
      "source": [
        "# 리스트 수정,삭제\n",
        "a = [0,1,2,3,4,5,6,7,8,9]\n",
        "b =['a','b','c']\n",
        "a[0] = 1\n",
        "print(a)\n",
        "b[1] ='a'\n",
        "print(b)\n",
        "del a[0]\n",
        "print(a)\n",
        "del b[1]\n",
        "print(b)"
      ],
      "metadata": {
        "colab": {
          "base_uri": "https://localhost:8080/"
        },
        "id": "XrSUlkWyriNO",
        "outputId": "ef64c3af-fede-45e5-c085-1014b5457744"
      },
      "execution_count": null,
      "outputs": [
        {
          "output_type": "stream",
          "name": "stdout",
          "text": [
            "[1, 1, 2, 3, 4, 5, 6, 7, 8, 9]\n",
            "['a', 'a', 'c']\n",
            "[1, 2, 3, 4, 5, 6, 7, 8, 9]\n",
            "['a', 'c']\n"
          ]
        }
      ]
    },
    {
      "cell_type": "code",
      "source": [
        "# 끝에서 부터 인덱싱 : -1\n",
        "\n",
        "a = [0, 1, 2, 3, 4, 5, 6, 7, 8, 9]\n",
        "b = ['a', 'b', 'c']\n",
        "a[-2]\n",
        "print(a[-4:-1])\n",
        "print(a[-4:])"
      ],
      "metadata": {
        "colab": {
          "base_uri": "https://localhost:8080/"
        },
        "id": "sJM2mSmgtFbU",
        "outputId": "f8cbcc50-5de4-4c95-b4b9-e28ff57c61a4"
      },
      "execution_count": null,
      "outputs": [
        {
          "output_type": "stream",
          "name": "stdout",
          "text": [
            "[6, 7, 8]\n",
            "[6, 7, 8, 9]\n"
          ]
        }
      ]
    },
    {
      "cell_type": "code",
      "source": [
        "# 리스트 확장\n",
        "h = [1,2,3]\n",
        "h.extend([4,5]) # 반복 가능한 객체의 모든 요소를 리스트에 추가\n",
        "print(h)\n",
        "h.append(6) # 단일 격체를 추가\n",
        "print(h)\n",
        "h.insert(0,5)\n",
        "print(h)"
      ],
      "metadata": {
        "colab": {
          "base_uri": "https://localhost:8080/"
        },
        "id": "RT-26_e3uYn1",
        "outputId": "ea1e7c68-c4ca-4a5d-b264-8a806981ab54"
      },
      "execution_count": null,
      "outputs": [
        {
          "output_type": "stream",
          "name": "stdout",
          "text": [
            "[1, 2, 3, 4, 5]\n",
            "[1, 2, 3, 4, 5, 6]\n",
            "[5, 1, 2, 3, 4, 5, 6]\n"
          ]
        }
      ]
    },
    {
      "cell_type": "code",
      "source": [
        "#Q. list1에서 다음을 수행하세요\n",
        "#- 33을 출력\n",
        "#- 82를 리스트에 추가\n",
        "#- 87의 인덱스 구하기 - 도전\n",
        "#- 인덱스 3에서 10까지의 값을 출력하고 list2에 저장한 후 내림차순 정렬하기 - 도전\n",
        "#- 39를 11로 변경\n",
        "#- [69,45,58] 출력\n",
        "#- 짝수 인덱스의 값으로 구성된 리스트 출력하기\n",
        "#- 인덱스가 가장 큰수를 삭제하기\n",
        "#- 인덱스 3, 5인 값으로 4칙 연산하기\n",
        "\n",
        "#list1 = [58, 45, 69, 19,  4, 87, 29, 13, 39, 15, 54, [8, 33, 11], 27, 49, 63, 98, 22, 82]"
      ],
      "metadata": {
        "id": "yiCBF3Byvoks"
      },
      "execution_count": null,
      "outputs": []
    },
    {
      "cell_type": "code",
      "source": [
        "list1 = [58, 45, 69, 19, 4, 87, 29, 13, 39, 15, 54, [8, 33, 11], 27, 49, 63, 98, 22, 82]\n",
        "\n",
        "# 문제1  33을 출력\n",
        "print(list1[11][1],'\\n')\n",
        "\n",
        "# 문제2  82를 리스트에 추가\n",
        "list1.append(82)\n",
        "print(list1,'\\n')\n",
        "\n",
        "# 문제3  87의 인덱스 구하기\n",
        "print(list1.index(87),'\\n')\n",
        "\n",
        "# 문제4  인덱스 3에서 10까지의 값을 출력하고 list2에 저장한 후 내림차순 정렬하기\n",
        "list2 =list1[3:11]\n",
        "list2.sort(reverse=True)\n",
        "print(list2,'\\n')\n",
        "\n",
        "# 문제5  39를 11로 변경\n",
        "list1[8] = 11\n",
        "print(list1,'\\n')\n",
        "\n",
        "# 문제6 [69,45,58] 출력\n",
        "print(list1[2::-1],'\\n')\n",
        "\n",
        "# 문제7 짝수 인덱스의 값으로 구성된 리스트 출력하기\n",
        "print(list1[0::2],'\\n')\n",
        "\n",
        "# 문제8 인덱스가 가장 큰수를 삭제하기\n",
        "del list1[-1]\n",
        "\n",
        "\n",
        "# 문제9 인덱스 3, 5인 값으로 4칙 연산하기\n",
        "print(list1,'\\n')"
      ],
      "metadata": {
        "colab": {
          "base_uri": "https://localhost:8080/"
        },
        "id": "WWGc4Hg_wZYN",
        "outputId": "a4883935-fd18-432a-b17b-e87605cb6cbf"
      },
      "execution_count": null,
      "outputs": [
        {
          "output_type": "stream",
          "name": "stdout",
          "text": [
            "33 \n",
            "\n",
            "[58, 45, 69, 19, 4, 87, 29, 13, 39, 15, 54, [8, 33, 11], 27, 49, 63, 98, 22, 82, 82] \n",
            "\n",
            "5 \n",
            "\n",
            "[87, 54, 39, 29, 19, 15, 13, 4] \n",
            "\n",
            "[58, 45, 69, 19, 4, 87, 29, 13, 11, 15, 54, [8, 33, 11], 27, 49, 63, 98, 22, 82, 82] \n",
            "\n",
            "[69, 45, 58] \n",
            "\n",
            "[58, 69, 4, 29, 11, 54, 27, 63, 22, 82] \n",
            "\n",
            "[58, 45, 69, 19, 4, 87, 29, 13, 11, 15, 54, [8, 33, 11], 27, 49, 63, 98, 22, 82] \n",
            "\n"
          ]
        }
      ]
    },
    {
      "cell_type": "code",
      "source": [
        "# list 출력방향\n",
        "\n",
        "print(list1,'\\n')\n",
        "print(list1[7::-1],'\\n')\n",
        "print(list1[7::2],'\\n')\n",
        "print(list1[7::-2],'\\n')\n"
      ],
      "metadata": {
        "colab": {
          "base_uri": "https://localhost:8080/"
        },
        "id": "qCEoNI0N9BKH",
        "outputId": "5e5fe9ab-e135-4e69-a657-19dbdfa63061"
      },
      "execution_count": null,
      "outputs": [
        {
          "output_type": "stream",
          "name": "stdout",
          "text": [
            "[58, 45, 69, 19, 4, 87, 29, 13, 11, 15, 54, [8, 33, 11], 27, 49, 63, 98, 22, 82] \n",
            "\n",
            "[13, 29, 87, 4, 19, 69, 45, 58] \n",
            "\n",
            "[13, 15, [8, 33, 11], 49, 98, 82] \n",
            "\n",
            "[13, 87, 19, 45] \n",
            "\n"
          ]
        }
      ]
    },
    {
      "cell_type": "markdown",
      "source": [
        "#### sort 와 sorted 차이점\n",
        "\n",
        "1. 메서드 vs 함수:\n",
        "- sort(): 리스트 객체의 내장 메서드입니다. 즉, 리스트에서만 사용할 수 있습니다.\n",
        "- sorted(): 내장 함수로, 어떤 반복 가능한(iterable) 객체에도 사용될 수 있습니다. 예를 들면 리스트, 튜플, 딕셔너리, 문자열 등에 사용할 수 있습니다.\n",
        "\n",
        "2. 반환 값:\n",
        "- sort(): 리스트를 원 위치에서(in-place) 정렬하고 None을 반환합니다. 따라서 원래의 리스트 자체가 변경됩니다.\n",
        "- sorted(): 정렬된 새로운 리스트를 반환합니다. 원래의 객체는 변경되지 않습니다.\n",
        "\n",
        "3. 유용성:\n",
        "- sort(): 리스트에서만 작동하기 때문에 리스트만 정렬할 수 있습니다.\n",
        "- sorted(): 다양한 객체를 정렬할 수 있으며 결과는 항상 리스트로 반환됩니다"
      ],
      "metadata": {
        "id": "ECMnSScK9p0p"
      }
    },
    {
      "cell_type": "code",
      "source": [
        "# sort\n",
        "my_list = [3, 1, 2]\n",
        "my_list.sort()\n",
        "print(my_list)\n",
        "\n",
        "# sorted()\n",
        "my_tuple = (3, 1, 2)\n",
        "new_list = sorted(my_tuple)\n",
        "print(my_tuple)\n",
        "print(new_list)"
      ],
      "metadata": {
        "colab": {
          "base_uri": "https://localhost:8080/"
        },
        "id": "pertXHeRAj1A",
        "outputId": "ff030abc-1af3-4162-a670-af4853069809"
      },
      "execution_count": null,
      "outputs": [
        {
          "output_type": "stream",
          "name": "stdout",
          "text": [
            "[1, 2, 3]\n",
            "(3, 1, 2)\n",
            "[1, 2, 3]\n"
          ]
        }
      ]
    },
    {
      "cell_type": "code",
      "source": [
        "list = [5, 6, 9, 7, 8]\n",
        "new_list=list.sort()\n",
        "print(list)\n",
        "print(new_list)"
      ],
      "metadata": {
        "colab": {
          "base_uri": "https://localhost:8080/"
        },
        "id": "3Mnuo7UdEfUD",
        "outputId": "1a6446b0-b3cc-4fbf-baf6-1eaf81e612fa"
      },
      "execution_count": null,
      "outputs": [
        {
          "output_type": "stream",
          "name": "stdout",
          "text": [
            "[5, 6, 7, 8, 9]\n",
            "None\n"
          ]
        }
      ]
    },
    {
      "cell_type": "code",
      "source": [
        "list = [5, 6, 9, 7, 8]\n",
        "new_list = sorted(list)\n",
        "print(list)\n",
        "print(new_list)"
      ],
      "metadata": {
        "colab": {
          "base_uri": "https://localhost:8080/"
        },
        "id": "q8E2P1GsEffV",
        "outputId": "251f235b-0596-4148-9cda-fa191611f16a"
      },
      "execution_count": null,
      "outputs": [
        {
          "output_type": "stream",
          "name": "stdout",
          "text": [
            "[5, 6, 9, 7, 8]\n",
            "[5, 6, 7, 8, 9]\n"
          ]
        }
      ]
    },
    {
      "cell_type": "code",
      "source": [
        "list1 = [58, 45, 69, 19, 4, 87, 29, 13, 39, 15, 54, [8, 33, 11], 27, 49, 63, 98, 22, 82]\n",
        "list2 = list1[3:11]\n",
        "l_sort = sorted(list2,reverse=True)\n",
        "l_sort"
      ],
      "metadata": {
        "colab": {
          "base_uri": "https://localhost:8080/"
        },
        "id": "0VduXoaNGQqx",
        "outputId": "1a4083a3-50e4-4a02-b567-7b5097701ca4"
      },
      "execution_count": null,
      "outputs": [
        {
          "output_type": "execute_result",
          "data": {
            "text/plain": [
              "[87, 54, 39, 29, 19, 15, 13, 4]"
            ]
          },
          "metadata": {},
          "execution_count": 154
        }
      ]
    },
    {
      "cell_type": "code",
      "source": [
        "list3 = list1[3:11]\n",
        "list3.sort(reverse=True)\n",
        "print(list3)"
      ],
      "metadata": {
        "colab": {
          "base_uri": "https://localhost:8080/"
        },
        "id": "HTUq3rXPGRk5",
        "outputId": "1b50c60c-b912-46e6-f6b8-2374075a01e0"
      },
      "execution_count": null,
      "outputs": [
        {
          "output_type": "stream",
          "name": "stdout",
          "text": [
            "[87, 54, 39, 29, 19, 15, 13, 4]\n"
          ]
        }
      ]
    },
    {
      "cell_type": "markdown",
      "source": [
        "Task1_0425. 주어진 숫자 리스트에서 최소값과 최대값을 찾아 출력하세요.\n",
        "\n",
        "numbers = [58, 45, 69, 19, 4, 87, 29, 13, 39, 15]"
      ],
      "metadata": {
        "id": "XUBjMoFw1nzg"
      }
    },
    {
      "cell_type": "code",
      "source": [
        "# Task1 주어진 숫자 리스트에서 최소값과 최대값을 찾아 출력하세요.\n",
        "numbers = [58, 45, 69, 19, 4, 87, 29, 13, 39, 15]\n",
        "\n",
        "numbers.sort()\n",
        "print(numbers[0])\n",
        "\n",
        "numbers.sort(reverse=True)\n",
        "print(numbers[0],'\\n')\n",
        "\n",
        "\n",
        "#--------------------------------------------------------------------------------\n",
        "\n",
        "min_value = min(numbers)\n",
        "max_value = max(numbers)\n",
        "\n",
        "print(f\"최소값: {min_value}, 최대값:  {max_value}\",\"\\n\")\n",
        "\n",
        "#--------------------------------------------------------------------------------\n",
        "\n",
        "min_value1 = numbers[0]\n",
        "max_value2 = numbers[0]\n",
        "\n",
        "for number in numbers:\n",
        "  if number < min_value1:\n",
        "    min_value1 = number\n",
        "  elif number < max_value2:\n",
        "    max_value2 = number\n",
        "\n",
        "print(f\"최소값: {min_value1}, 최대값:  {max_value2}\")"
      ],
      "metadata": {
        "colab": {
          "base_uri": "https://localhost:8080/"
        },
        "id": "t9bdvl8s1pZf",
        "outputId": "0087451c-0205-449a-fb23-5ea07c653336"
      },
      "execution_count": null,
      "outputs": [
        {
          "output_type": "stream",
          "name": "stdout",
          "text": [
            "4\n",
            "87 \n",
            "\n",
            "최소값: 4, 최대값:  87 \n",
            "\n",
            "최소값: 4, 최대값:  87\n"
          ]
        }
      ]
    },
    {
      "cell_type": "markdown",
      "source": [
        "Task2_0425. 주어진 숫자 리스트의 모든 요소의 합계와 평균을 계산하고 출력하세요\n",
        "\n",
        "numbers = [58, 45, 69, 19, 4, 87, 29, 13, 39, 15]\n",
        "\n"
      ],
      "metadata": {
        "id": "sKGEm_2q1060"
      }
    },
    {
      "cell_type": "code",
      "source": [
        "# Task2 주어진 숫자 리스트의 모든 요소의 합계와 평균을 계산하고 출력하세요\n",
        "\n",
        "numbers = [58, 45, 69, 19, 4, 87, 29, 13, 39, 15]\n",
        "\n",
        "# 합계 계산\n",
        "result = sum(numbers)\n",
        "\n",
        "# 평균 계산\n",
        "ave = result / len(numbers)\n",
        "\n",
        "# 결과 풀력\n",
        "print(f\"합계: {result}, 평균:  {ave}\")\n"
      ],
      "metadata": {
        "colab": {
          "base_uri": "https://localhost:8080/"
        },
        "id": "4i08UN1g2B0t",
        "outputId": "d679a968-0331-4b16-d06d-11300dfcce73"
      },
      "execution_count": null,
      "outputs": [
        {
          "output_type": "stream",
          "name": "stdout",
          "text": [
            "합계: 378, 평균:  37.8\n"
          ]
        }
      ]
    },
    {
      "cell_type": "code",
      "source": [
        "# 파이썬에서 평균을 구하는 내장함수 없음\n",
        "\n",
        "import statistics\n",
        "numbers = [58, 45, 69, 19, 4, 87, 29, 13, 39, 15]\n",
        "avg = statistics.mean(numbers)\n",
        "print(f\"평균: {ave}\")"
      ],
      "metadata": {
        "colab": {
          "base_uri": "https://localhost:8080/"
        },
        "id": "SO4xWKY32WT8",
        "outputId": "7e2c853f-7479-4c90-9136-0d1924bfff73"
      },
      "execution_count": null,
      "outputs": [
        {
          "output_type": "stream",
          "name": "stdout",
          "text": [
            "평균: 37.8\n"
          ]
        }
      ]
    },
    {
      "cell_type": "markdown",
      "source": [
        "Task3_0425. 주어진 리스트에서 특정 요소가 등장하는 모든 인덱스를 리스트로 만들어 출력하세요.\n",
        "\n",
        "items = ['apple', 'banana', 'cherry', 'apple', 'cherry', 'apple'] target='apple'"
      ],
      "metadata": {
        "id": "JBMxa5t514Qx"
      }
    },
    {
      "cell_type": "code",
      "source": [
        "# Task3 주어진 리스트에서 특정 요소가 등장하는 모든 인덱스를 리스트로 만들어 출력하세요.\n",
        "\n",
        "items = ['apple', 'banana', 'cherry', 'apple', 'cherry', 'apple']\n",
        "\n",
        "search = []\n",
        "\n",
        "for search1 in items:\n",
        "  if 'apple' in search1:\n",
        "    search.append(search1)\n",
        "\n",
        "print(search)\n"
      ],
      "metadata": {
        "id": "6f96TWRr2GU6"
      },
      "execution_count": null,
      "outputs": []
    },
    {
      "cell_type": "code",
      "source": [
        "# 리스트 정의\n",
        "items = ['apple', 'banana', 'cherry', 'apple', 'cherry', 'apple']\n",
        "\n",
        "# 찾을 요소\n",
        "target = 'apple'\n",
        "\n",
        "# 인덱스 찾기\n",
        "indexes = [index for index, value in enumerate(items) if value == target]\n",
        "\n",
        "# 결과 출력\n",
        "print(f\"{target}'의 모든 인덱스: {indexes}\")\n"
      ],
      "metadata": {
        "colab": {
          "base_uri": "https://localhost:8080/"
        },
        "id": "RJeT0Fmk276H",
        "outputId": "21f87795-b013-4a1a-d0c0-a4602cbc47c1"
      },
      "execution_count": null,
      "outputs": [
        {
          "output_type": "stream",
          "name": "stdout",
          "text": [
            "apple'의 모든 인덱스: [0, 3, 5]\n"
          ]
        }
      ]
    },
    {
      "cell_type": "markdown",
      "source": [
        "Task4_0425. 주어진 리스트에서 연속해서 반복되는 요소만 제거하고, 결과 리스트를 반환하세요. 단, 처음 등장하는 요소는 유지해야 합니다. 예를 들어, ['a', 'a', 'b', 'c', 'c', 'c', 'd', 'e', 'e']가 입력되면, ['a', 'b', 'c', 'd', 'e']를 출력해야 합니다."
      ],
      "metadata": {
        "id": "_O7LEPNv17T3"
      }
    },
    {
      "cell_type": "code",
      "source": [
        "#Task4 주어진 리스트에서 연속해서 반복되는 요소만 제거하고, 결과 리스트를 반환하세요.\n",
        "#단, 처음 등장하는 요소는 유지해야 합니다. 예를 들어, ['a', 'a', 'b', 'c', 'c', 'c', 'd', 'e', 'e']가 입력되면, ['a', 'b', 'c', 'd', 'e']를 출력해야 합니다\n",
        "\n",
        "li = ['a', 'a', 'b', 'c', 'c', 'c', 'd', 'e', 'e']\n",
        "result = [li[0]]\n",
        "for i in li[1:]:\n",
        "  if i != result[-1]:\n",
        "      result.append(i)\n",
        "print(result)"
      ],
      "metadata": {
        "colab": {
          "base_uri": "https://localhost:8080/"
        },
        "id": "-IZVxQJf2HDu",
        "outputId": "9bb0155c-a486-4e43-ff14-702ea0edb45f"
      },
      "execution_count": null,
      "outputs": [
        {
          "output_type": "stream",
          "name": "stdout",
          "text": [
            "['a', 'b', 'c', 'd', 'e']\n"
          ]
        }
      ]
    },
    {
      "cell_type": "code",
      "source": [
        "def remove_consecutive_duplicates(items):\n",
        "   if not items:\n",
        "      return []\n",
        "  # 결과 리스트 초기화\n",
        "      result = [items[0]]\n",
        "    # 이전 요소와 비교하면서 중복 제거\n",
        "      for current in items[1:]:\n",
        "        if current != result[-1]:\n",
        "          result.append(current)\n",
        "      return result\n",
        "\n",
        "# 리스트 정의\n",
        "items = ['a', 'a', 'b', 'c', 'c', 'c', 'd', 'e', 'e']\n",
        "\n",
        "# 결과 출력\n",
        "print(remove_consecutive_duplicates(items))"
      ],
      "metadata": {
        "colab": {
          "base_uri": "https://localhost:8080/"
        },
        "id": "vyJ2MOyM_BYi",
        "outputId": "b85a9f9b-0554-4272-ff4b-1377ea8d4920"
      },
      "execution_count": null,
      "outputs": [
        {
          "output_type": "stream",
          "name": "stdout",
          "text": [
            "None\n"
          ]
        }
      ]
    },
    {
      "cell_type": "markdown",
      "source": [
        "Task5_0425 주어진 정수 리스트와 회전 횟수 k에 대해 리스트를 오른쪽으로 k만큼 회전시킨 결과를 반환하세요. k가 리스트의 길이보다 클 수 있으며, 이 경우 k를 리스트 길이로 나눈 나머지만큼 실제 회전시키면 됩니다.\n",
        "\n",
        "예를 들어, [1, 2, 3, 4, 5]와 k=2가 주어지면, 결과는 [4, 5, 1, 2, 3]이 되어야 합니다."
      ],
      "metadata": {
        "id": "ubSPCJhM19fs"
      }
    },
    {
      "cell_type": "code",
      "source": [
        "#Task5 주어진 정수 리스트와 회전 횟수 k에 대해 리스트를 오른쪽으로 k만큼 회전시킨 결과를 반환하세요.\n",
        "#k가 리스트의 길이보다 클 수 있으며, 이 경우 k를 리스트 길이로 나눈 나머지만큼 실제 회전시키면 됩니다.\n",
        "#예를 들어, [1, 2, 3, 4, 5]와 k=2가 주어지면, 결과는 [4, 5, 1, 2, 3]이 되어야 합니다\n",
        "a = [1, 2, 3, 4, 5]\n",
        "def right_rotate(test_list, n):\n",
        "  new_list = [None for _ in range(len(test_list))]\n",
        "\n",
        "  for i in range(len(test_list)):\n",
        "\n",
        "      new_list[i] = test_list[i-n]\n",
        "\n",
        "  return new_list\n",
        "\n",
        "  print(right_rotate(a,2))"
      ],
      "metadata": {
        "id": "XAyMUNUW2LRY"
      },
      "execution_count": null,
      "outputs": []
    },
    {
      "cell_type": "code",
      "source": [
        "# 오른쪽으로 회전\n",
        "def rotate_list(num, k):\n",
        "  if not nums:\n",
        "    return nums\n",
        "  # 회전 횟수를 리스트 길이로 나눈 나머지로 계산\n",
        "  k = k % len(nums)\n",
        "  # 리스트의 끝부분을 앞으로, 앞부분을 끝으로 옮김\n",
        "  rotated = nums[-k:] + nums[:-k]\n",
        "  return rotated\n",
        "\n",
        "# 리스트 정의\n",
        "nums = [1, 2, 3, 4, 5]\n",
        "k =2\n",
        "# 결과 출력\n",
        "print(rotate_list(nums, k))\n"
      ],
      "metadata": {
        "colab": {
          "base_uri": "https://localhost:8080/"
        },
        "id": "uoZVUF37DA3M",
        "outputId": "8440157b-cbba-4c9d-b5ed-1726caae4d61"
      },
      "execution_count": null,
      "outputs": [
        {
          "output_type": "stream",
          "name": "stdout",
          "text": [
            "[4, 5, 1, 2, 3]\n"
          ]
        }
      ]
    },
    {
      "cell_type": "code",
      "source": [
        "# 왼쪽으로 회전\n",
        "def rotate_list(num, k):\n",
        "  if not nums:\n",
        "    return nums\n",
        "  # 회전 횟수를 리스트 길이로 나눈 나머지로 계산\n",
        "  k = k % len(nums)\n",
        "  # 리스트의 끝부분을 앞으로, 앞부분을 끝으로 옮김\n",
        "  rotated = nums[k:] + nums[:k]\n",
        "  return rotated\n",
        "\n",
        "# 리스트 정의\n",
        "nums = [1, 2, 3, 4, 5]\n",
        "k = 2\n",
        "\n",
        "\n",
        "# 결과 출력\n",
        "print(rotate_list(nums, k))"
      ],
      "metadata": {
        "colab": {
          "base_uri": "https://localhost:8080/"
        },
        "id": "iFWCtkVSD_Wu",
        "outputId": "ae85f353-32f7-4471-cc42-963649fea4d7"
      },
      "execution_count": 28,
      "outputs": [
        {
          "output_type": "stream",
          "name": "stdout",
          "text": [
            "[3, 4, 5, 1, 2]\n"
          ]
        }
      ]
    },
    {
      "cell_type": "markdown",
      "source": [
        "##자료형 - Tuple\n",
        "\n",
        "\n",
        "*   튜플은 변경할 수 없는(immutable) 순서가 없는 컬랙션\n",
        "*   프로그램에서 그 값이 항상 변하지 않아야되는 경우 사용\n",
        "\n"
      ],
      "metadata": {
        "id": "Je8GsSTYJMhE"
      }
    },
    {
      "cell_type": "code",
      "source": [
        "tuple1 = (1, 2, 3, 4, 5)\n",
        "tuple2 = ('a', 'b', 'c')\n",
        "tuple3 = (1, 'a', 'abc', [1,2,3,4,5],['a','b','c'])\n",
        "\n",
        "print(tuple1[:])\n",
        "print(tuple1[2])\n",
        "tuple3[3][2]"
      ],
      "metadata": {
        "colab": {
          "base_uri": "https://localhost:8080/"
        },
        "id": "sD-PK49dJp74",
        "outputId": "aaa597bf-1337-41c8-f630-f66bb8297249"
      },
      "execution_count": 29,
      "outputs": [
        {
          "output_type": "stream",
          "name": "stdout",
          "text": [
            "(1, 2, 3, 4, 5)\n",
            "3\n"
          ]
        },
        {
          "output_type": "execute_result",
          "data": {
            "text/plain": [
              "3"
            ]
          },
          "metadata": {},
          "execution_count": 29
        }
      ]
    },
    {
      "cell_type": "code",
      "source": [
        "# 튜퓰의 요소 값은 변경할 수 없음\n",
        "tuple = (1,2,3,4,5)\n",
        "tuple[0] = 0\n",
        "tuple"
      ],
      "metadata": {
        "colab": {
          "base_uri": "https://localhost:8080/",
          "height": 202
        },
        "id": "Nae2cRqwLGhV",
        "outputId": "3a5a61a9-e9a2-4d19-d5b1-16eb60400643"
      },
      "execution_count": 30,
      "outputs": [
        {
          "output_type": "error",
          "ename": "TypeError",
          "evalue": "'tuple' object does not support item assignment",
          "traceback": [
            "\u001b[0;31m---------------------------------------------------------------------------\u001b[0m",
            "\u001b[0;31mTypeError\u001b[0m                                 Traceback (most recent call last)",
            "\u001b[0;32m<ipython-input-30-64707da9af1f>\u001b[0m in \u001b[0;36m<cell line: 3>\u001b[0;34m()\u001b[0m\n\u001b[1;32m      1\u001b[0m \u001b[0;31m# 튜퓰의 요소 값은 변경할 수 없음\u001b[0m\u001b[0;34m\u001b[0m\u001b[0;34m\u001b[0m\u001b[0m\n\u001b[1;32m      2\u001b[0m \u001b[0mtuple\u001b[0m \u001b[0;34m=\u001b[0m \u001b[0;34m(\u001b[0m\u001b[0;36m1\u001b[0m\u001b[0;34m,\u001b[0m\u001b[0;36m2\u001b[0m\u001b[0;34m,\u001b[0m\u001b[0;36m3\u001b[0m\u001b[0;34m,\u001b[0m\u001b[0;36m4\u001b[0m\u001b[0;34m,\u001b[0m\u001b[0;36m5\u001b[0m\u001b[0;34m)\u001b[0m\u001b[0;34m\u001b[0m\u001b[0;34m\u001b[0m\u001b[0m\n\u001b[0;32m----> 3\u001b[0;31m \u001b[0mtuple\u001b[0m\u001b[0;34m[\u001b[0m\u001b[0;36m0\u001b[0m\u001b[0;34m]\u001b[0m \u001b[0;34m=\u001b[0m \u001b[0;36m0\u001b[0m\u001b[0;34m\u001b[0m\u001b[0;34m\u001b[0m\u001b[0m\n\u001b[0m\u001b[1;32m      4\u001b[0m \u001b[0mtuple\u001b[0m\u001b[0;34m\u001b[0m\u001b[0;34m\u001b[0m\u001b[0m\n",
            "\u001b[0;31mTypeError\u001b[0m: 'tuple' object does not support item assignment"
          ]
        }
      ]
    },
    {
      "cell_type": "code",
      "source": [
        "t1 = (1,) # 1개의 요소만 가질 떄는 콤마를 붙여야 함\n",
        "print(t1)\n",
        "type(t1)\n"
      ],
      "metadata": {
        "colab": {
          "base_uri": "https://localhost:8080/"
        },
        "id": "zFJ8w_mTMDiy",
        "outputId": "b44ae547-3fbf-4671-d834-a26acc22f523"
      },
      "execution_count": 37,
      "outputs": [
        {
          "output_type": "stream",
          "name": "stdout",
          "text": [
            "(1,)\n"
          ]
        },
        {
          "output_type": "execute_result",
          "data": {
            "text/plain": [
              "tuple"
            ]
          },
          "metadata": {},
          "execution_count": 37
        }
      ]
    },
    {
      "cell_type": "code",
      "source": [
        "t2 = 1,2,3\n",
        "print(t2)\n",
        "type(t2)"
      ],
      "metadata": {
        "colab": {
          "base_uri": "https://localhost:8080/"
        },
        "id": "AoAETxmiMx2r",
        "outputId": "8f7dbc0f-c12b-482f-c02c-6f35eeea0170"
      },
      "execution_count": 33,
      "outputs": [
        {
          "output_type": "stream",
          "name": "stdout",
          "text": [
            "(1, 2, 3)\n"
          ]
        },
        {
          "output_type": "execute_result",
          "data": {
            "text/plain": [
              "tuple"
            ]
          },
          "metadata": {},
          "execution_count": 33
        }
      ]
    },
    {
      "cell_type": "code",
      "source": [
        "print(t2 * 3)"
      ],
      "metadata": {
        "colab": {
          "base_uri": "https://localhost:8080/"
        },
        "id": "sBPLf8qmN7p5",
        "outputId": "02983d0d-a792-4301-bdda-d8bff96056bd"
      },
      "execution_count": 34,
      "outputs": [
        {
          "output_type": "stream",
          "name": "stdout",
          "text": [
            "(1, 2, 3, 1, 2, 3, 1, 2, 3)\n"
          ]
        }
      ]
    },
    {
      "cell_type": "code",
      "source": [
        "t1 + t2"
      ],
      "metadata": {
        "colab": {
          "base_uri": "https://localhost:8080/"
        },
        "id": "n44zJyLPOAou",
        "outputId": "8ac67c72-8cce-4bee-9d51-20c15f50b90a"
      },
      "execution_count": 38,
      "outputs": [
        {
          "output_type": "execute_result",
          "data": {
            "text/plain": [
              "(1, 1, 2, 3)"
            ]
          },
          "metadata": {},
          "execution_count": 38
        }
      ]
    },
    {
      "cell_type": "markdown",
      "source": [
        "Q. 'red','green','blue' 값을 갖는 튜플에서 각 값을 각각 r,g,b 변수에 할당하고 출력"
      ],
      "metadata": {
        "id": "GcvNvFGZOpsc"
      }
    },
    {
      "cell_type": "code",
      "source": [
        "colors = ('red', 'green', 'blue')\n",
        "r, g, b = colors\n",
        "print(r)\n",
        "print(g)\n",
        "print(b)"
      ],
      "metadata": {
        "colab": {
          "base_uri": "https://localhost:8080/"
        },
        "id": "jL80-aVEO-8o",
        "outputId": "71165ad3-981f-4116-88f4-97512a8404f9"
      },
      "execution_count": 39,
      "outputs": [
        {
          "output_type": "stream",
          "name": "stdout",
          "text": [
            "red\n",
            "green\n",
            "blue\n"
          ]
        }
      ]
    },
    {
      "cell_type": "markdown",
      "source": [
        "함수에서 여러 값을 반환할 떄 튜플을 사용하는 것이 일반적입니다.\n",
        "Q. 주어진 리스트의 총합과 평균을 동시에 반환하는 함수를 작성하세요\n",
        "numbers = [10,20,30,40,50]"
      ],
      "metadata": {
        "id": "aOpyTDIOPMgY"
      }
    },
    {
      "cell_type": "code",
      "source": [
        "\n",
        "def calculate_sum_and_avg(numbers):\n",
        "\n",
        "# 합계 계산\n",
        "  total = sum(numbers)\n",
        "# 평균 계산\n",
        "  avg = total / len(numbers)\n",
        "  return (total, avg) # 튜플로 총합과 평균 반환\n",
        "\n",
        "numbers = [10, 20, 30, 40, 50]\n",
        "total, avg = calculate_sum_and_avg(numbers)\n",
        "print(f\"총합: {total}, 평균: {avg}\")\n",
        "\n"
      ],
      "metadata": {
        "colab": {
          "base_uri": "https://localhost:8080/"
        },
        "id": "TDnOafqqPlMj",
        "outputId": "dbf5c3b4-fb30-4393-9532-735088ab7f5b"
      },
      "execution_count": 46,
      "outputs": [
        {
          "output_type": "stream",
          "name": "stdout",
          "text": [
            "총합: 150, 평균: 30.0\n"
          ]
        }
      ]
    },
    {
      "cell_type": "markdown",
      "source": [
        "## 자료형 - 사전\n",
        "\n",
        "\n",
        "*   키와 값을 하나의 요소로 하는 순서가 없는 집합\n",
        "\n",
        "\n"
      ],
      "metadata": {
        "id": "Fn0ws0riRdm2"
      }
    },
    {
      "cell_type": "code",
      "source": [
        "d1 = {'a':1, 'b':2, 'c':3}\n",
        "print(d1['a'])"
      ],
      "metadata": {
        "colab": {
          "base_uri": "https://localhost:8080/"
        },
        "id": "HZPtgRCgR8JA",
        "outputId": "8be23219-60a2-425f-e145-65c6d31173db"
      },
      "execution_count": 47,
      "outputs": [
        {
          "output_type": "stream",
          "name": "stdout",
          "text": [
            "1\n"
          ]
        }
      ]
    },
    {
      "cell_type": "code",
      "source": [
        "d1.keys()"
      ],
      "metadata": {
        "colab": {
          "base_uri": "https://localhost:8080/"
        },
        "id": "GH3BHdoCSLau",
        "outputId": "826ce2e8-759a-4bd2-f517-5f53fc5b74b9"
      },
      "execution_count": 48,
      "outputs": [
        {
          "output_type": "execute_result",
          "data": {
            "text/plain": [
              "dict_keys(['a', 'b', 'c'])"
            ]
          },
          "metadata": {},
          "execution_count": 48
        }
      ]
    },
    {
      "cell_type": "code",
      "source": [
        "d1.values()"
      ],
      "metadata": {
        "colab": {
          "base_uri": "https://localhost:8080/"
        },
        "id": "l70OOTOTSRMR",
        "outputId": "db747e8b-bd8b-4e99-ecf7-ec618dbf6985"
      },
      "execution_count": 49,
      "outputs": [
        {
          "output_type": "execute_result",
          "data": {
            "text/plain": [
              "dict_values([1, 2, 3])"
            ]
          },
          "metadata": {},
          "execution_count": 49
        }
      ]
    },
    {
      "cell_type": "code",
      "source": [
        "d1.items()"
      ],
      "metadata": {
        "colab": {
          "base_uri": "https://localhost:8080/"
        },
        "id": "Vzi7dNQZSby_",
        "outputId": "a88e30ab-e541-4fab-f1e0-e8613d7c6f02"
      },
      "execution_count": 50,
      "outputs": [
        {
          "output_type": "execute_result",
          "data": {
            "text/plain": [
              "dict_items([('a', 1), ('b', 2), ('c', 3)])"
            ]
          },
          "metadata": {},
          "execution_count": 50
        }
      ]
    },
    {
      "cell_type": "code",
      "source": [
        "d1['d'] = 4\n",
        "d1"
      ],
      "metadata": {
        "colab": {
          "base_uri": "https://localhost:8080/"
        },
        "id": "r_Y4hP-gS5ty",
        "outputId": "4cf972d0-d83b-4bcd-d1a9-c91059fa60a2"
      },
      "execution_count": 51,
      "outputs": [
        {
          "output_type": "execute_result",
          "data": {
            "text/plain": [
              "{'a': 1, 'b': 2, 'c': 3, 'd': 4}"
            ]
          },
          "metadata": {},
          "execution_count": 51
        }
      ]
    },
    {
      "cell_type": "code",
      "source": [
        "d1['b'] = 7\n",
        "d1"
      ],
      "metadata": {
        "colab": {
          "base_uri": "https://localhost:8080/"
        },
        "id": "4Kuf1cogTqAH",
        "outputId": "1445b049-0c8c-48b1-efd8-ffcd8d900e97"
      },
      "execution_count": 52,
      "outputs": [
        {
          "output_type": "execute_result",
          "data": {
            "text/plain": [
              "{'a': 1, 'b': 7, 'c': 3, 'd': 4}"
            ]
          },
          "metadata": {},
          "execution_count": 52
        }
      ]
    },
    {
      "cell_type": "code",
      "source": [
        "del d1['b']\n",
        "d1"
      ],
      "metadata": {
        "colab": {
          "base_uri": "https://localhost:8080/"
        },
        "id": "6U0HdEEITyUC",
        "outputId": "8fb90fe6-c8b1-4cf1-dbdd-3fd9bb16f069"
      },
      "execution_count": 54,
      "outputs": [
        {
          "output_type": "execute_result",
          "data": {
            "text/plain": [
              "{'a': 1, 'c': 3, 'd': 4}"
            ]
          },
          "metadata": {},
          "execution_count": 54
        }
      ]
    },
    {
      "cell_type": "markdown",
      "source": [
        "Q 딕셔너리 d에서 'b'의 값을 확인하면서 그 값을 삭제하세요"
      ],
      "metadata": {
        "id": "7HwD1zTsWoAh"
      }
    },
    {
      "cell_type": "code",
      "source": [
        "# pop() 함수는 딕셔너리에서 삭제하라는 값을 반환한 후 삭제\n",
        "d = {'a': 1, 'b': 2, 'c': 3, 'd': 4}\n",
        "value = d.pop('b')\n",
        "print(\"삭제 값 : \",value)\n",
        "print(d)"
      ],
      "metadata": {
        "colab": {
          "base_uri": "https://localhost:8080/"
        },
        "id": "dsiuBV9lWmM2",
        "outputId": "9bb0820f-4a12-4509-915e-b13634d64d5b"
      },
      "execution_count": 58,
      "outputs": [
        {
          "output_type": "stream",
          "name": "stdout",
          "text": [
            "삭제 값 :  2\n",
            "{'a': 1, 'c': 3, 'd': 4}\n"
          ]
        }
      ]
    },
    {
      "cell_type": "markdown",
      "source": [
        "Q 다음과 같이 학생의 이름과 점수를 튜플로 묶은 리스트가 있습니다:[(\"Tom\",85),(\"Jane\",90),(\"Bob\",75)]\n",
        "\n",
        "이 리스트를 사용해 학생 이름을 키로, 점수를 값으로 하는 딕셔너리를 생성하고 출력하세요"
      ],
      "metadata": {
        "id": "pWW6Ds9RWwIf"
      }
    },
    {
      "cell_type": "code",
      "source": [
        "student = (\"Tom\",85),(\"Jane\",90),(\"Bob\",75)\n",
        "\n",
        "student_dict = dict(student)\n",
        "print(student_dict)"
      ],
      "metadata": {
        "colab": {
          "base_uri": "https://localhost:8080/"
        },
        "id": "zb3lXTfpXcpB",
        "outputId": "6032025c-bacb-49d8-8404-718adc3800cd"
      },
      "execution_count": 59,
      "outputs": [
        {
          "output_type": "stream",
          "name": "stdout",
          "text": [
            "{'Tom': 85, 'Jane': 90, 'Bob': 75}\n"
          ]
        }
      ]
    },
    {
      "cell_type": "markdown",
      "source": [
        "Q 튜플의 불변생 떄문에 튜플은 딕셔너리의 키로 사용될 수 있습니다. 주어진 위치 좌표 리스트에서 각 위치가 몇 번 나타나는지 계산하는 딕셔너리를 만드세요"
      ],
      "metadata": {
        "id": "8taga9jMXimP"
      }
    },
    {
      "cell_type": "code",
      "source": [
        "# 위치 좌표의 리스트\n",
        "positions = [(1, 1), (2, 2), (1, 1), (3, 3), (2, 2)]\n",
        "\n",
        "# 각 위치의 출현 횟수를 저장할 딕셔너리\n",
        "position_count = {}\n",
        "\n",
        "for pos in positions:\n",
        "  if pos in position_count:\n",
        "      position_count[pos] += 1\n",
        "  else:\n",
        "    position_count[pos] = 1\n",
        "\n",
        "print(position_count)"
      ],
      "metadata": {
        "colab": {
          "base_uri": "https://localhost:8080/"
        },
        "id": "oPFMDlhiXvan",
        "outputId": "27d2b82d-48ec-4b15-dbce-9e2d58596bcf"
      },
      "execution_count": 60,
      "outputs": [
        {
          "output_type": "stream",
          "name": "stdout",
          "text": [
            "{(1, 1): 2, (2, 2): 2, (3, 3): 1}\n"
          ]
        }
      ]
    },
    {
      "cell_type": "markdown",
      "source": [
        "## 자료형-집합,set\n",
        "\n",
        "*   중복을 허용하지 않으며 순서가 없다\n",
        "\n"
      ],
      "metadata": {
        "id": "4Uxewfkvy7OJ"
      }
    },
    {
      "cell_type": "code",
      "source": [
        "s1 = set([1,2,5,4,3])\n",
        "s2 = set('hello')\n",
        "print(s1)\n",
        "print(s2)\n",
        "\n",
        "l2 = list(s2)\n",
        "print(l2)\n",
        "print(l2[2])"
      ],
      "metadata": {
        "colab": {
          "base_uri": "https://localhost:8080/"
        },
        "id": "0TSeE5Ngy3o-",
        "outputId": "1819d09b-aa40-47df-ce61-a0d4c9ddd362"
      },
      "execution_count": 66,
      "outputs": [
        {
          "output_type": "stream",
          "name": "stdout",
          "text": [
            "{1, 2, 3, 4, 5}\n",
            "{'o', 'e', 'h', 'l'}\n",
            "['o', 'e', 'h', 'l']\n",
            "h\n"
          ]
        }
      ]
    },
    {
      "cell_type": "code",
      "source": [
        "l1 = list(s1)\n",
        "print(l1)\n",
        "print(l1[1])\n",
        "\n",
        "l2 = list(s2)\n",
        "print(l2)\n",
        "print(l2[3])"
      ],
      "metadata": {
        "colab": {
          "base_uri": "https://localhost:8080/"
        },
        "id": "AJxGHSO7z0RO",
        "outputId": "e058729b-2f40-41af-8d82-83bc8227b874"
      },
      "execution_count": 68,
      "outputs": [
        {
          "output_type": "stream",
          "name": "stdout",
          "text": [
            "[1, 2, 3, 4, 5]\n",
            "2\n",
            "['o', 'e', 'h', 'l']\n",
            "l\n"
          ]
        }
      ]
    },
    {
      "cell_type": "markdown",
      "source": [
        "Q 주어진 리스트에서 중복 요소를 제거하고 결과를 출력하세요"
      ],
      "metadata": {
        "id": "2Qy2uoJy16qo"
      }
    },
    {
      "cell_type": "code",
      "source": [
        "nums = [1, 2, 2, 3, 4, 4, 4, 5]\n",
        "\n",
        "result1 = set(nums)\n",
        "print(f\"set(nums) : {result1}\")\n",
        "\n",
        "print(result1)"
      ],
      "metadata": {
        "colab": {
          "base_uri": "https://localhost:8080/"
        },
        "id": "oJOU1E2516ZW",
        "outputId": "6c24fd59-5a67-49fd-c2fd-2967096c1075"
      },
      "execution_count": 71,
      "outputs": [
        {
          "output_type": "stream",
          "name": "stdout",
          "text": [
            "set(nums) : {1, 2, 3, 4, 5}\n",
            "{1, 2, 3, 4, 5}\n"
          ]
        }
      ]
    },
    {
      "cell_type": "markdown",
      "source": [
        "Q s1,s2의 합집합과 교집합을 각각 리스트로 출력하세요\n",
        "\n"
      ],
      "metadata": {
        "id": "bBpd7ml22pUS"
      }
    },
    {
      "cell_type": "code",
      "source": [
        "s1 = set([1, 2, 3, 4, 5, 6])\n",
        "s2 = set([4, 5, 6, 7, 8, 9])\n",
        "\n",
        "print(s1 & s2) # 교집합\n",
        "print(s1 | s2) # 합집합"
      ],
      "metadata": {
        "colab": {
          "base_uri": "https://localhost:8080/"
        },
        "id": "ARHyktuo2nuy",
        "outputId": "af989d82-3d5e-4601-8cd5-53a88acdd4f9"
      },
      "execution_count": 75,
      "outputs": [
        {
          "output_type": "stream",
          "name": "stdout",
          "text": [
            "{4, 5, 6}\n",
            "{1, 2, 3, 4, 5, 6, 7, 8, 9}\n"
          ]
        }
      ]
    },
    {
      "cell_type": "markdown",
      "source": [
        "Q s1,s2 차집합을 구하고 출력"
      ],
      "metadata": {
        "id": "sy6FhehH5QFP"
      }
    },
    {
      "cell_type": "code",
      "source": [
        "s1 = set([1, 2, 3, 4, 5, 6])\n",
        "s2 = set([4, 5, 6, 7, 8, 9])\n",
        "\n",
        "print(s1 - s2)"
      ],
      "metadata": {
        "colab": {
          "base_uri": "https://localhost:8080/"
        },
        "id": "MXt6BeTP5Z8W",
        "outputId": "75dd42e5-c068-4016-a261-c01e45855041"
      },
      "execution_count": 76,
      "outputs": [
        {
          "output_type": "stream",
          "name": "stdout",
          "text": [
            "{1, 2, 3}\n"
          ]
        }
      ]
    },
    {
      "cell_type": "markdown",
      "source": [
        "Task1_0426. 주어진 리스트에서 중복된 요소를 제외하고 고유한 요소의 개수를 세는 프로그램을 작성하세요.\n",
        "\n",
        "data = [1, 2, 2, 3, 4, 4, 4, 5]"
      ],
      "metadata": {
        "id": "_4Vmx3D25xM5"
      }
    },
    {
      "cell_type": "code",
      "source": [
        "data = [1, 2, 2, 3, 4, 4, 4, 5]\n",
        "\n",
        "result_A = list(set(data))\n",
        "\n",
        "print(len(result_A))"
      ],
      "metadata": {
        "colab": {
          "base_uri": "https://localhost:8080/"
        },
        "id": "_hQ4p--z6pKD",
        "outputId": "e19ab460-2b9d-4b9d-e42c-991e99789565"
      },
      "execution_count": 79,
      "outputs": [
        {
          "output_type": "stream",
          "name": "stdout",
          "text": [
            "5\n"
          ]
        }
      ]
    },
    {
      "cell_type": "markdown",
      "source": [
        "Task2_0426. 두 개의 리스트에서 공통으로 나타나는 요소들을 찾아 리스트로 반환하는 프로그램을 작성하세요.\n",
        "\n",
        "예시 입력: list1 = [1, 2, 3, 4, 5], list2 = [4, 5, 6, 7, 8]\n",
        "\n",
        "예시 출력: [4, 5]"
      ],
      "metadata": {
        "id": "zpsaB4TP6-38"
      }
    },
    {
      "cell_type": "code",
      "source": [
        "list1 = [1, 2, 3, 4, 5]\n",
        "list2 = [4, 5, 6, 7, 8]\n",
        "\n",
        "set1 = set(list1)\n",
        "set2 = set(list2)\n",
        "\n",
        "print(set1 & set2)"
      ],
      "metadata": {
        "colab": {
          "base_uri": "https://localhost:8080/"
        },
        "id": "5bxVDx186_r5",
        "outputId": "b0a0b8c4-e3ec-4f44-e7d4-27b090e5c1ae"
      },
      "execution_count": 81,
      "outputs": [
        {
          "output_type": "stream",
          "name": "stdout",
          "text": [
            "{4, 5}\n"
          ]
        }
      ]
    },
    {
      "cell_type": "markdown",
      "source": [
        "## 자료형-논리(Bool) True와 False\n",
        "\n",
        "\n",
        "*   파이썬에서 참과 거짓을 나타내는 상수, True는 1, False는 0의 값을 가짐\n",
        "*   조건을 판단해서 그 조건이 참이면 True, 거짓이면 False를 return\n",
        "\n",
        "\n",
        "\n"
      ],
      "metadata": {
        "id": "6ShXxRB17Yco"
      }
    },
    {
      "cell_type": "code",
      "source": [
        "print(bool(0))\n",
        "print(bool(''))\n",
        "print(bool([]))\n",
        "print(bool(1))\n",
        "print(bool(100))"
      ],
      "metadata": {
        "colab": {
          "base_uri": "https://localhost:8080/"
        },
        "id": "52Bk8I2O7YTB",
        "outputId": "bec0f465-55a9-4307-e1e1-4c7c44f8f2ad"
      },
      "execution_count": 83,
      "outputs": [
        {
          "output_type": "stream",
          "name": "stdout",
          "text": [
            "False\n",
            "False\n",
            "False\n",
            "True\n",
            "True\n"
          ]
        }
      ]
    },
    {
      "cell_type": "markdown",
      "source": [
        "아스키코드\n",
        "ASCII 값에서 'a'는 97이고 'p'는 112입니다 'a'는 'p'보다 작으므로 str1 < str2는 True를 반환"
      ],
      "metadata": {
        "id": "3SHBW3H--ib1"
      }
    },
    {
      "cell_type": "code",
      "source": [
        "# 관계 연산자\n",
        "x = 1 ; y =2\n",
        "str1 = 'abc' ; str2= 'python'\n",
        "print(x == y)\n",
        "print(x != y)\n",
        "print(str1 == str2)\n",
        "print(str2 == 'python')\n",
        "print(str1 <str2)"
      ],
      "metadata": {
        "colab": {
          "base_uri": "https://localhost:8080/"
        },
        "id": "7Mq9gl9m8T30",
        "outputId": "b576a1f7-d54f-4afc-f3f8-4161f793a4d5"
      },
      "execution_count": 85,
      "outputs": [
        {
          "output_type": "stream",
          "name": "stdout",
          "text": [
            "False\n",
            "True\n",
            "False\n",
            "True\n",
            "True\n"
          ]
        }
      ]
    },
    {
      "cell_type": "code",
      "source": [
        "# 논리 연산자\n",
        "bool1 = True ; bool2 = False ; bool3 = True ; bool4 = False\n",
        "\n",
        "print(bool1 and bool2)\n",
        "print(bool1 or bool2)\n",
        "print(not bool3)\n",
        "print(not bool4)"
      ],
      "metadata": {
        "colab": {
          "base_uri": "https://localhost:8080/"
        },
        "id": "vHWl6rYGA51n",
        "outputId": "594ab6ce-a38c-4816-e754-56215f0b3ab9"
      },
      "execution_count": 86,
      "outputs": [
        {
          "output_type": "stream",
          "name": "stdout",
          "text": [
            "False\n",
            "True\n",
            "False\n",
            "True\n"
          ]
        }
      ]
    },
    {
      "cell_type": "markdown",
      "source": [
        "Task3_0426. 주어진 숫자 리스트에서 특정 값보다 큰 요소가 하나라도 존재하는지 검사하고, 그 결과를 불 값으로 반환하는 함수를 작성하세요.\n",
        "\n",
        "- numbers = [1, 2, 3, 10, 20]\n",
        "- threshold = 15"
      ],
      "metadata": {
        "id": "BjUs6i9QBuk5"
      }
    },
    {
      "cell_type": "code",
      "source": [
        "numbers = [1, 2, 3, 10, 20]\n",
        "threshold = 10\n",
        "\n",
        "for number in numbers:\n",
        "    if threshold < number:\n",
        "        print(bool(1))\n",
        "        break\n",
        "else:\n",
        "    print(bool(0))"
      ],
      "metadata": {
        "colab": {
          "base_uri": "https://localhost:8080/"
        },
        "id": "s_lTbHTgBvqN",
        "outputId": "3692e6b1-0fcb-49c7-9c29-21f1d320281c"
      },
      "execution_count": 135,
      "outputs": [
        {
          "output_type": "stream",
          "name": "stdout",
          "text": [
            "True\n"
          ]
        }
      ]
    },
    {
      "cell_type": "markdown",
      "source": [
        "Task4_0426. 주어진 문자열이 특정 문자열을 포함하는지 확인하고 결과를 불 값으로 반환하는 함수를 작성하세요.\n",
        "\n",
        "- text = \"hello world\"\n",
        "- substring = \"world\""
      ],
      "metadata": {
        "id": "o5oE_fi9Bv3-"
      }
    },
    {
      "cell_type": "code",
      "source": [
        "text = 'hello world'\n",
        "substring = 'world'\n",
        "\n",
        "if substring in text:\n",
        "    print(bool(1))\n",
        "else:\n",
        "    print(bool(0))"
      ],
      "metadata": {
        "colab": {
          "base_uri": "https://localhost:8080/"
        },
        "id": "YzRdmMP3Bxra",
        "outputId": "f4117c74-884d-4846-9736-cf2223d8f539"
      },
      "execution_count": 113,
      "outputs": [
        {
          "output_type": "stream",
          "name": "stdout",
          "text": [
            "False\n"
          ]
        }
      ]
    },
    {
      "cell_type": "markdown",
      "source": [
        "Task5_0426. 주어진 연도가 윤년인지 판별하는 함수를 작성하세요. 윤년은 다음의 조건을 만족해야 합니다:\n",
        "- 4로 나누어 떨어진다.\n",
        "- 100으로 나누어 떨어지지 않거나, 400으로 나누어 떨어지면 윤년이다.\n",
        "\n",
        "year = 2020\n",
        "\n",
        "True"
      ],
      "metadata": {
        "id": "4b1vOet1ByLx"
      }
    },
    {
      "cell_type": "code",
      "source": [
        "year = 2020\n",
        "\n",
        "if (year % 4 == 0) and ((year % 100 != 0) or (year % 400 == 0)):\n",
        "    print(bool(1))\n",
        "else:\n",
        "    print(bool(0))"
      ],
      "metadata": {
        "colab": {
          "base_uri": "https://localhost:8080/"
        },
        "id": "SxnPVHTJCAQ8",
        "outputId": "d5b2c37c-ab2a-40d9-c6f5-decc9e6176a3"
      },
      "execution_count": 150,
      "outputs": [
        {
          "output_type": "stream",
          "name": "stdout",
          "text": [
            "True\n"
          ]
        }
      ]
    },
    {
      "cell_type": "markdown",
      "source": [
        "#### 파이썬에서 들여쓰기\n",
        "- 파이썬에는 실행 코드 부분을 묶어주는 {} 괄호가 없다.\n",
        "- 대신 들여쓰기(indentation)로 {}를 대신한다.\n",
        "- 제어문이나 함수이름, 클래스 이름 뒤에 콜론(':')으로 제어문, 함수이름, 클래스 이름의 끝을 표시하며 ':' 다음에 실행 코드를 작성"
      ],
      "metadata": {
        "id": "7Nbdok1zCvKt"
      }
    },
    {
      "cell_type": "code",
      "source": [
        "li = ['a', 'b', 'c']\n",
        "if 'a' in li:\n",
        "  print('a가 li에 있습니다')\n",
        "else:\n",
        "  print('a가 li에 없습니다')"
      ],
      "metadata": {
        "colab": {
          "base_uri": "https://localhost:8080/"
        },
        "id": "qixMXA5YD-VU",
        "outputId": "4a547676-efbd-4d0f-94e3-b33494bdf075"
      },
      "execution_count": 87,
      "outputs": [
        {
          "output_type": "stream",
          "name": "stdout",
          "text": [
            "a가 li에 있습니다\n"
          ]
        }
      ]
    },
    {
      "cell_type": "markdown",
      "source": [
        "## 사용자 함수\n"
      ],
      "metadata": {
        "id": "X6WHwZXiFibt"
      }
    },
    {
      "cell_type": "code",
      "source": [
        "numbers = [1, 2, 3]\n",
        "sum(numbers) # 파이썬 내장함수"
      ],
      "metadata": {
        "colab": {
          "base_uri": "https://localhost:8080/"
        },
        "id": "mxL7umSSFlPD",
        "outputId": "d65616b1-848f-4426-8aeb-bfca461d91cf"
      },
      "execution_count": 88,
      "outputs": [
        {
          "output_type": "execute_result",
          "data": {
            "text/plain": [
              "6"
            ]
          },
          "metadata": {},
          "execution_count": 88
        }
      ]
    },
    {
      "cell_type": "code",
      "source": [
        "# 사용자 함수\n",
        "def add(a,b,c):\n",
        "    return a + b + c\n",
        "add(1,2,3)"
      ],
      "metadata": {
        "colab": {
          "base_uri": "https://localhost:8080/"
        },
        "id": "Zo9RseewF3gJ",
        "outputId": "2100902d-45b6-48a2-a51f-05b1514b6a1e"
      },
      "execution_count": 89,
      "outputs": [
        {
          "output_type": "execute_result",
          "data": {
            "text/plain": [
              "6"
            ]
          },
          "metadata": {},
          "execution_count": 89
        }
      ]
    },
    {
      "cell_type": "markdown",
      "source": [
        "Q 뺄셈, 나눗셈을 수행하는 사용자 함수를 작성"
      ],
      "metadata": {
        "id": "xoUQ1dy1H2N7"
      }
    },
    {
      "cell_type": "code",
      "source": [
        "# 뺄셈\n",
        "def subtract(a,b,c):\n",
        "    return a - b - c\n",
        "subtract(1,2,3)\n"
      ],
      "metadata": {
        "colab": {
          "base_uri": "https://localhost:8080/"
        },
        "id": "NAamFxEGH3FL",
        "outputId": "c9aae229-431c-4e4a-9d31-a97603568637"
      },
      "execution_count": 94,
      "outputs": [
        {
          "output_type": "execute_result",
          "data": {
            "text/plain": [
              "-4"
            ]
          },
          "metadata": {},
          "execution_count": 94
        }
      ]
    },
    {
      "cell_type": "code",
      "source": [
        "# 나눗셈\n",
        "\n",
        "def divide(a,b,c):\n",
        "  if b ==0 or c == 0:\n",
        "    return \"Eroor : Division by zero\"\n",
        "  else:\n",
        "    return a / b / c\n",
        "round(divide(1,2,3),2) # 반올림"
      ],
      "metadata": {
        "colab": {
          "base_uri": "https://localhost:8080/"
        },
        "id": "AdpBH3a7IEGs",
        "outputId": "8a7ccfb3-77a7-492f-ca8f-6026c055cabd"
      },
      "execution_count": 97,
      "outputs": [
        {
          "output_type": "execute_result",
          "data": {
            "text/plain": [
              "0.17"
            ]
          },
          "metadata": {},
          "execution_count": 97
        }
      ]
    },
    {
      "cell_type": "markdown",
      "source": [
        "## 클래스\n"
      ],
      "metadata": {
        "id": "y_2Gafq6J35k"
      }
    },
    {
      "cell_type": "code",
      "source": [
        "class AddMul:\n",
        "  def add(self,n1,n2):\n",
        "    return n1 + n2\n",
        "  def mul(self,n1,n2):\n",
        "    return n1 * n2\n",
        "\n",
        "obj1 = AddMul() # 견제\n",
        "print(obj1.add(1,1))\n",
        "obj2 = AddMul()\n",
        "print(obj2.mul(3,2))\n"
      ],
      "metadata": {
        "colab": {
          "base_uri": "https://localhost:8080/"
        },
        "id": "BkYcgqo5J8pj",
        "outputId": "4dabd2d8-731c-4732-b4a6-72e09c512c5e"
      },
      "execution_count": 99,
      "outputs": [
        {
          "output_type": "stream",
          "name": "stdout",
          "text": [
            "2\n",
            "6\n"
          ]
        }
      ]
    },
    {
      "cell_type": "markdown",
      "source": [
        "Task6_0426. Calculator 클래스를 작성하고 4칙연산을 수행하는 객체 4개를 작성하여 결과를 출력하세요"
      ],
      "metadata": {
        "id": "lU7-3SoGK7Tt"
      }
    },
    {
      "cell_type": "code",
      "source": [
        "class Calculator:\n",
        "  def add(self,n1,n2):\n",
        "    return n1 + n2\n",
        "  def mul(self,n1,n2):\n",
        "    return n1 * n2\n",
        "  def subtract(self,n1,n2):\n",
        "    return n1 - n2\n",
        "  def div(self,n1,n2):\n",
        "    return n1 / n2\n",
        "\n",
        "# 덧셈\n",
        "take1 = Calculator()\n",
        "print(take1.add(5, 2))\n",
        "\n",
        "# 곱하기\n",
        "take2 = Calculator()\n",
        "print(take2.mul(5, 2))\n",
        "\n",
        "# 뻴셈\n",
        "take3 = Calculator()\n",
        "print(take3.subtract(5, 2))\n",
        "\n",
        "# 나눗셈\n",
        "take4 = Calculator()\n",
        "print(take4.div(10, 2))"
      ],
      "metadata": {
        "colab": {
          "base_uri": "https://localhost:8080/"
        },
        "id": "4TXWr-BTLO8R",
        "outputId": "bac3820e-107a-4c07-d4fd-e50e43e4535a"
      },
      "execution_count": 138,
      "outputs": [
        {
          "output_type": "stream",
          "name": "stdout",
          "text": [
            "7\n",
            "10\n",
            "3\n",
            "0.12\n"
          ]
        }
      ]
    },
    {
      "cell_type": "markdown",
      "source": [
        "Task7_0426. 다음 과제를 수행하세요.\n",
        "- 사용자로 부터 텍스트를 입력 받는다.\n",
        "- 문자을 단어 단위로 분리 : split()\n",
        "- 단어의 빈도수를 저장할 딕셔너리를 생성\n",
        "- 각 단어의 빈도 수를 계산(for 문 / if else문): word=word.lower()\n",
        "- 결과 출력\n",
        "\n",
        "[ 예시 ]\n",
        "\n",
        "문장을 입력하세요: I love apple. I love orange. Apple is tasty\n",
        "\n",
        "{'i': 2, 'love': 2, 'apple.': 1, 'orange.': 1, 'apple': 1, 'is': 1, 'tasty': 1}"
      ],
      "metadata": {
        "id": "XpQpz9Y0M1zX"
      }
    },
    {
      "cell_type": "code",
      "source": [],
      "metadata": {
        "id": "JOQIjrQ_Ts__"
      },
      "execution_count": null,
      "outputs": []
    }
  ]
}